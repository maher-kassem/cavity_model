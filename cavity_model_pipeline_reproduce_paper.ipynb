{
 "cells": [
  {
   "cell_type": "markdown",
   "metadata": {},
   "source": [
    "### Imports"
   ]
  },
  {
   "cell_type": "code",
   "execution_count": 1,
   "metadata": {},
   "outputs": [
    {
     "data": {
      "application/javascript": [
       "\n",
       "            setTimeout(function() {\n",
       "                var nbb_cell_id = 1;\n",
       "                var nbb_unformatted_code = \"%load_ext autoreload\\n%autoreload 2\\nimport glob\\nimport os\\nimport random\\nimport pathlib\\n\\nimport pandas as pd\\nimport torch\\nfrom Bio.PDB.Polypeptide import index_to_one\\nfrom collections import OrderedDict\\nfrom torch.utils.data import DataLoader, Dataset\\nfrom collections import defaultdict\\nfrom scipy.stats import pearsonr, spearmanr\\n\\nfrom cavity_model import (\\n    CavityModel,\\n    ResidueEnvironment,\\n    ResidueEnvironmentsDataset,\\n)\\nimport helpers\\nfrom typing import Optional, List\\nfrom visualization import scatter_pred_vs_true, plot_validation_performance\\nimport pickle\\n\\nimport numpy as np\\nimport matplotlib.pyplot as plt\\n\\npd.set_option(\\\"display.max_columns\\\", None)\\nimport seaborn as sns\\n\\n%load_ext nb_black\";\n",
       "                var nbb_formatted_code = \"%load_ext autoreload\\n%autoreload 2\\nimport glob\\nimport os\\nimport random\\nimport pathlib\\n\\nimport pandas as pd\\nimport torch\\nfrom Bio.PDB.Polypeptide import index_to_one\\nfrom collections import OrderedDict\\nfrom torch.utils.data import DataLoader, Dataset\\nfrom collections import defaultdict\\nfrom scipy.stats import pearsonr, spearmanr\\n\\nfrom cavity_model import (\\n    CavityModel,\\n    ResidueEnvironment,\\n    ResidueEnvironmentsDataset,\\n)\\nimport helpers\\nfrom typing import Optional, List\\nfrom visualization import scatter_pred_vs_true, plot_validation_performance\\nimport pickle\\n\\nimport numpy as np\\nimport matplotlib.pyplot as plt\\n\\npd.set_option(\\\"display.max_columns\\\", None)\\nimport seaborn as sns\\n\\n%load_ext nb_black\";\n",
       "                var nbb_cells = Jupyter.notebook.get_cells();\n",
       "                for (var i = 0; i < nbb_cells.length; ++i) {\n",
       "                    if (nbb_cells[i].input_prompt_number == nbb_cell_id) {\n",
       "                        if (nbb_cells[i].get_text() == nbb_unformatted_code) {\n",
       "                             nbb_cells[i].set_text(nbb_formatted_code);\n",
       "                        }\n",
       "                        break;\n",
       "                    }\n",
       "                }\n",
       "            }, 500);\n",
       "            "
      ],
      "text/plain": [
       "<IPython.core.display.Javascript object>"
      ]
     },
     "metadata": {},
     "output_type": "display_data"
    }
   ],
   "source": [
    "%load_ext autoreload\n",
    "%autoreload 2\n",
    "import glob\n",
    "import os\n",
    "import random\n",
    "import pathlib\n",
    "\n",
    "import pandas as pd\n",
    "import torch\n",
    "from Bio.PDB.Polypeptide import index_to_one\n",
    "from collections import OrderedDict\n",
    "from torch.utils.data import DataLoader, Dataset\n",
    "from collections import defaultdict\n",
    "from scipy.stats import pearsonr, spearmanr\n",
    "\n",
    "from cavity_model import (\n",
    "    CavityModel,\n",
    "    ResidueEnvironment,\n",
    "    ResidueEnvironmentsDataset,\n",
    ")\n",
    "import helpers\n",
    "from typing import Optional, List\n",
    "from visualization import scatter_pred_vs_true, plot_validation_performance\n",
    "import pickle\n",
    "\n",
    "import numpy as np\n",
    "import matplotlib.pyplot as plt\n",
    "\n",
    "pd.set_option(\"display.max_columns\", None)\n",
    "import seaborn as sns\n",
    "\n",
    "%load_ext nb_black"
   ]
  },
  {
   "cell_type": "markdown",
   "metadata": {},
   "source": [
    "### Global variables"
   ]
  },
  {
   "cell_type": "code",
   "execution_count": 2,
   "metadata": {},
   "outputs": [
    {
     "data": {
      "application/javascript": [
       "\n",
       "            setTimeout(function() {\n",
       "                var nbb_cell_id = 2;\n",
       "                var nbb_unformatted_code = \"# Main parameters\\nWARM_START: Optional[List[str]] = [\\n    \\\"cavity_models/repeat_00_model_epoch_01.pt\\\",\\n    \\\"cavity_models/repeat_01_model_epoch_02.pt\\\",\\n    \\\"cavity_models/repeat_02_model_epoch_01.pt\\\",\\n    \\\"cavity_models/repeat_03_model_epoch_02.pt\\\",\\n    \\\"cavity_models/repeat_04_model_epoch_02.pt\\\",\\n    \\\"cavity_models/repeat_05_model_epoch_02.pt\\\",\\n]\\nDEVICE: str = \\\"cuda\\\"  # \\\"cpu\\\" or \\\"cuda\\\"\\nTRAIN_VAL_SPLIT: float = 0.9\\nBATCH_SIZE: int = 100\\nSHUFFLE_PDBS: bool = True\\nLEARNING_RATE: float = 2e-4\\nEPOCHS: int = 6\\nPATIENCE_CUTOFF: int = 0\\nEPS: float = 1e-9\\nN_MODEL_REPEATS = 6\\n\\n# Parameters for simulation stride\\nSTRIDE_FRAGMENTS: int = 2\\nSTRIDE_MD: int = 4\\n\\n# Parameters specific to downstream model\\nBATCH_SIZE_DDG: int = 40\\nSHUFFLE_DDG: bool = True\\nLEARNING_RATE_DDG: float = 1e-3\\nEPOCHS_DDG: int = 200\\n\\n# Mapping between data keys and titles/colors for plots\\ndataset_name_mapping = {\\n    \\\"dms\\\": \\\"DMS\\\",\\n    \\\"guerois\\\": \\\"Guerois\\\",\\n    \\\"protein_g\\\": \\\"Protein G\\\",\\n    \\\"symmetric_direct\\\": \\\"Symmetric (Direct)\\\",\\n    \\\"symmetric_inverse\\\": \\\"Symmetric (Inverse)\\\",\\n}\\n\\ndataset_color_mapping = {\\n    \\\"dms\\\": \\\"steelblue\\\",\\n    \\\"guerois\\\": \\\"firebrick\\\",\\n    \\\"protein_g\\\": \\\"forestgreen\\\",\\n    \\\"symmetric_direct\\\": \\\"olive\\\",\\n    \\\"symmetric_inverse\\\": \\\"olive\\\",\\n}\";\n",
       "                var nbb_formatted_code = \"# Main parameters\\nWARM_START: Optional[List[str]] = [\\n    \\\"cavity_models/repeat_00_model_epoch_01.pt\\\",\\n    \\\"cavity_models/repeat_01_model_epoch_02.pt\\\",\\n    \\\"cavity_models/repeat_02_model_epoch_01.pt\\\",\\n    \\\"cavity_models/repeat_03_model_epoch_02.pt\\\",\\n    \\\"cavity_models/repeat_04_model_epoch_02.pt\\\",\\n    \\\"cavity_models/repeat_05_model_epoch_02.pt\\\",\\n]\\nDEVICE: str = \\\"cuda\\\"  # \\\"cpu\\\" or \\\"cuda\\\"\\nTRAIN_VAL_SPLIT: float = 0.9\\nBATCH_SIZE: int = 100\\nSHUFFLE_PDBS: bool = True\\nLEARNING_RATE: float = 2e-4\\nEPOCHS: int = 6\\nPATIENCE_CUTOFF: int = 0\\nEPS: float = 1e-9\\nN_MODEL_REPEATS = 6\\n\\n# Parameters for simulation stride\\nSTRIDE_FRAGMENTS: int = 2\\nSTRIDE_MD: int = 4\\n\\n# Parameters specific to downstream model\\nBATCH_SIZE_DDG: int = 40\\nSHUFFLE_DDG: bool = True\\nLEARNING_RATE_DDG: float = 1e-3\\nEPOCHS_DDG: int = 200\\n\\n# Mapping between data keys and titles/colors for plots\\ndataset_name_mapping = {\\n    \\\"dms\\\": \\\"DMS\\\",\\n    \\\"guerois\\\": \\\"Guerois\\\",\\n    \\\"protein_g\\\": \\\"Protein G\\\",\\n    \\\"symmetric_direct\\\": \\\"Symmetric (Direct)\\\",\\n    \\\"symmetric_inverse\\\": \\\"Symmetric (Inverse)\\\",\\n}\\n\\ndataset_color_mapping = {\\n    \\\"dms\\\": \\\"steelblue\\\",\\n    \\\"guerois\\\": \\\"firebrick\\\",\\n    \\\"protein_g\\\": \\\"forestgreen\\\",\\n    \\\"symmetric_direct\\\": \\\"olive\\\",\\n    \\\"symmetric_inverse\\\": \\\"olive\\\",\\n}\";\n",
       "                var nbb_cells = Jupyter.notebook.get_cells();\n",
       "                for (var i = 0; i < nbb_cells.length; ++i) {\n",
       "                    if (nbb_cells[i].input_prompt_number == nbb_cell_id) {\n",
       "                        if (nbb_cells[i].get_text() == nbb_unformatted_code) {\n",
       "                             nbb_cells[i].set_text(nbb_formatted_code);\n",
       "                        }\n",
       "                        break;\n",
       "                    }\n",
       "                }\n",
       "            }, 500);\n",
       "            "
      ],
      "text/plain": [
       "<IPython.core.display.Javascript object>"
      ]
     },
     "metadata": {},
     "output_type": "display_data"
    }
   ],
   "source": [
    "# Main parameters\n",
    "WARM_START: Optional[List[str]] = [\n",
    "    \"cavity_models/repeat_00_model_epoch_01.pt\",\n",
    "    \"cavity_models/repeat_01_model_epoch_02.pt\",\n",
    "    \"cavity_models/repeat_02_model_epoch_01.pt\",\n",
    "    \"cavity_models/repeat_03_model_epoch_02.pt\",\n",
    "    \"cavity_models/repeat_04_model_epoch_02.pt\",\n",
    "    \"cavity_models/repeat_05_model_epoch_02.pt\",\n",
    "]\n",
    "DEVICE: str = \"cuda\"  # \"cpu\" or \"cuda\"\n",
    "TRAIN_VAL_SPLIT: float = 0.9\n",
    "BATCH_SIZE: int = 100\n",
    "SHUFFLE_PDBS: bool = True\n",
    "LEARNING_RATE: float = 2e-4\n",
    "EPOCHS: int = 6\n",
    "PATIENCE_CUTOFF: int = 0\n",
    "EPS: float = 1e-9\n",
    "N_MODEL_REPEATS = 6\n",
    "\n",
    "# Parameters for simulation stride\n",
    "STRIDE_FRAGMENTS: int = 2\n",
    "STRIDE_MD: int = 4\n",
    "\n",
    "# Parameters specific to downstream model\n",
    "BATCH_SIZE_DDG: int = 40\n",
    "SHUFFLE_DDG: bool = True\n",
    "LEARNING_RATE_DDG: float = 1e-3\n",
    "EPOCHS_DDG: int = 200\n",
    "\n",
    "# Mapping between data keys and titles/colors for plots\n",
    "dataset_name_mapping = {\n",
    "    \"dms\": \"DMS\",\n",
    "    \"guerois\": \"Guerois\",\n",
    "    \"protein_g\": \"Protein G\",\n",
    "    \"symmetric_direct\": \"Symmetric (Direct)\",\n",
    "    \"symmetric_inverse\": \"Symmetric (Inverse)\",\n",
    "}\n",
    "\n",
    "dataset_color_mapping = {\n",
    "    \"dms\": \"steelblue\",\n",
    "    \"guerois\": \"firebrick\",\n",
    "    \"protein_g\": \"forestgreen\",\n",
    "    \"symmetric_direct\": \"olive\",\n",
    "    \"symmetric_inverse\": \"olive\",\n",
    "}"
   ]
  },
  {
   "cell_type": "markdown",
   "metadata": {},
   "source": [
    "# Cavity Model"
   ]
  },
  {
   "cell_type": "markdown",
   "metadata": {},
   "source": [
    "### Train"
   ]
  },
  {
   "cell_type": "code",
   "execution_count": 3,
   "metadata": {},
   "outputs": [
    {
     "name": "stdout",
     "output_type": "stream",
     "text": [
      "Warm start: ['cavity_models/repeat_00_model_epoch_01.pt', 'cavity_models/repeat_01_model_epoch_02.pt', 'cavity_models/repeat_02_model_epoch_01.pt', 'cavity_models/repeat_03_model_epoch_02.pt', 'cavity_models/repeat_04_model_epoch_02.pt', 'cavity_models/repeat_05_model_epoch_02.pt']\n"
     ]
    },
    {
     "data": {
      "application/javascript": [
       "\n",
       "            setTimeout(function() {\n",
       "                var nbb_cell_id = 3;\n",
       "                var nbb_unformatted_code = \"if WARM_START is None:\\n    # Create directory for model files\\n    models_dirpath = \\\"cavity_models/\\\"\\n    if not os.path.exists(models_dirpath):\\n        os.mkdir(models_dirpath)\\n\\n    best_model_paths = []\\n    for i in range(N_MODEL_REPEATS):\\n        print(f\\\"Repeat: {i:02d}\\\")\\n\\n        # Parse data\\n        parsed_pdb_filenames = sorted(glob.glob(\\\"data/pdbs/parsed/*coord*\\\"))\\n        if SHUFFLE_PDBS:\\n            random.shuffle(parsed_pdb_filenames)\\n        (\\n            dataloader_train,\\n            dataset_train,\\n            dataloader_val,\\n            dataset_val,\\n        ) = helpers.train_val_split(\\n            parsed_pdb_filenames, TRAIN_VAL_SPLIT, DEVICE, BATCH_SIZE\\n        )\\n\\n        # Define model\\n        cavity_model_net = CavityModel(DEVICE).to(DEVICE)\\n        loss_function = torch.nn.CrossEntropyLoss()\\n        optimizer = torch.optim.Adam(cavity_model_net.parameters(), lr=LEARNING_RATE)\\n\\n        model_prefix = f\\\"repeat_{i:02d}\\\"\\n        # Train loop\\n        best_model_path = helpers.train_loop(\\n            dataloader_train,\\n            dataloader_val,\\n            cavity_model_net,\\n            loss_function,\\n            optimizer,\\n            model_prefix,\\n            EPOCHS,\\n            PATIENCE_CUTOFF,\\n        )\\n\\n        best_model_paths.append(best_model_path)\\nelse:\\n    print(f\\\"Warm start: {WARM_START}\\\")\";\n",
       "                var nbb_formatted_code = \"if WARM_START is None:\\n    # Create directory for model files\\n    models_dirpath = \\\"cavity_models/\\\"\\n    if not os.path.exists(models_dirpath):\\n        os.mkdir(models_dirpath)\\n\\n    best_model_paths = []\\n    for i in range(N_MODEL_REPEATS):\\n        print(f\\\"Repeat: {i:02d}\\\")\\n\\n        # Parse data\\n        parsed_pdb_filenames = sorted(glob.glob(\\\"data/pdbs/parsed/*coord*\\\"))\\n        if SHUFFLE_PDBS:\\n            random.shuffle(parsed_pdb_filenames)\\n        (\\n            dataloader_train,\\n            dataset_train,\\n            dataloader_val,\\n            dataset_val,\\n        ) = helpers.train_val_split(\\n            parsed_pdb_filenames, TRAIN_VAL_SPLIT, DEVICE, BATCH_SIZE\\n        )\\n\\n        # Define model\\n        cavity_model_net = CavityModel(DEVICE).to(DEVICE)\\n        loss_function = torch.nn.CrossEntropyLoss()\\n        optimizer = torch.optim.Adam(cavity_model_net.parameters(), lr=LEARNING_RATE)\\n\\n        model_prefix = f\\\"repeat_{i:02d}\\\"\\n        # Train loop\\n        best_model_path = helpers.train_loop(\\n            dataloader_train,\\n            dataloader_val,\\n            cavity_model_net,\\n            loss_function,\\n            optimizer,\\n            model_prefix,\\n            EPOCHS,\\n            PATIENCE_CUTOFF,\\n        )\\n\\n        best_model_paths.append(best_model_path)\\nelse:\\n    print(f\\\"Warm start: {WARM_START}\\\")\";\n",
       "                var nbb_cells = Jupyter.notebook.get_cells();\n",
       "                for (var i = 0; i < nbb_cells.length; ++i) {\n",
       "                    if (nbb_cells[i].input_prompt_number == nbb_cell_id) {\n",
       "                        if (nbb_cells[i].get_text() == nbb_unformatted_code) {\n",
       "                             nbb_cells[i].set_text(nbb_formatted_code);\n",
       "                        }\n",
       "                        break;\n",
       "                    }\n",
       "                }\n",
       "            }, 500);\n",
       "            "
      ],
      "text/plain": [
       "<IPython.core.display.Javascript object>"
      ]
     },
     "metadata": {},
     "output_type": "display_data"
    }
   ],
   "source": [
    "if WARM_START is None:\n",
    "    # Create directory for model files\n",
    "    models_dirpath = \"cavity_models/\"\n",
    "    if not os.path.exists(models_dirpath):\n",
    "        os.mkdir(models_dirpath)\n",
    "\n",
    "    best_model_paths = []\n",
    "    for i in range(N_MODEL_REPEATS):\n",
    "        print(f\"Repeat: {i:02d}\")\n",
    "\n",
    "        # Parse data\n",
    "        parsed_pdb_filenames = sorted(glob.glob(\"data/pdbs/parsed/*coord*\"))\n",
    "        if SHUFFLE_PDBS:\n",
    "            random.shuffle(parsed_pdb_filenames)\n",
    "        (\n",
    "            dataloader_train,\n",
    "            dataset_train,\n",
    "            dataloader_val,\n",
    "            dataset_val,\n",
    "        ) = helpers.train_val_split(\n",
    "            parsed_pdb_filenames, TRAIN_VAL_SPLIT, DEVICE, BATCH_SIZE\n",
    "        )\n",
    "\n",
    "        # Define model\n",
    "        cavity_model_net = CavityModel(DEVICE).to(DEVICE)\n",
    "        loss_function = torch.nn.CrossEntropyLoss()\n",
    "        optimizer = torch.optim.Adam(cavity_model_net.parameters(), lr=LEARNING_RATE)\n",
    "\n",
    "        model_prefix = f\"repeat_{i:02d}\"\n",
    "        # Train loop\n",
    "        best_model_path = helpers.train_loop(\n",
    "            dataloader_train,\n",
    "            dataloader_val,\n",
    "            cavity_model_net,\n",
    "            loss_function,\n",
    "            optimizer,\n",
    "            model_prefix,\n",
    "            EPOCHS,\n",
    "            PATIENCE_CUTOFF,\n",
    "        )\n",
    "\n",
    "        best_model_paths.append(best_model_path)\n",
    "else:\n",
    "    print(f\"Warm start: {WARM_START}\")"
   ]
  },
  {
   "cell_type": "markdown",
   "metadata": {},
   "source": [
    "# Load stability data, structural data and cavity model(s)"
   ]
  },
  {
   "cell_type": "markdown",
   "metadata": {},
   "source": [
    "### Load structural data for ddG data sets"
   ]
  },
  {
   "cell_type": "code",
   "execution_count": 4,
   "metadata": {},
   "outputs": [
    {
     "data": {
      "application/javascript": [
       "\n",
       "            setTimeout(function() {\n",
       "                var nbb_cell_id = 4;\n",
       "                var nbb_unformatted_code = \"# Create temporary residue environment datasets as dicts to more easily match ddG data\\nparsed_pdbs_wildcards = {\\n    \\\"dms\\\": \\\"data/data_dms/pdbs_parsed/*coord*\\\",\\n    \\\"protein_g\\\": \\\"data/data_protein_g/pdbs_parsed/*coord*\\\",\\n    \\\"guerois\\\": \\\"data/data_guerois/pdbs_parsed/*coord*\\\",\\n    \\\"symmetric\\\": \\\"data/data_symmetric/pdbs_parsed/*coord*\\\",\\n}\\n\\nresenv_datasets_look_up = {}\\nfor dataset_key, pdbs_wildcard in parsed_pdbs_wildcards.items():\\n    parsed_pdb_filenames = sorted(glob.glob(pdbs_wildcard))\\n    dataset = ResidueEnvironmentsDataset(parsed_pdb_filenames, transformer=None)\\n    dataset_look_up = {}\\n    for resenv in dataset:\\n        key = (\\n            f\\\"{resenv.pdb_id}{resenv.chain_id}_{resenv.pdb_residue_number}\\\"\\n            f\\\"{index_to_one(resenv.restype_index)}\\\"\\n        )\\n        dataset_look_up[key] = resenv\\n    resenv_datasets_look_up[dataset_key] = dataset_look_up\";\n",
       "                var nbb_formatted_code = \"# Create temporary residue environment datasets as dicts to more easily match ddG data\\nparsed_pdbs_wildcards = {\\n    \\\"dms\\\": \\\"data/data_dms/pdbs_parsed/*coord*\\\",\\n    \\\"protein_g\\\": \\\"data/data_protein_g/pdbs_parsed/*coord*\\\",\\n    \\\"guerois\\\": \\\"data/data_guerois/pdbs_parsed/*coord*\\\",\\n    \\\"symmetric\\\": \\\"data/data_symmetric/pdbs_parsed/*coord*\\\",\\n}\\n\\nresenv_datasets_look_up = {}\\nfor dataset_key, pdbs_wildcard in parsed_pdbs_wildcards.items():\\n    parsed_pdb_filenames = sorted(glob.glob(pdbs_wildcard))\\n    dataset = ResidueEnvironmentsDataset(parsed_pdb_filenames, transformer=None)\\n    dataset_look_up = {}\\n    for resenv in dataset:\\n        key = (\\n            f\\\"{resenv.pdb_id}{resenv.chain_id}_{resenv.pdb_residue_number}\\\"\\n            f\\\"{index_to_one(resenv.restype_index)}\\\"\\n        )\\n        dataset_look_up[key] = resenv\\n    resenv_datasets_look_up[dataset_key] = dataset_look_up\";\n",
       "                var nbb_cells = Jupyter.notebook.get_cells();\n",
       "                for (var i = 0; i < nbb_cells.length; ++i) {\n",
       "                    if (nbb_cells[i].input_prompt_number == nbb_cell_id) {\n",
       "                        if (nbb_cells[i].get_text() == nbb_unformatted_code) {\n",
       "                             nbb_cells[i].set_text(nbb_formatted_code);\n",
       "                        }\n",
       "                        break;\n",
       "                    }\n",
       "                }\n",
       "            }, 500);\n",
       "            "
      ],
      "text/plain": [
       "<IPython.core.display.Javascript object>"
      ]
     },
     "metadata": {},
     "output_type": "display_data"
    }
   ],
   "source": [
    "# Create temporary residue environment datasets as dicts to more easily match ddG data\n",
    "parsed_pdbs_wildcards = {\n",
    "    \"dms\": \"data/data_dms/pdbs_parsed/*coord*\",\n",
    "    \"protein_g\": \"data/data_protein_g/pdbs_parsed/*coord*\",\n",
    "    \"guerois\": \"data/data_guerois/pdbs_parsed/*coord*\",\n",
    "    \"symmetric\": \"data/data_symmetric/pdbs_parsed/*coord*\",\n",
    "}\n",
    "\n",
    "resenv_datasets_look_up = {}\n",
    "for dataset_key, pdbs_wildcard in parsed_pdbs_wildcards.items():\n",
    "    parsed_pdb_filenames = sorted(glob.glob(pdbs_wildcard))\n",
    "    dataset = ResidueEnvironmentsDataset(parsed_pdb_filenames, transformer=None)\n",
    "    dataset_look_up = {}\n",
    "    for resenv in dataset:\n",
    "        key = (\n",
    "            f\"{resenv.pdb_id}{resenv.chain_id}_{resenv.pdb_residue_number}\"\n",
    "            f\"{index_to_one(resenv.restype_index)}\"\n",
    "        )\n",
    "        dataset_look_up[key] = resenv\n",
    "    resenv_datasets_look_up[dataset_key] = dataset_look_up"
   ]
  },
  {
   "cell_type": "markdown",
   "metadata": {},
   "source": [
    "### Load ddG data sets"
   ]
  },
  {
   "cell_type": "code",
   "execution_count": 5,
   "metadata": {},
   "outputs": [
    {
     "name": "stdout",
     "output_type": "stream",
     "text": [
      "Dropping data points where residue is not defined in structure or due to missing parsed pdb file\n",
      "dropped 1187 / 8096 data points from dataset dms\n",
      "dropped    0 /  907 data points from dataset protein_g\n",
      "dropped    0 /  911 data points from dataset guerois\n",
      "dropped    0 /  342 data points from dataset symmetric_direct\n",
      "dropped    0 /  342 data points from dataset symmetric_inverse\n"
     ]
    },
    {
     "data": {
      "application/javascript": [
       "\n",
       "            setTimeout(function() {\n",
       "                var nbb_cell_id = 5;\n",
       "                var nbb_unformatted_code = \"ddg_data_dict = OrderedDict()\\nddg_data_dict = {\\n    \\\"dms\\\": pd.read_csv(\\\"data/data_dms/ddgs_parsed.csv\\\"),\\n    \\\"protein_g\\\": pd.read_csv(\\\"data/data_protein_g/ddgs_parsed.csv\\\"),\\n    \\\"guerois\\\": pd.read_csv(\\\"data/data_guerois/ddgs_parsed.csv\\\"),\\n    \\\"symmetric_direct\\\": pd.read_csv(\\\"data/data_symmetric/ddgs_parsed_direct.csv\\\"),\\n    \\\"symmetric_inverse\\\": pd.read_csv(\\\"data/data_symmetric/ddgs_parsed_inverse.csv\\\"),\\n}\\n# Load the residue environments to the dataframes\\nhelpers.populate_dfs_with_resenvs(ddg_data_dict, resenv_datasets_look_up)\";\n",
       "                var nbb_formatted_code = \"ddg_data_dict = OrderedDict()\\nddg_data_dict = {\\n    \\\"dms\\\": pd.read_csv(\\\"data/data_dms/ddgs_parsed.csv\\\"),\\n    \\\"protein_g\\\": pd.read_csv(\\\"data/data_protein_g/ddgs_parsed.csv\\\"),\\n    \\\"guerois\\\": pd.read_csv(\\\"data/data_guerois/ddgs_parsed.csv\\\"),\\n    \\\"symmetric_direct\\\": pd.read_csv(\\\"data/data_symmetric/ddgs_parsed_direct.csv\\\"),\\n    \\\"symmetric_inverse\\\": pd.read_csv(\\\"data/data_symmetric/ddgs_parsed_inverse.csv\\\"),\\n}\\n# Load the residue environments to the dataframes\\nhelpers.populate_dfs_with_resenvs(ddg_data_dict, resenv_datasets_look_up)\";\n",
       "                var nbb_cells = Jupyter.notebook.get_cells();\n",
       "                for (var i = 0; i < nbb_cells.length; ++i) {\n",
       "                    if (nbb_cells[i].input_prompt_number == nbb_cell_id) {\n",
       "                        if (nbb_cells[i].get_text() == nbb_unformatted_code) {\n",
       "                             nbb_cells[i].set_text(nbb_formatted_code);\n",
       "                        }\n",
       "                        break;\n",
       "                    }\n",
       "                }\n",
       "            }, 500);\n",
       "            "
      ],
      "text/plain": [
       "<IPython.core.display.Javascript object>"
      ]
     },
     "metadata": {},
     "output_type": "display_data"
    }
   ],
   "source": [
    "ddg_data_dict = OrderedDict()\n",
    "ddg_data_dict = {\n",
    "    \"dms\": pd.read_csv(\"data/data_dms/ddgs_parsed.csv\"),\n",
    "    \"protein_g\": pd.read_csv(\"data/data_protein_g/ddgs_parsed.csv\"),\n",
    "    \"guerois\": pd.read_csv(\"data/data_guerois/ddgs_parsed.csv\"),\n",
    "    \"symmetric_direct\": pd.read_csv(\"data/data_symmetric/ddgs_parsed_direct.csv\"),\n",
    "    \"symmetric_inverse\": pd.read_csv(\"data/data_symmetric/ddgs_parsed_inverse.csv\"),\n",
    "}\n",
    "# Load the residue environments to the dataframes\n",
    "helpers.populate_dfs_with_resenvs(ddg_data_dict, resenv_datasets_look_up)"
   ]
  },
  {
   "cell_type": "markdown",
   "metadata": {},
   "source": [
    "### Load cavity models"
   ]
  },
  {
   "cell_type": "code",
   "execution_count": 6,
   "metadata": {},
   "outputs": [
    {
     "data": {
      "application/javascript": [
       "\n",
       "            setTimeout(function() {\n",
       "                var nbb_cell_id = 6;\n",
       "                var nbb_unformatted_code = \"# Load best performing cavity model from previos training\\nif WARM_START is not None:\\n    best_model_paths = WARM_START\\n\\ncavity_model_infer_nets = []\\nfor best_path in best_model_paths:\\n    cavity_model_infer_net = CavityModel(DEVICE).to(DEVICE)\\n    cavity_model_infer_net.load_state_dict(torch.load(best_path))\\n    _ = cavity_model_infer_net.eval()\\n    cavity_model_infer_nets.append(cavity_model_infer_net)\";\n",
       "                var nbb_formatted_code = \"# Load best performing cavity model from previos training\\nif WARM_START is not None:\\n    best_model_paths = WARM_START\\n\\ncavity_model_infer_nets = []\\nfor best_path in best_model_paths:\\n    cavity_model_infer_net = CavityModel(DEVICE).to(DEVICE)\\n    cavity_model_infer_net.load_state_dict(torch.load(best_path))\\n    _ = cavity_model_infer_net.eval()\\n    cavity_model_infer_nets.append(cavity_model_infer_net)\";\n",
       "                var nbb_cells = Jupyter.notebook.get_cells();\n",
       "                for (var i = 0; i < nbb_cells.length; ++i) {\n",
       "                    if (nbb_cells[i].input_prompt_number == nbb_cell_id) {\n",
       "                        if (nbb_cells[i].get_text() == nbb_unformatted_code) {\n",
       "                             nbb_cells[i].set_text(nbb_formatted_code);\n",
       "                        }\n",
       "                        break;\n",
       "                    }\n",
       "                }\n",
       "            }, 500);\n",
       "            "
      ],
      "text/plain": [
       "<IPython.core.display.Javascript object>"
      ]
     },
     "metadata": {},
     "output_type": "display_data"
    }
   ],
   "source": [
    "# Load best performing cavity model from previos training\n",
    "if WARM_START is not None:\n",
    "    best_model_paths = WARM_START\n",
    "\n",
    "cavity_model_infer_nets = []\n",
    "for best_path in best_model_paths:\n",
    "    cavity_model_infer_net = CavityModel(DEVICE).to(DEVICE)\n",
    "    cavity_model_infer_net.load_state_dict(torch.load(best_path))\n",
    "    _ = cavity_model_infer_net.eval()\n",
    "    cavity_model_infer_nets.append(cavity_model_infer_net)"
   ]
  },
  {
   "cell_type": "markdown",
   "metadata": {},
   "source": [
    "# Process data and infer amino acids likelihoods"
   ]
  },
  {
   "cell_type": "code",
   "execution_count": 7,
   "metadata": {},
   "outputs": [
    {
     "data": {
      "application/javascript": [
       "\n",
       "            setTimeout(function() {\n",
       "                var nbb_cell_id = 7;\n",
       "                var nbb_unformatted_code = \"# Setting 1: Static setting\\nif not os.path.exists(\\\"processed_data_frames.pickle\\\"):\\n    helpers.populate_dfs_with_nlls_and_nlfs(\\n        ddg_data_dict, cavity_model_infer_nets, DEVICE, BATCH_SIZE, EPS\\n    )\";\n",
       "                var nbb_formatted_code = \"# Setting 1: Static setting\\nif not os.path.exists(\\\"processed_data_frames.pickle\\\"):\\n    helpers.populate_dfs_with_nlls_and_nlfs(\\n        ddg_data_dict, cavity_model_infer_nets, DEVICE, BATCH_SIZE, EPS\\n    )\";\n",
       "                var nbb_cells = Jupyter.notebook.get_cells();\n",
       "                for (var i = 0; i < nbb_cells.length; ++i) {\n",
       "                    if (nbb_cells[i].input_prompt_number == nbb_cell_id) {\n",
       "                        if (nbb_cells[i].get_text() == nbb_unformatted_code) {\n",
       "                             nbb_cells[i].set_text(nbb_formatted_code);\n",
       "                        }\n",
       "                        break;\n",
       "                    }\n",
       "                }\n",
       "            }, 500);\n",
       "            "
      ],
      "text/plain": [
       "<IPython.core.display.Javascript object>"
      ]
     },
     "metadata": {},
     "output_type": "display_data"
    }
   ],
   "source": [
    "# Setting 1: Static setting\n",
    "if not os.path.exists(\"processed_data_frames.pickle\"):\n",
    "    helpers.populate_dfs_with_nlls_and_nlfs(\n",
    "        ddg_data_dict, cavity_model_infer_nets, DEVICE, BATCH_SIZE, EPS\n",
    "    )"
   ]
  },
  {
   "cell_type": "code",
   "execution_count": 8,
   "metadata": {},
   "outputs": [
    {
     "data": {
      "application/javascript": [
       "\n",
       "            setTimeout(function() {\n",
       "                var nbb_cell_id = 8;\n",
       "                var nbb_unformatted_code = \"# Setting 2: WT Structural ensemble\\nif not os.path.exists(\\\"processed_data_frames.pickle\\\"):\\n    # Infer NLLs for WT and MT and add to columns `wt_nll_md` and `mt_nll_md`\\n    helpers.infer_molecular_dynamics_nlls(\\n        ddg_data_dict,\\n        \\\"protein_g\\\",\\n        DEVICE,\\n        EPS,\\n        cavity_model_infer_nets,\\n        stride=STRIDE_MD,\\n        is_npt_ensemble=True,\\n        use_residue_number_map=True,\\n    )\\n    helpers.infer_molecular_dynamics_nlls(\\n        ddg_data_dict,\\n        \\\"guerois\\\",\\n        DEVICE,\\n        EPS,\\n        cavity_model_infer_nets,\\n        stride=STRIDE_MD,\\n        is_npt_ensemble=False,  # Maybe fix the bug with NPT ensemble\\n        use_residue_number_map=True,\\n    )\\n    helpers.infer_molecular_dynamics_nlls(\\n        ddg_data_dict,\\n        \\\"dms\\\",\\n        DEVICE,\\n        EPS,\\n        cavity_model_infer_nets,\\n        stride=STRIDE_MD,\\n        is_npt_ensemble=True,\\n        use_residue_number_map=False,\\n    )\";\n",
       "                var nbb_formatted_code = \"# Setting 2: WT Structural ensemble\\nif not os.path.exists(\\\"processed_data_frames.pickle\\\"):\\n    # Infer NLLs for WT and MT and add to columns `wt_nll_md` and `mt_nll_md`\\n    helpers.infer_molecular_dynamics_nlls(\\n        ddg_data_dict,\\n        \\\"protein_g\\\",\\n        DEVICE,\\n        EPS,\\n        cavity_model_infer_nets,\\n        stride=STRIDE_MD,\\n        is_npt_ensemble=True,\\n        use_residue_number_map=True,\\n    )\\n    helpers.infer_molecular_dynamics_nlls(\\n        ddg_data_dict,\\n        \\\"guerois\\\",\\n        DEVICE,\\n        EPS,\\n        cavity_model_infer_nets,\\n        stride=STRIDE_MD,\\n        is_npt_ensemble=False,  # Maybe fix the bug with NPT ensemble\\n        use_residue_number_map=True,\\n    )\\n    helpers.infer_molecular_dynamics_nlls(\\n        ddg_data_dict,\\n        \\\"dms\\\",\\n        DEVICE,\\n        EPS,\\n        cavity_model_infer_nets,\\n        stride=STRIDE_MD,\\n        is_npt_ensemble=True,\\n        use_residue_number_map=False,\\n    )\";\n",
       "                var nbb_cells = Jupyter.notebook.get_cells();\n",
       "                for (var i = 0; i < nbb_cells.length; ++i) {\n",
       "                    if (nbb_cells[i].input_prompt_number == nbb_cell_id) {\n",
       "                        if (nbb_cells[i].get_text() == nbb_unformatted_code) {\n",
       "                             nbb_cells[i].set_text(nbb_formatted_code);\n",
       "                        }\n",
       "                        break;\n",
       "                    }\n",
       "                }\n",
       "            }, 500);\n",
       "            "
      ],
      "text/plain": [
       "<IPython.core.display.Javascript object>"
      ]
     },
     "metadata": {},
     "output_type": "display_data"
    }
   ],
   "source": [
    "# Setting 2: WT Structural ensemble\n",
    "if not os.path.exists(\"processed_data_frames.pickle\"):\n",
    "    # Infer NLLs for WT and MT and add to columns `wt_nll_md` and `mt_nll_md`\n",
    "    helpers.infer_molecular_dynamics_nlls(\n",
    "        ddg_data_dict,\n",
    "        \"protein_g\",\n",
    "        DEVICE,\n",
    "        EPS,\n",
    "        cavity_model_infer_nets,\n",
    "        stride=STRIDE_MD,\n",
    "        is_npt_ensemble=True,\n",
    "        use_residue_number_map=True,\n",
    "    )\n",
    "    helpers.infer_molecular_dynamics_nlls(\n",
    "        ddg_data_dict,\n",
    "        \"guerois\",\n",
    "        DEVICE,\n",
    "        EPS,\n",
    "        cavity_model_infer_nets,\n",
    "        stride=STRIDE_MD,\n",
    "        is_npt_ensemble=False,  # Maybe fix the bug with NPT ensemble\n",
    "        use_residue_number_map=True,\n",
    "    )\n",
    "    helpers.infer_molecular_dynamics_nlls(\n",
    "        ddg_data_dict,\n",
    "        \"dms\",\n",
    "        DEVICE,\n",
    "        EPS,\n",
    "        cavity_model_infer_nets,\n",
    "        stride=STRIDE_MD,\n",
    "        is_npt_ensemble=True,\n",
    "        use_residue_number_map=False,\n",
    "    )"
   ]
  },
  {
   "cell_type": "code",
   "execution_count": 9,
   "metadata": {},
   "outputs": [
    {
     "data": {
      "application/javascript": [
       "\n",
       "            setTimeout(function() {\n",
       "                var nbb_cell_id = 9;\n",
       "                var nbb_unformatted_code = \"# Setting 3: Variant structures\\nif not os.path.exists(\\\"processed_data_frames.pickle\\\"):\\n    helpers.get_predictions_both_structures(ddg_data_dict, len(cavity_model_infer_nets))\";\n",
       "                var nbb_formatted_code = \"# Setting 3: Variant structures\\nif not os.path.exists(\\\"processed_data_frames.pickle\\\"):\\n    helpers.get_predictions_both_structures(ddg_data_dict, len(cavity_model_infer_nets))\";\n",
       "                var nbb_cells = Jupyter.notebook.get_cells();\n",
       "                for (var i = 0; i < nbb_cells.length; ++i) {\n",
       "                    if (nbb_cells[i].input_prompt_number == nbb_cell_id) {\n",
       "                        if (nbb_cells[i].get_text() == nbb_unformatted_code) {\n",
       "                             nbb_cells[i].set_text(nbb_formatted_code);\n",
       "                        }\n",
       "                        break;\n",
       "                    }\n",
       "                }\n",
       "            }, 500);\n",
       "            "
      ],
      "text/plain": [
       "<IPython.core.display.Javascript object>"
      ]
     },
     "metadata": {},
     "output_type": "display_data"
    }
   ],
   "source": [
    "# Setting 3: Variant structures\n",
    "if not os.path.exists(\"processed_data_frames.pickle\"):\n",
    "    helpers.get_predictions_both_structures(ddg_data_dict, len(cavity_model_infer_nets))"
   ]
  },
  {
   "cell_type": "code",
   "execution_count": 10,
   "metadata": {},
   "outputs": [
    {
     "data": {
      "application/javascript": [
       "\n",
       "            setTimeout(function() {\n",
       "                var nbb_cell_id = 10;\n",
       "                var nbb_unformatted_code = \"# Setting 4: Modelling the unfolded state\\nif not os.path.exists(\\\"processed_data_frames.pickle\\\"):\\n    for data_set in [\\\"protein_g\\\", \\\"dms\\\", \\\"guerois\\\"]:\\n        helpers.infer_probabilities_for_center_residues(\\n            ddg_data_dict,\\n            data_set,\\n            cavity_model_infer_nets,\\n            DEVICE,\\n            EPS,\\n            is_wt=True,\\n            stride=STRIDE_FRAGMENTS,\\n        )\\n        helpers.infer_probabilities_for_center_residues(\\n            ddg_data_dict,\\n            data_set,\\n            cavity_model_infer_nets,\\n            DEVICE,\\n            EPS,\\n            is_wt=False,\\n            stride=STRIDE_FRAGMENTS,\\n        )\\n\\n        helpers.add_ddg_preds_with_unfolded_state(\\n            ddg_data_dict, data_set, len(cavity_model_infer_nets)\\n        )\\n\\n    # Calculate DDgs\\n    helpers.add_ddg_preds_with_md_simulations(\\n        ddg_data_dict, \\\"protein_g\\\", len(cavity_model_infer_nets)\\n    )\\n    helpers.add_ddg_preds_with_md_simulations(\\n        ddg_data_dict, \\\"guerois\\\", len(cavity_model_infer_nets)\\n    )\\n    helpers.add_ddg_preds_with_md_simulations(\\n        ddg_data_dict, \\\"dms\\\", len(cavity_model_infer_nets)\\n    )\";\n",
       "                var nbb_formatted_code = \"# Setting 4: Modelling the unfolded state\\nif not os.path.exists(\\\"processed_data_frames.pickle\\\"):\\n    for data_set in [\\\"protein_g\\\", \\\"dms\\\", \\\"guerois\\\"]:\\n        helpers.infer_probabilities_for_center_residues(\\n            ddg_data_dict,\\n            data_set,\\n            cavity_model_infer_nets,\\n            DEVICE,\\n            EPS,\\n            is_wt=True,\\n            stride=STRIDE_FRAGMENTS,\\n        )\\n        helpers.infer_probabilities_for_center_residues(\\n            ddg_data_dict,\\n            data_set,\\n            cavity_model_infer_nets,\\n            DEVICE,\\n            EPS,\\n            is_wt=False,\\n            stride=STRIDE_FRAGMENTS,\\n        )\\n\\n        helpers.add_ddg_preds_with_unfolded_state(\\n            ddg_data_dict, data_set, len(cavity_model_infer_nets)\\n        )\\n\\n    # Calculate DDgs\\n    helpers.add_ddg_preds_with_md_simulations(\\n        ddg_data_dict, \\\"protein_g\\\", len(cavity_model_infer_nets)\\n    )\\n    helpers.add_ddg_preds_with_md_simulations(\\n        ddg_data_dict, \\\"guerois\\\", len(cavity_model_infer_nets)\\n    )\\n    helpers.add_ddg_preds_with_md_simulations(\\n        ddg_data_dict, \\\"dms\\\", len(cavity_model_infer_nets)\\n    )\";\n",
       "                var nbb_cells = Jupyter.notebook.get_cells();\n",
       "                for (var i = 0; i < nbb_cells.length; ++i) {\n",
       "                    if (nbb_cells[i].input_prompt_number == nbb_cell_id) {\n",
       "                        if (nbb_cells[i].get_text() == nbb_unformatted_code) {\n",
       "                             nbb_cells[i].set_text(nbb_formatted_code);\n",
       "                        }\n",
       "                        break;\n",
       "                    }\n",
       "                }\n",
       "            }, 500);\n",
       "            "
      ],
      "text/plain": [
       "<IPython.core.display.Javascript object>"
      ]
     },
     "metadata": {},
     "output_type": "display_data"
    }
   ],
   "source": [
    "# Setting 4: Modelling the unfolded state\n",
    "if not os.path.exists(\"processed_data_frames.pickle\"):\n",
    "    for data_set in [\"protein_g\", \"dms\", \"guerois\"]:\n",
    "        helpers.infer_probabilities_for_center_residues(\n",
    "            ddg_data_dict,\n",
    "            data_set,\n",
    "            cavity_model_infer_nets,\n",
    "            DEVICE,\n",
    "            EPS,\n",
    "            is_wt=True,\n",
    "            stride=STRIDE_FRAGMENTS,\n",
    "        )\n",
    "        helpers.infer_probabilities_for_center_residues(\n",
    "            ddg_data_dict,\n",
    "            data_set,\n",
    "            cavity_model_infer_nets,\n",
    "            DEVICE,\n",
    "            EPS,\n",
    "            is_wt=False,\n",
    "            stride=STRIDE_FRAGMENTS,\n",
    "        )\n",
    "\n",
    "        helpers.add_ddg_preds_with_unfolded_state(\n",
    "            ddg_data_dict, data_set, len(cavity_model_infer_nets)\n",
    "        )\n",
    "\n",
    "    # Calculate DDgs\n",
    "    helpers.add_ddg_preds_with_md_simulations(\n",
    "        ddg_data_dict, \"protein_g\", len(cavity_model_infer_nets)\n",
    "    )\n",
    "    helpers.add_ddg_preds_with_md_simulations(\n",
    "        ddg_data_dict, \"guerois\", len(cavity_model_infer_nets)\n",
    "    )\n",
    "    helpers.add_ddg_preds_with_md_simulations(\n",
    "        ddg_data_dict, \"dms\", len(cavity_model_infer_nets)\n",
    "    )"
   ]
  },
  {
   "cell_type": "markdown",
   "metadata": {},
   "source": [
    "### Cache processed data"
   ]
  },
  {
   "cell_type": "code",
   "execution_count": 11,
   "metadata": {},
   "outputs": [
    {
     "data": {
      "application/javascript": [
       "\n",
       "            setTimeout(function() {\n",
       "                var nbb_cell_id = 11;\n",
       "                var nbb_unformatted_code = \"if not os.path.exists(\\\"processed_data_frames.pickle\\\"):\\n    with open(\\\"processed_data_frames.pickle\\\", \\\"wb\\\") as handle:\\n        pickle.dump(ddg_data_dict, handle, protocol=pickle.HIGHEST_PROTOCOL)\";\n",
       "                var nbb_formatted_code = \"if not os.path.exists(\\\"processed_data_frames.pickle\\\"):\\n    with open(\\\"processed_data_frames.pickle\\\", \\\"wb\\\") as handle:\\n        pickle.dump(ddg_data_dict, handle, protocol=pickle.HIGHEST_PROTOCOL)\";\n",
       "                var nbb_cells = Jupyter.notebook.get_cells();\n",
       "                for (var i = 0; i < nbb_cells.length; ++i) {\n",
       "                    if (nbb_cells[i].input_prompt_number == nbb_cell_id) {\n",
       "                        if (nbb_cells[i].get_text() == nbb_unformatted_code) {\n",
       "                             nbb_cells[i].set_text(nbb_formatted_code);\n",
       "                        }\n",
       "                        break;\n",
       "                    }\n",
       "                }\n",
       "            }, 500);\n",
       "            "
      ],
      "text/plain": [
       "<IPython.core.display.Javascript object>"
      ]
     },
     "metadata": {},
     "output_type": "display_data"
    }
   ],
   "source": [
    "if not os.path.exists(\"processed_data_frames.pickle\"):\n",
    "    with open(\"processed_data_frames.pickle\", \"wb\") as handle:\n",
    "        pickle.dump(ddg_data_dict, handle, protocol=pickle.HIGHEST_PROTOCOL)"
   ]
  },
  {
   "cell_type": "markdown",
   "metadata": {},
   "source": [
    "### Load processed data"
   ]
  },
  {
   "cell_type": "code",
   "execution_count": 12,
   "metadata": {},
   "outputs": [
    {
     "data": {
      "application/javascript": [
       "\n",
       "            setTimeout(function() {\n",
       "                var nbb_cell_id = 12;\n",
       "                var nbb_unformatted_code = \"with open(\\\"processed_data_frames.pickle\\\", \\\"rb\\\") as handle:\\n    ddg_data_dict = pickle.load(handle)\";\n",
       "                var nbb_formatted_code = \"with open(\\\"processed_data_frames.pickle\\\", \\\"rb\\\") as handle:\\n    ddg_data_dict = pickle.load(handle)\";\n",
       "                var nbb_cells = Jupyter.notebook.get_cells();\n",
       "                for (var i = 0; i < nbb_cells.length; ++i) {\n",
       "                    if (nbb_cells[i].input_prompt_number == nbb_cell_id) {\n",
       "                        if (nbb_cells[i].get_text() == nbb_unformatted_code) {\n",
       "                             nbb_cells[i].set_text(nbb_formatted_code);\n",
       "                        }\n",
       "                        break;\n",
       "                    }\n",
       "                }\n",
       "            }, 500);\n",
       "            "
      ],
      "text/plain": [
       "<IPython.core.display.Javascript object>"
      ]
     },
     "metadata": {},
     "output_type": "display_data"
    }
   ],
   "source": [
    "with open(\"processed_data_frames.pickle\", \"rb\") as handle:\n",
    "    ddg_data_dict = pickle.load(handle)"
   ]
  },
  {
   "cell_type": "markdown",
   "metadata": {},
   "source": [
    "# Figures in  paper"
   ]
  },
  {
   "cell_type": "code",
   "execution_count": 13,
   "metadata": {},
   "outputs": [
    {
     "data": {
      "application/javascript": [
       "\n",
       "            setTimeout(function() {\n",
       "                var nbb_cell_id = 13;\n",
       "                var nbb_unformatted_code = \"def style_barplot_vertical(ax, legend_y, ncols=2):\\n    sns.despine(left=True, bottom=True, right=True)\\n    g.set(xlabel=None)\\n    g.get_legend().set_title(None)\\n    h,l = ax.get_legend_handles_labels()\\n    ax.legend_.remove()\\n    ax.legend(h,l, ncol=ncols, frameon=False, loc='upper right', bbox_to_anchor=(0.925,legend_y)) \\n    ax.axhline(y=0, color='black')\\n\\n\\ndef style_barplot(ax, legend_y, ticks_above=False, ncols=2):\\n    sns.despine(left=True, bottom=True, right=True)\\n    g.set(ylabel=None)\\n    g.get_legend().set_title(None)\\n    h,l = ax.get_legend_handles_labels()\\n    ax.legend_.remove()\\n    if ticks_above:\\n        ax.xaxis.set_label_position(\\\"top\\\")\\n        ax.xaxis.labelpad=10 \\n        ax.tick_params(axis='x', which='major', labelbottom = False, bottom=False, top = False, labeltop=True, pad=-5)\\n        fig.legend(h,l, ncol=ncols, frameon=False, loc='lower right', bbox_to_anchor=(0.925,legend_y)) \\n    else:\\n        ax.tick_params(axis='x', which='major', pad=-2)\\n        fig.legend(h,l, ncol=ncols, frameon=False, loc='lower right', bbox_to_anchor=(0.925,legend_y)) \\n\\n    ax.axvline(x=0, color='black')\\n    ax.set_xlim([0,0.79])\";\n",
       "                var nbb_formatted_code = \"def style_barplot_vertical(ax, legend_y, ncols=2):\\n    sns.despine(left=True, bottom=True, right=True)\\n    g.set(xlabel=None)\\n    g.get_legend().set_title(None)\\n    h, l = ax.get_legend_handles_labels()\\n    ax.legend_.remove()\\n    ax.legend(\\n        h,\\n        l,\\n        ncol=ncols,\\n        frameon=False,\\n        loc=\\\"upper right\\\",\\n        bbox_to_anchor=(0.925, legend_y),\\n    )\\n    ax.axhline(y=0, color=\\\"black\\\")\\n\\n\\ndef style_barplot(ax, legend_y, ticks_above=False, ncols=2):\\n    sns.despine(left=True, bottom=True, right=True)\\n    g.set(ylabel=None)\\n    g.get_legend().set_title(None)\\n    h, l = ax.get_legend_handles_labels()\\n    ax.legend_.remove()\\n    if ticks_above:\\n        ax.xaxis.set_label_position(\\\"top\\\")\\n        ax.xaxis.labelpad = 10\\n        ax.tick_params(\\n            axis=\\\"x\\\",\\n            which=\\\"major\\\",\\n            labelbottom=False,\\n            bottom=False,\\n            top=False,\\n            labeltop=True,\\n            pad=-5,\\n        )\\n        fig.legend(\\n            h,\\n            l,\\n            ncol=ncols,\\n            frameon=False,\\n            loc=\\\"lower right\\\",\\n            bbox_to_anchor=(0.925, legend_y),\\n        )\\n    else:\\n        ax.tick_params(axis=\\\"x\\\", which=\\\"major\\\", pad=-2)\\n        fig.legend(\\n            h,\\n            l,\\n            ncol=ncols,\\n            frameon=False,\\n            loc=\\\"lower right\\\",\\n            bbox_to_anchor=(0.925, legend_y),\\n        )\\n\\n    ax.axvline(x=0, color=\\\"black\\\")\\n    ax.set_xlim([0, 0.79])\";\n",
       "                var nbb_cells = Jupyter.notebook.get_cells();\n",
       "                for (var i = 0; i < nbb_cells.length; ++i) {\n",
       "                    if (nbb_cells[i].input_prompt_number == nbb_cell_id) {\n",
       "                        if (nbb_cells[i].get_text() == nbb_unformatted_code) {\n",
       "                             nbb_cells[i].set_text(nbb_formatted_code);\n",
       "                        }\n",
       "                        break;\n",
       "                    }\n",
       "                }\n",
       "            }, 500);\n",
       "            "
      ],
      "text/plain": [
       "<IPython.core.display.Javascript object>"
      ]
     },
     "metadata": {},
     "output_type": "display_data"
    }
   ],
   "source": [
    "def style_barplot_vertical(ax, legend_y, ncols=2):\n",
    "    sns.despine(left=True, bottom=True, right=True)\n",
    "    g.set(xlabel=None)\n",
    "    g.get_legend().set_title(None)\n",
    "    h,l = ax.get_legend_handles_labels()\n",
    "    ax.legend_.remove()\n",
    "    ax.legend(h,l, ncol=ncols, frameon=False, loc='upper right', bbox_to_anchor=(0.925,legend_y)) \n",
    "    ax.axhline(y=0, color='black')\n",
    "\n",
    "\n",
    "def style_barplot(ax, legend_y, ticks_above=False, ncols=2):\n",
    "    sns.despine(left=True, bottom=True, right=True)\n",
    "    g.set(ylabel=None)\n",
    "    g.get_legend().set_title(None)\n",
    "    h,l = ax.get_legend_handles_labels()\n",
    "    ax.legend_.remove()\n",
    "    if ticks_above:\n",
    "        ax.xaxis.set_label_position(\"top\")\n",
    "        ax.xaxis.labelpad=10 \n",
    "        ax.tick_params(axis='x', which='major', labelbottom = False, bottom=False, top = False, labeltop=True, pad=-5)\n",
    "        fig.legend(h,l, ncol=ncols, frameon=False, loc='lower right', bbox_to_anchor=(0.925,legend_y)) \n",
    "    else:\n",
    "        ax.tick_params(axis='x', which='major', pad=-2)\n",
    "        fig.legend(h,l, ncol=ncols, frameon=False, loc='lower right', bbox_to_anchor=(0.925,legend_y)) \n",
    "\n",
    "    ax.axvline(x=0, color='black')\n",
    "    ax.set_xlim([0,0.79])\n"
   ]
  },
  {
   "cell_type": "markdown",
   "metadata": {},
   "source": [
    "### Figure 3a"
   ]
  },
  {
   "cell_type": "code",
   "execution_count": 14,
   "metadata": {},
   "outputs": [
    {
     "data": {
      "image/png": "[encoded data removed]",
      "text/plain": [
       "<Figure size 360x216 with 1 Axes>"
      ]
     },
     "metadata": {},
     "output_type": "display_data"
    },
    {
     "data": {
      "application/javascript": [
       "\n",
       "            setTimeout(function() {\n",
       "                var nbb_cell_id = 14;\n",
       "                var nbb_unformatted_code = \"# Figure 3a\\nULTRA_VANILLA_RS = defaultdict(list)\\nfor data_key in [\\n    \\\"protein_g\\\",\\n    \\\"guerois\\\",\\n    \\\"dms\\\",\\n]:\\n    ddg_col = \\\"ddg\\\"\\n    for i in range(len(cavity_model_infer_nets)):\\n        ddg_pred_col = f\\\"ddg_pred_ultra_vanilla_{i}\\\"\\n\\n        x = ddg_data_dict[data_key][ddg_col]\\n        y = ddg_data_dict[data_key][ddg_pred_col]\\n        x_ = [\\n            val[0] for val in zip(x, y) if not np.isnan(val[1]) and not np.isnan(val[0])\\n        ]\\n        y_ = [\\n            val[1] for val in zip(x, y) if not np.isnan(val[1]) and not np.isnan(val[0])\\n        ]\\n        pearsons_correlation = pearsonr(x_, y_)[0]\\n        ULTRA_VANILLA_RS[data_key].append(pearsons_correlation)\\n\\n\\nlabels = [\\\"Protein G\\\", \\\"Guerois\\\", \\\"VAMP-seq\\\"]\\ncavity_correlations = [\\n    np.mean(ULTRA_VANILLA_RS[\\\"protein_g\\\"]),\\n    np.mean(ULTRA_VANILLA_RS[\\\"guerois\\\"]),\\n    np.mean(ULTRA_VANILLA_RS[\\\"dms\\\"]),\\n]\\ncavity_stds = [\\n    np.std(ULTRA_VANILLA_RS[\\\"protein_g\\\"]),\\n    np.std(ULTRA_VANILLA_RS[\\\"guerois\\\"]),\\n    np.std(ULTRA_VANILLA_RS[\\\"dms\\\"]),\\n]\\nrosetta_correlations = [0.73, 0.71, 0.5]\\nfoldx_correlations = [0.44, 0.66, 0.31]\\ndata = pd.DataFrame(\\n    {\\n        \\\"data_set\\\": labels * 3,\\n        \\\"correlations\\\": cavity_correlations + rosetta_correlations + foldx_correlations,\\n        \\\"std\\\": cavity_stds + [np.nan] * 6,\\n        \\\"type\\\": [\\\"cavity\\\"] * 3 + [\\\"rosetta\\\"] * 3 + [\\\"foldx\\\"] * 3,\\n    }\\n)\\n\\ncolors = ['#DB444B', '#006BA2', '#3EBCD2', '#379A8B', '#EBB434', '#B4BA39', '#9A607F', '#D1B07C']\\nsaturation = 0.75\\n\\nsns.set(font_scale = 1.2)\\nsns.set_palette(sns.color_palette(colors))\\nsns.set_style(\\\"whitegrid\\\")\\n\\nfig, ax = plt.subplots(figsize=(5,3))\\ng = sns.barplot(data=data, y='data_set', x='correlations', hue='type', ci='std', ax=ax, edgecolor='black',linewidth=0, saturation=saturation)\\nmask = data[\\\"std\\\"].notna().to_numpy()\\ny_coords = np.array([p.get_y() + 0.5*p.get_height() for p in ax.patches])[mask]\\nx_coords = np.array([p.get_width() for p in ax.patches])[mask]\\nax.errorbar(x=x_coords, y=y_coords, xerr=data[\\\"std\\\"][mask], color=sns.desaturate(sns.color_palette()[0], saturation), fmt=\\\"none\\\", capsize=5)\\ng.set_xlabel(\\\"correlation\\\")\\nstyle_barplot(ax=ax, legend_y=0.9, ncols=3, ticks_above=False)\";\n",
       "                var nbb_formatted_code = \"# Figure 3a\\nULTRA_VANILLA_RS = defaultdict(list)\\nfor data_key in [\\n    \\\"protein_g\\\",\\n    \\\"guerois\\\",\\n    \\\"dms\\\",\\n]:\\n    ddg_col = \\\"ddg\\\"\\n    for i in range(len(cavity_model_infer_nets)):\\n        ddg_pred_col = f\\\"ddg_pred_ultra_vanilla_{i}\\\"\\n\\n        x = ddg_data_dict[data_key][ddg_col]\\n        y = ddg_data_dict[data_key][ddg_pred_col]\\n        x_ = [\\n            val[0] for val in zip(x, y) if not np.isnan(val[1]) and not np.isnan(val[0])\\n        ]\\n        y_ = [\\n            val[1] for val in zip(x, y) if not np.isnan(val[1]) and not np.isnan(val[0])\\n        ]\\n        pearsons_correlation = pearsonr(x_, y_)[0]\\n        ULTRA_VANILLA_RS[data_key].append(pearsons_correlation)\\n\\n\\nlabels = [\\\"Protein G\\\", \\\"Guerois\\\", \\\"VAMP-seq\\\"]\\ncavity_correlations = [\\n    np.mean(ULTRA_VANILLA_RS[\\\"protein_g\\\"]),\\n    np.mean(ULTRA_VANILLA_RS[\\\"guerois\\\"]),\\n    np.mean(ULTRA_VANILLA_RS[\\\"dms\\\"]),\\n]\\ncavity_stds = [\\n    np.std(ULTRA_VANILLA_RS[\\\"protein_g\\\"]),\\n    np.std(ULTRA_VANILLA_RS[\\\"guerois\\\"]),\\n    np.std(ULTRA_VANILLA_RS[\\\"dms\\\"]),\\n]\\nrosetta_correlations = [0.73, 0.71, 0.5]\\nfoldx_correlations = [0.44, 0.66, 0.31]\\ndata = pd.DataFrame(\\n    {\\n        \\\"data_set\\\": labels * 3,\\n        \\\"correlations\\\": cavity_correlations + rosetta_correlations + foldx_correlations,\\n        \\\"std\\\": cavity_stds + [np.nan] * 6,\\n        \\\"type\\\": [\\\"cavity\\\"] * 3 + [\\\"rosetta\\\"] * 3 + [\\\"foldx\\\"] * 3,\\n    }\\n)\\n\\ncolors = [\\n    \\\"#DB444B\\\",\\n    \\\"#006BA2\\\",\\n    \\\"#3EBCD2\\\",\\n    \\\"#379A8B\\\",\\n    \\\"#EBB434\\\",\\n    \\\"#B4BA39\\\",\\n    \\\"#9A607F\\\",\\n    \\\"#D1B07C\\\",\\n]\\nsaturation = 0.75\\n\\nsns.set(font_scale=1.2)\\nsns.set_palette(sns.color_palette(colors))\\nsns.set_style(\\\"whitegrid\\\")\\n\\nfig, ax = plt.subplots(figsize=(5, 3))\\ng = sns.barplot(\\n    data=data,\\n    y=\\\"data_set\\\",\\n    x=\\\"correlations\\\",\\n    hue=\\\"type\\\",\\n    ci=\\\"std\\\",\\n    ax=ax,\\n    edgecolor=\\\"black\\\",\\n    linewidth=0,\\n    saturation=saturation,\\n)\\nmask = data[\\\"std\\\"].notna().to_numpy()\\ny_coords = np.array([p.get_y() + 0.5 * p.get_height() for p in ax.patches])[mask]\\nx_coords = np.array([p.get_width() for p in ax.patches])[mask]\\nax.errorbar(\\n    x=x_coords,\\n    y=y_coords,\\n    xerr=data[\\\"std\\\"][mask],\\n    color=sns.desaturate(sns.color_palette()[0], saturation),\\n    fmt=\\\"none\\\",\\n    capsize=5,\\n)\\ng.set_xlabel(\\\"correlation\\\")\\nstyle_barplot(ax=ax, legend_y=0.9, ncols=3, ticks_above=False)\";\n",
       "                var nbb_cells = Jupyter.notebook.get_cells();\n",
       "                for (var i = 0; i < nbb_cells.length; ++i) {\n",
       "                    if (nbb_cells[i].input_prompt_number == nbb_cell_id) {\n",
       "                        if (nbb_cells[i].get_text() == nbb_unformatted_code) {\n",
       "                             nbb_cells[i].set_text(nbb_formatted_code);\n",
       "                        }\n",
       "                        break;\n",
       "                    }\n",
       "                }\n",
       "            }, 500);\n",
       "            "
      ],
      "text/plain": [
       "<IPython.core.display.Javascript object>"
      ]
     },
     "metadata": {},
     "output_type": "display_data"
    }
   ],
   "source": [
    "# Figure 3a\n",
    "ULTRA_VANILLA_RS = defaultdict(list)\n",
    "for data_key in [\n",
    "    \"protein_g\",\n",
    "    \"guerois\",\n",
    "    \"dms\",\n",
    "]:\n",
    "    ddg_col = \"ddg\"\n",
    "    for i in range(len(cavity_model_infer_nets)):\n",
    "        ddg_pred_col = f\"ddg_pred_ultra_vanilla_{i}\"\n",
    "\n",
    "        x = ddg_data_dict[data_key][ddg_col]\n",
    "        y = ddg_data_dict[data_key][ddg_pred_col]\n",
    "        x_ = [\n",
    "            val[0] for val in zip(x, y) if not np.isnan(val[1]) and not np.isnan(val[0])\n",
    "        ]\n",
    "        y_ = [\n",
    "            val[1] for val in zip(x, y) if not np.isnan(val[1]) and not np.isnan(val[0])\n",
    "        ]\n",
    "        pearsons_correlation = pearsonr(x_, y_)[0]\n",
    "        ULTRA_VANILLA_RS[data_key].append(pearsons_correlation)\n",
    "\n",
    "\n",
    "labels = [\"Protein G\", \"Guerois\", \"VAMP-seq\"]\n",
    "cavity_correlations = [\n",
    "    np.mean(ULTRA_VANILLA_RS[\"protein_g\"]),\n",
    "    np.mean(ULTRA_VANILLA_RS[\"guerois\"]),\n",
    "    np.mean(ULTRA_VANILLA_RS[\"dms\"]),\n",
    "]\n",
    "cavity_stds = [\n",
    "    np.std(ULTRA_VANILLA_RS[\"protein_g\"]),\n",
    "    np.std(ULTRA_VANILLA_RS[\"guerois\"]),\n",
    "    np.std(ULTRA_VANILLA_RS[\"dms\"]),\n",
    "]\n",
    "rosetta_correlations = [0.73, 0.71, 0.5]\n",
    "foldx_correlations = [0.44, 0.66, 0.31]\n",
    "data = pd.DataFrame(\n",
    "    {\n",
    "        \"data_set\": labels * 3,\n",
    "        \"correlations\": cavity_correlations + rosetta_correlations + foldx_correlations,\n",
    "        \"std\": cavity_stds + [np.nan] * 6,\n",
    "        \"type\": [\"cavity\"] * 3 + [\"rosetta\"] * 3 + [\"foldx\"] * 3,\n",
    "    }\n",
    ")\n",
    "\n",
    "colors = ['#DB444B', '#006BA2', '#3EBCD2', '#379A8B', '#EBB434', '#B4BA39', '#9A607F', '#D1B07C']\n",
    "saturation = 0.75\n",
    "\n",
    "sns.set(font_scale = 1.2)\n",
    "sns.set_palette(sns.color_palette(colors))\n",
    "sns.set_style(\"whitegrid\")\n",
    "\n",
    "fig, ax = plt.subplots(figsize=(5,3))\n",
    "g = sns.barplot(data=data, y='data_set', x='correlations', hue='type', ci='std', ax=ax, edgecolor='black',linewidth=0, saturation=saturation)\n",
    "mask = data[\"std\"].notna().to_numpy()\n",
    "y_coords = np.array([p.get_y() + 0.5*p.get_height() for p in ax.patches])[mask]\n",
    "x_coords = np.array([p.get_width() for p in ax.patches])[mask]\n",
    "ax.errorbar(x=x_coords, y=y_coords, xerr=data[\"std\"][mask], color=sns.desaturate(sns.color_palette()[0], saturation), fmt=\"none\", capsize=5)\n",
    "g.set_xlabel(\"correlation\")\n",
    "style_barplot(ax=ax, legend_y=0.9, ncols=3, ticks_above=False)\n",
    "\n"
   ]
  },
  {
   "cell_type": "markdown",
   "metadata": {},
   "source": [
    "### Figure 3b"
   ]
  },
  {
   "cell_type": "code",
   "execution_count": 15,
   "metadata": {},
   "outputs": [
    {
     "data": {
      "application/javascript": [
       "\n",
       "            setTimeout(function() {\n",
       "                var nbb_cell_id = 15;\n",
       "                var nbb_unformatted_code = \"VANILLA_MD_RS = defaultdict(list)\\nfor i in range(len(cavity_model_infer_nets)):\\n    ddg_col = \\\"ddg\\\"\\n    for data_set in [\\\"protein_g\\\", \\\"guerois\\\", \\\"dms\\\"]:\\n        x = ddg_data_dict[data_set][\\\"ddg\\\"]\\n        y = ddg_data_dict[data_set][f\\\"ddg_pred_md_no_ds_all_{i}\\\"]\\n\\n        x_ = [\\n            val[0] for val in zip(x, y) if not np.isnan(val[1]) and not np.isnan(val[0])\\n        ]\\n        y_ = [\\n            val[1] for val in zip(x, y) if not np.isnan(val[1]) and not np.isnan(val[0])\\n        ]\\n        pearsons_correlation = pearsonr(x_, y_)[0]\\n\\n        VANILLA_MD_RS[data_set].append(pearsons_correlation)\";\n",
       "                var nbb_formatted_code = \"VANILLA_MD_RS = defaultdict(list)\\nfor i in range(len(cavity_model_infer_nets)):\\n    ddg_col = \\\"ddg\\\"\\n    for data_set in [\\\"protein_g\\\", \\\"guerois\\\", \\\"dms\\\"]:\\n        x = ddg_data_dict[data_set][\\\"ddg\\\"]\\n        y = ddg_data_dict[data_set][f\\\"ddg_pred_md_no_ds_all_{i}\\\"]\\n\\n        x_ = [\\n            val[0] for val in zip(x, y) if not np.isnan(val[1]) and not np.isnan(val[0])\\n        ]\\n        y_ = [\\n            val[1] for val in zip(x, y) if not np.isnan(val[1]) and not np.isnan(val[0])\\n        ]\\n        pearsons_correlation = pearsonr(x_, y_)[0]\\n\\n        VANILLA_MD_RS[data_set].append(pearsons_correlation)\";\n",
       "                var nbb_cells = Jupyter.notebook.get_cells();\n",
       "                for (var i = 0; i < nbb_cells.length; ++i) {\n",
       "                    if (nbb_cells[i].input_prompt_number == nbb_cell_id) {\n",
       "                        if (nbb_cells[i].get_text() == nbb_unformatted_code) {\n",
       "                             nbb_cells[i].set_text(nbb_formatted_code);\n",
       "                        }\n",
       "                        break;\n",
       "                    }\n",
       "                }\n",
       "            }, 500);\n",
       "            "
      ],
      "text/plain": [
       "<IPython.core.display.Javascript object>"
      ]
     },
     "metadata": {},
     "output_type": "display_data"
    }
   ],
   "source": [
    "VANILLA_MD_RS = defaultdict(list)\n",
    "for i in range(len(cavity_model_infer_nets)):\n",
    "    ddg_col = \"ddg\"\n",
    "    for data_set in [\"protein_g\", \"guerois\", \"dms\"]:\n",
    "        x = ddg_data_dict[data_set][\"ddg\"]\n",
    "        y = ddg_data_dict[data_set][f\"ddg_pred_md_no_ds_all_{i}\"]\n",
    "\n",
    "        x_ = [\n",
    "            val[0] for val in zip(x, y) if not np.isnan(val[1]) and not np.isnan(val[0])\n",
    "        ]\n",
    "        y_ = [\n",
    "            val[1] for val in zip(x, y) if not np.isnan(val[1]) and not np.isnan(val[0])\n",
    "        ]\n",
    "        pearsons_correlation = pearsonr(x_, y_)[0]\n",
    "\n",
    "        VANILLA_MD_RS[data_set].append(pearsons_correlation)"
   ]
  },
  {
   "cell_type": "code",
   "execution_count": 16,
   "metadata": {},
   "outputs": [
    {
     "data": {
      "application/javascript": [
       "\n",
       "            setTimeout(function() {\n",
       "                var nbb_cell_id = 16;\n",
       "                var nbb_unformatted_code = \"labels = [\\\"Protein G\\\", \\\"Guerois\\\", \\\"VAMP-seq\\\"]\\n\\ncavity_correlations = [\\n    np.mean(ULTRA_VANILLA_RS[\\\"protein_g\\\"]),\\n    np.mean(ULTRA_VANILLA_RS[\\\"guerois\\\"]),\\n    np.mean(ULTRA_VANILLA_RS[\\\"dms\\\"]),\\n]\\ncavity_md_correlations = [\\n    np.mean(VANILLA_MD_RS[\\\"protein_g\\\"]),\\n    np.mean(VANILLA_MD_RS[\\\"guerois\\\"]),\\n    np.mean(VANILLA_MD_RS[\\\"dms\\\"]),\\n]\\n\\ncavity_stds = [\\n    np.std(ULTRA_VANILLA_RS[\\\"protein_g\\\"]),\\n    np.std(ULTRA_VANILLA_RS[\\\"guerois\\\"]),\\n    np.std(ULTRA_VANILLA_RS[\\\"dms\\\"]),\\n]\\ncavity_md_stds = [\\n    np.std(VANILLA_MD_RS[\\\"protein_g\\\"]),\\n    np.std(VANILLA_MD_RS[\\\"guerois\\\"]),\\n    np.std(VANILLA_MD_RS[\\\"dms\\\"]),\\n]\\n\\ndata = pd.DataFrame(\\n    {\\n        \\\"data_set\\\": labels,\\n        \\\"cavity_vanilla\\\": cavity_correlations,\\n        \\\"cavity_vanilla_stds\\\": cavity_stds,\\n        \\\"cavity_vanilla_md\\\": cavity_md_correlations,\\n        \\\"cavity_vanilla_md_stds\\\": cavity_md_stds,\\n    }\\n)\\ndata = pd.concat([data[['data_set', 'cavity_vanilla', 'cavity_vanilla_stds']].rename(columns={'cavity_vanilla':'correlation', 'cavity_vanilla_stds':'std'}).assign(type='static'),\\n                  data[['data_set', 'cavity_vanilla_md', 'cavity_vanilla_md_stds']].rename(columns={'cavity_vanilla_md':'correlation', 'cavity_vanilla_md_stds':'std'}).assign(type='ensemble')])\";\n",
       "                var nbb_formatted_code = \"labels = [\\\"Protein G\\\", \\\"Guerois\\\", \\\"VAMP-seq\\\"]\\n\\ncavity_correlations = [\\n    np.mean(ULTRA_VANILLA_RS[\\\"protein_g\\\"]),\\n    np.mean(ULTRA_VANILLA_RS[\\\"guerois\\\"]),\\n    np.mean(ULTRA_VANILLA_RS[\\\"dms\\\"]),\\n]\\ncavity_md_correlations = [\\n    np.mean(VANILLA_MD_RS[\\\"protein_g\\\"]),\\n    np.mean(VANILLA_MD_RS[\\\"guerois\\\"]),\\n    np.mean(VANILLA_MD_RS[\\\"dms\\\"]),\\n]\\n\\ncavity_stds = [\\n    np.std(ULTRA_VANILLA_RS[\\\"protein_g\\\"]),\\n    np.std(ULTRA_VANILLA_RS[\\\"guerois\\\"]),\\n    np.std(ULTRA_VANILLA_RS[\\\"dms\\\"]),\\n]\\ncavity_md_stds = [\\n    np.std(VANILLA_MD_RS[\\\"protein_g\\\"]),\\n    np.std(VANILLA_MD_RS[\\\"guerois\\\"]),\\n    np.std(VANILLA_MD_RS[\\\"dms\\\"]),\\n]\\n\\ndata = pd.DataFrame(\\n    {\\n        \\\"data_set\\\": labels,\\n        \\\"cavity_vanilla\\\": cavity_correlations,\\n        \\\"cavity_vanilla_stds\\\": cavity_stds,\\n        \\\"cavity_vanilla_md\\\": cavity_md_correlations,\\n        \\\"cavity_vanilla_md_stds\\\": cavity_md_stds,\\n    }\\n)\\ndata = pd.concat(\\n    [\\n        data[[\\\"data_set\\\", \\\"cavity_vanilla\\\", \\\"cavity_vanilla_stds\\\"]]\\n        .rename(columns={\\\"cavity_vanilla\\\": \\\"correlation\\\", \\\"cavity_vanilla_stds\\\": \\\"std\\\"})\\n        .assign(type=\\\"static\\\"),\\n        data[[\\\"data_set\\\", \\\"cavity_vanilla_md\\\", \\\"cavity_vanilla_md_stds\\\"]]\\n        .rename(\\n            columns={\\n                \\\"cavity_vanilla_md\\\": \\\"correlation\\\",\\n                \\\"cavity_vanilla_md_stds\\\": \\\"std\\\",\\n            }\\n        )\\n        .assign(type=\\\"ensemble\\\"),\\n    ]\\n)\";\n",
       "                var nbb_cells = Jupyter.notebook.get_cells();\n",
       "                for (var i = 0; i < nbb_cells.length; ++i) {\n",
       "                    if (nbb_cells[i].input_prompt_number == nbb_cell_id) {\n",
       "                        if (nbb_cells[i].get_text() == nbb_unformatted_code) {\n",
       "                             nbb_cells[i].set_text(nbb_formatted_code);\n",
       "                        }\n",
       "                        break;\n",
       "                    }\n",
       "                }\n",
       "            }, 500);\n",
       "            "
      ],
      "text/plain": [
       "<IPython.core.display.Javascript object>"
      ]
     },
     "metadata": {},
     "output_type": "display_data"
    }
   ],
   "source": [
    "labels = [\"Protein G\", \"Guerois\", \"VAMP-seq\"]\n",
    "\n",
    "cavity_correlations = [\n",
    "    np.mean(ULTRA_VANILLA_RS[\"protein_g\"]),\n",
    "    np.mean(ULTRA_VANILLA_RS[\"guerois\"]),\n",
    "    np.mean(ULTRA_VANILLA_RS[\"dms\"]),\n",
    "]\n",
    "cavity_md_correlations = [\n",
    "    np.mean(VANILLA_MD_RS[\"protein_g\"]),\n",
    "    np.mean(VANILLA_MD_RS[\"guerois\"]),\n",
    "    np.mean(VANILLA_MD_RS[\"dms\"]),\n",
    "]\n",
    "\n",
    "cavity_stds = [\n",
    "    np.std(ULTRA_VANILLA_RS[\"protein_g\"]),\n",
    "    np.std(ULTRA_VANILLA_RS[\"guerois\"]),\n",
    "    np.std(ULTRA_VANILLA_RS[\"dms\"]),\n",
    "]\n",
    "cavity_md_stds = [\n",
    "    np.std(VANILLA_MD_RS[\"protein_g\"]),\n",
    "    np.std(VANILLA_MD_RS[\"guerois\"]),\n",
    "    np.std(VANILLA_MD_RS[\"dms\"]),\n",
    "]\n",
    "\n",
    "data = pd.DataFrame(\n",
    "    {\n",
    "        \"data_set\": labels,\n",
    "        \"cavity_vanilla\": cavity_correlations,\n",
    "        \"cavity_vanilla_stds\": cavity_stds,\n",
    "        \"cavity_vanilla_md\": cavity_md_correlations,\n",
    "        \"cavity_vanilla_md_stds\": cavity_md_stds,\n",
    "    }\n",
    ")\n",
    "data = pd.concat([data[['data_set', 'cavity_vanilla', 'cavity_vanilla_stds']].rename(columns={'cavity_vanilla':'correlation', 'cavity_vanilla_stds':'std'}).assign(type='static'),\n",
    "                  data[['data_set', 'cavity_vanilla_md', 'cavity_vanilla_md_stds']].rename(columns={'cavity_vanilla_md':'correlation', 'cavity_vanilla_md_stds':'std'}).assign(type='ensemble')])\n"
   ]
  },
  {
   "cell_type": "code",
   "execution_count": 17,
   "metadata": {},
   "outputs": [
    {
     "data": {
      "image/png": "[encoded data removed]",
      "text/plain": [
       "<Figure size 360x162 with 1 Axes>"
      ]
     },
     "metadata": {},
     "output_type": "display_data"
    },
    {
     "data": {
      "application/javascript": [
       "\n",
       "            setTimeout(function() {\n",
       "                var nbb_cell_id = 17;\n",
       "                var nbb_unformatted_code = \"\\nfig, ax = plt.subplots(figsize=(5,2.25))\\ng = sns.barplot(data=data, y='data_set', x='correlation', hue='type', ci='std', ax=ax, edgecolor='black',linewidth=0, saturation=saturation)\\nstyle_barplot(ax=ax, legend_y=1.0, ncols=2, ticks_above=False)\\n\\ntypes = data['type'].unique().tolist()\\ny_coords = [p.get_y() + 0.5*p.get_height() for p in ax.patches]\\nx_coords = [p.get_width() for p in ax.patches]\\nc = [sns.desaturate(sns.color_palette()[types.index(data['type'].to_numpy()[i])], saturation) for i,p in enumerate(ax.patches)]\\nfor i, (x_coord, y_coord) in enumerate(zip(x_coords, y_coords)):\\n    ax.errorbar(x=x_coord, y=y_coord, xerr=data[\\\"std\\\"].to_numpy()[i], c=c[i], fmt=\\\"none\\\", capsize=5)\\n\\n# plt.savefig('figure3.pdf', bbox_inches='tight')\";\n",
       "                var nbb_formatted_code = \"fig, ax = plt.subplots(figsize=(5, 2.25))\\ng = sns.barplot(\\n    data=data,\\n    y=\\\"data_set\\\",\\n    x=\\\"correlation\\\",\\n    hue=\\\"type\\\",\\n    ci=\\\"std\\\",\\n    ax=ax,\\n    edgecolor=\\\"black\\\",\\n    linewidth=0,\\n    saturation=saturation,\\n)\\nstyle_barplot(ax=ax, legend_y=1.0, ncols=2, ticks_above=False)\\n\\ntypes = data[\\\"type\\\"].unique().tolist()\\ny_coords = [p.get_y() + 0.5 * p.get_height() for p in ax.patches]\\nx_coords = [p.get_width() for p in ax.patches]\\nc = [\\n    sns.desaturate(\\n        sns.color_palette()[types.index(data[\\\"type\\\"].to_numpy()[i])], saturation\\n    )\\n    for i, p in enumerate(ax.patches)\\n]\\nfor i, (x_coord, y_coord) in enumerate(zip(x_coords, y_coords)):\\n    ax.errorbar(\\n        x=x_coord,\\n        y=y_coord,\\n        xerr=data[\\\"std\\\"].to_numpy()[i],\\n        c=c[i],\\n        fmt=\\\"none\\\",\\n        capsize=5,\\n    )\\n\\n# plt.savefig('figure3.pdf', bbox_inches='tight')\";\n",
       "                var nbb_cells = Jupyter.notebook.get_cells();\n",
       "                for (var i = 0; i < nbb_cells.length; ++i) {\n",
       "                    if (nbb_cells[i].input_prompt_number == nbb_cell_id) {\n",
       "                        if (nbb_cells[i].get_text() == nbb_unformatted_code) {\n",
       "                             nbb_cells[i].set_text(nbb_formatted_code);\n",
       "                        }\n",
       "                        break;\n",
       "                    }\n",
       "                }\n",
       "            }, 500);\n",
       "            "
      ],
      "text/plain": [
       "<IPython.core.display.Javascript object>"
      ]
     },
     "metadata": {},
     "output_type": "display_data"
    }
   ],
   "source": [
    "fig, ax = plt.subplots(figsize=(5,2.25))\n",
    "g = sns.barplot(data=data, y='data_set', x='correlation', hue='type', ci='std', ax=ax, edgecolor='black',linewidth=0, saturation=saturation)\n",
    "style_barplot(ax=ax, legend_y=1.0, ncols=2, ticks_above=False)\n",
    "\n",
    "types = data['type'].unique().tolist()\n",
    "y_coords = [p.get_y() + 0.5*p.get_height() for p in ax.patches]\n",
    "x_coords = [p.get_width() for p in ax.patches]\n",
    "c = [sns.desaturate(sns.color_palette()[types.index(data['type'].to_numpy()[i])], saturation) for i,p in enumerate(ax.patches)]\n",
    "for i, (x_coord, y_coord) in enumerate(zip(x_coords, y_coords)):\n",
    "    ax.errorbar(x=x_coord, y=y_coord, xerr=data[\"std\"].to_numpy()[i], c=c[i], fmt=\"none\", capsize=5)\n",
    "\n",
    "# plt.savefig('figure3.pdf', bbox_inches='tight')\n"
   ]
  },
  {
   "cell_type": "code",
   "execution_count": null,
   "metadata": {},
   "outputs": [],
   "source": []
  }
 ],
 "metadata": {
  "kernelspec": {
   "display_name": "Python 3",
   "language": "python",
   "name": "python3"
  },
  "language_info": {
   "codemirror_mode": {
    "name": "ipython",
    "version": 3
   },
   "file_extension": ".py",
   "mimetype": "text/x-python",
   "name": "python",
   "nbconvert_exporter": "python",
   "pygments_lexer": "ipython3",
   "version": "3.6.12"
  }
 },
 "nbformat": 4,
 "nbformat_minor": 4
}
