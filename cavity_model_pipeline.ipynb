{
 "cells": [
  {
   "cell_type": "markdown",
   "metadata": {},
   "source": [
    "# Imports"
   ]
  },
  {
   "cell_type": "code",
   "execution_count": null,
   "metadata": {},
   "outputs": [],
   "source": [
    "%load_ext autoreload\n",
    "%autoreload 2\n",
    "import glob\n",
    "import os\n",
    "import random\n",
    "import pathlib\n",
    "\n",
    "import pandas as pd\n",
    "import torch\n",
    "from Bio.PDB.Polypeptide import index_to_one\n",
    "from collections import OrderedDict\n",
    "from torch.utils.data import DataLoader, Dataset\n",
    "\n",
    "from cavity_model import (\n",
    "    CavityModel,\n",
    "    ResidueEnvironment,\n",
    "    ResidueEnvironmentsDataset,\n",
    ")\n",
    "import helpers\n",
    "from typing import Optional\n",
    "from visualization import scatter_pred_vs_true, plot_validation_performance\n",
    "\n",
    "%load_ext nb_black"
   ]
  },
  {
   "cell_type": "markdown",
   "metadata": {},
   "source": [
    "# Cavity Model"
   ]
  },
  {
   "cell_type": "markdown",
   "metadata": {},
   "source": [
    "Download and process Cavity Model data"
   ]
  },
  {
   "cell_type": "code",
   "execution_count": null,
   "metadata": {},
   "outputs": [],
   "source": [
    "# # Hack to find the conda activate path since bash scripts\n",
    "# # don't necessarily work with the conda activate command\n",
    "# conda_path = !which conda\n",
    "# conda_path = list(conda_path)[0]\n",
    "# conda_activate_path = pathlib.Path(conda_path).parent.parent / \"bin\" / \"activate\"\n",
    "# if not conda_activate_path.is_file():\n",
    "#     raise FileNotFoundError(\n",
    "#         \"Could not find your conda activate path needed for running bash scripts.\"\n",
    "#     )"
   ]
  },
  {
   "cell_type": "code",
   "execution_count": null,
   "metadata": {},
   "outputs": [],
   "source": [
    "# # Run shell script that takes a .txt file with PDBIDs as input.\n",
    "# !./get_and_parse_pdbs_for_cavity_model.sh $conda_activate_path data/pdbids_2336.txt"
   ]
  },
  {
   "cell_type": "markdown",
   "metadata": {},
   "source": [
    "Global variables"
   ]
  },
  {
   "cell_type": "code",
   "execution_count": null,
   "metadata": {},
   "outputs": [],
   "source": [
    "# Main parameters\n",
    "WARM_START: Optional[str] = \"cavity_models/model_epoch_02.pt\"\n",
    "DEVICE: str = \"cuda\"  # \"cpu\" or \"cuda\"\n",
    "TRAIN_VAL_SPLIT: float = 0.9\n",
    "BATCH_SIZE: int = 100\n",
    "SHUFFLE_PDBS: bool = True\n",
    "LEARNING_RATE: float = 2e-4\n",
    "EPOCHS: int = 6\n",
    "PATIENCE_CUTOFF: int = 1\n",
    "EPS: float = 1e-9\n",
    "\n",
    "# Parameters for simulation stride\n",
    "STRIDE_FRAGMENTS: int = 2\n",
    "STRIDE_MD: int = 4\n",
    "\n",
    "# Parameters specific to downstream model\n",
    "BATCH_SIZE_DDG: int = 40\n",
    "SHUFFLE_DDG: bool = True\n",
    "LEARNING_RATE_DDG: float = 1e-3\n",
    "EPOCHS_DDG: int = 200\n",
    "\n",
    "# Mapping between data keys and titles/colors for plots\n",
    "dataset_name_mapping = {\n",
    "    \"dms\": \"DMS\",\n",
    "    \"guerois\": \"Guerois\",\n",
    "    \"protein_g\": \"Protein G\",\n",
    "    \"symmetric_direct\": \"Symmetric (Direct)\",\n",
    "    \"symmetric_inverse\": \"Symmetric (Inverse)\",\n",
    "}\n",
    "\n",
    "dataset_color_mapping = {\n",
    "    \"dms\": \"steelblue\",\n",
    "    \"guerois\": \"firebrick\",\n",
    "    \"protein_g\": \"forestgreen\",\n",
    "    \"symmetric_direct\": \"olive\",\n",
    "    \"symmetric_inverse\": \"olive\",\n",
    "}"
   ]
  },
  {
   "cell_type": "markdown",
   "metadata": {},
   "source": [
    "Load Parsed PDBs and perform train/val split"
   ]
  },
  {
   "cell_type": "code",
   "execution_count": null,
   "metadata": {},
   "outputs": [],
   "source": [
    "if WARM_START is None:\n",
    "    parsed_pdb_filenames = sorted(glob.glob(\"data/pdbs/parsed/*coord*\"))\n",
    "    if SHUFFLE_PDBS:\n",
    "        random.shuffle(parsed_pdb_filenames)\n",
    "    (\n",
    "        dataloader_train,\n",
    "        dataset_train,\n",
    "        dataloader_val,\n",
    "        dataset_val,\n",
    "    ) = helpers.train_val_split(\n",
    "        parsed_pdb_filenames, TRAIN_VAL_SPLIT, DEVICE, BATCH_SIZE\n",
    "    )\n",
    "else:\n",
    "    print(f\"Warm start: {WARM_START}\")"
   ]
  },
  {
   "cell_type": "markdown",
   "metadata": {},
   "source": [
    "Train the cavity model"
   ]
  },
  {
   "cell_type": "code",
   "execution_count": null,
   "metadata": {},
   "outputs": [],
   "source": [
    "if WARM_START is None:\n",
    "    # Define model\n",
    "    cavity_model_net = CavityModel(DEVICE).to(DEVICE)\n",
    "    loss_function = torch.nn.CrossEntropyLoss()\n",
    "    optimizer = torch.optim.Adam(cavity_model_net.parameters(), lr=LEARNING_RATE)\n",
    "\n",
    "    # Create directory for model files\n",
    "    models_dirpath = \"cavity_models/\"\n",
    "    if not os.path.exists(models_dirpath):\n",
    "        os.mkdir(models_dirpath)\n",
    "\n",
    "    # Train loop\n",
    "    best_model_path = helpers.train_loop(\n",
    "        dataloader_train,\n",
    "        dataloader_val,\n",
    "        cavity_model_net,\n",
    "        loss_function,\n",
    "        optimizer,\n",
    "        EPOCHS,\n",
    "        PATIENCE_CUTOFF,\n",
    "    )\n",
    "else:\n",
    "    print(f\"Warm start: {WARM_START}\")"
   ]
  },
  {
   "cell_type": "markdown",
   "metadata": {},
   "source": [
    "# ddG Prediction"
   ]
  },
  {
   "cell_type": "markdown",
   "metadata": {},
   "source": [
    "Parse PDBs for DMS, Guerois and Protein G data sets"
   ]
  },
  {
   "cell_type": "code",
   "execution_count": null,
   "metadata": {},
   "outputs": [],
   "source": [
    "# # Parse PDBs for which we have ddG data\n",
    "# !./get_and_parse_pdbs_for_dowstream_task.sh $conda_activate_path"
   ]
  },
  {
   "cell_type": "markdown",
   "metadata": {},
   "source": [
    "Make dict for residue environments for easy look up"
   ]
  },
  {
   "cell_type": "code",
   "execution_count": null,
   "metadata": {},
   "outputs": [],
   "source": [
    "# Create temporary residue environment datasets as dicts to more easily match ddG data\n",
    "parsed_pdbs_wildcards = {\n",
    "    \"dms\": \"data/data_dms/pdbs_parsed/*coord*\",\n",
    "    \"protein_g\": \"data/data_protein_g/pdbs_parsed/*coord*\",\n",
    "    \"guerois\": \"data/data_guerois/pdbs_parsed/*coord*\",\n",
    "    \"symmetric\": \"data/data_symmetric/pdbs_parsed/*coord*\",\n",
    "}\n",
    "\n",
    "resenv_datasets_look_up = {}\n",
    "for dataset_key, pdbs_wildcard in parsed_pdbs_wildcards.items():\n",
    "    parsed_pdb_filenames = sorted(glob.glob(pdbs_wildcard))\n",
    "    dataset = ResidueEnvironmentsDataset(parsed_pdb_filenames, transformer=None)\n",
    "    dataset_look_up = {}\n",
    "    for resenv in dataset:\n",
    "        key = (\n",
    "            f\"{resenv.pdb_id}{resenv.chain_id}_{resenv.pdb_residue_number}\"\n",
    "            f\"{index_to_one(resenv.restype_index)}\"\n",
    "        )\n",
    "        dataset_look_up[key] = resenv\n",
    "    resenv_datasets_look_up[dataset_key] = dataset_look_up"
   ]
  },
  {
   "cell_type": "markdown",
   "metadata": {},
   "source": [
    "Load ddG data to dataframe"
   ]
  },
  {
   "cell_type": "code",
   "execution_count": null,
   "metadata": {},
   "outputs": [],
   "source": [
    "ddg_data_dict = OrderedDict()\n",
    "ddg_data_dict = {\n",
    "    \"dms\": pd.read_csv(\"data/data_dms/ddgs_parsed.csv\"),\n",
    "    \"protein_g\": pd.read_csv(\"data/data_protein_g/ddgs_parsed.csv\"),\n",
    "    \"guerois\": pd.read_csv(\"data/data_guerois/ddgs_parsed.csv\"),\n",
    "    \"symmetric_direct\": pd.read_csv(\"data/data_symmetric/ddgs_parsed_direct.csv\"),\n",
    "    \"symmetric_inverse\": pd.read_csv(\"data/data_symmetric/ddgs_parsed_inverse.csv\"),\n",
    "}"
   ]
  },
  {
   "cell_type": "markdown",
   "metadata": {},
   "source": [
    "Populate dataframes with wt ResidueEnvironment objects and wt and mt restype indices"
   ]
  },
  {
   "cell_type": "code",
   "execution_count": null,
   "metadata": {},
   "outputs": [],
   "source": [
    "helpers.populate_dfs_with_resenvs(ddg_data_dict, resenv_datasets_look_up)"
   ]
  },
  {
   "cell_type": "markdown",
   "metadata": {},
   "source": [
    "Populate dataframes with predicted NLLs and isolated WT and MT predicted NLLs as well as NLFs"
   ]
  },
  {
   "cell_type": "code",
   "execution_count": null,
   "metadata": {},
   "outputs": [],
   "source": [
    "# Load best performing cavity model from previos training\n",
    "if WARM_START:\n",
    "    best_model_path = WARM_START\n",
    "\n",
    "cavity_model_infer_net = CavityModel(DEVICE).to(DEVICE)\n",
    "cavity_model_infer_net.load_state_dict(torch.load(best_model_path))\n",
    "cavity_model_infer_net.eval()\n",
    "\n",
    "helpers.populate_dfs_with_nlls_and_nlfs(\n",
    "    ddg_data_dict, cavity_model_infer_net, DEVICE, BATCH_SIZE, EPS\n",
    ")"
   ]
  },
  {
   "cell_type": "markdown",
   "metadata": {},
   "source": [
    "## Results without downstream model"
   ]
  },
  {
   "cell_type": "markdown",
   "metadata": {},
   "source": [
    "### PDB statistics"
   ]
  },
  {
   "cell_type": "code",
   "execution_count": null,
   "metadata": {},
   "outputs": [],
   "source": [
    "for data_key in ddg_data_dict:\n",
    "    fig, ax = scatter_pred_vs_true(\n",
    "        ddg_data_dict[data_key][\"ddg\"],\n",
    "        ddg_data_dict[data_key][\"ddg_pred_no_ds\"],\n",
    "        color=dataset_color_mapping[data_key],\n",
    "        title=dataset_name_mapping[data_key],\n",
    "    )"
   ]
  },
  {
   "cell_type": "markdown",
   "metadata": {},
   "source": [
    "### IDP statistics"
   ]
  },
  {
   "cell_type": "code",
   "execution_count": null,
   "metadata": {},
   "outputs": [],
   "source": [
    "for data_key in ddg_data_dict:\n",
    "    fig, ax = scatter_pred_vs_true(\n",
    "        ddg_data_dict[data_key][\"ddg\"],\n",
    "        ddg_data_dict[data_key][\"ddg_pred_idp_no_ds\"],\n",
    "        color=dataset_color_mapping[data_key],\n",
    "        title=dataset_name_mapping[data_key],\n",
    "    )"
   ]
  },
  {
   "cell_type": "markdown",
   "metadata": {},
   "source": [
    "### Symmetric, use both structures"
   ]
  },
  {
   "cell_type": "code",
   "execution_count": null,
   "metadata": {},
   "outputs": [],
   "source": [
    "helpers.get_predictions_both_structures(ddg_data_dict)\n",
    "\n",
    "# Plot prediction for ddg direct using both structures\n",
    "fig, ax = scatter_pred_vs_true(\n",
    "    ddg_data_dict[\"symmetric_both\"][\"ddg_dir\"],\n",
    "    ddg_data_dict[\"symmetric_both\"][\"ddg_pred_no_ds_both_dir\"],\n",
    "    color=\"olive\",\n",
    "    title=\"Both structure (Direct)\",\n",
    ")\n",
    "\n",
    "# Plot prediction for ddg inverse using both structures\n",
    "fig, ax = scatter_pred_vs_true(\n",
    "    ddg_data_dict[\"symmetric_both\"][\"ddg_inv\"],\n",
    "    ddg_data_dict[\"symmetric_both\"][\"ddg_pred_no_ds_both_inv\"],\n",
    "    color=\"olive\",\n",
    "    title=\"Both structure (Inverse)\",\n",
    ")"
   ]
  },
  {
   "cell_type": "markdown",
   "metadata": {},
   "source": [
    "### Phaistos statistics"
   ]
  },
  {
   "cell_type": "code",
   "execution_count": null,
   "metadata": {},
   "outputs": [],
   "source": [
    "# Output 11 amino acid sequence fragment for MC simulations (Only done once)\n",
    "helpers.output_sequence_fragments_to_csv(ddg_data_dict)"
   ]
  },
  {
   "cell_type": "markdown",
   "metadata": {},
   "source": [
    "#### Protein G"
   ]
  },
  {
   "cell_type": "code",
   "execution_count": null,
   "metadata": {},
   "outputs": [],
   "source": [
    "# # DROP SOME ROWS FOR QUICKER TESTING\n",
    "# ddg_data_dict[\"protein_g\"] = ddg_data_dict[\"protein_g\"].iloc[0:10]"
   ]
  },
  {
   "cell_type": "code",
   "execution_count": null,
   "metadata": {},
   "outputs": [],
   "source": [
    "data_set = \"protein_g\"\n",
    "\n",
    "helpers.infer_probabilities_for_center_residues(\n",
    "    ddg_data_dict,\n",
    "    data_set,\n",
    "    cavity_model_infer_net,\n",
    "    DEVICE,\n",
    "    EPS,\n",
    "    is_wt=True,\n",
    "    stride=STRIDE_FRAGMENTS,\n",
    ")\n",
    "helpers.infer_probabilities_for_center_residues(\n",
    "    ddg_data_dict,\n",
    "    data_set,\n",
    "    cavity_model_infer_net,\n",
    "    DEVICE,\n",
    "    EPS,\n",
    "    is_wt=False,\n",
    "    stride=STRIDE_FRAGMENTS,\n",
    ")\n",
    "\n",
    "helpers.add_ddg_preds_with_unfolded_state(ddg_data_dict, data_set)"
   ]
  },
  {
   "cell_type": "code",
   "execution_count": null,
   "metadata": {},
   "outputs": [],
   "source": [
    "fig, ax = scatter_pred_vs_true(\n",
    "    ddg_data_dict[data_set][\"ddg\"],\n",
    "    ddg_data_dict[data_set][\"ddg_pred_wt_phaistos_no_ds\"],\n",
    "    color=dataset_color_mapping[data_set],\n",
    "    title=f\"{dataset_name_mapping[data_set]}, WT unfolded\",\n",
    ")\n",
    "fig, ax = scatter_pred_vs_true(\n",
    "    ddg_data_dict[data_set][\"ddg\"],\n",
    "    ddg_data_dict[data_set][\"ddg_pred_mt_phaistos_no_ds\"],\n",
    "    color=dataset_color_mapping[data_set],\n",
    "    title=f\"{dataset_name_mapping[data_set]}, MT unfolded\",\n",
    ")\n",
    "\n",
    "fig, ax = scatter_pred_vs_true(\n",
    "    ddg_data_dict[data_set][\"ddg\"],\n",
    "    ddg_data_dict[data_set][\"ddg_pred_wt_and_mt_phaistos_no_ds\"],\n",
    "    color=dataset_color_mapping[data_set],\n",
    "    title=f\"{dataset_name_mapping[data_set]}, WT & MT\",\n",
    ")"
   ]
  },
  {
   "cell_type": "markdown",
   "metadata": {},
   "source": [
    "#### Guerois (Phaistos statistics)"
   ]
  },
  {
   "cell_type": "code",
   "execution_count": null,
   "metadata": {},
   "outputs": [],
   "source": [
    "# # DROP SOME ROWS FOR QUICKER TESTING\n",
    "# ddg_data_dict[\"guerois\"] = ddg_data_dict[\"guerois\"].iloc[0:10]"
   ]
  },
  {
   "cell_type": "code",
   "execution_count": null,
   "metadata": {},
   "outputs": [],
   "source": [
    "data_set = \"guerois\"\n",
    "\n",
    "helpers.infer_probabilities_for_center_residues(\n",
    "    ddg_data_dict, data_set, cavity_model_infer_net, DEVICE, EPS, is_wt=True\n",
    ")\n",
    "helpers.infer_probabilities_for_center_residues(\n",
    "    ddg_data_dict, data_set, cavity_model_infer_net, DEVICE, EPS, is_wt=False\n",
    ")\n",
    "\n",
    "helpers.add_ddg_preds_with_unfolded_state(ddg_data_dict, data_set)"
   ]
  },
  {
   "cell_type": "code",
   "execution_count": null,
   "metadata": {},
   "outputs": [],
   "source": [
    "fig, ax = scatter_pred_vs_true(\n",
    "    ddg_data_dict[data_set][\"ddg\"],\n",
    "    ddg_data_dict[data_set][\"ddg_pred_wt_phaistos_no_ds\"],\n",
    "    color=dataset_color_mapping[data_set],\n",
    "    title=f\"{dataset_name_mapping[data_set]}, WT unfolded\",\n",
    ")\n",
    "fig, ax = scatter_pred_vs_true(\n",
    "    ddg_data_dict[data_set][\"ddg\"],\n",
    "    ddg_data_dict[data_set][\"ddg_pred_mt_phaistos_no_ds\"],\n",
    "    color=dataset_color_mapping[data_set],\n",
    "    title=f\"{dataset_name_mapping[data_set]}, MT unfolded\",\n",
    ")\n",
    "\n",
    "fig, ax = scatter_pred_vs_true(\n",
    "    ddg_data_dict[data_set][\"ddg\"],\n",
    "    ddg_data_dict[data_set][\"ddg_pred_wt_and_mt_phaistos_no_ds\"],\n",
    "    color=dataset_color_mapping[data_set],\n",
    "    title=f\"{dataset_name_mapping[data_set]}, WT & MT\",\n",
    ")"
   ]
  },
  {
   "cell_type": "markdown",
   "metadata": {},
   "source": [
    "#### DMS (Phaistos statistics)"
   ]
  },
  {
   "cell_type": "code",
   "execution_count": null,
   "metadata": {},
   "outputs": [],
   "source": [
    "# # DROP SOME ROWS FOR QUICKER TESTING\n",
    "# ddg_data_dict[\"dms\"] = ddg_data_dict[\"dms\"].iloc[0:10]"
   ]
  },
  {
   "cell_type": "code",
   "execution_count": null,
   "metadata": {},
   "outputs": [],
   "source": [
    "data_set = \"dms\"\n",
    "\n",
    "helpers.infer_probabilities_for_center_residues(\n",
    "    ddg_data_dict, data_set, cavity_model_infer_net, DEVICE, EPS, is_wt=True\n",
    ")\n",
    "helpers.infer_probabilities_for_center_residues(\n",
    "    ddg_data_dict, data_set, cavity_model_infer_net, DEVICE, EPS, is_wt=False\n",
    ")\n",
    "helpers.add_ddg_preds_with_unfolded_state(ddg_data_dict, data_set)"
   ]
  },
  {
   "cell_type": "code",
   "execution_count": null,
   "metadata": {},
   "outputs": [],
   "source": [
    "fig, ax = scatter_pred_vs_true(\n",
    "    ddg_data_dict[data_set][\"ddg\"],\n",
    "    ddg_data_dict[data_set][\"ddg_pred_wt_phaistos_no_ds\"],\n",
    "    color=dataset_color_mapping[data_set],\n",
    "    title=f\"{dataset_name_mapping[data_set]}, WT unfolded\",\n",
    ")\n",
    "fig, ax = scatter_pred_vs_true(\n",
    "    ddg_data_dict[data_set][\"ddg\"],\n",
    "    ddg_data_dict[data_set][\"ddg_pred_mt_phaistos_no_ds\"],\n",
    "    color=dataset_color_mapping[data_set],\n",
    "    title=f\"{dataset_name_mapping[data_set]}, MT unfolded\",\n",
    ")\n",
    "\n",
    "fig, ax = scatter_pred_vs_true(\n",
    "    ddg_data_dict[data_set][\"ddg\"],\n",
    "    ddg_data_dict[data_set][\"ddg_pred_wt_and_mt_phaistos_no_ds\"],\n",
    "    color=dataset_color_mapping[data_set],\n",
    "    title=f\"{dataset_name_mapping[data_set]}, WT & MT\",\n",
    ")"
   ]
  },
  {
   "cell_type": "markdown",
   "metadata": {},
   "source": [
    "##### Molecular dynamics"
   ]
  },
  {
   "cell_type": "code",
   "execution_count": null,
   "metadata": {},
   "outputs": [],
   "source": [
    "# Infer NLLs for WT and MT  in columns wt_nll_md and mt_nll_md\n",
    "helpers.infer_molecular_dynamics_nlls(\n",
    "    ddg_data_dict, \"protein_g\", DEVICE, EPS, cavity_model_infer_net, stride=STRIDE_MD\n",
    ")\n",
    "helpers.infer_molecular_dynamics_nlls(\n",
    "    ddg_data_dict, \"guerois\", DEVICE, EPS, cavity_model_infer_net, stride=STRIDE_MD\n",
    ")\n",
    "helpers.infer_molecular_dynamics_nlls(\n",
    "    ddg_data_dict, \"dms\", DEVICE, EPS, cavity_model_infer_net, stride=STRIDE_MD\n",
    ")"
   ]
  },
  {
   "cell_type": "code",
   "execution_count": null,
   "metadata": {},
   "outputs": [],
   "source": [
    "# Calculate DDgs\n",
    "helpers.add_ddg_preds_with_md_simulations(ddg_data_dict, \"protein_g\")\n",
    "helpers.add_ddg_preds_with_md_simulations(ddg_data_dict, \"guerois\")\n",
    "helpers.add_ddg_preds_with_md_simulations(ddg_data_dict, \"dms\")"
   ]
  },
  {
   "cell_type": "code",
   "execution_count": null,
   "metadata": {},
   "outputs": [],
   "source": [
    "data_set = \"protein_g\"\n",
    "fig, ax = scatter_pred_vs_true(\n",
    "    ddg_data_dict[data_set][\"ddg\"],\n",
    "    ddg_data_dict[data_set][\"ddg_pred_md_pdb_statistics_no_ds\"],\n",
    "    color=dataset_color_mapping[data_set],\n",
    "    title=f\"{dataset_name_mapping[data_set]}, MD & PDB statistics\",\n",
    ")\n",
    "fig, ax = scatter_pred_vs_true(\n",
    "    ddg_data_dict[data_set][\"ddg\"],\n",
    "    ddg_data_dict[data_set][\"ddg_pred_md_phaistos_mt_and_wt_statistics_no_ds\"],\n",
    "    color=dataset_color_mapping[data_set],\n",
    "    title=f\"{dataset_name_mapping[data_set]}, MD & Phaistos statistics\",\n",
    ")\n",
    "\n",
    "data_set = \"guerois\"\n",
    "fig, ax = scatter_pred_vs_true(\n",
    "    ddg_data_dict[data_set][\"ddg\"],\n",
    "    ddg_data_dict[data_set][\"ddg_pred_md_pdb_statistics_no_ds\"],\n",
    "    color=dataset_color_mapping[data_set],\n",
    "    title=f\"{dataset_name_mapping[data_set]}, MD & PDB statistics\",\n",
    ")\n",
    "fig, ax = scatter_pred_vs_true(\n",
    "    ddg_data_dict[data_set][\"ddg\"],\n",
    "    ddg_data_dict[data_set][\"ddg_pred_md_phaistos_mt_and_wt_statistics_no_ds\"],\n",
    "    color=dataset_color_mapping[data_set],\n",
    "    title=f\"{dataset_name_mapping[data_set]}, MD & Phaistos statistics\",\n",
    ")\n",
    "\n",
    "data_set = \"dms\"\n",
    "fig, ax = scatter_pred_vs_true(\n",
    "    ddg_data_dict[data_set][\"ddg\"],\n",
    "    ddg_data_dict[data_set][\"ddg_pred_md_pdb_statistics_no_ds\"],\n",
    "    color=dataset_color_mapping[data_set],\n",
    "    title=f\"{dataset_name_mapping[data_set]}, MD & PDB statistics\",\n",
    ")\n",
    "fig, ax = scatter_pred_vs_true(\n",
    "    ddg_data_dict[data_set][\"ddg\"],\n",
    "    ddg_data_dict[data_set][\"ddg_pred_md_phaistos_mt_and_wt_statistics_no_ds\"],\n",
    "    color=dataset_color_mapping[data_set],\n",
    "    title=f\"{dataset_name_mapping[data_set]}, MD & Phaistos statistics\",\n",
    ")"
   ]
  },
  {
   "cell_type": "markdown",
   "metadata": {},
   "source": [
    "# Downstream model"
   ]
  },
  {
   "cell_type": "markdown",
   "metadata": {},
   "source": [
    "### Performance without augmentation Vanilla"
   ]
  },
  {
   "cell_type": "markdown",
   "metadata": {},
   "source": [
    "Define training dataloader and eval dataloaders"
   ]
  },
  {
   "cell_type": "code",
   "execution_count": null,
   "metadata": {},
   "outputs": [],
   "source": [
    "from cavity_model import DDGToTensor, DDGToTensorPhaistosAndMD"
   ]
  },
  {
   "cell_type": "code",
   "execution_count": null,
   "metadata": {},
   "outputs": [],
   "source": [
    "ddg_dataloaders_train_dict = helpers.get_ddg_training_dataloaders(\n",
    "    ddg_data_dict, BATCH_SIZE_DDG, SHUFFLE_DDG, DDGToTensor\n",
    ")\n",
    "ddg_dataloaders_val_dict = helpers.get_ddg_validation_dataloaders(\n",
    "    ddg_data_dict, DDGToTensor\n",
    ")"
   ]
  },
  {
   "cell_type": "markdown",
   "metadata": {},
   "source": [
    "Train and report on the data that is not used during training"
   ]
  },
  {
   "cell_type": "code",
   "execution_count": null,
   "metadata": {},
   "outputs": [],
   "source": [
    "pearsons_r_results_dict = helpers.train_downstream_and_evaluate(\n",
    "    ddg_dataloaders_train_dict,\n",
    "    ddg_dataloaders_val_dict,\n",
    "    DEVICE,\n",
    "    LEARNING_RATE_DDG,\n",
    "    EPOCHS_DDG,\n",
    ")"
   ]
  },
  {
   "cell_type": "code",
   "execution_count": null,
   "metadata": {},
   "outputs": [],
   "source": [
    "for data_set in pearsons_r_results_dict.keys():\n",
    "    _ = plot_validation_performance(\n",
    "        f\"Trained on {dataset_name_mapping[data_set]}\",\n",
    "        pearsons_r_results_dict[data_set],\n",
    "    )"
   ]
  },
  {
   "cell_type": "markdown",
   "metadata": {},
   "source": [
    "### Performance without augmentation With Phaistos and MD"
   ]
  },
  {
   "cell_type": "code",
   "execution_count": null,
   "metadata": {},
   "outputs": [],
   "source": [
    "ddg_dataloaders_train_dict = helpers.get_ddg_training_dataloaders(\n",
    "    ddg_data_dict, BATCH_SIZE_DDG, SHUFFLE_DDG, DDGToTensorPhaistosAndMD\n",
    ")\n",
    "ddg_dataloaders_val_dict = helpers.get_ddg_validation_dataloaders(\n",
    "    ddg_data_dict, DDGToTensorPhaistosAndMD\n",
    ")"
   ]
  },
  {
   "cell_type": "code",
   "execution_count": null,
   "metadata": {},
   "outputs": [],
   "source": [
    "pearsons_r_results_dict = helpers.train_downstream_and_evaluate(\n",
    "    ddg_dataloaders_train_dict,\n",
    "    ddg_dataloaders_val_dict,\n",
    "    DEVICE,\n",
    "    LEARNING_RATE_DDG,\n",
    "    EPOCHS_DDG,\n",
    ")"
   ]
  },
  {
   "cell_type": "code",
   "execution_count": null,
   "metadata": {},
   "outputs": [],
   "source": [
    "for data_set in pearsons_r_results_dict.keys():\n",
    "    _ = plot_validation_performance(\n",
    "        f\"Trained on {dataset_name_mapping[data_set]}\",\n",
    "        pearsons_r_results_dict[data_set],\n",
    "    )"
   ]
  },
  {
   "cell_type": "markdown",
   "metadata": {},
   "source": [
    "### Performance with augmentation Vanilla"
   ]
  },
  {
   "cell_type": "markdown",
   "metadata": {},
   "source": [
    "Before training we \"augment\" our dataset simply by adding the reverse mutation with -ddG value"
   ]
  },
  {
   "cell_type": "code",
   "execution_count": null,
   "metadata": {},
   "outputs": [],
   "source": [
    "ddg_data_dict_augmented = helpers.augment_with_reverse_mutation(ddg_data_dict)"
   ]
  },
  {
   "cell_type": "markdown",
   "metadata": {},
   "source": [
    "Define training dataloader (augmented data) and eval dataloaders (original data)"
   ]
  },
  {
   "cell_type": "code",
   "execution_count": null,
   "metadata": {},
   "outputs": [],
   "source": [
    "ddg_dataloaders_train_dict = helpers.get_ddg_training_dataloaders(\n",
    "    ddg_data_dict_augmented, BATCH_SIZE_DDG, SHUFFLE_DDG, DDGToTensor\n",
    ")\n",
    "ddg_dataloaders_val_dict = helpers.get_ddg_validation_dataloaders(\n",
    "    ddg_data_dict, DDGToTensor\n",
    ")"
   ]
  },
  {
   "cell_type": "markdown",
   "metadata": {},
   "source": [
    "Train and report on the data that is not used during training"
   ]
  },
  {
   "cell_type": "code",
   "execution_count": null,
   "metadata": {},
   "outputs": [],
   "source": [
    "pearsons_r_results_dict = helpers.train_downstream_and_evaluate(\n",
    "    ddg_dataloaders_train_dict,\n",
    "    ddg_dataloaders_val_dict,\n",
    "    DEVICE,\n",
    "    LEARNING_RATE_DDG,\n",
    "    EPOCHS_DDG,\n",
    ")"
   ]
  },
  {
   "cell_type": "code",
   "execution_count": null,
   "metadata": {},
   "outputs": [],
   "source": [
    "for data_set in pearsons_r_results_dict.keys():\n",
    "    _ = plot_validation_performance(\n",
    "        f\"Trained on {dataset_name_mapping[data_set]}\",\n",
    "        pearsons_r_results_dict[data_set],\n",
    "    )"
   ]
  },
  {
   "cell_type": "markdown",
   "metadata": {},
   "source": [
    "### Performance with augmentation With Phaistos and MD"
   ]
  },
  {
   "cell_type": "code",
   "execution_count": null,
   "metadata": {},
   "outputs": [],
   "source": [
    "ddg_dataloaders_train_dict = helpers.get_ddg_training_dataloaders(\n",
    "    ddg_data_dict_augmented, BATCH_SIZE_DDG, SHUFFLE_DDG, DDGToTensorPhaistosAndMD\n",
    ")\n",
    "ddg_dataloaders_val_dict = helpers.get_ddg_validation_dataloaders(\n",
    "    ddg_data_dict, DDGToTensorPhaistosAndMD\n",
    ")"
   ]
  },
  {
   "cell_type": "code",
   "execution_count": null,
   "metadata": {},
   "outputs": [],
   "source": [
    "pearsons_r_results_dict = helpers.train_downstream_and_evaluate(\n",
    "    ddg_dataloaders_train_dict,\n",
    "    ddg_dataloaders_val_dict,\n",
    "    DEVICE,\n",
    "    LEARNING_RATE_DDG,\n",
    "    EPOCHS_DDG,\n",
    ")"
   ]
  },
  {
   "cell_type": "code",
   "execution_count": null,
   "metadata": {},
   "outputs": [],
   "source": [
    "for data_set in pearsons_r_results_dict.keys():\n",
    "    _ = plot_validation_performance(\n",
    "        f\"Trained on {dataset_name_mapping[data_set]}\",\n",
    "        pearsons_r_results_dict[data_set],\n",
    "    )"
   ]
  },
  {
   "cell_type": "code",
   "execution_count": null,
   "metadata": {},
   "outputs": [],
   "source": []
  },
  {
   "cell_type": "code",
   "execution_count": null,
   "metadata": {},
   "outputs": [],
   "source": []
  },
  {
   "cell_type": "code",
   "execution_count": null,
   "metadata": {},
   "outputs": [],
   "source": []
  }
 ],
 "metadata": {
  "kernelspec": {
   "display_name": "Python 3",
   "language": "python",
   "name": "python3"
  },
  "language_info": {
   "codemirror_mode": {
    "name": "ipython",
    "version": 3
   },
   "file_extension": ".py",
   "mimetype": "text/x-python",
   "name": "python",
   "nbconvert_exporter": "python",
   "pygments_lexer": "ipython3",
   "version": "3.6.12"
  }
 },
 "nbformat": 4,
 "nbformat_minor": 2
}
