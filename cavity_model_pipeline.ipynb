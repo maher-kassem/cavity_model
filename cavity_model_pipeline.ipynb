{
 "cells": [
  {
   "cell_type": "markdown",
   "metadata": {},
   "source": [
    "# Imports"
   ]
  },
  {
   "cell_type": "code",
   "execution_count": 1,
   "metadata": {},
   "outputs": [
    {
     "data": {
      "application/javascript": [
       "\n",
       "            setTimeout(function() {\n",
       "                var nbb_cell_id = 1;\n",
       "                var nbb_unformatted_code = \"import glob\\nimport os\\nimport random\\n\\nimport pandas as pd\\nimport torch\\nfrom Bio.PDB.Polypeptide import index_to_one\\nfrom torch.utils.data import DataLoader, Dataset\\n\\nfrom cavity_model import CavityModel, ResidueEnvironment, ResidueEnvironmentsDataset\\nfrom helpers import (\\n    _populate_dfs_with_nlls_and_nlfs,\\n    _populate_dfs_with_resenvs,\\n    _train_loop,\\n    _train_val_split,\\n)\\nfrom visualization import scatter_pred_vs_true\\n\\n%load_ext nb_black\";\n",
       "                var nbb_formatted_code = \"import glob\\nimport os\\nimport random\\n\\nimport pandas as pd\\nimport torch\\nfrom Bio.PDB.Polypeptide import index_to_one\\nfrom torch.utils.data import DataLoader, Dataset\\n\\nfrom cavity_model import CavityModel, ResidueEnvironment, ResidueEnvironmentsDataset\\nfrom helpers import (\\n    _populate_dfs_with_nlls_and_nlfs,\\n    _populate_dfs_with_resenvs,\\n    _train_loop,\\n    _train_val_split,\\n)\\nfrom visualization import scatter_pred_vs_true\\n\\n%load_ext nb_black\";\n",
       "                var nbb_cells = Jupyter.notebook.get_cells();\n",
       "                for (var i = 0; i < nbb_cells.length; ++i) {\n",
       "                    if (nbb_cells[i].input_prompt_number == nbb_cell_id) {\n",
       "                        if (nbb_cells[i].get_text() == nbb_unformatted_code) {\n",
       "                             nbb_cells[i].set_text(nbb_formatted_code);\n",
       "                        }\n",
       "                        break;\n",
       "                    }\n",
       "                }\n",
       "            }, 500);\n",
       "            "
      ],
      "text/plain": [
       "<IPython.core.display.Javascript object>"
      ]
     },
     "metadata": {},
     "output_type": "display_data"
    }
   ],
   "source": [
    "import glob\n",
    "import os\n",
    "import random\n",
    "\n",
    "import pandas as pd\n",
    "import torch\n",
    "from Bio.PDB.Polypeptide import index_to_one\n",
    "from torch.utils.data import DataLoader, Dataset\n",
    "\n",
    "from cavity_model import CavityModel, ResidueEnvironment, ResidueEnvironmentsDataset\n",
    "from helpers import (\n",
    "    _populate_dfs_with_nlls_and_nlfs,\n",
    "    _populate_dfs_with_resenvs,\n",
    "    _train_loop,\n",
    "    _train_val_split,\n",
    ")\n",
    "from visualization import scatter_pred_vs_true\n",
    "\n",
    "%load_ext nb_black"
   ]
  },
  {
   "cell_type": "markdown",
   "metadata": {},
   "source": [
    "# Cavity Model"
   ]
  },
  {
   "cell_type": "markdown",
   "metadata": {},
   "source": [
    "Download and process Cavity Model data"
   ]
  },
  {
   "cell_type": "code",
   "execution_count": 2,
   "metadata": {
    "scrolled": true
   },
   "outputs": [
    {
     "data": {
      "application/javascript": [
       "\n",
       "            setTimeout(function() {\n",
       "                var nbb_cell_id = 2;\n",
       "                var nbb_unformatted_code = \"# # Run shell script that takes a .txt file with PDBIDs as input.\\n# !./get_parse_pdbs_cavity_model.sh data/pdbids_010.txt\";\n",
       "                var nbb_formatted_code = \"# # Run shell script that takes a .txt file with PDBIDs as input.\\n# !./get_parse_pdbs_cavity_model.sh data/pdbids_010.txt\";\n",
       "                var nbb_cells = Jupyter.notebook.get_cells();\n",
       "                for (var i = 0; i < nbb_cells.length; ++i) {\n",
       "                    if (nbb_cells[i].input_prompt_number == nbb_cell_id) {\n",
       "                        if (nbb_cells[i].get_text() == nbb_unformatted_code) {\n",
       "                             nbb_cells[i].set_text(nbb_formatted_code);\n",
       "                        }\n",
       "                        break;\n",
       "                    }\n",
       "                }\n",
       "            }, 500);\n",
       "            "
      ],
      "text/plain": [
       "<IPython.core.display.Javascript object>"
      ]
     },
     "metadata": {},
     "output_type": "display_data"
    }
   ],
   "source": [
    "# # Run shell script that takes a .txt file with PDBIDs as input.\n",
    "# !./get_and_parse_pdbs_for_cavity_model.sh data/pdbids_010.txt"
   ]
  },
  {
   "cell_type": "markdown",
   "metadata": {},
   "source": [
    "Global variables for Cavity Model Training"
   ]
  },
  {
   "cell_type": "code",
   "execution_count": 3,
   "metadata": {},
   "outputs": [
    {
     "data": {
      "application/javascript": [
       "\n",
       "            setTimeout(function() {\n",
       "                var nbb_cell_id = 3;\n",
       "                var nbb_unformatted_code = \"DEVICE = \\\"cuda\\\"  # \\\"cpu\\\" or \\\"cuda\\\"\\nTRAIN_VAL_SPLIT = 0.8\\nBATCH_SIZE = 100\\nSHUFFLE_PDBS = True\\nLEARNING_RATE = 3e-4\\nEPOCHS = 10\\nPATIENCE_CUTOFF = 1\\nEPS = 1e-9\";\n",
       "                var nbb_formatted_code = \"DEVICE = \\\"cuda\\\"  # \\\"cpu\\\" or \\\"cuda\\\"\\nTRAIN_VAL_SPLIT = 0.8\\nBATCH_SIZE = 100\\nSHUFFLE_PDBS = True\\nLEARNING_RATE = 3e-4\\nEPOCHS = 10\\nPATIENCE_CUTOFF = 1\\nEPS = 1e-9\";\n",
       "                var nbb_cells = Jupyter.notebook.get_cells();\n",
       "                for (var i = 0; i < nbb_cells.length; ++i) {\n",
       "                    if (nbb_cells[i].input_prompt_number == nbb_cell_id) {\n",
       "                        if (nbb_cells[i].get_text() == nbb_unformatted_code) {\n",
       "                             nbb_cells[i].set_text(nbb_formatted_code);\n",
       "                        }\n",
       "                        break;\n",
       "                    }\n",
       "                }\n",
       "            }, 500);\n",
       "            "
      ],
      "text/plain": [
       "<IPython.core.display.Javascript object>"
      ]
     },
     "metadata": {},
     "output_type": "display_data"
    }
   ],
   "source": [
    "DEVICE = \"cuda\"  # \"cpu\" or \"cuda\"\n",
    "TRAIN_VAL_SPLIT = 0.8\n",
    "BATCH_SIZE = 100\n",
    "SHUFFLE_PDBS = True\n",
    "LEARNING_RATE = 3e-4\n",
    "EPOCHS = 10\n",
    "PATIENCE_CUTOFF = 1\n",
    "EPS = 1e-9"
   ]
  },
  {
   "cell_type": "markdown",
   "metadata": {},
   "source": [
    "Load Parsed PDBs and perform train/val split"
   ]
  },
  {
   "cell_type": "code",
   "execution_count": 4,
   "metadata": {
    "scrolled": true
   },
   "outputs": [
    {
     "name": "stdout",
     "output_type": "stream",
     "text": [
      "Training data set includes 8 pdbs with 4355 environments.\n",
      "Validation data set includes 2 pdbs with 903 environments.\n"
     ]
    },
    {
     "data": {
      "application/javascript": [
       "\n",
       "            setTimeout(function() {\n",
       "                var nbb_cell_id = 4;\n",
       "                var nbb_unformatted_code = \"parsed_pdb_filenames = sorted(glob.glob(\\\"data/pdbs/parsed/*coord*\\\"))\\nif SHUFFLE_PDBS:\\n    random.shuffle(parsed_pdb_filenames)\\ndataloader_train, dataset_train, dataloader_val, dataset_val = _train_val_split(\\n    parsed_pdb_filenames, TRAIN_VAL_SPLIT, DEVICE, BATCH_SIZE\\n)\";\n",
       "                var nbb_formatted_code = \"parsed_pdb_filenames = sorted(glob.glob(\\\"data/pdbs/parsed/*coord*\\\"))\\nif SHUFFLE_PDBS:\\n    random.shuffle(parsed_pdb_filenames)\\ndataloader_train, dataset_train, dataloader_val, dataset_val = _train_val_split(\\n    parsed_pdb_filenames, TRAIN_VAL_SPLIT, DEVICE, BATCH_SIZE\\n)\";\n",
       "                var nbb_cells = Jupyter.notebook.get_cells();\n",
       "                for (var i = 0; i < nbb_cells.length; ++i) {\n",
       "                    if (nbb_cells[i].input_prompt_number == nbb_cell_id) {\n",
       "                        if (nbb_cells[i].get_text() == nbb_unformatted_code) {\n",
       "                             nbb_cells[i].set_text(nbb_formatted_code);\n",
       "                        }\n",
       "                        break;\n",
       "                    }\n",
       "                }\n",
       "            }, 500);\n",
       "            "
      ],
      "text/plain": [
       "<IPython.core.display.Javascript object>"
      ]
     },
     "metadata": {},
     "output_type": "display_data"
    }
   ],
   "source": [
    "parsed_pdb_filenames = sorted(glob.glob(\"data/pdbs/parsed/*coord*\"))\n",
    "if SHUFFLE_PDBS:\n",
    "    random.shuffle(parsed_pdb_filenames)\n",
    "dataloader_train, dataset_train, dataloader_val, dataset_val = _train_val_split(\n",
    "    parsed_pdb_filenames, TRAIN_VAL_SPLIT, DEVICE, BATCH_SIZE\n",
    ")"
   ]
  },
  {
   "cell_type": "markdown",
   "metadata": {},
   "source": [
    "Train the cavity model"
   ]
  },
  {
   "cell_type": "code",
   "execution_count": 5,
   "metadata": {},
   "outputs": [
    {
     "name": "stdout",
     "output_type": "stream",
     "text": [
      "Epoch  0. Train loss: 2.562. Train Acc: 0.28. Val loss: 3.193. Val Acc 0.07\n",
      "Epoch  1. Train loss: 1.406. Train Acc: 0.71. Val loss: 2.558. Val Acc 0.23\n",
      "Epoch  2. Train loss: 0.834. Train Acc: 0.91. Val loss: 2.527. Val Acc 0.24\n",
      "Epoch  3. Train loss: 0.446. Train Acc: 0.98. Val loss: 2.619. Val Acc 0.22\n",
      "Epoch  4. Train loss: 0.229. Train Acc: 1.00. Val loss: 2.632. Val Acc 0.23\n",
      "Early stopping activated.\n",
      "Best epoch idx: 2 with validation loss: 2.527 and model_path: cavity_models/model_epoch_02.pt\n"
     ]
    },
    {
     "data": {
      "application/javascript": [
       "\n",
       "            setTimeout(function() {\n",
       "                var nbb_cell_id = 5;\n",
       "                var nbb_unformatted_code = \"# Define model\\ncavity_model_net = CavityModel(DEVICE).to(DEVICE)\\nloss_function = torch.nn.CrossEntropyLoss()\\noptimizer = torch.optim.Adam(cavity_model_net.parameters(), lr=LEARNING_RATE)\\n\\n# Create directory for model files\\nmodels_dirpath = \\\"cavity_models/\\\"\\nif not os.path.exists(models_dirpath):\\n    os.mkdir(models_dirpath)\\n\\n# Train loop\\nbest_model_path = _train_loop(\\n    dataloader_train,\\n    dataloader_val,\\n    cavity_model_net,\\n    loss_function,\\n    optimizer,\\n    EPOCHS,\\n    PATIENCE_CUTOFF,\\n)\";\n",
       "                var nbb_formatted_code = \"# Define model\\ncavity_model_net = CavityModel(DEVICE).to(DEVICE)\\nloss_function = torch.nn.CrossEntropyLoss()\\noptimizer = torch.optim.Adam(cavity_model_net.parameters(), lr=LEARNING_RATE)\\n\\n# Create directory for model files\\nmodels_dirpath = \\\"cavity_models/\\\"\\nif not os.path.exists(models_dirpath):\\n    os.mkdir(models_dirpath)\\n\\n# Train loop\\nbest_model_path = _train_loop(\\n    dataloader_train,\\n    dataloader_val,\\n    cavity_model_net,\\n    loss_function,\\n    optimizer,\\n    EPOCHS,\\n    PATIENCE_CUTOFF,\\n)\";\n",
       "                var nbb_cells = Jupyter.notebook.get_cells();\n",
       "                for (var i = 0; i < nbb_cells.length; ++i) {\n",
       "                    if (nbb_cells[i].input_prompt_number == nbb_cell_id) {\n",
       "                        if (nbb_cells[i].get_text() == nbb_unformatted_code) {\n",
       "                             nbb_cells[i].set_text(nbb_formatted_code);\n",
       "                        }\n",
       "                        break;\n",
       "                    }\n",
       "                }\n",
       "            }, 500);\n",
       "            "
      ],
      "text/plain": [
       "<IPython.core.display.Javascript object>"
      ]
     },
     "metadata": {},
     "output_type": "display_data"
    }
   ],
   "source": [
    "# Define model\n",
    "cavity_model_net = CavityModel(DEVICE).to(DEVICE)\n",
    "loss_function = torch.nn.CrossEntropyLoss()\n",
    "optimizer = torch.optim.Adam(cavity_model_net.parameters(), lr=LEARNING_RATE)\n",
    "\n",
    "# Create directory for model files\n",
    "models_dirpath = \"cavity_models/\"\n",
    "if not os.path.exists(models_dirpath):\n",
    "    os.mkdir(models_dirpath)\n",
    "\n",
    "# Train loop\n",
    "best_model_path = _train_loop(\n",
    "    dataloader_train,\n",
    "    dataloader_val,\n",
    "    cavity_model_net,\n",
    "    loss_function,\n",
    "    optimizer,\n",
    "    EPOCHS,\n",
    "    PATIENCE_CUTOFF,\n",
    ")"
   ]
  },
  {
   "cell_type": "markdown",
   "metadata": {},
   "source": [
    "# ddG Prediction"
   ]
  },
  {
   "cell_type": "markdown",
   "metadata": {},
   "source": [
    "Parse PDBs for DMS, Guerois and Protein G data sets"
   ]
  },
  {
   "cell_type": "code",
   "execution_count": 6,
   "metadata": {},
   "outputs": [
    {
     "data": {
      "application/javascript": [
       "\n",
       "            setTimeout(function() {\n",
       "                var nbb_cell_id = 6;\n",
       "                var nbb_unformatted_code = \"# # Parse PDBs for which we have ddG data\\n# !./get_parse_pdbs_dowstream_task.sh\";\n",
       "                var nbb_formatted_code = \"# # Parse PDBs for which we have ddG data\\n# !./get_parse_pdbs_dowstream_task.sh\";\n",
       "                var nbb_cells = Jupyter.notebook.get_cells();\n",
       "                for (var i = 0; i < nbb_cells.length; ++i) {\n",
       "                    if (nbb_cells[i].input_prompt_number == nbb_cell_id) {\n",
       "                        if (nbb_cells[i].get_text() == nbb_unformatted_code) {\n",
       "                             nbb_cells[i].set_text(nbb_formatted_code);\n",
       "                        }\n",
       "                        break;\n",
       "                    }\n",
       "                }\n",
       "            }, 500);\n",
       "            "
      ],
      "text/plain": [
       "<IPython.core.display.Javascript object>"
      ]
     },
     "metadata": {},
     "output_type": "display_data"
    }
   ],
   "source": [
    "# # Parse PDBs for which we have ddG data\n",
    "# !./get_and_parse_pdbs_for_dowstream_task.sh"
   ]
  },
  {
   "cell_type": "markdown",
   "metadata": {},
   "source": [
    "Make dict for residue environments for easy look up"
   ]
  },
  {
   "cell_type": "code",
   "execution_count": 7,
   "metadata": {},
   "outputs": [
    {
     "data": {
      "application/javascript": [
       "\n",
       "            setTimeout(function() {\n",
       "                var nbb_cell_id = 7;\n",
       "                var nbb_unformatted_code = \"# Create temporary residue environment datasets as dicts to more easily match ddG data\\nparsed_pdbs_wildcards = {\\n    \\\"dms\\\": \\\"data/data_dms/pdbs_parsed/*coord*\\\",\\n    \\\"protein_g\\\": \\\"data/data_protein_g/pdbs_parsed/*coord*\\\",\\n    \\\"guerois\\\": \\\"data/data_guerois/pdbs_parsed/*coord*\\\",\\n    \\\"symmetric\\\": \\\"data/data_symmetric/pdbs_parsed/*coord*\\\",\\n}\\n\\nresenv_datasets_look_up = {}\\nfor dataset_key, pdbs_wildcard in parsed_pdbs_wildcards.items():\\n    parsed_pdb_filenames = sorted(glob.glob(pdbs_wildcard))\\n    dataset = ResidueEnvironmentsDataset(parsed_pdb_filenames, transformer=None)\\n    dataset_look_up = {}\\n    for resenv in dataset:\\n        key = (\\n            f\\\"{resenv.pdb_id}{resenv.chain_id}_{resenv.pdb_residue_number}\\\"\\n            f\\\"{index_to_one(resenv.restype_index)}\\\"\\n        )\\n        dataset_look_up[key] = resenv\\n    resenv_datasets_look_up[dataset_key] = dataset_look_up\";\n",
       "                var nbb_formatted_code = \"# Create temporary residue environment datasets as dicts to more easily match ddG data\\nparsed_pdbs_wildcards = {\\n    \\\"dms\\\": \\\"data/data_dms/pdbs_parsed/*coord*\\\",\\n    \\\"protein_g\\\": \\\"data/data_protein_g/pdbs_parsed/*coord*\\\",\\n    \\\"guerois\\\": \\\"data/data_guerois/pdbs_parsed/*coord*\\\",\\n    \\\"symmetric\\\": \\\"data/data_symmetric/pdbs_parsed/*coord*\\\",\\n}\\n\\nresenv_datasets_look_up = {}\\nfor dataset_key, pdbs_wildcard in parsed_pdbs_wildcards.items():\\n    parsed_pdb_filenames = sorted(glob.glob(pdbs_wildcard))\\n    dataset = ResidueEnvironmentsDataset(parsed_pdb_filenames, transformer=None)\\n    dataset_look_up = {}\\n    for resenv in dataset:\\n        key = (\\n            f\\\"{resenv.pdb_id}{resenv.chain_id}_{resenv.pdb_residue_number}\\\"\\n            f\\\"{index_to_one(resenv.restype_index)}\\\"\\n        )\\n        dataset_look_up[key] = resenv\\n    resenv_datasets_look_up[dataset_key] = dataset_look_up\";\n",
       "                var nbb_cells = Jupyter.notebook.get_cells();\n",
       "                for (var i = 0; i < nbb_cells.length; ++i) {\n",
       "                    if (nbb_cells[i].input_prompt_number == nbb_cell_id) {\n",
       "                        if (nbb_cells[i].get_text() == nbb_unformatted_code) {\n",
       "                             nbb_cells[i].set_text(nbb_formatted_code);\n",
       "                        }\n",
       "                        break;\n",
       "                    }\n",
       "                }\n",
       "            }, 500);\n",
       "            "
      ],
      "text/plain": [
       "<IPython.core.display.Javascript object>"
      ]
     },
     "metadata": {},
     "output_type": "display_data"
    }
   ],
   "source": [
    "# Create temporary residue environment datasets as dicts to more easily match ddG data\n",
    "parsed_pdbs_wildcards = {\n",
    "    \"dms\": \"data/data_dms/pdbs_parsed/*coord*\",\n",
    "    \"protein_g\": \"data/data_protein_g/pdbs_parsed/*coord*\",\n",
    "    \"guerois\": \"data/data_guerois/pdbs_parsed/*coord*\",\n",
    "    \"symmetric\": \"data/data_symmetric/pdbs_parsed/*coord*\",\n",
    "}\n",
    "\n",
    "resenv_datasets_look_up = {}\n",
    "for dataset_key, pdbs_wildcard in parsed_pdbs_wildcards.items():\n",
    "    parsed_pdb_filenames = sorted(glob.glob(pdbs_wildcard))\n",
    "    dataset = ResidueEnvironmentsDataset(parsed_pdb_filenames, transformer=None)\n",
    "    dataset_look_up = {}\n",
    "    for resenv in dataset:\n",
    "        key = (\n",
    "            f\"{resenv.pdb_id}{resenv.chain_id}_{resenv.pdb_residue_number}\"\n",
    "            f\"{index_to_one(resenv.restype_index)}\"\n",
    "        )\n",
    "        dataset_look_up[key] = resenv\n",
    "    resenv_datasets_look_up[dataset_key] = dataset_look_up"
   ]
  },
  {
   "cell_type": "markdown",
   "metadata": {},
   "source": [
    "Load ddG data to dataframe"
   ]
  },
  {
   "cell_type": "code",
   "execution_count": 8,
   "metadata": {},
   "outputs": [
    {
     "data": {
      "application/javascript": [
       "\n",
       "            setTimeout(function() {\n",
       "                var nbb_cell_id = 8;\n",
       "                var nbb_unformatted_code = \"from collections import OrderedDict\\n\\nddg_data_dict = OrderedDict()\\nddg_data_dict = {\\n    \\\"dms\\\": pd.read_csv(\\\"data/data_dms/ddgs_parsed.csv\\\"),\\n    \\\"protein_g\\\": pd.read_csv(\\\"data/data_protein_g/ddgs_parsed.csv\\\"),\\n    \\\"guerois\\\": pd.read_csv(\\\"data/data_guerois/ddgs_parsed.csv\\\"),\\n    \\\"symmetric_direct\\\": pd.read_csv(\\\"data/data_symmetric/ddgs_parsed_direct.csv\\\"),\\n    \\\"symmetric_inverse\\\": pd.read_csv(\\\"data/data_symmetric/ddgs_parsed_inverse.csv\\\"),\\n}\";\n",
       "                var nbb_formatted_code = \"from collections import OrderedDict\\n\\nddg_data_dict = OrderedDict()\\nddg_data_dict = {\\n    \\\"dms\\\": pd.read_csv(\\\"data/data_dms/ddgs_parsed.csv\\\"),\\n    \\\"protein_g\\\": pd.read_csv(\\\"data/data_protein_g/ddgs_parsed.csv\\\"),\\n    \\\"guerois\\\": pd.read_csv(\\\"data/data_guerois/ddgs_parsed.csv\\\"),\\n    \\\"symmetric_direct\\\": pd.read_csv(\\\"data/data_symmetric/ddgs_parsed_direct.csv\\\"),\\n    \\\"symmetric_inverse\\\": pd.read_csv(\\\"data/data_symmetric/ddgs_parsed_inverse.csv\\\"),\\n}\";\n",
       "                var nbb_cells = Jupyter.notebook.get_cells();\n",
       "                for (var i = 0; i < nbb_cells.length; ++i) {\n",
       "                    if (nbb_cells[i].input_prompt_number == nbb_cell_id) {\n",
       "                        if (nbb_cells[i].get_text() == nbb_unformatted_code) {\n",
       "                             nbb_cells[i].set_text(nbb_formatted_code);\n",
       "                        }\n",
       "                        break;\n",
       "                    }\n",
       "                }\n",
       "            }, 500);\n",
       "            "
      ],
      "text/plain": [
       "<IPython.core.display.Javascript object>"
      ]
     },
     "metadata": {},
     "output_type": "display_data"
    }
   ],
   "source": [
    "from collections import OrderedDict\n",
    "\n",
    "ddg_data_dict = OrderedDict()\n",
    "ddg_data_dict = {\n",
    "    \"dms\": pd.read_csv(\"data/data_dms/ddgs_parsed.csv\"),\n",
    "    \"protein_g\": pd.read_csv(\"data/data_protein_g/ddgs_parsed.csv\"),\n",
    "    \"guerois\": pd.read_csv(\"data/data_guerois/ddgs_parsed.csv\"),\n",
    "    \"symmetric_direct\": pd.read_csv(\"data/data_symmetric/ddgs_parsed_direct.csv\"),\n",
    "    \"symmetric_inverse\": pd.read_csv(\"data/data_symmetric/ddgs_parsed_inverse.csv\"),\n",
    "}"
   ]
  },
  {
   "cell_type": "markdown",
   "metadata": {},
   "source": [
    "Populate dataframes with wt ResidueEnvironment objects and wt and mt restype indices"
   ]
  },
  {
   "cell_type": "code",
   "execution_count": 9,
   "metadata": {},
   "outputs": [
    {
     "name": "stdout",
     "output_type": "stream",
     "text": [
      "Dropping data points where residue is not defined in structure or due to missing parsed pdb file\n",
      "dropped 1187 / 8096 data points from dataset dms\n",
      "dropped    0 /  907 data points from dataset protein_g\n",
      "dropped    0 /  911 data points from dataset guerois\n",
      "dropped    0 /  342 data points from dataset symmetric_direct\n",
      "dropped    1 /  342 data points from dataset symmetric_inverse\n"
     ]
    },
    {
     "data": {
      "application/javascript": [
       "\n",
       "            setTimeout(function() {\n",
       "                var nbb_cell_id = 9;\n",
       "                var nbb_unformatted_code = \"_populate_dfs_with_resenvs(ddg_data_dict, resenv_datasets_look_up)\";\n",
       "                var nbb_formatted_code = \"_populate_dfs_with_resenvs(ddg_data_dict, resenv_datasets_look_up)\";\n",
       "                var nbb_cells = Jupyter.notebook.get_cells();\n",
       "                for (var i = 0; i < nbb_cells.length; ++i) {\n",
       "                    if (nbb_cells[i].input_prompt_number == nbb_cell_id) {\n",
       "                        if (nbb_cells[i].get_text() == nbb_unformatted_code) {\n",
       "                             nbb_cells[i].set_text(nbb_formatted_code);\n",
       "                        }\n",
       "                        break;\n",
       "                    }\n",
       "                }\n",
       "            }, 500);\n",
       "            "
      ],
      "text/plain": [
       "<IPython.core.display.Javascript object>"
      ]
     },
     "metadata": {},
     "output_type": "display_data"
    }
   ],
   "source": [
    "_populate_dfs_with_resenvs(ddg_data_dict, resenv_datasets_look_up)"
   ]
  },
  {
   "cell_type": "markdown",
   "metadata": {},
   "source": [
    "Populate dataframes with predicted NLLs and isolated WT and MT predicted NLLs as well as NLFs"
   ]
  },
  {
   "cell_type": "code",
   "execution_count": 10,
   "metadata": {
    "scrolled": false
   },
   "outputs": [
    {
     "name": "stdout",
     "output_type": "stream",
     "text": [
      "dms\n"
     ]
    },
    {
     "data": {
      "text/html": [
       "<div>\n",
       "<style scoped>\n",
       "    .dataframe tbody tr th:only-of-type {\n",
       "        vertical-align: middle;\n",
       "    }\n",
       "\n",
       "    .dataframe tbody tr th {\n",
       "        vertical-align: top;\n",
       "    }\n",
       "\n",
       "    .dataframe thead th {\n",
       "        text-align: right;\n",
       "    }\n",
       "</style>\n",
       "<table border=\"1\" class=\"dataframe\">\n",
       "  <thead>\n",
       "    <tr style=\"text-align: right;\">\n",
       "      <th></th>\n",
       "      <th>pdbid</th>\n",
       "      <th>chainid</th>\n",
       "      <th>variant</th>\n",
       "      <th>ddg</th>\n",
       "      <th>resenv</th>\n",
       "      <th>wt_idx</th>\n",
       "      <th>mt_idx</th>\n",
       "      <th>nlls</th>\n",
       "      <th>wt_nll</th>\n",
       "      <th>mt_nll</th>\n",
       "      <th>wt_nlf</th>\n",
       "      <th>mt_nlf</th>\n",
       "      <th>ddg_pred_no_ds</th>\n",
       "    </tr>\n",
       "  </thead>\n",
       "  <tbody>\n",
       "    <tr>\n",
       "      <th>120</th>\n",
       "      <td>1D5R</td>\n",
       "      <td>A</td>\n",
       "      <td>R14A</td>\n",
       "      <td>-0.087552</td>\n",
       "      <td>&lt;ResidueEnvironment with 141 atoms. pdb_id: 1D...</td>\n",
       "      <td>14</td>\n",
       "      <td>0</td>\n",
       "      <td>[3.761355, 3.8874278, 2.0133736, 3.2964132, 4....</td>\n",
       "      <td>3.139378</td>\n",
       "      <td>3.761355</td>\n",
       "      <td>3.035567</td>\n",
       "      <td>2.483982</td>\n",
       "      <td>1.173562</td>\n",
       "    </tr>\n",
       "    <tr>\n",
       "      <th>121</th>\n",
       "      <td>1D5R</td>\n",
       "      <td>A</td>\n",
       "      <td>R14D</td>\n",
       "      <td>-0.142873</td>\n",
       "      <td>&lt;ResidueEnvironment with 141 atoms. pdb_id: 1D...</td>\n",
       "      <td>14</td>\n",
       "      <td>2</td>\n",
       "      <td>[3.761355, 3.8874278, 2.0133736, 3.2964132, 4....</td>\n",
       "      <td>3.139378</td>\n",
       "      <td>2.013374</td>\n",
       "      <td>3.035567</td>\n",
       "      <td>2.824680</td>\n",
       "      <td>-0.915117</td>\n",
       "    </tr>\n",
       "  </tbody>\n",
       "</table>\n",
       "</div>"
      ],
      "text/plain": [
       "    pdbid chainid variant       ddg  \\\n",
       "120  1D5R       A    R14A -0.087552   \n",
       "121  1D5R       A    R14D -0.142873   \n",
       "\n",
       "                                                resenv  wt_idx  mt_idx  \\\n",
       "120  <ResidueEnvironment with 141 atoms. pdb_id: 1D...      14       0   \n",
       "121  <ResidueEnvironment with 141 atoms. pdb_id: 1D...      14       2   \n",
       "\n",
       "                                                  nlls    wt_nll    mt_nll  \\\n",
       "120  [3.761355, 3.8874278, 2.0133736, 3.2964132, 4....  3.139378  3.761355   \n",
       "121  [3.761355, 3.8874278, 2.0133736, 3.2964132, 4....  3.139378  2.013374   \n",
       "\n",
       "       wt_nlf    mt_nlf  ddg_pred_no_ds  \n",
       "120  3.035567  2.483982        1.173562  \n",
       "121  3.035567  2.824680       -0.915117  "
      ]
     },
     "metadata": {},
     "output_type": "display_data"
    },
    {
     "name": "stdout",
     "output_type": "stream",
     "text": [
      "protein_g\n"
     ]
    },
    {
     "data": {
      "text/html": [
       "<div>\n",
       "<style scoped>\n",
       "    .dataframe tbody tr th:only-of-type {\n",
       "        vertical-align: middle;\n",
       "    }\n",
       "\n",
       "    .dataframe tbody tr th {\n",
       "        vertical-align: top;\n",
       "    }\n",
       "\n",
       "    .dataframe thead th {\n",
       "        text-align: right;\n",
       "    }\n",
       "</style>\n",
       "<table border=\"1\" class=\"dataframe\">\n",
       "  <thead>\n",
       "    <tr style=\"text-align: right;\">\n",
       "      <th></th>\n",
       "      <th>pdbid</th>\n",
       "      <th>chainid</th>\n",
       "      <th>variant</th>\n",
       "      <th>ddg</th>\n",
       "      <th>resenv</th>\n",
       "      <th>wt_idx</th>\n",
       "      <th>mt_idx</th>\n",
       "      <th>nlls</th>\n",
       "      <th>wt_nll</th>\n",
       "      <th>mt_nll</th>\n",
       "      <th>wt_nlf</th>\n",
       "      <th>mt_nlf</th>\n",
       "      <th>ddg_pred_no_ds</th>\n",
       "    </tr>\n",
       "  </thead>\n",
       "  <tbody>\n",
       "    <tr>\n",
       "      <th>0</th>\n",
       "      <td>1PGA</td>\n",
       "      <td>A</td>\n",
       "      <td>M1A</td>\n",
       "      <td>-0.1407</td>\n",
       "      <td>&lt;ResidueEnvironment with 130 atoms. pdb_id: 1P...</td>\n",
       "      <td>10</td>\n",
       "      <td>0</td>\n",
       "      <td>[4.8995667, 2.7171252, 3.0366936, 2.2134588, 2...</td>\n",
       "      <td>3.708021</td>\n",
       "      <td>4.899567</td>\n",
       "      <td>3.785957</td>\n",
       "      <td>2.483982</td>\n",
       "      <td>2.493520</td>\n",
       "    </tr>\n",
       "    <tr>\n",
       "      <th>1</th>\n",
       "      <td>1PGA</td>\n",
       "      <td>A</td>\n",
       "      <td>M1D</td>\n",
       "      <td>-0.3795</td>\n",
       "      <td>&lt;ResidueEnvironment with 130 atoms. pdb_id: 1P...</td>\n",
       "      <td>10</td>\n",
       "      <td>2</td>\n",
       "      <td>[4.8995667, 2.7171252, 3.0366936, 2.2134588, 2...</td>\n",
       "      <td>3.708021</td>\n",
       "      <td>3.036694</td>\n",
       "      <td>3.785957</td>\n",
       "      <td>2.824680</td>\n",
       "      <td>0.289949</td>\n",
       "    </tr>\n",
       "  </tbody>\n",
       "</table>\n",
       "</div>"
      ],
      "text/plain": [
       "  pdbid chainid variant     ddg  \\\n",
       "0  1PGA       A     M1A -0.1407   \n",
       "1  1PGA       A     M1D -0.3795   \n",
       "\n",
       "                                              resenv  wt_idx  mt_idx  \\\n",
       "0  <ResidueEnvironment with 130 atoms. pdb_id: 1P...      10       0   \n",
       "1  <ResidueEnvironment with 130 atoms. pdb_id: 1P...      10       2   \n",
       "\n",
       "                                                nlls    wt_nll    mt_nll  \\\n",
       "0  [4.8995667, 2.7171252, 3.0366936, 2.2134588, 2...  3.708021  4.899567   \n",
       "1  [4.8995667, 2.7171252, 3.0366936, 2.2134588, 2...  3.708021  3.036694   \n",
       "\n",
       "     wt_nlf    mt_nlf  ddg_pred_no_ds  \n",
       "0  3.785957  2.483982        2.493520  \n",
       "1  3.785957  2.824680        0.289949  "
      ]
     },
     "metadata": {},
     "output_type": "display_data"
    },
    {
     "name": "stdout",
     "output_type": "stream",
     "text": [
      "guerois\n"
     ]
    },
    {
     "data": {
      "text/html": [
       "<div>\n",
       "<style scoped>\n",
       "    .dataframe tbody tr th:only-of-type {\n",
       "        vertical-align: middle;\n",
       "    }\n",
       "\n",
       "    .dataframe tbody tr th {\n",
       "        vertical-align: top;\n",
       "    }\n",
       "\n",
       "    .dataframe thead th {\n",
       "        text-align: right;\n",
       "    }\n",
       "</style>\n",
       "<table border=\"1\" class=\"dataframe\">\n",
       "  <thead>\n",
       "    <tr style=\"text-align: right;\">\n",
       "      <th></th>\n",
       "      <th>pdbid</th>\n",
       "      <th>chainid</th>\n",
       "      <th>variant</th>\n",
       "      <th>ddg</th>\n",
       "      <th>resenv</th>\n",
       "      <th>wt_idx</th>\n",
       "      <th>mt_idx</th>\n",
       "      <th>nlls</th>\n",
       "      <th>wt_nll</th>\n",
       "      <th>mt_nll</th>\n",
       "      <th>wt_nlf</th>\n",
       "      <th>mt_nlf</th>\n",
       "      <th>ddg_pred_no_ds</th>\n",
       "    </tr>\n",
       "  </thead>\n",
       "  <tbody>\n",
       "    <tr>\n",
       "      <th>0</th>\n",
       "      <td>171L</td>\n",
       "      <td>A</td>\n",
       "      <td>A45E</td>\n",
       "      <td>0.01</td>\n",
       "      <td>&lt;ResidueEnvironment with 189 atoms. pdb_id: 17...</td>\n",
       "      <td>0</td>\n",
       "      <td>3</td>\n",
       "      <td>[4.3328247, 3.21393, 1.7516489, 2.6335964, 2.6...</td>\n",
       "      <td>4.332825</td>\n",
       "      <td>2.633596</td>\n",
       "      <td>2.483982</td>\n",
       "      <td>2.712832</td>\n",
       "      <td>-1.928078</td>\n",
       "    </tr>\n",
       "    <tr>\n",
       "      <th>1</th>\n",
       "      <td>1A2P</td>\n",
       "      <td>A</td>\n",
       "      <td>Y103F</td>\n",
       "      <td>0.00</td>\n",
       "      <td>&lt;ResidueEnvironment with 211 atoms. pdb_id: 1A...</td>\n",
       "      <td>19</td>\n",
       "      <td>4</td>\n",
       "      <td>[2.1669757, 2.861004, 3.7422621, 5.1602373, 2....</td>\n",
       "      <td>2.647622</td>\n",
       "      <td>2.669165</td>\n",
       "      <td>3.311580</td>\n",
       "      <td>3.207937</td>\n",
       "      <td>0.125185</td>\n",
       "    </tr>\n",
       "  </tbody>\n",
       "</table>\n",
       "</div>"
      ],
      "text/plain": [
       "  pdbid chainid variant   ddg  \\\n",
       "0  171L       A    A45E  0.01   \n",
       "1  1A2P       A   Y103F  0.00   \n",
       "\n",
       "                                              resenv  wt_idx  mt_idx  \\\n",
       "0  <ResidueEnvironment with 189 atoms. pdb_id: 17...       0       3   \n",
       "1  <ResidueEnvironment with 211 atoms. pdb_id: 1A...      19       4   \n",
       "\n",
       "                                                nlls    wt_nll    mt_nll  \\\n",
       "0  [4.3328247, 3.21393, 1.7516489, 2.6335964, 2.6...  4.332825  2.633596   \n",
       "1  [2.1669757, 2.861004, 3.7422621, 5.1602373, 2....  2.647622  2.669165   \n",
       "\n",
       "     wt_nlf    mt_nlf  ddg_pred_no_ds  \n",
       "0  2.483982  2.712832       -1.928078  \n",
       "1  3.311580  3.207937        0.125185  "
      ]
     },
     "metadata": {},
     "output_type": "display_data"
    },
    {
     "name": "stdout",
     "output_type": "stream",
     "text": [
      "symmetric_direct\n"
     ]
    },
    {
     "data": {
      "text/html": [
       "<div>\n",
       "<style scoped>\n",
       "    .dataframe tbody tr th:only-of-type {\n",
       "        vertical-align: middle;\n",
       "    }\n",
       "\n",
       "    .dataframe tbody tr th {\n",
       "        vertical-align: top;\n",
       "    }\n",
       "\n",
       "    .dataframe thead th {\n",
       "        text-align: right;\n",
       "    }\n",
       "</style>\n",
       "<table border=\"1\" class=\"dataframe\">\n",
       "  <thead>\n",
       "    <tr style=\"text-align: right;\">\n",
       "      <th></th>\n",
       "      <th>pdbid</th>\n",
       "      <th>chainid</th>\n",
       "      <th>variant</th>\n",
       "      <th>ddg</th>\n",
       "      <th>merge_column</th>\n",
       "      <th>resenv</th>\n",
       "      <th>wt_idx</th>\n",
       "      <th>mt_idx</th>\n",
       "      <th>nlls</th>\n",
       "      <th>wt_nll</th>\n",
       "      <th>mt_nll</th>\n",
       "      <th>wt_nlf</th>\n",
       "      <th>mt_nlf</th>\n",
       "      <th>ddg_pred_no_ds</th>\n",
       "    </tr>\n",
       "  </thead>\n",
       "  <tbody>\n",
       "    <tr>\n",
       "      <th>0</th>\n",
       "      <td>1AMQ</td>\n",
       "      <td>A</td>\n",
       "      <td>C191Y</td>\n",
       "      <td>2.3</td>\n",
       "      <td>index_1</td>\n",
       "      <td>&lt;ResidueEnvironment with 278 atoms. pdb_id: 1A...</td>\n",
       "      <td>1</td>\n",
       "      <td>19</td>\n",
       "      <td>[4.2539964, 3.4823747, 2.8891742, 2.4216547, 3...</td>\n",
       "      <td>3.482375</td>\n",
       "      <td>2.408788</td>\n",
       "      <td>4.33514</td>\n",
       "      <td>3.311580</td>\n",
       "      <td>-0.050026</td>\n",
       "    </tr>\n",
       "    <tr>\n",
       "      <th>1</th>\n",
       "      <td>1AMQ</td>\n",
       "      <td>A</td>\n",
       "      <td>C191F</td>\n",
       "      <td>1.6</td>\n",
       "      <td>index_2</td>\n",
       "      <td>&lt;ResidueEnvironment with 278 atoms. pdb_id: 1A...</td>\n",
       "      <td>1</td>\n",
       "      <td>4</td>\n",
       "      <td>[4.2539964, 3.4823747, 2.8891742, 2.4216547, 3...</td>\n",
       "      <td>3.482375</td>\n",
       "      <td>3.296098</td>\n",
       "      <td>4.33514</td>\n",
       "      <td>3.207937</td>\n",
       "      <td>0.940926</td>\n",
       "    </tr>\n",
       "  </tbody>\n",
       "</table>\n",
       "</div>"
      ],
      "text/plain": [
       "  pdbid chainid variant  ddg merge_column  \\\n",
       "0  1AMQ       A   C191Y  2.3      index_1   \n",
       "1  1AMQ       A   C191F  1.6      index_2   \n",
       "\n",
       "                                              resenv  wt_idx  mt_idx  \\\n",
       "0  <ResidueEnvironment with 278 atoms. pdb_id: 1A...       1      19   \n",
       "1  <ResidueEnvironment with 278 atoms. pdb_id: 1A...       1       4   \n",
       "\n",
       "                                                nlls    wt_nll    mt_nll  \\\n",
       "0  [4.2539964, 3.4823747, 2.8891742, 2.4216547, 3...  3.482375  2.408788   \n",
       "1  [4.2539964, 3.4823747, 2.8891742, 2.4216547, 3...  3.482375  3.296098   \n",
       "\n",
       "    wt_nlf    mt_nlf  ddg_pred_no_ds  \n",
       "0  4.33514  3.311580       -0.050026  \n",
       "1  4.33514  3.207937        0.940926  "
      ]
     },
     "metadata": {},
     "output_type": "display_data"
    },
    {
     "name": "stdout",
     "output_type": "stream",
     "text": [
      "symmetric_inverse\n"
     ]
    },
    {
     "data": {
      "text/html": [
       "<div>\n",
       "<style scoped>\n",
       "    .dataframe tbody tr th:only-of-type {\n",
       "        vertical-align: middle;\n",
       "    }\n",
       "\n",
       "    .dataframe tbody tr th {\n",
       "        vertical-align: top;\n",
       "    }\n",
       "\n",
       "    .dataframe thead th {\n",
       "        text-align: right;\n",
       "    }\n",
       "</style>\n",
       "<table border=\"1\" class=\"dataframe\">\n",
       "  <thead>\n",
       "    <tr style=\"text-align: right;\">\n",
       "      <th></th>\n",
       "      <th>pdbid</th>\n",
       "      <th>chainid</th>\n",
       "      <th>variant</th>\n",
       "      <th>ddg</th>\n",
       "      <th>merge_column</th>\n",
       "      <th>resenv</th>\n",
       "      <th>wt_idx</th>\n",
       "      <th>mt_idx</th>\n",
       "      <th>nlls</th>\n",
       "      <th>wt_nll</th>\n",
       "      <th>mt_nll</th>\n",
       "      <th>wt_nlf</th>\n",
       "      <th>mt_nlf</th>\n",
       "      <th>ddg_pred_no_ds</th>\n",
       "    </tr>\n",
       "  </thead>\n",
       "  <tbody>\n",
       "    <tr>\n",
       "      <th>1</th>\n",
       "      <td>1QIS</td>\n",
       "      <td>A</td>\n",
       "      <td>F191C</td>\n",
       "      <td>-1.6</td>\n",
       "      <td>index_2</td>\n",
       "      <td>&lt;ResidueEnvironment with 275 atoms. pdb_id: 1Q...</td>\n",
       "      <td>4</td>\n",
       "      <td>1</td>\n",
       "      <td>[2.8451436, 2.2418942, 4.166224, 3.5480084, 2....</td>\n",
       "      <td>2.856829</td>\n",
       "      <td>2.241894</td>\n",
       "      <td>3.207937</td>\n",
       "      <td>4.33514</td>\n",
       "      <td>-1.742138</td>\n",
       "    </tr>\n",
       "    <tr>\n",
       "      <th>2</th>\n",
       "      <td>1QIT</td>\n",
       "      <td>A</td>\n",
       "      <td>W191C</td>\n",
       "      <td>-3.9</td>\n",
       "      <td>index_3</td>\n",
       "      <td>&lt;ResidueEnvironment with 273 atoms. pdb_id: 1Q...</td>\n",
       "      <td>18</td>\n",
       "      <td>1</td>\n",
       "      <td>[3.2382548, 2.0971, 3.281807, 3.5571334, 2.379...</td>\n",
       "      <td>2.235432</td>\n",
       "      <td>2.097100</td>\n",
       "      <td>4.250501</td>\n",
       "      <td>4.33514</td>\n",
       "      <td>-0.222970</td>\n",
       "    </tr>\n",
       "  </tbody>\n",
       "</table>\n",
       "</div>"
      ],
      "text/plain": [
       "  pdbid chainid variant  ddg merge_column  \\\n",
       "1  1QIS       A   F191C -1.6      index_2   \n",
       "2  1QIT       A   W191C -3.9      index_3   \n",
       "\n",
       "                                              resenv  wt_idx  mt_idx  \\\n",
       "1  <ResidueEnvironment with 275 atoms. pdb_id: 1Q...       4       1   \n",
       "2  <ResidueEnvironment with 273 atoms. pdb_id: 1Q...      18       1   \n",
       "\n",
       "                                                nlls    wt_nll    mt_nll  \\\n",
       "1  [2.8451436, 2.2418942, 4.166224, 3.5480084, 2....  2.856829  2.241894   \n",
       "2  [3.2382548, 2.0971, 3.281807, 3.5571334, 2.379...  2.235432  2.097100   \n",
       "\n",
       "     wt_nlf   mt_nlf  ddg_pred_no_ds  \n",
       "1  3.207937  4.33514       -1.742138  \n",
       "2  4.250501  4.33514       -0.222970  "
      ]
     },
     "metadata": {},
     "output_type": "display_data"
    },
    {
     "data": {
      "application/javascript": [
       "\n",
       "            setTimeout(function() {\n",
       "                var nbb_cell_id = 10;\n",
       "                var nbb_unformatted_code = \"# Load best performing cavity model from previos training\\ncavity_model_infer_net = CavityModel(DEVICE).to(DEVICE)\\ncavity_model_infer_net.load_state_dict(torch.load(best_model_path))\\ncavity_model_infer_net.eval()\\n\\n_populate_dfs_with_nlls_and_nlfs(\\n    ddg_data_dict, cavity_model_infer_net, DEVICE, BATCH_SIZE, EPS, display_n_rows=2\\n)\";\n",
       "                var nbb_formatted_code = \"# Load best performing cavity model from previos training\\ncavity_model_infer_net = CavityModel(DEVICE).to(DEVICE)\\ncavity_model_infer_net.load_state_dict(torch.load(best_model_path))\\ncavity_model_infer_net.eval()\\n\\n_populate_dfs_with_nlls_and_nlfs(\\n    ddg_data_dict, cavity_model_infer_net, DEVICE, BATCH_SIZE, EPS, display_n_rows=2\\n)\";\n",
       "                var nbb_cells = Jupyter.notebook.get_cells();\n",
       "                for (var i = 0; i < nbb_cells.length; ++i) {\n",
       "                    if (nbb_cells[i].input_prompt_number == nbb_cell_id) {\n",
       "                        if (nbb_cells[i].get_text() == nbb_unformatted_code) {\n",
       "                             nbb_cells[i].set_text(nbb_formatted_code);\n",
       "                        }\n",
       "                        break;\n",
       "                    }\n",
       "                }\n",
       "            }, 500);\n",
       "            "
      ],
      "text/plain": [
       "<IPython.core.display.Javascript object>"
      ]
     },
     "metadata": {},
     "output_type": "display_data"
    }
   ],
   "source": [
    "# Load best performing cavity model from previos training\n",
    "cavity_model_infer_net = CavityModel(DEVICE).to(DEVICE)\n",
    "cavity_model_infer_net.load_state_dict(torch.load(best_model_path))\n",
    "cavity_model_infer_net.eval()\n",
    "\n",
    "_populate_dfs_with_nlls_and_nlfs(\n",
    "    ddg_data_dict, cavity_model_infer_net, DEVICE, BATCH_SIZE, EPS, display_n_rows=2\n",
    ")"
   ]
  },
  {
   "cell_type": "markdown",
   "metadata": {},
   "source": [
    "### Results without downstream model"
   ]
  },
  {
   "cell_type": "code",
   "execution_count": 11,
   "metadata": {},
   "outputs": [
    {
     "data": {
      "image/png": "[encoded data removed]",
      "text/plain": [
       "<Figure size 432x288 with 1 Axes>"
      ]
     },
     "metadata": {
      "needs_background": "light"
     },
     "output_type": "display_data"
    },
    {
     "data": {
      "image/png": "[encoded data removed]",
      "text/plain": [
       "<Figure size 432x288 with 1 Axes>"
      ]
     },
     "metadata": {
      "needs_background": "light"
     },
     "output_type": "display_data"
    },
    {
     "data": {
      "image/png": "[encoded data removed]",
      "text/plain": [
       "<Figure size 432x288 with 1 Axes>"
      ]
     },
     "metadata": {
      "needs_background": "light"
     },
     "output_type": "display_data"
    },
    {
     "data": {
      "image/png": "[encoded data removed]",
      "text/plain": [
       "<Figure size 432x288 with 1 Axes>"
      ]
     },
     "metadata": {
      "needs_background": "light"
     },
     "output_type": "display_data"
    },
    {
     "data": {
      "image/png": "[encoded data removed]",
      "text/plain": [
       "<Figure size 432x288 with 1 Axes>"
      ]
     },
     "metadata": {
      "needs_background": "light"
     },
     "output_type": "display_data"
    },
    {
     "data": {
      "application/javascript": [
       "\n",
       "            setTimeout(function() {\n",
       "                var nbb_cell_id = 11;\n",
       "                var nbb_unformatted_code = \"colors = [\\\"steelblue\\\", \\\"firebrick\\\", \\\"forestgreen\\\", \\\"black\\\", \\\"black\\\"]\\nfor color, data_key in zip(colors, ddg_data_dict.keys()):\\n    fig, ax = scatter_pred_vs_true(\\n        ddg_data_dict[data_key][\\\"ddg\\\"],\\n        ddg_data_dict[data_key][\\\"ddg_pred_no_ds\\\"],\\n        color=color,\\n        title=data_key,\\n    )\";\n",
       "                var nbb_formatted_code = \"colors = [\\\"steelblue\\\", \\\"firebrick\\\", \\\"forestgreen\\\", \\\"black\\\", \\\"black\\\"]\\nfor color, data_key in zip(colors, ddg_data_dict.keys()):\\n    fig, ax = scatter_pred_vs_true(\\n        ddg_data_dict[data_key][\\\"ddg\\\"],\\n        ddg_data_dict[data_key][\\\"ddg_pred_no_ds\\\"],\\n        color=color,\\n        title=data_key,\\n    )\";\n",
       "                var nbb_cells = Jupyter.notebook.get_cells();\n",
       "                for (var i = 0; i < nbb_cells.length; ++i) {\n",
       "                    if (nbb_cells[i].input_prompt_number == nbb_cell_id) {\n",
       "                        if (nbb_cells[i].get_text() == nbb_unformatted_code) {\n",
       "                             nbb_cells[i].set_text(nbb_formatted_code);\n",
       "                        }\n",
       "                        break;\n",
       "                    }\n",
       "                }\n",
       "            }, 500);\n",
       "            "
      ],
      "text/plain": [
       "<IPython.core.display.Javascript object>"
      ]
     },
     "metadata": {},
     "output_type": "display_data"
    }
   ],
   "source": [
    "colors = [\"steelblue\", \"firebrick\", \"forestgreen\", \"black\", \"black\"]\n",
    "for color, data_key in zip(colors, ddg_data_dict.keys()):\n",
    "    fig, ax = scatter_pred_vs_true(\n",
    "        ddg_data_dict[data_key][\"ddg\"],\n",
    "        ddg_data_dict[data_key][\"ddg_pred_no_ds\"],\n",
    "        color=color,\n",
    "        title=data_key,\n",
    "    )"
   ]
  },
  {
   "cell_type": "markdown",
   "metadata": {},
   "source": [
    "Merge direct and inverse dfs"
   ]
  },
  {
   "cell_type": "code",
   "execution_count": 12,
   "metadata": {
    "scrolled": true
   },
   "outputs": [
    {
     "data": {
      "application/javascript": [
       "\n",
       "            setTimeout(function() {\n",
       "                var nbb_cell_id = 12;\n",
       "                var nbb_unformatted_code = \"# Rename columns so they specify if it is the direct or inverse direction\\nsymmetric_direct_df = ddg_data_dict[\\\"symmetric_direct\\\"]\\nsymmetric_direct_df.columns = [\\n    name + \\\"_dir\\\" if \\\"_dir\\\" not in name else name\\n    for name in symmetric_direct_df.columns\\n]\\nsymmetric_inverse_df = ddg_data_dict[\\\"symmetric_inverse\\\"]\\nsymmetric_inverse_df.columns = [\\n    name + \\\"_inv\\\" if \\\"_inv\\\" not in name else name\\n    for name in symmetric_inverse_df.columns\\n]\\n\\n# Inner merge both dataframes\\nddg_data_dict[\\\"symmetric_both\\\"] = pd.merge(\\n    symmetric_direct_df,\\n    symmetric_inverse_df,\\n    how=\\\"inner\\\",\\n    left_on=\\\"merge_column_dir\\\",\\n    right_on=\\\"merge_column_inv\\\",\\n)\";\n",
       "                var nbb_formatted_code = \"# Rename columns so they specify if it is the direct or inverse direction\\nsymmetric_direct_df = ddg_data_dict[\\\"symmetric_direct\\\"]\\nsymmetric_direct_df.columns = [\\n    name + \\\"_dir\\\" if \\\"_dir\\\" not in name else name\\n    for name in symmetric_direct_df.columns\\n]\\nsymmetric_inverse_df = ddg_data_dict[\\\"symmetric_inverse\\\"]\\nsymmetric_inverse_df.columns = [\\n    name + \\\"_inv\\\" if \\\"_inv\\\" not in name else name\\n    for name in symmetric_inverse_df.columns\\n]\\n\\n# Inner merge both dataframes\\nddg_data_dict[\\\"symmetric_both\\\"] = pd.merge(\\n    symmetric_direct_df,\\n    symmetric_inverse_df,\\n    how=\\\"inner\\\",\\n    left_on=\\\"merge_column_dir\\\",\\n    right_on=\\\"merge_column_inv\\\",\\n)\";\n",
       "                var nbb_cells = Jupyter.notebook.get_cells();\n",
       "                for (var i = 0; i < nbb_cells.length; ++i) {\n",
       "                    if (nbb_cells[i].input_prompt_number == nbb_cell_id) {\n",
       "                        if (nbb_cells[i].get_text() == nbb_unformatted_code) {\n",
       "                             nbb_cells[i].set_text(nbb_formatted_code);\n",
       "                        }\n",
       "                        break;\n",
       "                    }\n",
       "                }\n",
       "            }, 500);\n",
       "            "
      ],
      "text/plain": [
       "<IPython.core.display.Javascript object>"
      ]
     },
     "metadata": {},
     "output_type": "display_data"
    }
   ],
   "source": [
    "# Rename columns so they specify if it is the direct or inverse direction\n",
    "symmetric_direct_df = ddg_data_dict[\"symmetric_direct\"]\n",
    "symmetric_direct_df.columns = [\n",
    "    name + \"_dir\" if \"_dir\" not in name else name\n",
    "    for name in symmetric_direct_df.columns\n",
    "]\n",
    "symmetric_inverse_df = ddg_data_dict[\"symmetric_inverse\"]\n",
    "symmetric_inverse_df.columns = [\n",
    "    name + \"_inv\" if \"_inv\" not in name else name\n",
    "    for name in symmetric_inverse_df.columns\n",
    "]\n",
    "\n",
    "# Inner merge both dataframes\n",
    "ddg_data_dict[\"symmetric_both\"] = pd.merge(\n",
    "    symmetric_direct_df,\n",
    "    symmetric_inverse_df,\n",
    "    how=\"inner\",\n",
    "    left_on=\"merge_column_dir\",\n",
    "    right_on=\"merge_column_inv\",\n",
    ")"
   ]
  },
  {
   "cell_type": "markdown",
   "metadata": {},
   "source": [
    "Make prediction based on both directions"
   ]
  },
  {
   "cell_type": "code",
   "execution_count": 13,
   "metadata": {},
   "outputs": [
    {
     "data": {
      "application/javascript": [
       "\n",
       "            setTimeout(function() {\n",
       "                var nbb_cell_id = 13;\n",
       "                var nbb_unformatted_code = \"symmetric_both_df = ddg_data_dict[\\\"symmetric_both\\\"]\\nsymmetric_both_df[\\\"ddg_pred_no_ds_both_dir\\\"] = symmetric_both_df.apply(\\n    lambda row: 0.5 * (row[\\\"ddg_pred_no_ds_dir\\\"] - row[\\\"ddg_pred_no_ds_inv\\\"]), axis=1\\n)\\nsymmetric_both_df[\\\"ddg_pred_no_ds_both_inv\\\"] = symmetric_both_df.apply(\\n    lambda row: 0.5 * (row[\\\"ddg_pred_no_ds_inv\\\"] - row[\\\"ddg_pred_no_ds_dir\\\"]), axis=1\\n)\";\n",
       "                var nbb_formatted_code = \"symmetric_both_df = ddg_data_dict[\\\"symmetric_both\\\"]\\nsymmetric_both_df[\\\"ddg_pred_no_ds_both_dir\\\"] = symmetric_both_df.apply(\\n    lambda row: 0.5 * (row[\\\"ddg_pred_no_ds_dir\\\"] - row[\\\"ddg_pred_no_ds_inv\\\"]), axis=1\\n)\\nsymmetric_both_df[\\\"ddg_pred_no_ds_both_inv\\\"] = symmetric_both_df.apply(\\n    lambda row: 0.5 * (row[\\\"ddg_pred_no_ds_inv\\\"] - row[\\\"ddg_pred_no_ds_dir\\\"]), axis=1\\n)\";\n",
       "                var nbb_cells = Jupyter.notebook.get_cells();\n",
       "                for (var i = 0; i < nbb_cells.length; ++i) {\n",
       "                    if (nbb_cells[i].input_prompt_number == nbb_cell_id) {\n",
       "                        if (nbb_cells[i].get_text() == nbb_unformatted_code) {\n",
       "                             nbb_cells[i].set_text(nbb_formatted_code);\n",
       "                        }\n",
       "                        break;\n",
       "                    }\n",
       "                }\n",
       "            }, 500);\n",
       "            "
      ],
      "text/plain": [
       "<IPython.core.display.Javascript object>"
      ]
     },
     "metadata": {},
     "output_type": "display_data"
    }
   ],
   "source": [
    "symmetric_both_df = ddg_data_dict[\"symmetric_both\"]\n",
    "symmetric_both_df[\"ddg_pred_no_ds_both_dir\"] = symmetric_both_df.apply(\n",
    "    lambda row: 0.5 * (row[\"ddg_pred_no_ds_dir\"] - row[\"ddg_pred_no_ds_inv\"]), axis=1\n",
    ")\n",
    "symmetric_both_df[\"ddg_pred_no_ds_both_inv\"] = symmetric_both_df.apply(\n",
    "    lambda row: 0.5 * (row[\"ddg_pred_no_ds_inv\"] - row[\"ddg_pred_no_ds_dir\"]), axis=1\n",
    ")"
   ]
  },
  {
   "cell_type": "code",
   "execution_count": 14,
   "metadata": {},
   "outputs": [
    {
     "data": {
      "image/png": "[encoded data removed]",
      "text/plain": [
       "<Figure size 432x288 with 1 Axes>"
      ]
     },
     "metadata": {
      "needs_background": "light"
     },
     "output_type": "display_data"
    },
    {
     "data": {
      "image/png": "[encoded data removed]",
      "text/plain": [
       "<Figure size 432x288 with 1 Axes>"
      ]
     },
     "metadata": {
      "needs_background": "light"
     },
     "output_type": "display_data"
    },
    {
     "data": {
      "application/javascript": [
       "\n",
       "            setTimeout(function() {\n",
       "                var nbb_cell_id = 14;\n",
       "                var nbb_unformatted_code = \"# Plot prediction for ddg direct using both structures\\nfig, ax = scatter_pred_vs_true(\\n    ddg_data_dict[\\\"symmetric_both\\\"][\\\"ddg_dir\\\"],\\n    ddg_data_dict[\\\"symmetric_both\\\"][\\\"ddg_pred_no_ds_both_dir\\\"],\\n    color=\\\"black\\\",\\n    title=\\\"Both structure (Direct)\\\",\\n)\\n\\n# Plot prediction for ddg inverse using both structures\\nfig, ax = scatter_pred_vs_true(\\n    ddg_data_dict[\\\"symmetric_both\\\"][\\\"ddg_inv\\\"],\\n    ddg_data_dict[\\\"symmetric_both\\\"][\\\"ddg_pred_no_ds_both_inv\\\"],\\n    color=\\\"black\\\",\\n    title=\\\"Both structure (Inverse)\\\",\\n)\";\n",
       "                var nbb_formatted_code = \"# Plot prediction for ddg direct using both structures\\nfig, ax = scatter_pred_vs_true(\\n    ddg_data_dict[\\\"symmetric_both\\\"][\\\"ddg_dir\\\"],\\n    ddg_data_dict[\\\"symmetric_both\\\"][\\\"ddg_pred_no_ds_both_dir\\\"],\\n    color=\\\"black\\\",\\n    title=\\\"Both structure (Direct)\\\",\\n)\\n\\n# Plot prediction for ddg inverse using both structures\\nfig, ax = scatter_pred_vs_true(\\n    ddg_data_dict[\\\"symmetric_both\\\"][\\\"ddg_inv\\\"],\\n    ddg_data_dict[\\\"symmetric_both\\\"][\\\"ddg_pred_no_ds_both_inv\\\"],\\n    color=\\\"black\\\",\\n    title=\\\"Both structure (Inverse)\\\",\\n)\";\n",
       "                var nbb_cells = Jupyter.notebook.get_cells();\n",
       "                for (var i = 0; i < nbb_cells.length; ++i) {\n",
       "                    if (nbb_cells[i].input_prompt_number == nbb_cell_id) {\n",
       "                        if (nbb_cells[i].get_text() == nbb_unformatted_code) {\n",
       "                             nbb_cells[i].set_text(nbb_formatted_code);\n",
       "                        }\n",
       "                        break;\n",
       "                    }\n",
       "                }\n",
       "            }, 500);\n",
       "            "
      ],
      "text/plain": [
       "<IPython.core.display.Javascript object>"
      ]
     },
     "metadata": {},
     "output_type": "display_data"
    }
   ],
   "source": [
    "# Plot prediction for ddg direct using both structures\n",
    "fig, ax = scatter_pred_vs_true(\n",
    "    ddg_data_dict[\"symmetric_both\"][\"ddg_dir\"],\n",
    "    ddg_data_dict[\"symmetric_both\"][\"ddg_pred_no_ds_both_dir\"],\n",
    "    color=\"black\",\n",
    "    title=\"Both structure (Direct)\",\n",
    ")\n",
    "\n",
    "# Plot prediction for ddg inverse using both structures\n",
    "fig, ax = scatter_pred_vs_true(\n",
    "    ddg_data_dict[\"symmetric_both\"][\"ddg_inv\"],\n",
    "    ddg_data_dict[\"symmetric_both\"][\"ddg_pred_no_ds_both_inv\"],\n",
    "    color=\"black\",\n",
    "    title=\"Both structure (Inverse)\",\n",
    ")"
   ]
  },
  {
   "cell_type": "markdown",
   "metadata": {},
   "source": [
    "# Downstream model"
   ]
  },
  {
   "cell_type": "code",
   "execution_count": null,
   "metadata": {},
   "outputs": [],
   "source": []
  }
 ],
 "metadata": {
  "kernelspec": {
   "display_name": "Python 3",
   "language": "python",
   "name": "python3"
  },
  "language_info": {
   "codemirror_mode": {
    "name": "ipython",
    "version": 3
   },
   "file_extension": ".py",
   "mimetype": "text/x-python",
   "name": "python",
   "nbconvert_exporter": "python",
   "pygments_lexer": "ipython3",
   "version": "3.6.12"
  }
 },
 "nbformat": 4,
 "nbformat_minor": 2
}
