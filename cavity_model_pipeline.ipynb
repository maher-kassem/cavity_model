{
 "cells": [
  {
   "cell_type": "markdown",
   "metadata": {},
   "source": [
    "# Imports"
   ]
  },
  {
   "cell_type": "code",
   "execution_count": 1,
   "metadata": {},
   "outputs": [
    {
     "data": {
      "application/javascript": [
       "\n",
       "            setTimeout(function() {\n",
       "                var nbb_cell_id = 1;\n",
       "                var nbb_unformatted_code = \"%load_ext autoreload\\n%autoreload 2\\nimport glob\\nimport os\\nimport random\\nimport pathlib\\n\\nimport pandas as pd\\nimport torch\\nfrom Bio.PDB.Polypeptide import index_to_one\\nfrom collections import OrderedDict\\nfrom torch.utils.data import DataLoader, Dataset\\n\\nfrom cavity_model import (\\n    CavityModel,\\n    ResidueEnvironment,\\n    ResidueEnvironmentsDataset,\\n)\\nfrom helpers import (\\n    _augment_with_reverse_mutation,\\n    _populate_dfs_with_nlls_and_nlfs,\\n    _populate_dfs_with_resenvs,\\n    _train_loop,\\n    _train_val_split,\\n    _get_ddg_training_dataloaders,\\n    _get_ddg_validation_dataloaders,\\n    _train_downstream_and_evaluate,\\n)\\nfrom visualization import scatter_pred_vs_true, plot_validation_performance\\n\\n%load_ext nb_black\";\n",
       "                var nbb_formatted_code = \"%load_ext autoreload\\n%autoreload 2\\nimport glob\\nimport os\\nimport random\\nimport pathlib\\n\\nimport pandas as pd\\nimport torch\\nfrom Bio.PDB.Polypeptide import index_to_one\\nfrom collections import OrderedDict\\nfrom torch.utils.data import DataLoader, Dataset\\n\\nfrom cavity_model import (\\n    CavityModel,\\n    ResidueEnvironment,\\n    ResidueEnvironmentsDataset,\\n)\\nfrom helpers import (\\n    _augment_with_reverse_mutation,\\n    _populate_dfs_with_nlls_and_nlfs,\\n    _populate_dfs_with_resenvs,\\n    _train_loop,\\n    _train_val_split,\\n    _get_ddg_training_dataloaders,\\n    _get_ddg_validation_dataloaders,\\n    _train_downstream_and_evaluate,\\n)\\nfrom visualization import scatter_pred_vs_true, plot_validation_performance\\n\\n%load_ext nb_black\";\n",
       "                var nbb_cells = Jupyter.notebook.get_cells();\n",
       "                for (var i = 0; i < nbb_cells.length; ++i) {\n",
       "                    if (nbb_cells[i].input_prompt_number == nbb_cell_id) {\n",
       "                        if (nbb_cells[i].get_text() == nbb_unformatted_code) {\n",
       "                             nbb_cells[i].set_text(nbb_formatted_code);\n",
       "                        }\n",
       "                        break;\n",
       "                    }\n",
       "                }\n",
       "            }, 500);\n",
       "            "
      ],
      "text/plain": [
       "<IPython.core.display.Javascript object>"
      ]
     },
     "metadata": {},
     "output_type": "display_data"
    }
   ],
   "source": [
    "%load_ext autoreload\n",
    "%autoreload 2\n",
    "import glob\n",
    "import os\n",
    "import random\n",
    "import pathlib\n",
    "\n",
    "import pandas as pd\n",
    "import torch\n",
    "from Bio.PDB.Polypeptide import index_to_one\n",
    "from collections import OrderedDict\n",
    "from torch.utils.data import DataLoader, Dataset\n",
    "\n",
    "from cavity_model import (\n",
    "    CavityModel,\n",
    "    ResidueEnvironment,\n",
    "    ResidueEnvironmentsDataset,\n",
    ")\n",
    "from helpers import (\n",
    "    _augment_with_reverse_mutation,\n",
    "    _populate_dfs_with_nlls_and_nlfs,\n",
    "    _populate_dfs_with_resenvs,\n",
    "    _train_loop,\n",
    "    _train_val_split,\n",
    "    _get_ddg_training_dataloaders,\n",
    "    _get_ddg_validation_dataloaders,\n",
    "    _train_downstream_and_evaluate,\n",
    ")\n",
    "from visualization import scatter_pred_vs_true, plot_validation_performance\n",
    "\n",
    "%load_ext nb_black"
   ]
  },
  {
   "cell_type": "markdown",
   "metadata": {},
   "source": [
    "# Cavity Model"
   ]
  },
  {
   "cell_type": "markdown",
   "metadata": {},
   "source": [
    "Download and process Cavity Model data"
   ]
  },
  {
   "cell_type": "code",
   "execution_count": 2,
   "metadata": {},
   "outputs": [
    {
     "data": {
      "application/javascript": [
       "\n",
       "            setTimeout(function() {\n",
       "                var nbb_cell_id = 2;\n",
       "                var nbb_unformatted_code = \"# # Hack to find the conda activate path since bash scripts\\n# # don't necessarily work with the conda activate command\\n# conda_path = !which conda\\n# conda_path = list(conda_path)[0]\\n# conda_activate_path = pathlib.Path(conda_path).parent.parent / \\\"bin\\\" / \\\"activate\\\"\\n# if not conda_activate_path.is_file():\\n#     raise FileNotFoundError(\\n#         \\\"Could not find your conda activate path needed for running bash scripts.\\\"\\n#     )\";\n",
       "                var nbb_formatted_code = \"# # Hack to find the conda activate path since bash scripts\\n# # don't necessarily work with the conda activate command\\n# conda_path = !which conda\\n# conda_path = list(conda_path)[0]\\n# conda_activate_path = pathlib.Path(conda_path).parent.parent / \\\"bin\\\" / \\\"activate\\\"\\n# if not conda_activate_path.is_file():\\n#     raise FileNotFoundError(\\n#         \\\"Could not find your conda activate path needed for running bash scripts.\\\"\\n#     )\";\n",
       "                var nbb_cells = Jupyter.notebook.get_cells();\n",
       "                for (var i = 0; i < nbb_cells.length; ++i) {\n",
       "                    if (nbb_cells[i].input_prompt_number == nbb_cell_id) {\n",
       "                        if (nbb_cells[i].get_text() == nbb_unformatted_code) {\n",
       "                             nbb_cells[i].set_text(nbb_formatted_code);\n",
       "                        }\n",
       "                        break;\n",
       "                    }\n",
       "                }\n",
       "            }, 500);\n",
       "            "
      ],
      "text/plain": [
       "<IPython.core.display.Javascript object>"
      ]
     },
     "metadata": {},
     "output_type": "display_data"
    }
   ],
   "source": [
    "# # Hack to find the conda activate path since bash scripts\n",
    "# # don't necessarily work with the conda activate command\n",
    "# conda_path = !which conda\n",
    "# conda_path = list(conda_path)[0]\n",
    "# conda_activate_path = pathlib.Path(conda_path).parent.parent / \"bin\" / \"activate\"\n",
    "# if not conda_activate_path.is_file():\n",
    "#     raise FileNotFoundError(\n",
    "#         \"Could not find your conda activate path needed for running bash scripts.\"\n",
    "#     )"
   ]
  },
  {
   "cell_type": "code",
   "execution_count": 3,
   "metadata": {
    "scrolled": true
   },
   "outputs": [
    {
     "data": {
      "application/javascript": [
       "\n",
       "            setTimeout(function() {\n",
       "                var nbb_cell_id = 3;\n",
       "                var nbb_unformatted_code = \"# # Run shell script that takes a .txt file with PDBIDs as input.\\n# !./get_and_parse_pdbs_for_cavity_model.sh $conda_activate_path data/pdbids_2336.txt\";\n",
       "                var nbb_formatted_code = \"# # Run shell script that takes a .txt file with PDBIDs as input.\\n# !./get_and_parse_pdbs_for_cavity_model.sh $conda_activate_path data/pdbids_2336.txt\";\n",
       "                var nbb_cells = Jupyter.notebook.get_cells();\n",
       "                for (var i = 0; i < nbb_cells.length; ++i) {\n",
       "                    if (nbb_cells[i].input_prompt_number == nbb_cell_id) {\n",
       "                        if (nbb_cells[i].get_text() == nbb_unformatted_code) {\n",
       "                             nbb_cells[i].set_text(nbb_formatted_code);\n",
       "                        }\n",
       "                        break;\n",
       "                    }\n",
       "                }\n",
       "            }, 500);\n",
       "            "
      ],
      "text/plain": [
       "<IPython.core.display.Javascript object>"
      ]
     },
     "metadata": {},
     "output_type": "display_data"
    }
   ],
   "source": [
    "# # Run shell script that takes a .txt file with PDBIDs as input.\n",
    "# !./get_and_parse_pdbs_for_cavity_model.sh $conda_activate_path data/pdbids_2336.txt"
   ]
  },
  {
   "cell_type": "markdown",
   "metadata": {},
   "source": [
    "Global variables"
   ]
  },
  {
   "cell_type": "code",
   "execution_count": 4,
   "metadata": {},
   "outputs": [
    {
     "data": {
      "application/javascript": [
       "\n",
       "            setTimeout(function() {\n",
       "                var nbb_cell_id = 4;\n",
       "                var nbb_unformatted_code = \"# Main parameters\\nDEVICE = \\\"cuda\\\"  # \\\"cpu\\\" or \\\"cuda\\\"\\nTRAIN_VAL_SPLIT = 0.8\\nBATCH_SIZE = 100\\nSHUFFLE_PDBS = True\\nLEARNING_RATE = 3e-4\\nEPOCHS = 2\\nPATIENCE_CUTOFF = 1\\nEPS = 1e-9\\n\\n# Parameters specific to downstream model\\nBATCH_SIZE_DDG = 40\\nSHUFFLE_DDG = True\\nLEARNING_RATE_DDG = 1e-3\\nEPOCHS_DDG = 200\";\n",
       "                var nbb_formatted_code = \"# Main parameters\\nDEVICE = \\\"cuda\\\"  # \\\"cpu\\\" or \\\"cuda\\\"\\nTRAIN_VAL_SPLIT = 0.8\\nBATCH_SIZE = 100\\nSHUFFLE_PDBS = True\\nLEARNING_RATE = 3e-4\\nEPOCHS = 2\\nPATIENCE_CUTOFF = 1\\nEPS = 1e-9\\n\\n# Parameters specific to downstream model\\nBATCH_SIZE_DDG = 40\\nSHUFFLE_DDG = True\\nLEARNING_RATE_DDG = 1e-3\\nEPOCHS_DDG = 200\";\n",
       "                var nbb_cells = Jupyter.notebook.get_cells();\n",
       "                for (var i = 0; i < nbb_cells.length; ++i) {\n",
       "                    if (nbb_cells[i].input_prompt_number == nbb_cell_id) {\n",
       "                        if (nbb_cells[i].get_text() == nbb_unformatted_code) {\n",
       "                             nbb_cells[i].set_text(nbb_formatted_code);\n",
       "                        }\n",
       "                        break;\n",
       "                    }\n",
       "                }\n",
       "            }, 500);\n",
       "            "
      ],
      "text/plain": [
       "<IPython.core.display.Javascript object>"
      ]
     },
     "metadata": {},
     "output_type": "display_data"
    }
   ],
   "source": [
    "# Main parameters\n",
    "DEVICE = \"cuda\"  # \"cpu\" or \"cuda\"\n",
    "TRAIN_VAL_SPLIT = 0.8\n",
    "BATCH_SIZE = 100\n",
    "SHUFFLE_PDBS = True\n",
    "LEARNING_RATE = 3e-4\n",
    "EPOCHS = 2\n",
    "PATIENCE_CUTOFF = 1\n",
    "EPS = 1e-9\n",
    "\n",
    "# Parameters specific to downstream model\n",
    "BATCH_SIZE_DDG = 40\n",
    "SHUFFLE_DDG = True\n",
    "LEARNING_RATE_DDG = 1e-3\n",
    "EPOCHS_DDG = 200"
   ]
  },
  {
   "cell_type": "markdown",
   "metadata": {},
   "source": [
    "Load Parsed PDBs and perform train/val split"
   ]
  },
  {
   "cell_type": "code",
   "execution_count": 5,
   "metadata": {
    "scrolled": true
   },
   "outputs": [
    {
     "name": "stdout",
     "output_type": "stream",
     "text": [
      "Training data set includes 10 pdbs with 7643 environments.\n",
      "Validation data set includes 3 pdbs with 1357 environments.\n"
     ]
    },
    {
     "data": {
      "application/javascript": [
       "\n",
       "            setTimeout(function() {\n",
       "                var nbb_cell_id = 5;\n",
       "                var nbb_unformatted_code = \"parsed_pdb_filenames = sorted(glob.glob(\\\"data/pdbs/parsed/*coord*\\\"))\\nif SHUFFLE_PDBS:\\n    random.shuffle(parsed_pdb_filenames)\\ndataloader_train, dataset_train, dataloader_val, dataset_val = _train_val_split(\\n    parsed_pdb_filenames, TRAIN_VAL_SPLIT, DEVICE, BATCH_SIZE\\n)\";\n",
       "                var nbb_formatted_code = \"parsed_pdb_filenames = sorted(glob.glob(\\\"data/pdbs/parsed/*coord*\\\"))\\nif SHUFFLE_PDBS:\\n    random.shuffle(parsed_pdb_filenames)\\ndataloader_train, dataset_train, dataloader_val, dataset_val = _train_val_split(\\n    parsed_pdb_filenames, TRAIN_VAL_SPLIT, DEVICE, BATCH_SIZE\\n)\";\n",
       "                var nbb_cells = Jupyter.notebook.get_cells();\n",
       "                for (var i = 0; i < nbb_cells.length; ++i) {\n",
       "                    if (nbb_cells[i].input_prompt_number == nbb_cell_id) {\n",
       "                        if (nbb_cells[i].get_text() == nbb_unformatted_code) {\n",
       "                             nbb_cells[i].set_text(nbb_formatted_code);\n",
       "                        }\n",
       "                        break;\n",
       "                    }\n",
       "                }\n",
       "            }, 500);\n",
       "            "
      ],
      "text/plain": [
       "<IPython.core.display.Javascript object>"
      ]
     },
     "metadata": {},
     "output_type": "display_data"
    }
   ],
   "source": [
    "parsed_pdb_filenames = sorted(glob.glob(\"data/pdbs/parsed/*coord*\"))\n",
    "if SHUFFLE_PDBS:\n",
    "    random.shuffle(parsed_pdb_filenames)\n",
    "dataloader_train, dataset_train, dataloader_val, dataset_val = _train_val_split(\n",
    "    parsed_pdb_filenames, TRAIN_VAL_SPLIT, DEVICE, BATCH_SIZE\n",
    ")"
   ]
  },
  {
   "cell_type": "markdown",
   "metadata": {},
   "source": [
    "Train the cavity model"
   ]
  },
  {
   "cell_type": "code",
   "execution_count": 6,
   "metadata": {},
   "outputs": [
    {
     "name": "stdout",
     "output_type": "stream",
     "text": [
      "Epoch  0. Train loss: 1.996. Train Acc: 0.52. Val loss: 2.878. Val Acc 0.14\n",
      "Epoch  1. Train loss: 0.822. Train Acc: 0.86. Val loss: 2.818. Val Acc 0.18\n",
      "Best epoch idx: 1 with validation loss: 2.818 and model_path: cavity_models/model_epoch_01.pt\n"
     ]
    },
    {
     "data": {
      "application/javascript": [
       "\n",
       "            setTimeout(function() {\n",
       "                var nbb_cell_id = 6;\n",
       "                var nbb_unformatted_code = \"# Define model\\ncavity_model_net = CavityModel(DEVICE).to(DEVICE)\\nloss_function = torch.nn.CrossEntropyLoss()\\noptimizer = torch.optim.Adam(cavity_model_net.parameters(), lr=LEARNING_RATE)\\n\\n# Create directory for model files\\nmodels_dirpath = \\\"cavity_models/\\\"\\nif not os.path.exists(models_dirpath):\\n    os.mkdir(models_dirpath)\\n\\n# Train loop\\nbest_model_path = _train_loop(\\n    dataloader_train,\\n    dataloader_val,\\n    cavity_model_net,\\n    loss_function,\\n    optimizer,\\n    EPOCHS,\\n    PATIENCE_CUTOFF,\\n)\";\n",
       "                var nbb_formatted_code = \"# Define model\\ncavity_model_net = CavityModel(DEVICE).to(DEVICE)\\nloss_function = torch.nn.CrossEntropyLoss()\\noptimizer = torch.optim.Adam(cavity_model_net.parameters(), lr=LEARNING_RATE)\\n\\n# Create directory for model files\\nmodels_dirpath = \\\"cavity_models/\\\"\\nif not os.path.exists(models_dirpath):\\n    os.mkdir(models_dirpath)\\n\\n# Train loop\\nbest_model_path = _train_loop(\\n    dataloader_train,\\n    dataloader_val,\\n    cavity_model_net,\\n    loss_function,\\n    optimizer,\\n    EPOCHS,\\n    PATIENCE_CUTOFF,\\n)\";\n",
       "                var nbb_cells = Jupyter.notebook.get_cells();\n",
       "                for (var i = 0; i < nbb_cells.length; ++i) {\n",
       "                    if (nbb_cells[i].input_prompt_number == nbb_cell_id) {\n",
       "                        if (nbb_cells[i].get_text() == nbb_unformatted_code) {\n",
       "                             nbb_cells[i].set_text(nbb_formatted_code);\n",
       "                        }\n",
       "                        break;\n",
       "                    }\n",
       "                }\n",
       "            }, 500);\n",
       "            "
      ],
      "text/plain": [
       "<IPython.core.display.Javascript object>"
      ]
     },
     "metadata": {},
     "output_type": "display_data"
    }
   ],
   "source": [
    "# Define model\n",
    "cavity_model_net = CavityModel(DEVICE).to(DEVICE)\n",
    "loss_function = torch.nn.CrossEntropyLoss()\n",
    "optimizer = torch.optim.Adam(cavity_model_net.parameters(), lr=LEARNING_RATE)\n",
    "\n",
    "# Create directory for model files\n",
    "models_dirpath = \"cavity_models/\"\n",
    "if not os.path.exists(models_dirpath):\n",
    "    os.mkdir(models_dirpath)\n",
    "\n",
    "# Train loop\n",
    "best_model_path = _train_loop(\n",
    "    dataloader_train,\n",
    "    dataloader_val,\n",
    "    cavity_model_net,\n",
    "    loss_function,\n",
    "    optimizer,\n",
    "    EPOCHS,\n",
    "    PATIENCE_CUTOFF,\n",
    ")"
   ]
  },
  {
   "cell_type": "markdown",
   "metadata": {},
   "source": [
    "# ddG Prediction"
   ]
  },
  {
   "cell_type": "markdown",
   "metadata": {},
   "source": [
    "Parse PDBs for DMS, Guerois and Protein G data sets"
   ]
  },
  {
   "cell_type": "code",
   "execution_count": 7,
   "metadata": {
    "scrolled": true
   },
   "outputs": [
    {
     "data": {
      "application/javascript": [
       "\n",
       "            setTimeout(function() {\n",
       "                var nbb_cell_id = 7;\n",
       "                var nbb_unformatted_code = \"# # Parse PDBs for which we have ddG data\\n# !./get_and_parse_pdbs_for_dowstream_task.sh $conda_activate_path\";\n",
       "                var nbb_formatted_code = \"# # Parse PDBs for which we have ddG data\\n# !./get_and_parse_pdbs_for_dowstream_task.sh $conda_activate_path\";\n",
       "                var nbb_cells = Jupyter.notebook.get_cells();\n",
       "                for (var i = 0; i < nbb_cells.length; ++i) {\n",
       "                    if (nbb_cells[i].input_prompt_number == nbb_cell_id) {\n",
       "                        if (nbb_cells[i].get_text() == nbb_unformatted_code) {\n",
       "                             nbb_cells[i].set_text(nbb_formatted_code);\n",
       "                        }\n",
       "                        break;\n",
       "                    }\n",
       "                }\n",
       "            }, 500);\n",
       "            "
      ],
      "text/plain": [
       "<IPython.core.display.Javascript object>"
      ]
     },
     "metadata": {},
     "output_type": "display_data"
    }
   ],
   "source": [
    "# # Parse PDBs for which we have ddG data\n",
    "# !./get_and_parse_pdbs_for_dowstream_task.sh $conda_activate_path"
   ]
  },
  {
   "cell_type": "markdown",
   "metadata": {},
   "source": [
    "Make dict for residue environments for easy look up"
   ]
  },
  {
   "cell_type": "code",
   "execution_count": 8,
   "metadata": {},
   "outputs": [
    {
     "data": {
      "application/javascript": [
       "\n",
       "            setTimeout(function() {\n",
       "                var nbb_cell_id = 8;\n",
       "                var nbb_unformatted_code = \"# Create temporary residue environment datasets as dicts to more easily match ddG data\\nparsed_pdbs_wildcards = {\\n    \\\"dms\\\": \\\"data/data_dms/pdbs_parsed/*coord*\\\",\\n    \\\"protein_g\\\": \\\"data/data_protein_g/pdbs_parsed/*coord*\\\",\\n    \\\"guerois\\\": \\\"data/data_guerois/pdbs_parsed/*coord*\\\",\\n    \\\"symmetric\\\": \\\"data/data_symmetric/pdbs_parsed/*coord*\\\",\\n}\\n\\nresenv_datasets_look_up = {}\\nfor dataset_key, pdbs_wildcard in parsed_pdbs_wildcards.items():\\n    parsed_pdb_filenames = sorted(glob.glob(pdbs_wildcard))\\n    dataset = ResidueEnvironmentsDataset(parsed_pdb_filenames, transformer=None)\\n    dataset_look_up = {}\\n    for resenv in dataset:\\n        key = (\\n            f\\\"{resenv.pdb_id}{resenv.chain_id}_{resenv.pdb_residue_number}\\\"\\n            f\\\"{index_to_one(resenv.restype_index)}\\\"\\n        )\\n        dataset_look_up[key] = resenv\\n    resenv_datasets_look_up[dataset_key] = dataset_look_up\";\n",
       "                var nbb_formatted_code = \"# Create temporary residue environment datasets as dicts to more easily match ddG data\\nparsed_pdbs_wildcards = {\\n    \\\"dms\\\": \\\"data/data_dms/pdbs_parsed/*coord*\\\",\\n    \\\"protein_g\\\": \\\"data/data_protein_g/pdbs_parsed/*coord*\\\",\\n    \\\"guerois\\\": \\\"data/data_guerois/pdbs_parsed/*coord*\\\",\\n    \\\"symmetric\\\": \\\"data/data_symmetric/pdbs_parsed/*coord*\\\",\\n}\\n\\nresenv_datasets_look_up = {}\\nfor dataset_key, pdbs_wildcard in parsed_pdbs_wildcards.items():\\n    parsed_pdb_filenames = sorted(glob.glob(pdbs_wildcard))\\n    dataset = ResidueEnvironmentsDataset(parsed_pdb_filenames, transformer=None)\\n    dataset_look_up = {}\\n    for resenv in dataset:\\n        key = (\\n            f\\\"{resenv.pdb_id}{resenv.chain_id}_{resenv.pdb_residue_number}\\\"\\n            f\\\"{index_to_one(resenv.restype_index)}\\\"\\n        )\\n        dataset_look_up[key] = resenv\\n    resenv_datasets_look_up[dataset_key] = dataset_look_up\";\n",
       "                var nbb_cells = Jupyter.notebook.get_cells();\n",
       "                for (var i = 0; i < nbb_cells.length; ++i) {\n",
       "                    if (nbb_cells[i].input_prompt_number == nbb_cell_id) {\n",
       "                        if (nbb_cells[i].get_text() == nbb_unformatted_code) {\n",
       "                             nbb_cells[i].set_text(nbb_formatted_code);\n",
       "                        }\n",
       "                        break;\n",
       "                    }\n",
       "                }\n",
       "            }, 500);\n",
       "            "
      ],
      "text/plain": [
       "<IPython.core.display.Javascript object>"
      ]
     },
     "metadata": {},
     "output_type": "display_data"
    }
   ],
   "source": [
    "# Create temporary residue environment datasets as dicts to more easily match ddG data\n",
    "parsed_pdbs_wildcards = {\n",
    "    \"dms\": \"data/data_dms/pdbs_parsed/*coord*\",\n",
    "    \"protein_g\": \"data/data_protein_g/pdbs_parsed/*coord*\",\n",
    "    \"guerois\": \"data/data_guerois/pdbs_parsed/*coord*\",\n",
    "    \"symmetric\": \"data/data_symmetric/pdbs_parsed/*coord*\",\n",
    "}\n",
    "\n",
    "resenv_datasets_look_up = {}\n",
    "for dataset_key, pdbs_wildcard in parsed_pdbs_wildcards.items():\n",
    "    parsed_pdb_filenames = sorted(glob.glob(pdbs_wildcard))\n",
    "    dataset = ResidueEnvironmentsDataset(parsed_pdb_filenames, transformer=None)\n",
    "    dataset_look_up = {}\n",
    "    for resenv in dataset:\n",
    "        key = (\n",
    "            f\"{resenv.pdb_id}{resenv.chain_id}_{resenv.pdb_residue_number}\"\n",
    "            f\"{index_to_one(resenv.restype_index)}\"\n",
    "        )\n",
    "        dataset_look_up[key] = resenv\n",
    "    resenv_datasets_look_up[dataset_key] = dataset_look_up"
   ]
  },
  {
   "cell_type": "markdown",
   "metadata": {},
   "source": [
    "Load ddG data to dataframe"
   ]
  },
  {
   "cell_type": "code",
   "execution_count": 9,
   "metadata": {},
   "outputs": [
    {
     "data": {
      "application/javascript": [
       "\n",
       "            setTimeout(function() {\n",
       "                var nbb_cell_id = 9;\n",
       "                var nbb_unformatted_code = \"ddg_data_dict = OrderedDict()\\nddg_data_dict = {\\n    \\\"dms\\\": pd.read_csv(\\\"data/data_dms/ddgs_parsed.csv\\\"),\\n    \\\"protein_g\\\": pd.read_csv(\\\"data/data_protein_g/ddgs_parsed.csv\\\"),\\n    \\\"guerois\\\": pd.read_csv(\\\"data/data_guerois/ddgs_parsed.csv\\\"),\\n    \\\"symmetric_direct\\\": pd.read_csv(\\\"data/data_symmetric/ddgs_parsed_direct.csv\\\"),\\n    \\\"symmetric_inverse\\\": pd.read_csv(\\\"data/data_symmetric/ddgs_parsed_inverse.csv\\\"),\\n}\";\n",
       "                var nbb_formatted_code = \"ddg_data_dict = OrderedDict()\\nddg_data_dict = {\\n    \\\"dms\\\": pd.read_csv(\\\"data/data_dms/ddgs_parsed.csv\\\"),\\n    \\\"protein_g\\\": pd.read_csv(\\\"data/data_protein_g/ddgs_parsed.csv\\\"),\\n    \\\"guerois\\\": pd.read_csv(\\\"data/data_guerois/ddgs_parsed.csv\\\"),\\n    \\\"symmetric_direct\\\": pd.read_csv(\\\"data/data_symmetric/ddgs_parsed_direct.csv\\\"),\\n    \\\"symmetric_inverse\\\": pd.read_csv(\\\"data/data_symmetric/ddgs_parsed_inverse.csv\\\"),\\n}\";\n",
       "                var nbb_cells = Jupyter.notebook.get_cells();\n",
       "                for (var i = 0; i < nbb_cells.length; ++i) {\n",
       "                    if (nbb_cells[i].input_prompt_number == nbb_cell_id) {\n",
       "                        if (nbb_cells[i].get_text() == nbb_unformatted_code) {\n",
       "                             nbb_cells[i].set_text(nbb_formatted_code);\n",
       "                        }\n",
       "                        break;\n",
       "                    }\n",
       "                }\n",
       "            }, 500);\n",
       "            "
      ],
      "text/plain": [
       "<IPython.core.display.Javascript object>"
      ]
     },
     "metadata": {},
     "output_type": "display_data"
    }
   ],
   "source": [
    "ddg_data_dict = OrderedDict()\n",
    "ddg_data_dict = {\n",
    "    \"dms\": pd.read_csv(\"data/data_dms/ddgs_parsed.csv\"),\n",
    "    \"protein_g\": pd.read_csv(\"data/data_protein_g/ddgs_parsed.csv\"),\n",
    "    \"guerois\": pd.read_csv(\"data/data_guerois/ddgs_parsed.csv\"),\n",
    "    \"symmetric_direct\": pd.read_csv(\"data/data_symmetric/ddgs_parsed_direct.csv\"),\n",
    "    \"symmetric_inverse\": pd.read_csv(\"data/data_symmetric/ddgs_parsed_inverse.csv\"),\n",
    "}"
   ]
  },
  {
   "cell_type": "markdown",
   "metadata": {},
   "source": [
    "Populate dataframes with wt ResidueEnvironment objects and wt and mt restype indices"
   ]
  },
  {
   "cell_type": "code",
   "execution_count": 10,
   "metadata": {},
   "outputs": [
    {
     "name": "stdout",
     "output_type": "stream",
     "text": [
      "Dropping data points where residue is not defined in structure or due to missing parsed pdb file\n",
      "dropped 1187 / 8096 data points from dataset dms\n",
      "dropped    0 /  907 data points from dataset protein_g\n",
      "dropped    0 /  911 data points from dataset guerois\n",
      "dropped    0 /  342 data points from dataset symmetric_direct\n",
      "dropped    0 /  342 data points from dataset symmetric_inverse\n"
     ]
    },
    {
     "data": {
      "application/javascript": [
       "\n",
       "            setTimeout(function() {\n",
       "                var nbb_cell_id = 10;\n",
       "                var nbb_unformatted_code = \"_populate_dfs_with_resenvs(ddg_data_dict, resenv_datasets_look_up)\";\n",
       "                var nbb_formatted_code = \"_populate_dfs_with_resenvs(ddg_data_dict, resenv_datasets_look_up)\";\n",
       "                var nbb_cells = Jupyter.notebook.get_cells();\n",
       "                for (var i = 0; i < nbb_cells.length; ++i) {\n",
       "                    if (nbb_cells[i].input_prompt_number == nbb_cell_id) {\n",
       "                        if (nbb_cells[i].get_text() == nbb_unformatted_code) {\n",
       "                             nbb_cells[i].set_text(nbb_formatted_code);\n",
       "                        }\n",
       "                        break;\n",
       "                    }\n",
       "                }\n",
       "            }, 500);\n",
       "            "
      ],
      "text/plain": [
       "<IPython.core.display.Javascript object>"
      ]
     },
     "metadata": {},
     "output_type": "display_data"
    }
   ],
   "source": [
    "_populate_dfs_with_resenvs(ddg_data_dict, resenv_datasets_look_up)"
   ]
  },
  {
   "cell_type": "markdown",
   "metadata": {},
   "source": [
    "Populate dataframes with predicted NLLs and isolated WT and MT predicted NLLs as well as NLFs"
   ]
  },
  {
   "cell_type": "code",
   "execution_count": 11,
   "metadata": {
    "scrolled": false
   },
   "outputs": [
    {
     "data": {
      "application/javascript": [
       "\n",
       "            setTimeout(function() {\n",
       "                var nbb_cell_id = 11;\n",
       "                var nbb_unformatted_code = \"# Load best performing cavity model from previos training\\ncavity_model_infer_net = CavityModel(DEVICE).to(DEVICE)\\ncavity_model_infer_net.load_state_dict(torch.load(best_model_path))\\ncavity_model_infer_net.eval()\\n\\n_populate_dfs_with_nlls_and_nlfs(\\n    ddg_data_dict, cavity_model_infer_net, DEVICE, BATCH_SIZE, EPS\\n)\";\n",
       "                var nbb_formatted_code = \"# Load best performing cavity model from previos training\\ncavity_model_infer_net = CavityModel(DEVICE).to(DEVICE)\\ncavity_model_infer_net.load_state_dict(torch.load(best_model_path))\\ncavity_model_infer_net.eval()\\n\\n_populate_dfs_with_nlls_and_nlfs(\\n    ddg_data_dict, cavity_model_infer_net, DEVICE, BATCH_SIZE, EPS\\n)\";\n",
       "                var nbb_cells = Jupyter.notebook.get_cells();\n",
       "                for (var i = 0; i < nbb_cells.length; ++i) {\n",
       "                    if (nbb_cells[i].input_prompt_number == nbb_cell_id) {\n",
       "                        if (nbb_cells[i].get_text() == nbb_unformatted_code) {\n",
       "                             nbb_cells[i].set_text(nbb_formatted_code);\n",
       "                        }\n",
       "                        break;\n",
       "                    }\n",
       "                }\n",
       "            }, 500);\n",
       "            "
      ],
      "text/plain": [
       "<IPython.core.display.Javascript object>"
      ]
     },
     "metadata": {},
     "output_type": "display_data"
    }
   ],
   "source": [
    "# Load best performing cavity model from previos training\n",
    "cavity_model_infer_net = CavityModel(DEVICE).to(DEVICE)\n",
    "cavity_model_infer_net.load_state_dict(torch.load(best_model_path))\n",
    "cavity_model_infer_net.eval()\n",
    "\n",
    "_populate_dfs_with_nlls_and_nlfs(\n",
    "    ddg_data_dict, cavity_model_infer_net, DEVICE, BATCH_SIZE, EPS\n",
    ")"
   ]
  },
  {
   "cell_type": "markdown",
   "metadata": {},
   "source": [
    "## Results without downstream model"
   ]
  },
  {
   "cell_type": "markdown",
   "metadata": {},
   "source": [
    "### Plot with PDB statistics"
   ]
  },
  {
   "cell_type": "code",
   "execution_count": 12,
   "metadata": {
    "scrolled": true
   },
   "outputs": [
    {
     "data": {
      "image/png": "[encoded data removed]",
      "text/plain": [
       "<Figure size 432x288 with 1 Axes>"
      ]
     },
     "metadata": {
      "needs_background": "light"
     },
     "output_type": "display_data"
    },
    {
     "data": {
      "image/png": "[encoded data removed]",
      "text/plain": [
       "<Figure size 432x288 with 1 Axes>"
      ]
     },
     "metadata": {
      "needs_background": "light"
     },
     "output_type": "display_data"
    },
    {
     "data": {
      "image/png": "[encoded data removed]",
      "text/plain": [
       "<Figure size 432x288 with 1 Axes>"
      ]
     },
     "metadata": {
      "needs_background": "light"
     },
     "output_type": "display_data"
    },
    {
     "data": {
      "image/png": "[encoded data removed]",
      "text/plain": [
       "<Figure size 432x288 with 1 Axes>"
      ]
     },
     "metadata": {
      "needs_background": "light"
     },
     "output_type": "display_data"
    },
    {
     "data": {
      "image/png": "[encoded data removed]",
      "text/plain": [
       "<Figure size 432x288 with 1 Axes>"
      ]
     },
     "metadata": {
      "needs_background": "light"
     },
     "output_type": "display_data"
    },
    {
     "data": {
      "application/javascript": [
       "\n",
       "            setTimeout(function() {\n",
       "                var nbb_cell_id = 12;\n",
       "                var nbb_unformatted_code = \"colors = [\\\"steelblue\\\", \\\"firebrick\\\", \\\"forestgreen\\\", \\\"black\\\", \\\"black\\\"]\\nfor color, data_key in zip(colors, ddg_data_dict.keys()):\\n    fig, ax = scatter_pred_vs_true(\\n        ddg_data_dict[data_key][\\\"ddg\\\"],\\n        ddg_data_dict[data_key][\\\"ddg_pred_no_ds\\\"],\\n        color=color,\\n        title=data_key,\\n    )\";\n",
       "                var nbb_formatted_code = \"colors = [\\\"steelblue\\\", \\\"firebrick\\\", \\\"forestgreen\\\", \\\"black\\\", \\\"black\\\"]\\nfor color, data_key in zip(colors, ddg_data_dict.keys()):\\n    fig, ax = scatter_pred_vs_true(\\n        ddg_data_dict[data_key][\\\"ddg\\\"],\\n        ddg_data_dict[data_key][\\\"ddg_pred_no_ds\\\"],\\n        color=color,\\n        title=data_key,\\n    )\";\n",
       "                var nbb_cells = Jupyter.notebook.get_cells();\n",
       "                for (var i = 0; i < nbb_cells.length; ++i) {\n",
       "                    if (nbb_cells[i].input_prompt_number == nbb_cell_id) {\n",
       "                        if (nbb_cells[i].get_text() == nbb_unformatted_code) {\n",
       "                             nbb_cells[i].set_text(nbb_formatted_code);\n",
       "                        }\n",
       "                        break;\n",
       "                    }\n",
       "                }\n",
       "            }, 500);\n",
       "            "
      ],
      "text/plain": [
       "<IPython.core.display.Javascript object>"
      ]
     },
     "metadata": {},
     "output_type": "display_data"
    }
   ],
   "source": [
    "colors = [\"steelblue\", \"firebrick\", \"forestgreen\", \"black\", \"black\"]\n",
    "for color, data_key in zip(colors, ddg_data_dict.keys()):\n",
    "    fig, ax = scatter_pred_vs_true(\n",
    "        ddg_data_dict[data_key][\"ddg\"],\n",
    "        ddg_data_dict[data_key][\"ddg_pred_no_ds\"],\n",
    "        color=color,\n",
    "        title=data_key,\n",
    "    )"
   ]
  },
  {
   "cell_type": "markdown",
   "metadata": {},
   "source": [
    "### Plot with IDP statistics"
   ]
  },
  {
   "cell_type": "code",
   "execution_count": 13,
   "metadata": {
    "scrolled": true
   },
   "outputs": [
    {
     "data": {
      "image/png": "[encoded data removed]",
      "text/plain": [
       "<Figure size 432x288 with 1 Axes>"
      ]
     },
     "metadata": {
      "needs_background": "light"
     },
     "output_type": "display_data"
    },
    {
     "data": {
      "image/png": "[encoded data removed]",
      "text/plain": [
       "<Figure size 432x288 with 1 Axes>"
      ]
     },
     "metadata": {
      "needs_background": "light"
     },
     "output_type": "display_data"
    },
    {
     "data": {
      "image/png": "[encoded data removed]",
      "text/plain": [
       "<Figure size 432x288 with 1 Axes>"
      ]
     },
     "metadata": {
      "needs_background": "light"
     },
     "output_type": "display_data"
    },
    {
     "data": {
      "image/png": "[encoded data removed]",
      "text/plain": [
       "<Figure size 432x288 with 1 Axes>"
      ]
     },
     "metadata": {
      "needs_background": "light"
     },
     "output_type": "display_data"
    },
    {
     "data": {
      "image/png": "[encoded data removed]",
      "text/plain": [
       "<Figure size 432x288 with 1 Axes>"
      ]
     },
     "metadata": {
      "needs_background": "light"
     },
     "output_type": "display_data"
    },
    {
     "data": {
      "application/javascript": [
       "\n",
       "            setTimeout(function() {\n",
       "                var nbb_cell_id = 13;\n",
       "                var nbb_unformatted_code = \"for color, data_key in zip(colors, ddg_data_dict.keys()):\\n    fig, ax = scatter_pred_vs_true(\\n        ddg_data_dict[data_key][\\\"ddg\\\"],\\n        ddg_data_dict[data_key][\\\"ddg_pred_idp_no_ds\\\"],\\n        color=color,\\n        title=data_key,\\n    )\";\n",
       "                var nbb_formatted_code = \"for color, data_key in zip(colors, ddg_data_dict.keys()):\\n    fig, ax = scatter_pred_vs_true(\\n        ddg_data_dict[data_key][\\\"ddg\\\"],\\n        ddg_data_dict[data_key][\\\"ddg_pred_idp_no_ds\\\"],\\n        color=color,\\n        title=data_key,\\n    )\";\n",
       "                var nbb_cells = Jupyter.notebook.get_cells();\n",
       "                for (var i = 0; i < nbb_cells.length; ++i) {\n",
       "                    if (nbb_cells[i].input_prompt_number == nbb_cell_id) {\n",
       "                        if (nbb_cells[i].get_text() == nbb_unformatted_code) {\n",
       "                             nbb_cells[i].set_text(nbb_formatted_code);\n",
       "                        }\n",
       "                        break;\n",
       "                    }\n",
       "                }\n",
       "            }, 500);\n",
       "            "
      ],
      "text/plain": [
       "<IPython.core.display.Javascript object>"
      ]
     },
     "metadata": {},
     "output_type": "display_data"
    }
   ],
   "source": [
    "for color, data_key in zip(colors, ddg_data_dict.keys()):\n",
    "    fig, ax = scatter_pred_vs_true(\n",
    "        ddg_data_dict[data_key][\"ddg\"],\n",
    "        ddg_data_dict[data_key][\"ddg_pred_idp_no_ds\"],\n",
    "        color=color,\n",
    "        title=data_key,\n",
    "    )"
   ]
  },
  {
   "cell_type": "markdown",
   "metadata": {},
   "source": [
    "Merge direct and inverse dfs"
   ]
  },
  {
   "cell_type": "code",
   "execution_count": 14,
   "metadata": {
    "scrolled": true
   },
   "outputs": [
    {
     "data": {
      "application/javascript": [
       "\n",
       "            setTimeout(function() {\n",
       "                var nbb_cell_id = 14;\n",
       "                var nbb_unformatted_code = \"# Rename columns so they specify if it is the direct or inverse direction\\nsymmetric_direct_df = ddg_data_dict[\\\"symmetric_direct\\\"]\\nsymmetric_direct_df.columns = [\\n    name + \\\"_dir\\\" if \\\"_dir\\\" not in name else name\\n    for name in symmetric_direct_df.columns\\n]\\nsymmetric_inverse_df = ddg_data_dict[\\\"symmetric_inverse\\\"]\\nsymmetric_inverse_df.columns = [\\n    name + \\\"_inv\\\" if \\\"_inv\\\" not in name else name\\n    for name in symmetric_inverse_df.columns\\n]\\n\\n# Inner merge both dataframes\\nddg_data_dict[\\\"symmetric_both\\\"] = pd.merge(\\n    symmetric_direct_df,\\n    symmetric_inverse_df,\\n    how=\\\"inner\\\",\\n    left_on=\\\"merge_column_dir\\\",\\n    right_on=\\\"merge_column_inv\\\",\\n)\";\n",
       "                var nbb_formatted_code = \"# Rename columns so they specify if it is the direct or inverse direction\\nsymmetric_direct_df = ddg_data_dict[\\\"symmetric_direct\\\"]\\nsymmetric_direct_df.columns = [\\n    name + \\\"_dir\\\" if \\\"_dir\\\" not in name else name\\n    for name in symmetric_direct_df.columns\\n]\\nsymmetric_inverse_df = ddg_data_dict[\\\"symmetric_inverse\\\"]\\nsymmetric_inverse_df.columns = [\\n    name + \\\"_inv\\\" if \\\"_inv\\\" not in name else name\\n    for name in symmetric_inverse_df.columns\\n]\\n\\n# Inner merge both dataframes\\nddg_data_dict[\\\"symmetric_both\\\"] = pd.merge(\\n    symmetric_direct_df,\\n    symmetric_inverse_df,\\n    how=\\\"inner\\\",\\n    left_on=\\\"merge_column_dir\\\",\\n    right_on=\\\"merge_column_inv\\\",\\n)\";\n",
       "                var nbb_cells = Jupyter.notebook.get_cells();\n",
       "                for (var i = 0; i < nbb_cells.length; ++i) {\n",
       "                    if (nbb_cells[i].input_prompt_number == nbb_cell_id) {\n",
       "                        if (nbb_cells[i].get_text() == nbb_unformatted_code) {\n",
       "                             nbb_cells[i].set_text(nbb_formatted_code);\n",
       "                        }\n",
       "                        break;\n",
       "                    }\n",
       "                }\n",
       "            }, 500);\n",
       "            "
      ],
      "text/plain": [
       "<IPython.core.display.Javascript object>"
      ]
     },
     "metadata": {},
     "output_type": "display_data"
    }
   ],
   "source": [
    "# Rename columns so they specify if it is the direct or inverse direction\n",
    "symmetric_direct_df = ddg_data_dict[\"symmetric_direct\"]\n",
    "symmetric_direct_df.columns = [\n",
    "    name + \"_dir\" if \"_dir\" not in name else name\n",
    "    for name in symmetric_direct_df.columns\n",
    "]\n",
    "symmetric_inverse_df = ddg_data_dict[\"symmetric_inverse\"]\n",
    "symmetric_inverse_df.columns = [\n",
    "    name + \"_inv\" if \"_inv\" not in name else name\n",
    "    for name in symmetric_inverse_df.columns\n",
    "]\n",
    "\n",
    "# Inner merge both dataframes\n",
    "ddg_data_dict[\"symmetric_both\"] = pd.merge(\n",
    "    symmetric_direct_df,\n",
    "    symmetric_inverse_df,\n",
    "    how=\"inner\",\n",
    "    left_on=\"merge_column_dir\",\n",
    "    right_on=\"merge_column_inv\",\n",
    ")"
   ]
  },
  {
   "cell_type": "markdown",
   "metadata": {},
   "source": [
    "Make prediction based on both structures"
   ]
  },
  {
   "cell_type": "code",
   "execution_count": 15,
   "metadata": {},
   "outputs": [
    {
     "data": {
      "application/javascript": [
       "\n",
       "            setTimeout(function() {\n",
       "                var nbb_cell_id = 15;\n",
       "                var nbb_unformatted_code = \"symmetric_both_df = ddg_data_dict[\\\"symmetric_both\\\"]\\nsymmetric_both_df[\\\"ddg_pred_no_ds_both_dir\\\"] = symmetric_both_df.apply(\\n    lambda row: 0.5 * (row[\\\"ddg_pred_no_ds_dir\\\"] - row[\\\"ddg_pred_no_ds_inv\\\"]), axis=1\\n)\\nsymmetric_both_df[\\\"ddg_pred_no_ds_both_inv\\\"] = symmetric_both_df.apply(\\n    lambda row: 0.5 * (row[\\\"ddg_pred_no_ds_inv\\\"] - row[\\\"ddg_pred_no_ds_dir\\\"]), axis=1\\n)\";\n",
       "                var nbb_formatted_code = \"symmetric_both_df = ddg_data_dict[\\\"symmetric_both\\\"]\\nsymmetric_both_df[\\\"ddg_pred_no_ds_both_dir\\\"] = symmetric_both_df.apply(\\n    lambda row: 0.5 * (row[\\\"ddg_pred_no_ds_dir\\\"] - row[\\\"ddg_pred_no_ds_inv\\\"]), axis=1\\n)\\nsymmetric_both_df[\\\"ddg_pred_no_ds_both_inv\\\"] = symmetric_both_df.apply(\\n    lambda row: 0.5 * (row[\\\"ddg_pred_no_ds_inv\\\"] - row[\\\"ddg_pred_no_ds_dir\\\"]), axis=1\\n)\";\n",
       "                var nbb_cells = Jupyter.notebook.get_cells();\n",
       "                for (var i = 0; i < nbb_cells.length; ++i) {\n",
       "                    if (nbb_cells[i].input_prompt_number == nbb_cell_id) {\n",
       "                        if (nbb_cells[i].get_text() == nbb_unformatted_code) {\n",
       "                             nbb_cells[i].set_text(nbb_formatted_code);\n",
       "                        }\n",
       "                        break;\n",
       "                    }\n",
       "                }\n",
       "            }, 500);\n",
       "            "
      ],
      "text/plain": [
       "<IPython.core.display.Javascript object>"
      ]
     },
     "metadata": {},
     "output_type": "display_data"
    }
   ],
   "source": [
    "symmetric_both_df = ddg_data_dict[\"symmetric_both\"]\n",
    "symmetric_both_df[\"ddg_pred_no_ds_both_dir\"] = symmetric_both_df.apply(\n",
    "    lambda row: 0.5 * (row[\"ddg_pred_no_ds_dir\"] - row[\"ddg_pred_no_ds_inv\"]), axis=1\n",
    ")\n",
    "symmetric_both_df[\"ddg_pred_no_ds_both_inv\"] = symmetric_both_df.apply(\n",
    "    lambda row: 0.5 * (row[\"ddg_pred_no_ds_inv\"] - row[\"ddg_pred_no_ds_dir\"]), axis=1\n",
    ")"
   ]
  },
  {
   "cell_type": "code",
   "execution_count": 16,
   "metadata": {},
   "outputs": [
    {
     "data": {
      "application/javascript": [
       "\n",
       "            setTimeout(function() {\n",
       "                var nbb_cell_id = 16;\n",
       "                var nbb_unformatted_code = \"symmetric_both_df = ddg_data_dict[\\\"symmetric_both\\\"]\\nsymmetric_both_df[\\\"ddg_pred_idp_no_ds_both_dir\\\"] = symmetric_both_df.apply(\\n    lambda row: 0.5 * (row[\\\"ddg_pred_idp_no_ds_dir\\\"] - row[\\\"ddg_pred_idp_no_ds_inv\\\"]),\\n    axis=1,\\n)\\nsymmetric_both_df[\\\"ddg_pred_idp_no_ds_both_inv\\\"] = symmetric_both_df.apply(\\n    lambda row: 0.5 * (row[\\\"ddg_pred_idp_no_ds_inv\\\"] - row[\\\"ddg_pred_idp_no_ds_dir\\\"]),\\n    axis=1,\\n)\";\n",
       "                var nbb_formatted_code = \"symmetric_both_df = ddg_data_dict[\\\"symmetric_both\\\"]\\nsymmetric_both_df[\\\"ddg_pred_idp_no_ds_both_dir\\\"] = symmetric_both_df.apply(\\n    lambda row: 0.5 * (row[\\\"ddg_pred_idp_no_ds_dir\\\"] - row[\\\"ddg_pred_idp_no_ds_inv\\\"]),\\n    axis=1,\\n)\\nsymmetric_both_df[\\\"ddg_pred_idp_no_ds_both_inv\\\"] = symmetric_both_df.apply(\\n    lambda row: 0.5 * (row[\\\"ddg_pred_idp_no_ds_inv\\\"] - row[\\\"ddg_pred_idp_no_ds_dir\\\"]),\\n    axis=1,\\n)\";\n",
       "                var nbb_cells = Jupyter.notebook.get_cells();\n",
       "                for (var i = 0; i < nbb_cells.length; ++i) {\n",
       "                    if (nbb_cells[i].input_prompt_number == nbb_cell_id) {\n",
       "                        if (nbb_cells[i].get_text() == nbb_unformatted_code) {\n",
       "                             nbb_cells[i].set_text(nbb_formatted_code);\n",
       "                        }\n",
       "                        break;\n",
       "                    }\n",
       "                }\n",
       "            }, 500);\n",
       "            "
      ],
      "text/plain": [
       "<IPython.core.display.Javascript object>"
      ]
     },
     "metadata": {},
     "output_type": "display_data"
    }
   ],
   "source": [
    "symmetric_both_df = ddg_data_dict[\"symmetric_both\"]\n",
    "symmetric_both_df[\"ddg_pred_idp_no_ds_both_dir\"] = symmetric_both_df.apply(\n",
    "    lambda row: 0.5 * (row[\"ddg_pred_idp_no_ds_dir\"] - row[\"ddg_pred_idp_no_ds_inv\"]),\n",
    "    axis=1,\n",
    ")\n",
    "symmetric_both_df[\"ddg_pred_idp_no_ds_both_inv\"] = symmetric_both_df.apply(\n",
    "    lambda row: 0.5 * (row[\"ddg_pred_idp_no_ds_inv\"] - row[\"ddg_pred_idp_no_ds_dir\"]),\n",
    "    axis=1,\n",
    ")"
   ]
  },
  {
   "cell_type": "markdown",
   "metadata": {},
   "source": [
    "### Plot prediction using both structures"
   ]
  },
  {
   "cell_type": "code",
   "execution_count": 17,
   "metadata": {
    "scrolled": true
   },
   "outputs": [
    {
     "data": {
      "image/png": "[encoded data removed]",
      "text/plain": [
       "<Figure size 432x288 with 1 Axes>"
      ]
     },
     "metadata": {
      "needs_background": "light"
     },
     "output_type": "display_data"
    },
    {
     "data": {
      "image/png": "[encoded data removed]",
      "text/plain": [
       "<Figure size 432x288 with 1 Axes>"
      ]
     },
     "metadata": {
      "needs_background": "light"
     },
     "output_type": "display_data"
    },
    {
     "data": {
      "application/javascript": [
       "\n",
       "            setTimeout(function() {\n",
       "                var nbb_cell_id = 17;\n",
       "                var nbb_unformatted_code = \"# Plot prediction for ddg direct using both structures\\nfig, ax = scatter_pred_vs_true(\\n    ddg_data_dict[\\\"symmetric_both\\\"][\\\"ddg_dir\\\"],\\n    ddg_data_dict[\\\"symmetric_both\\\"][\\\"ddg_pred_no_ds_both_dir\\\"],\\n    color=\\\"black\\\",\\n    title=\\\"Both structure (Direct)\\\",\\n)\\n\\n# Plot prediction for ddg inverse using both structures\\nfig, ax = scatter_pred_vs_true(\\n    ddg_data_dict[\\\"symmetric_both\\\"][\\\"ddg_inv\\\"],\\n    ddg_data_dict[\\\"symmetric_both\\\"][\\\"ddg_pred_no_ds_both_inv\\\"],\\n    color=\\\"black\\\",\\n    title=\\\"Both structure (Inverse)\\\",\\n)\";\n",
       "                var nbb_formatted_code = \"# Plot prediction for ddg direct using both structures\\nfig, ax = scatter_pred_vs_true(\\n    ddg_data_dict[\\\"symmetric_both\\\"][\\\"ddg_dir\\\"],\\n    ddg_data_dict[\\\"symmetric_both\\\"][\\\"ddg_pred_no_ds_both_dir\\\"],\\n    color=\\\"black\\\",\\n    title=\\\"Both structure (Direct)\\\",\\n)\\n\\n# Plot prediction for ddg inverse using both structures\\nfig, ax = scatter_pred_vs_true(\\n    ddg_data_dict[\\\"symmetric_both\\\"][\\\"ddg_inv\\\"],\\n    ddg_data_dict[\\\"symmetric_both\\\"][\\\"ddg_pred_no_ds_both_inv\\\"],\\n    color=\\\"black\\\",\\n    title=\\\"Both structure (Inverse)\\\",\\n)\";\n",
       "                var nbb_cells = Jupyter.notebook.get_cells();\n",
       "                for (var i = 0; i < nbb_cells.length; ++i) {\n",
       "                    if (nbb_cells[i].input_prompt_number == nbb_cell_id) {\n",
       "                        if (nbb_cells[i].get_text() == nbb_unformatted_code) {\n",
       "                             nbb_cells[i].set_text(nbb_formatted_code);\n",
       "                        }\n",
       "                        break;\n",
       "                    }\n",
       "                }\n",
       "            }, 500);\n",
       "            "
      ],
      "text/plain": [
       "<IPython.core.display.Javascript object>"
      ]
     },
     "metadata": {},
     "output_type": "display_data"
    }
   ],
   "source": [
    "# Plot prediction for ddg direct using both structures\n",
    "fig, ax = scatter_pred_vs_true(\n",
    "    ddg_data_dict[\"symmetric_both\"][\"ddg_dir\"],\n",
    "    ddg_data_dict[\"symmetric_both\"][\"ddg_pred_no_ds_both_dir\"],\n",
    "    color=\"black\",\n",
    "    title=\"Both structure (Direct)\",\n",
    ")\n",
    "\n",
    "# Plot prediction for ddg inverse using both structures\n",
    "fig, ax = scatter_pred_vs_true(\n",
    "    ddg_data_dict[\"symmetric_both\"][\"ddg_inv\"],\n",
    "    ddg_data_dict[\"symmetric_both\"][\"ddg_pred_no_ds_both_inv\"],\n",
    "    color=\"black\",\n",
    "    title=\"Both structure (Inverse)\",\n",
    ")"
   ]
  },
  {
   "cell_type": "markdown",
   "metadata": {},
   "source": [
    "### Plot prediction using both structures (IDP statistics)"
   ]
  },
  {
   "cell_type": "code",
   "execution_count": 18,
   "metadata": {
    "scrolled": true
   },
   "outputs": [
    {
     "data": {
      "image/png": "[encoded data removed]",
      "text/plain": [
       "<Figure size 432x288 with 1 Axes>"
      ]
     },
     "metadata": {
      "needs_background": "light"
     },
     "output_type": "display_data"
    },
    {
     "data": {
      "image/png": "[encoded data removed]",
      "text/plain": [
       "<Figure size 432x288 with 1 Axes>"
      ]
     },
     "metadata": {
      "needs_background": "light"
     },
     "output_type": "display_data"
    },
    {
     "data": {
      "application/javascript": [
       "\n",
       "            setTimeout(function() {\n",
       "                var nbb_cell_id = 18;\n",
       "                var nbb_unformatted_code = \"# Plot prediction for ddg direct using both structures\\nfig, ax = scatter_pred_vs_true(\\n    ddg_data_dict[\\\"symmetric_both\\\"][\\\"ddg_dir\\\"],\\n    ddg_data_dict[\\\"symmetric_both\\\"][\\\"ddg_pred_idp_no_ds_both_dir\\\"],\\n    color=\\\"black\\\",\\n    title=\\\"Both structure (Direct)\\\",\\n)\\n\\n# Plot prediction for ddg inverse using both structures\\nfig, ax = scatter_pred_vs_true(\\n    ddg_data_dict[\\\"symmetric_both\\\"][\\\"ddg_inv\\\"],\\n    ddg_data_dict[\\\"symmetric_both\\\"][\\\"ddg_pred_idp_no_ds_both_inv\\\"],\\n    color=\\\"black\\\",\\n    title=\\\"Both structure (Inverse)\\\",\\n)\";\n",
       "                var nbb_formatted_code = \"# Plot prediction for ddg direct using both structures\\nfig, ax = scatter_pred_vs_true(\\n    ddg_data_dict[\\\"symmetric_both\\\"][\\\"ddg_dir\\\"],\\n    ddg_data_dict[\\\"symmetric_both\\\"][\\\"ddg_pred_idp_no_ds_both_dir\\\"],\\n    color=\\\"black\\\",\\n    title=\\\"Both structure (Direct)\\\",\\n)\\n\\n# Plot prediction for ddg inverse using both structures\\nfig, ax = scatter_pred_vs_true(\\n    ddg_data_dict[\\\"symmetric_both\\\"][\\\"ddg_inv\\\"],\\n    ddg_data_dict[\\\"symmetric_both\\\"][\\\"ddg_pred_idp_no_ds_both_inv\\\"],\\n    color=\\\"black\\\",\\n    title=\\\"Both structure (Inverse)\\\",\\n)\";\n",
       "                var nbb_cells = Jupyter.notebook.get_cells();\n",
       "                for (var i = 0; i < nbb_cells.length; ++i) {\n",
       "                    if (nbb_cells[i].input_prompt_number == nbb_cell_id) {\n",
       "                        if (nbb_cells[i].get_text() == nbb_unformatted_code) {\n",
       "                             nbb_cells[i].set_text(nbb_formatted_code);\n",
       "                        }\n",
       "                        break;\n",
       "                    }\n",
       "                }\n",
       "            }, 500);\n",
       "            "
      ],
      "text/plain": [
       "<IPython.core.display.Javascript object>"
      ]
     },
     "metadata": {},
     "output_type": "display_data"
    }
   ],
   "source": [
    "# Plot prediction for ddg direct using both structures\n",
    "fig, ax = scatter_pred_vs_true(\n",
    "    ddg_data_dict[\"symmetric_both\"][\"ddg_dir\"],\n",
    "    ddg_data_dict[\"symmetric_both\"][\"ddg_pred_idp_no_ds_both_dir\"],\n",
    "    color=\"black\",\n",
    "    title=\"Both structure (Direct)\",\n",
    ")\n",
    "\n",
    "# Plot prediction for ddg inverse using both structures\n",
    "fig, ax = scatter_pred_vs_true(\n",
    "    ddg_data_dict[\"symmetric_both\"][\"ddg_inv\"],\n",
    "    ddg_data_dict[\"symmetric_both\"][\"ddg_pred_idp_no_ds_both_inv\"],\n",
    "    color=\"black\",\n",
    "    title=\"Both structure (Inverse)\",\n",
    ")"
   ]
  },
  {
   "cell_type": "markdown",
   "metadata": {},
   "source": [
    "### Phaistos statistics"
   ]
  },
  {
   "cell_type": "code",
   "execution_count": 134,
   "metadata": {
    "scrolled": true
   },
   "outputs": [
    {
     "name": "stderr",
     "output_type": "stream",
     "text": [
      "/home/chz526/software/miniconda3/envs/cavity-model/lib/python3.6/site-packages/Bio/PDB/StructureBuilder.py:90: PDBConstructionWarning: WARNING: Chain A is discontinuous at line 4562.\n",
      "  PDBConstructionWarning)\n",
      "/home/chz526/software/miniconda3/envs/cavity-model/lib/python3.6/site-packages/Bio/PDB/StructureBuilder.py:90: PDBConstructionWarning: WARNING: Chain B is discontinuous at line 4563.\n",
      "  PDBConstructionWarning)\n",
      "/home/chz526/software/miniconda3/envs/cavity-model/lib/python3.6/site-packages/Bio/PDB/StructureBuilder.py:90: PDBConstructionWarning: WARNING: Chain C is discontinuous at line 4564.\n",
      "  PDBConstructionWarning)\n",
      "/home/chz526/software/miniconda3/envs/cavity-model/lib/python3.6/site-packages/Bio/PDB/StructureBuilder.py:90: PDBConstructionWarning: WARNING: Chain D is discontinuous at line 4565.\n",
      "  PDBConstructionWarning)\n",
      "/home/chz526/software/miniconda3/envs/cavity-model/lib/python3.6/site-packages/Bio/PDB/StructureBuilder.py:90: PDBConstructionWarning: WARNING: Chain A is discontinuous at line 4566.\n",
      "  PDBConstructionWarning)\n",
      "/home/chz526/software/miniconda3/envs/cavity-model/lib/python3.6/site-packages/Bio/PDB/StructureBuilder.py:90: PDBConstructionWarning: WARNING: Chain B is discontinuous at line 4592.\n",
      "  PDBConstructionWarning)\n",
      "/home/chz526/software/miniconda3/envs/cavity-model/lib/python3.6/site-packages/Bio/PDB/StructureBuilder.py:90: PDBConstructionWarning: WARNING: Chain C is discontinuous at line 4612.\n",
      "  PDBConstructionWarning)\n",
      "/home/chz526/software/miniconda3/envs/cavity-model/lib/python3.6/site-packages/Bio/PDB/StructureBuilder.py:90: PDBConstructionWarning: WARNING: Chain D is discontinuous at line 4620.\n",
      "  PDBConstructionWarning)\n",
      "/home/chz526/software/miniconda3/envs/cavity-model/lib/python3.6/site-packages/Bio/PDB/StructureBuilder.py:90: PDBConstructionWarning: WARNING: Chain B is discontinuous at line 1140.\n",
      "  PDBConstructionWarning)\n",
      "/home/chz526/software/miniconda3/envs/cavity-model/lib/python3.6/site-packages/Bio/PDB/StructureBuilder.py:90: PDBConstructionWarning: WARNING: Chain C is discontinuous at line 1165.\n",
      "  PDBConstructionWarning)\n",
      "/home/chz526/software/miniconda3/envs/cavity-model/lib/python3.6/site-packages/Bio/PDB/StructureBuilder.py:90: PDBConstructionWarning: WARNING: Chain A is discontinuous at line 1197.\n",
      "  PDBConstructionWarning)\n",
      "/home/chz526/software/miniconda3/envs/cavity-model/lib/python3.6/site-packages/Bio/PDB/StructureBuilder.py:90: PDBConstructionWarning: WARNING: Chain A is discontinuous at line 5705.\n",
      "  PDBConstructionWarning)\n",
      "/home/chz526/software/miniconda3/envs/cavity-model/lib/python3.6/site-packages/Bio/PDB/StructureBuilder.py:90: PDBConstructionWarning: WARNING: Chain B is discontinuous at line 5707.\n",
      "  PDBConstructionWarning)\n",
      "/home/chz526/software/miniconda3/envs/cavity-model/lib/python3.6/site-packages/Bio/PDB/StructureBuilder.py:90: PDBConstructionWarning: WARNING: Chain C is discontinuous at line 5709.\n",
      "  PDBConstructionWarning)\n",
      "/home/chz526/software/miniconda3/envs/cavity-model/lib/python3.6/site-packages/Bio/PDB/StructureBuilder.py:90: PDBConstructionWarning: WARNING: Chain A is discontinuous at line 5711.\n",
      "  PDBConstructionWarning)\n",
      "/home/chz526/software/miniconda3/envs/cavity-model/lib/python3.6/site-packages/Bio/PDB/StructureBuilder.py:90: PDBConstructionWarning: WARNING: Chain B is discontinuous at line 5979.\n",
      "  PDBConstructionWarning)\n",
      "/home/chz526/software/miniconda3/envs/cavity-model/lib/python3.6/site-packages/Bio/PDB/StructureBuilder.py:90: PDBConstructionWarning: WARNING: Chain C is discontinuous at line 6259.\n",
      "  PDBConstructionWarning)\n",
      "/home/chz526/software/miniconda3/envs/cavity-model/lib/python3.6/site-packages/Bio/PDB/StructureBuilder.py:90: PDBConstructionWarning: WARNING: Chain A is discontinuous at line 3056.\n",
      "  PDBConstructionWarning)\n",
      "/home/chz526/software/miniconda3/envs/cavity-model/lib/python3.6/site-packages/Bio/PDB/StructureBuilder.py:90: PDBConstructionWarning: WARNING: Chain B is discontinuous at line 3089.\n",
      "  PDBConstructionWarning)\n",
      "/home/chz526/software/miniconda3/envs/cavity-model/lib/python3.6/site-packages/Bio/PDB/StructureBuilder.py:90: PDBConstructionWarning: WARNING: Chain A is discontinuous at line 3119.\n",
      "  PDBConstructionWarning)\n",
      "/home/chz526/software/miniconda3/envs/cavity-model/lib/python3.6/site-packages/Bio/PDB/StructureBuilder.py:90: PDBConstructionWarning: WARNING: Chain B is discontinuous at line 3347.\n",
      "  PDBConstructionWarning)\n",
      "/home/chz526/software/miniconda3/envs/cavity-model/lib/python3.6/site-packages/Bio/PDB/StructureBuilder.py:90: PDBConstructionWarning: WARNING: Chain A is discontinuous at line 2797.\n",
      "  PDBConstructionWarning)\n",
      "/home/chz526/software/miniconda3/envs/cavity-model/lib/python3.6/site-packages/Bio/PDB/StructureBuilder.py:90: PDBConstructionWarning: WARNING: Chain B is discontinuous at line 2802.\n",
      "  PDBConstructionWarning)\n",
      "/home/chz526/software/miniconda3/envs/cavity-model/lib/python3.6/site-packages/Bio/PDB/StructureBuilder.py:90: PDBConstructionWarning: WARNING: Chain C is discontinuous at line 2807.\n",
      "  PDBConstructionWarning)\n",
      "/home/chz526/software/miniconda3/envs/cavity-model/lib/python3.6/site-packages/Bio/PDB/StructureBuilder.py:90: PDBConstructionWarning: WARNING: Chain A is discontinuous at line 2812.\n",
      "  PDBConstructionWarning)\n",
      "/home/chz526/software/miniconda3/envs/cavity-model/lib/python3.6/site-packages/Bio/PDB/StructureBuilder.py:90: PDBConstructionWarning: WARNING: Chain B is discontinuous at line 2862.\n",
      "  PDBConstructionWarning)\n",
      "/home/chz526/software/miniconda3/envs/cavity-model/lib/python3.6/site-packages/Bio/PDB/StructureBuilder.py:90: PDBConstructionWarning: WARNING: Chain C is discontinuous at line 2929.\n",
      "  PDBConstructionWarning)\n",
      "/home/chz526/software/miniconda3/envs/cavity-model/lib/python3.6/site-packages/Bio/PDB/StructureBuilder.py:90: PDBConstructionWarning: WARNING: Chain A is discontinuous at line 1924.\n",
      "  PDBConstructionWarning)\n",
      "/home/chz526/software/miniconda3/envs/cavity-model/lib/python3.6/site-packages/Bio/PDB/StructureBuilder.py:90: PDBConstructionWarning: WARNING: Chain B is discontinuous at line 2031.\n",
      "  PDBConstructionWarning)\n",
      "/home/chz526/software/miniconda3/envs/cavity-model/lib/python3.6/site-packages/Bio/PDB/StructureBuilder.py:90: PDBConstructionWarning: WARNING: Chain C is discontinuous at line 2123.\n",
      "  PDBConstructionWarning)\n",
      "/home/chz526/software/miniconda3/envs/cavity-model/lib/python3.6/site-packages/Bio/PDB/StructureBuilder.py:90: PDBConstructionWarning: WARNING: Chain A is discontinuous at line 4556.\n",
      "  PDBConstructionWarning)\n",
      "/home/chz526/software/miniconda3/envs/cavity-model/lib/python3.6/site-packages/Bio/PDB/StructureBuilder.py:90: PDBConstructionWarning: WARNING: Chain B is discontinuous at line 4627.\n",
      "  PDBConstructionWarning)\n",
      "/home/chz526/software/miniconda3/envs/cavity-model/lib/python3.6/site-packages/Bio/PDB/StructureBuilder.py:90: PDBConstructionWarning: WARNING: Chain A is discontinuous at line 4669.\n",
      "  PDBConstructionWarning)\n",
      "/home/chz526/software/miniconda3/envs/cavity-model/lib/python3.6/site-packages/Bio/PDB/StructureBuilder.py:90: PDBConstructionWarning: WARNING: Chain B is discontinuous at line 4765.\n",
      "  PDBConstructionWarning)\n",
      "/home/chz526/software/miniconda3/envs/cavity-model/lib/python3.6/site-packages/Bio/PDB/StructureBuilder.py:90: PDBConstructionWarning: WARNING: Chain 1 is discontinuous at line 2617.\n",
      "  PDBConstructionWarning)\n",
      "/home/chz526/software/miniconda3/envs/cavity-model/lib/python3.6/site-packages/Bio/PDB/StructureBuilder.py:90: PDBConstructionWarning: WARNING: Chain 2 is discontinuous at line 2653.\n",
      "  PDBConstructionWarning)\n",
      "/home/chz526/software/miniconda3/envs/cavity-model/lib/python3.6/site-packages/Bio/PDB/StructureBuilder.py:90: PDBConstructionWarning: WARNING: Chain 3 is discontinuous at line 2680.\n",
      "  PDBConstructionWarning)\n",
      "/home/chz526/software/miniconda3/envs/cavity-model/lib/python3.6/site-packages/Bio/PDB/StructureBuilder.py:90: PDBConstructionWarning: WARNING: Chain 4 is discontinuous at line 2728.\n",
      "  PDBConstructionWarning)\n",
      "/home/chz526/software/miniconda3/envs/cavity-model/lib/python3.6/site-packages/Bio/PDB/StructureBuilder.py:90: PDBConstructionWarning: WARNING: Chain A is discontinuous at line 1966.\n",
      "  PDBConstructionWarning)\n",
      "/home/chz526/software/miniconda3/envs/cavity-model/lib/python3.6/site-packages/Bio/PDB/StructureBuilder.py:90: PDBConstructionWarning: WARNING: Chain B is discontinuous at line 1970.\n",
      "  PDBConstructionWarning)\n",
      "/home/chz526/software/miniconda3/envs/cavity-model/lib/python3.6/site-packages/Bio/PDB/StructureBuilder.py:90: PDBConstructionWarning: WARNING: Chain A is discontinuous at line 1974.\n",
      "  PDBConstructionWarning)\n",
      "/home/chz526/software/miniconda3/envs/cavity-model/lib/python3.6/site-packages/Bio/PDB/StructureBuilder.py:90: PDBConstructionWarning: WARNING: Chain B is discontinuous at line 2107.\n",
      "  PDBConstructionWarning)\n"
     ]
    },
    {
     "name": "stderr",
     "output_type": "stream",
     "text": [
      "/home/chz526/software/miniconda3/envs/cavity-model/lib/python3.6/site-packages/Bio/PDB/StructureBuilder.py:90: PDBConstructionWarning: WARNING: Chain A is discontinuous at line 4264.\n",
      "  PDBConstructionWarning)\n",
      "/home/chz526/software/miniconda3/envs/cavity-model/lib/python3.6/site-packages/Bio/PDB/StructureBuilder.py:90: PDBConstructionWarning: WARNING: Chain B is discontinuous at line 4334.\n",
      "  PDBConstructionWarning)\n",
      "/home/chz526/software/miniconda3/envs/cavity-model/lib/python3.6/site-packages/Bio/PDB/StructureBuilder.py:90: PDBConstructionWarning: WARNING: Chain A is discontinuous at line 4385.\n",
      "  PDBConstructionWarning)\n",
      "/home/chz526/software/miniconda3/envs/cavity-model/lib/python3.6/site-packages/Bio/PDB/StructureBuilder.py:90: PDBConstructionWarning: WARNING: Chain B is discontinuous at line 4551.\n",
      "  PDBConstructionWarning)\n"
     ]
    },
    {
     "data": {
      "application/javascript": [
       "\n",
       "            setTimeout(function() {\n",
       "                var nbb_cell_id = 134;\n",
       "                var nbb_unformatted_code = \"from helpers import _add_flanking_seq_fragments\\n\\n# # Add flanking sequence fragments for protein g\\n# raw_pdbs = glob.glob(\\\"data/data_protein_g/pdbs_raw/*.pdb\\\")\\n# for raw_pdb in raw_pdbs:\\n#     _add_flanking_seq_fragments(\\n#         ddg_data_dict,\\n#         \\\"protein_g\\\",\\n#         raw_pdb,\\n#     )\\n\\n# Add flanking sequence fragments for protein g\\nraw_pdbs = glob.glob(\\\"data/data_guerois/pdbs_raw/*.pdb\\\")\\nfor raw_pdb in raw_pdbs:\\n    _add_flanking_seq_fragments(\\n        ddg_data_dict,\\n        \\\"guerois\\\",\\n        raw_pdb,\\n    )\\n\\n# Add flanking sequence fragments for protein g\\nraw_pdbs = glob.glob(\\\"data/data_dms/pdbs_raw/*.pdb\\\")\\nfor raw_pdb in raw_pdbs:\\n    _add_flanking_seq_fragments(\\n        ddg_data_dict,\\n        \\\"dms\\\",\\n        raw_pdb,\\n    )\";\n",
       "                var nbb_formatted_code = \"from helpers import _add_flanking_seq_fragments\\n\\n# # Add flanking sequence fragments for protein g\\n# raw_pdbs = glob.glob(\\\"data/data_protein_g/pdbs_raw/*.pdb\\\")\\n# for raw_pdb in raw_pdbs:\\n#     _add_flanking_seq_fragments(\\n#         ddg_data_dict,\\n#         \\\"protein_g\\\",\\n#         raw_pdb,\\n#     )\\n\\n# Add flanking sequence fragments for protein g\\nraw_pdbs = glob.glob(\\\"data/data_guerois/pdbs_raw/*.pdb\\\")\\nfor raw_pdb in raw_pdbs:\\n    _add_flanking_seq_fragments(\\n        ddg_data_dict,\\n        \\\"guerois\\\",\\n        raw_pdb,\\n    )\\n\\n# Add flanking sequence fragments for protein g\\nraw_pdbs = glob.glob(\\\"data/data_dms/pdbs_raw/*.pdb\\\")\\nfor raw_pdb in raw_pdbs:\\n    _add_flanking_seq_fragments(\\n        ddg_data_dict,\\n        \\\"dms\\\",\\n        raw_pdb,\\n    )\";\n",
       "                var nbb_cells = Jupyter.notebook.get_cells();\n",
       "                for (var i = 0; i < nbb_cells.length; ++i) {\n",
       "                    if (nbb_cells[i].input_prompt_number == nbb_cell_id) {\n",
       "                        if (nbb_cells[i].get_text() == nbb_unformatted_code) {\n",
       "                             nbb_cells[i].set_text(nbb_formatted_code);\n",
       "                        }\n",
       "                        break;\n",
       "                    }\n",
       "                }\n",
       "            }, 500);\n",
       "            "
      ],
      "text/plain": [
       "<IPython.core.display.Javascript object>"
      ]
     },
     "metadata": {},
     "output_type": "display_data"
    }
   ],
   "source": [
    "from helpers import _add_flanking_seq_fragments\n",
    "\n",
    "# Add flanking sequence fragments for protein g\n",
    "raw_pdbs = glob.glob(\"data/data_protein_g/pdbs_raw/*.pdb\")\n",
    "for raw_pdb in raw_pdbs:\n",
    "    _add_flanking_seq_fragments(\n",
    "        ddg_data_dict,\n",
    "        \"protein_g\",\n",
    "        raw_pdb,\n",
    "    )\n",
    "\n",
    "# Add flanking sequence fragments for guerois\n",
    "raw_pdbs = glob.glob(\"data/data_guerois/pdbs_raw/*.pdb\")\n",
    "for raw_pdb in raw_pdbs:\n",
    "    _add_flanking_seq_fragments(\n",
    "        ddg_data_dict,\n",
    "        \"guerois\",\n",
    "        raw_pdb,\n",
    "    )\n",
    "\n",
    "# Add flanking sequence fragments for dms\n",
    "raw_pdbs = glob.glob(\"data/data_dms/pdbs_raw/*.pdb\")\n",
    "for raw_pdb in raw_pdbs:\n",
    "    _add_flanking_seq_fragments(\n",
    "        ddg_data_dict,\n",
    "        \"dms\",\n",
    "        raw_pdb,\n",
    "    )"
   ]
  },
  {
   "cell_type": "code",
   "execution_count": 138,
   "metadata": {},
   "outputs": [
    {
     "data": {
      "application/javascript": [
       "\n",
       "            setTimeout(function() {\n",
       "                var nbb_cell_id = 138;\n",
       "                var nbb_unformatted_code = \"# Output CSVs\\nddg_data_dict[\\\"protein_g\\\"][\\n    [\\\"pdbid\\\", \\\"variant\\\", \\\"left_flank\\\", \\\"right_flank\\\", \\\"wt_restype\\\", \\\"mt_restype\\\"]\\n].to_csv(\\\"sequence_flanks_protein_g.csv\\\")\\nddg_data_dict[\\\"dms\\\"][\\n    [\\\"pdbid\\\", \\\"variant\\\", \\\"left_flank\\\", \\\"right_flank\\\", \\\"wt_restype\\\", \\\"mt_restype\\\"]\\n].to_csv(\\\"sequence_flanks_dms.csv\\\")\\nddg_data_dict[\\\"guerois\\\"][\\n    [\\\"pdbid\\\", \\\"variant\\\", \\\"left_flank\\\", \\\"right_flank\\\", \\\"wt_restype\\\", \\\"mt_restype\\\"]\\n].to_csv(\\\"sequence_flanks_guerois.csv\\\")\";\n",
       "                var nbb_formatted_code = \"# Output CSVs\\nddg_data_dict[\\\"protein_g\\\"][\\n    [\\\"pdbid\\\", \\\"variant\\\", \\\"left_flank\\\", \\\"right_flank\\\", \\\"wt_restype\\\", \\\"mt_restype\\\"]\\n].to_csv(\\\"sequence_flanks_protein_g.csv\\\")\\nddg_data_dict[\\\"dms\\\"][\\n    [\\\"pdbid\\\", \\\"variant\\\", \\\"left_flank\\\", \\\"right_flank\\\", \\\"wt_restype\\\", \\\"mt_restype\\\"]\\n].to_csv(\\\"sequence_flanks_dms.csv\\\")\\nddg_data_dict[\\\"guerois\\\"][\\n    [\\\"pdbid\\\", \\\"variant\\\", \\\"left_flank\\\", \\\"right_flank\\\", \\\"wt_restype\\\", \\\"mt_restype\\\"]\\n].to_csv(\\\"sequence_flanks_guerois.csv\\\")\";\n",
       "                var nbb_cells = Jupyter.notebook.get_cells();\n",
       "                for (var i = 0; i < nbb_cells.length; ++i) {\n",
       "                    if (nbb_cells[i].input_prompt_number == nbb_cell_id) {\n",
       "                        if (nbb_cells[i].get_text() == nbb_unformatted_code) {\n",
       "                             nbb_cells[i].set_text(nbb_formatted_code);\n",
       "                        }\n",
       "                        break;\n",
       "                    }\n",
       "                }\n",
       "            }, 500);\n",
       "            "
      ],
      "text/plain": [
       "<IPython.core.display.Javascript object>"
      ]
     },
     "metadata": {},
     "output_type": "display_data"
    }
   ],
   "source": [
    "# Output CSVs\n",
    "ddg_data_dict[\"protein_g\"][\n",
    "    [\"pdbid\", \"variant\", \"left_flank\", \"right_flank\", \"wt_restype\", \"mt_restype\"]\n",
    "].to_csv(\"sequence_flanks_protein_g.csv\")\n",
    "ddg_data_dict[\"dms\"][\n",
    "    [\"pdbid\", \"variant\", \"left_flank\", \"right_flank\", \"wt_restype\", \"mt_restype\"]\n",
    "].to_csv(\"sequence_flanks_dms.csv\")\n",
    "ddg_data_dict[\"guerois\"][\n",
    "    [\"pdbid\", \"variant\", \"left_flank\", \"right_flank\", \"wt_restype\", \"mt_restype\"]\n",
    "].to_csv(\"sequence_flanks_guerois.csv\")"
   ]
  },
  {
   "cell_type": "code",
   "execution_count": 21,
   "metadata": {},
   "outputs": [
    {
     "data": {
      "application/javascript": [
       "\n",
       "            setTimeout(function() {\n",
       "                var nbb_cell_id = 21;\n",
       "                var nbb_unformatted_code = \"# DROP SOME ROWS FOR QUICKER TESTING\\n# ddg_data_dict[\\\"protein_g\\\"] = ddg_data_dict[\\\"protein_g\\\"].iloc[0:100]\";\n",
       "                var nbb_formatted_code = \"# DROP SOME ROWS FOR QUICKER TESTING\\n# ddg_data_dict[\\\"protein_g\\\"] = ddg_data_dict[\\\"protein_g\\\"].iloc[0:100]\";\n",
       "                var nbb_cells = Jupyter.notebook.get_cells();\n",
       "                for (var i = 0; i < nbb_cells.length; ++i) {\n",
       "                    if (nbb_cells[i].input_prompt_number == nbb_cell_id) {\n",
       "                        if (nbb_cells[i].get_text() == nbb_unformatted_code) {\n",
       "                             nbb_cells[i].set_text(nbb_formatted_code);\n",
       "                        }\n",
       "                        break;\n",
       "                    }\n",
       "                }\n",
       "            }, 500);\n",
       "            "
      ],
      "text/plain": [
       "<IPython.core.display.Javascript object>"
      ]
     },
     "metadata": {},
     "output_type": "display_data"
    }
   ],
   "source": [
    "# DROP SOME ROWS FOR QUICKER TESTING\n",
    "# ddg_data_dict[\"protein_g\"] = ddg_data_dict[\"protein_g\"].iloc[0:100]"
   ]
  },
  {
   "cell_type": "code",
   "execution_count": 22,
   "metadata": {
    "scrolled": true
   },
   "outputs": [
    {
     "data": {
      "application/javascript": [
       "\n",
       "            setTimeout(function() {\n",
       "                var nbb_cell_id = 22;\n",
       "                var nbb_unformatted_code = \"# from cavity_model import ToTensor\\n# from torch.nn.functional import softmax\\n# import numpy as np\\n\\n\\n# # Lets get the probabilities for the center residues\\n# fragments_nlls_wt_given_wt = []\\n# fragments_nlls_mt_given_wt = []\\n# for i, row in ddg_data_dict[\\\"protein_g\\\"].iterrows():\\n#     print(i)\\n#     npz_wc_wt = (\\n#         \\\"data/data_protein_g/simulate_seq_fragments/samples_1PGA_A_\\\"\\n#         + row[\\\"variant\\\"]\\n#         + \\\"/*.npz\\\"\\n#     )\\n#     # Create a dataset of all residue environments for this fragment\\n#     try:\\n#         fragment_dataset_wt = ResidueEnvironmentsDataset(\\n#             sorted(glob.glob(npz_wc_wt)), transformer=None\\n#         )\\n#     except ValueError as e:\\n#         print(f\\\"Variant {row['variant']} failed with error: {e}.\\\")\\n#         fragments_nlls_wt_given_wt.append(np.array([np.nan, np.nan, np.nan]))\\n#         fragments_nlls_mt_given_wt.append(np.array([np.nan, np.nan, np.nan]))\\n#         continue\\n\\n#     # Extract the ones with pdb_residue_number 0 (center)\\n#     res_envs_center_wt = [\\n#         res_env for res_env in fragment_dataset_wt if res_env.pdb_residue_number == 0\\n#     ]\\n#     # Create dataset and dataloder\\n#     dataset_center = ResidueEnvironmentsDataset(\\n#         res_envs_center_wt, transformer=ToTensor(DEVICE)\\n#     )\\n#     dataloader_center = DataLoader(\\n#         dataset_center,\\n#         batch_size=len(dataset_center),\\n#         shuffle=False,\\n#         drop_last=False,\\n#         collate_fn=ToTensor(DEVICE).collate_cat,\\n#     )\\n#     # Get X tensor\\n#     x_batch, _ = next(iter(dataloader_center))\\n\\n#     # Predict\\n#     y_pred = (\\n#         -torch.log(softmax(cavity_model_infer_net(x_batch), dim=-1) + EPS)\\n#         .detach()\\n#         .cpu()\\n#         .numpy()\\n#     )\\n#     fragments_nlls_wt_given_wt.append(y_pred[:, row[\\\"wt_idx\\\"]])\\n#     fragments_nlls_mt_given_wt.append(y_pred[:, row[\\\"mt_idx\\\"]])\\n# ddg_data_dict[\\\"protein_g\\\"][\\\"fragment_nll_wt_given_wt\\\"] = fragments_nlls_wt_given_wt\\n# ddg_data_dict[\\\"protein_g\\\"][\\\"fragment_nll_mt_given_wt\\\"] = fragments_nlls_mt_given_wt\";\n",
       "                var nbb_formatted_code = \"# from cavity_model import ToTensor\\n# from torch.nn.functional import softmax\\n# import numpy as np\\n\\n\\n# # Lets get the probabilities for the center residues\\n# fragments_nlls_wt_given_wt = []\\n# fragments_nlls_mt_given_wt = []\\n# for i, row in ddg_data_dict[\\\"protein_g\\\"].iterrows():\\n#     print(i)\\n#     npz_wc_wt = (\\n#         \\\"data/data_protein_g/simulate_seq_fragments/samples_1PGA_A_\\\"\\n#         + row[\\\"variant\\\"]\\n#         + \\\"/*.npz\\\"\\n#     )\\n#     # Create a dataset of all residue environments for this fragment\\n#     try:\\n#         fragment_dataset_wt = ResidueEnvironmentsDataset(\\n#             sorted(glob.glob(npz_wc_wt)), transformer=None\\n#         )\\n#     except ValueError as e:\\n#         print(f\\\"Variant {row['variant']} failed with error: {e}.\\\")\\n#         fragments_nlls_wt_given_wt.append(np.array([np.nan, np.nan, np.nan]))\\n#         fragments_nlls_mt_given_wt.append(np.array([np.nan, np.nan, np.nan]))\\n#         continue\\n\\n#     # Extract the ones with pdb_residue_number 0 (center)\\n#     res_envs_center_wt = [\\n#         res_env for res_env in fragment_dataset_wt if res_env.pdb_residue_number == 0\\n#     ]\\n#     # Create dataset and dataloder\\n#     dataset_center = ResidueEnvironmentsDataset(\\n#         res_envs_center_wt, transformer=ToTensor(DEVICE)\\n#     )\\n#     dataloader_center = DataLoader(\\n#         dataset_center,\\n#         batch_size=len(dataset_center),\\n#         shuffle=False,\\n#         drop_last=False,\\n#         collate_fn=ToTensor(DEVICE).collate_cat,\\n#     )\\n#     # Get X tensor\\n#     x_batch, _ = next(iter(dataloader_center))\\n\\n#     # Predict\\n#     y_pred = (\\n#         -torch.log(softmax(cavity_model_infer_net(x_batch), dim=-1) + EPS)\\n#         .detach()\\n#         .cpu()\\n#         .numpy()\\n#     )\\n#     fragments_nlls_wt_given_wt.append(y_pred[:, row[\\\"wt_idx\\\"]])\\n#     fragments_nlls_mt_given_wt.append(y_pred[:, row[\\\"mt_idx\\\"]])\\n# ddg_data_dict[\\\"protein_g\\\"][\\\"fragment_nll_wt_given_wt\\\"] = fragments_nlls_wt_given_wt\\n# ddg_data_dict[\\\"protein_g\\\"][\\\"fragment_nll_mt_given_wt\\\"] = fragments_nlls_mt_given_wt\";\n",
       "                var nbb_cells = Jupyter.notebook.get_cells();\n",
       "                for (var i = 0; i < nbb_cells.length; ++i) {\n",
       "                    if (nbb_cells[i].input_prompt_number == nbb_cell_id) {\n",
       "                        if (nbb_cells[i].get_text() == nbb_unformatted_code) {\n",
       "                             nbb_cells[i].set_text(nbb_formatted_code);\n",
       "                        }\n",
       "                        break;\n",
       "                    }\n",
       "                }\n",
       "            }, 500);\n",
       "            "
      ],
      "text/plain": [
       "<IPython.core.display.Javascript object>"
      ]
     },
     "metadata": {},
     "output_type": "display_data"
    }
   ],
   "source": [
    "# from cavity_model import ToTensor\n",
    "# from torch.nn.functional import softmax\n",
    "# import numpy as np\n",
    "\n",
    "\n",
    "# # Lets get the probabilities for the center residues\n",
    "# fragments_nlls_wt_given_wt = []\n",
    "# fragments_nlls_mt_given_wt = []\n",
    "# for i, row in ddg_data_dict[\"protein_g\"].iterrows():\n",
    "#     print(i)\n",
    "#     npz_wc_wt = (\n",
    "#         \"data/data_protein_g/simulate_seq_fragments/samples_1PGA_A_\"\n",
    "#         + row[\"variant\"]\n",
    "#         + \"/*.npz\"\n",
    "#     )\n",
    "#     # Create a dataset of all residue environments for this fragment\n",
    "#     try:\n",
    "#         fragment_dataset_wt = ResidueEnvironmentsDataset(\n",
    "#             sorted(glob.glob(npz_wc_wt)), transformer=None\n",
    "#         )\n",
    "#     except ValueError as e:\n",
    "#         print(f\"Variant {row['variant']} failed with error: {e}.\")\n",
    "#         fragments_nlls_wt_given_wt.append(np.array([np.nan, np.nan, np.nan]))\n",
    "#         fragments_nlls_mt_given_wt.append(np.array([np.nan, np.nan, np.nan]))\n",
    "#         continue\n",
    "\n",
    "#     # Extract the ones with pdb_residue_number 0 (center)\n",
    "#     res_envs_center_wt = [\n",
    "#         res_env for res_env in fragment_dataset_wt if res_env.pdb_residue_number == 0\n",
    "#     ]\n",
    "#     # Create dataset and dataloder\n",
    "#     dataset_center = ResidueEnvironmentsDataset(\n",
    "#         res_envs_center_wt, transformer=ToTensor(DEVICE)\n",
    "#     )\n",
    "#     dataloader_center = DataLoader(\n",
    "#         dataset_center,\n",
    "#         batch_size=len(dataset_center),\n",
    "#         shuffle=False,\n",
    "#         drop_last=False,\n",
    "#         collate_fn=ToTensor(DEVICE).collate_cat,\n",
    "#     )\n",
    "#     # Get X tensor\n",
    "#     x_batch, _ = next(iter(dataloader_center))\n",
    "\n",
    "#     # Predict\n",
    "#     y_pred = (\n",
    "#         -torch.log(softmax(cavity_model_infer_net(x_batch), dim=-1) + EPS)\n",
    "#         .detach()\n",
    "#         .cpu()\n",
    "#         .numpy()\n",
    "#     )\n",
    "#     fragments_nlls_wt_given_wt.append(y_pred[:, row[\"wt_idx\"]])\n",
    "#     fragments_nlls_mt_given_wt.append(y_pred[:, row[\"mt_idx\"]])\n",
    "# ddg_data_dict[\"protein_g\"][\"fragment_nll_wt_given_wt\"] = fragments_nlls_wt_given_wt\n",
    "# ddg_data_dict[\"protein_g\"][\"fragment_nll_mt_given_wt\"] = fragments_nlls_mt_given_wt"
   ]
  },
  {
   "cell_type": "code",
   "execution_count": 23,
   "metadata": {
    "scrolled": true
   },
   "outputs": [
    {
     "data": {
      "application/javascript": [
       "\n",
       "            setTimeout(function() {\n",
       "                var nbb_cell_id = 23;\n",
       "                var nbb_unformatted_code = \"# # Lets get the probabilities for the center residues\\n# fragments_nlls_wt_given_mt = []\\n# fragments_nlls_mt_given_mt = []\\n# for i, row in ddg_data_dict[\\\"protein_g\\\"].iterrows():\\n#     print(i)\\n#     npz_wc_mt = (\\n#         \\\"data/data_protein_g/simulate_seq_fragments_mt/samples_1PGA_A_\\\"\\n#         + row[\\\"variant\\\"]\\n#         + \\\"_mt/*.npz\\\"\\n#     )\\n#     # Create a dataset of all residue environments for this fragment\\n#     try:\\n#         fragment_dataset_mt = ResidueEnvironmentsDataset(\\n#             sorted(glob.glob(npz_wc_mt)), transformer=None\\n#         )\\n#     except ValueError as e:\\n#         print(f\\\"Variant {row['variant']} failed with error: {e}.\\\")\\n#         fragments_nlls_wt_given_mt.append(np.array([np.nan, np.nan, np.nan]))\\n#         fragments_nlls_mt_given_mt.append(np.array([np.nan, np.nan, np.nan]))\\n#         continue\\n\\n#     # Extract the ones with pdb_residue_number 0 (center)\\n#     res_envs_center_mt = [\\n#         res_env for res_env in fragment_dataset_mt if res_env.pdb_residue_number == 0\\n#     ]\\n#     # Create dataset and dataloder\\n#     dataset_center = ResidueEnvironmentsDataset(\\n#         res_envs_center_mt, transformer=ToTensor(DEVICE)\\n#     )\\n#     dataloader_center = DataLoader(\\n#         dataset_center,\\n#         batch_size=len(dataset_center),\\n#         shuffle=False,\\n#         drop_last=False,\\n#         collate_fn=ToTensor(DEVICE).collate_cat,\\n#     )\\n#     # Get X tensor\\n#     x_batch, _ = next(iter(dataloader_center))\\n\\n#     # Predict\\n#     y_pred = (\\n#         -torch.log(softmax(cavity_model_infer_net(x_batch), dim=-1) + EPS)\\n#         .detach()\\n#         .cpu()\\n#         .numpy()\\n#     )\\n#     fragments_nlls_wt_given_mt.append(y_pred[:, row[\\\"wt_idx\\\"]])\\n#     fragments_nlls_mt_given_mt.append(y_pred[:, row[\\\"mt_idx\\\"]])\\n# ddg_data_dict[\\\"protein_g\\\"][\\\"fragment_nll_wt_given_mt\\\"] = fragments_nlls_wt_given_mt\\n# ddg_data_dict[\\\"protein_g\\\"][\\\"fragment_nll_mt_given_mt\\\"] = fragments_nlls_mt_given_mt\";\n",
       "                var nbb_formatted_code = \"# # Lets get the probabilities for the center residues\\n# fragments_nlls_wt_given_mt = []\\n# fragments_nlls_mt_given_mt = []\\n# for i, row in ddg_data_dict[\\\"protein_g\\\"].iterrows():\\n#     print(i)\\n#     npz_wc_mt = (\\n#         \\\"data/data_protein_g/simulate_seq_fragments_mt/samples_1PGA_A_\\\"\\n#         + row[\\\"variant\\\"]\\n#         + \\\"_mt/*.npz\\\"\\n#     )\\n#     # Create a dataset of all residue environments for this fragment\\n#     try:\\n#         fragment_dataset_mt = ResidueEnvironmentsDataset(\\n#             sorted(glob.glob(npz_wc_mt)), transformer=None\\n#         )\\n#     except ValueError as e:\\n#         print(f\\\"Variant {row['variant']} failed with error: {e}.\\\")\\n#         fragments_nlls_wt_given_mt.append(np.array([np.nan, np.nan, np.nan]))\\n#         fragments_nlls_mt_given_mt.append(np.array([np.nan, np.nan, np.nan]))\\n#         continue\\n\\n#     # Extract the ones with pdb_residue_number 0 (center)\\n#     res_envs_center_mt = [\\n#         res_env for res_env in fragment_dataset_mt if res_env.pdb_residue_number == 0\\n#     ]\\n#     # Create dataset and dataloder\\n#     dataset_center = ResidueEnvironmentsDataset(\\n#         res_envs_center_mt, transformer=ToTensor(DEVICE)\\n#     )\\n#     dataloader_center = DataLoader(\\n#         dataset_center,\\n#         batch_size=len(dataset_center),\\n#         shuffle=False,\\n#         drop_last=False,\\n#         collate_fn=ToTensor(DEVICE).collate_cat,\\n#     )\\n#     # Get X tensor\\n#     x_batch, _ = next(iter(dataloader_center))\\n\\n#     # Predict\\n#     y_pred = (\\n#         -torch.log(softmax(cavity_model_infer_net(x_batch), dim=-1) + EPS)\\n#         .detach()\\n#         .cpu()\\n#         .numpy()\\n#     )\\n#     fragments_nlls_wt_given_mt.append(y_pred[:, row[\\\"wt_idx\\\"]])\\n#     fragments_nlls_mt_given_mt.append(y_pred[:, row[\\\"mt_idx\\\"]])\\n# ddg_data_dict[\\\"protein_g\\\"][\\\"fragment_nll_wt_given_mt\\\"] = fragments_nlls_wt_given_mt\\n# ddg_data_dict[\\\"protein_g\\\"][\\\"fragment_nll_mt_given_mt\\\"] = fragments_nlls_mt_given_mt\";\n",
       "                var nbb_cells = Jupyter.notebook.get_cells();\n",
       "                for (var i = 0; i < nbb_cells.length; ++i) {\n",
       "                    if (nbb_cells[i].input_prompt_number == nbb_cell_id) {\n",
       "                        if (nbb_cells[i].get_text() == nbb_unformatted_code) {\n",
       "                             nbb_cells[i].set_text(nbb_formatted_code);\n",
       "                        }\n",
       "                        break;\n",
       "                    }\n",
       "                }\n",
       "            }, 500);\n",
       "            "
      ],
      "text/plain": [
       "<IPython.core.display.Javascript object>"
      ]
     },
     "metadata": {},
     "output_type": "display_data"
    }
   ],
   "source": [
    "# # Lets get the probabilities for the center residues\n",
    "# fragments_nlls_wt_given_mt = []\n",
    "# fragments_nlls_mt_given_mt = []\n",
    "# for i, row in ddg_data_dict[\"protein_g\"].iterrows():\n",
    "#     print(i)\n",
    "#     npz_wc_mt = (\n",
    "#         \"data/data_protein_g/simulate_seq_fragments_mt/samples_1PGA_A_\"\n",
    "#         + row[\"variant\"]\n",
    "#         + \"_mt/*.npz\"\n",
    "#     )\n",
    "#     # Create a dataset of all residue environments for this fragment\n",
    "#     try:\n",
    "#         fragment_dataset_mt = ResidueEnvironmentsDataset(\n",
    "#             sorted(glob.glob(npz_wc_mt)), transformer=None\n",
    "#         )\n",
    "#     except ValueError as e:\n",
    "#         print(f\"Variant {row['variant']} failed with error: {e}.\")\n",
    "#         fragments_nlls_wt_given_mt.append(np.array([np.nan, np.nan, np.nan]))\n",
    "#         fragments_nlls_mt_given_mt.append(np.array([np.nan, np.nan, np.nan]))\n",
    "#         continue\n",
    "\n",
    "#     # Extract the ones with pdb_residue_number 0 (center)\n",
    "#     res_envs_center_mt = [\n",
    "#         res_env for res_env in fragment_dataset_mt if res_env.pdb_residue_number == 0\n",
    "#     ]\n",
    "#     # Create dataset and dataloder\n",
    "#     dataset_center = ResidueEnvironmentsDataset(\n",
    "#         res_envs_center_mt, transformer=ToTensor(DEVICE)\n",
    "#     )\n",
    "#     dataloader_center = DataLoader(\n",
    "#         dataset_center,\n",
    "#         batch_size=len(dataset_center),\n",
    "#         shuffle=False,\n",
    "#         drop_last=False,\n",
    "#         collate_fn=ToTensor(DEVICE).collate_cat,\n",
    "#     )\n",
    "#     # Get X tensor\n",
    "#     x_batch, _ = next(iter(dataloader_center))\n",
    "\n",
    "#     # Predict\n",
    "#     y_pred = (\n",
    "#         -torch.log(softmax(cavity_model_infer_net(x_batch), dim=-1) + EPS)\n",
    "#         .detach()\n",
    "#         .cpu()\n",
    "#         .numpy()\n",
    "#     )\n",
    "#     fragments_nlls_wt_given_mt.append(y_pred[:, row[\"wt_idx\"]])\n",
    "#     fragments_nlls_mt_given_mt.append(y_pred[:, row[\"mt_idx\"]])\n",
    "# ddg_data_dict[\"protein_g\"][\"fragment_nll_wt_given_mt\"] = fragments_nlls_wt_given_mt\n",
    "# ddg_data_dict[\"protein_g\"][\"fragment_nll_mt_given_mt\"] = fragments_nlls_mt_given_mt"
   ]
  },
  {
   "cell_type": "code",
   "execution_count": 24,
   "metadata": {},
   "outputs": [
    {
     "data": {
      "application/javascript": [
       "\n",
       "            setTimeout(function() {\n",
       "                var nbb_cell_id = 24;\n",
       "                var nbb_unformatted_code = \"# ddg_data_dict[\\\"protein_g\\\"][\\\"ddg_pred_wt_phaistos_no_ds\\\"] = ddg_data_dict[\\n#     \\\"protein_g\\\"\\n# ].apply(\\n#     lambda row: row[\\\"mt_nll\\\"]\\n#     - row[\\\"fragment_nll_mt_given_wt\\\"].mean()\\n#     - row[\\\"wt_nll\\\"]\\n#     + row[\\\"fragment_nll_wt_given_wt\\\"].mean(),\\n#     axis=1,\\n# )\\n\\n# ddg_data_dict[\\\"protein_g\\\"][\\\"ddg_pred_mt_phaistos_no_ds\\\"] = ddg_data_dict[\\n#     \\\"protein_g\\\"\\n# ].apply(\\n#     lambda row: row[\\\"mt_nll\\\"]\\n#     - row[\\\"fragment_nll_mt_given_mt\\\"].mean()\\n#     - row[\\\"wt_nll\\\"]\\n#     + row[\\\"fragment_nll_wt_given_mt\\\"].mean(),\\n#     axis=1,\\n# )\\n\\n# ddg_data_dict[\\\"protein_g\\\"][\\\"ddg_pred_wt_and_mt_phaistos_no_ds\\\"] = ddg_data_dict[\\n#     \\\"protein_g\\\"\\n# ].apply(\\n#     lambda row: row[\\\"mt_nll\\\"]\\n#     - (row[\\\"fragment_nll_mt_given_wt\\\"].mean() + row[\\\"fragment_nll_mt_given_mt\\\"].mean())\\n#     / 2\\n#     - row[\\\"wt_nll\\\"]\\n#     + (\\n#         row[\\\"fragment_nll_wt_given_wt\\\"].mean()\\n#         + row[\\\"fragment_nll_wt_given_mt\\\"].mean() / 2\\n#     ),\\n#     axis=1,\\n# )\";\n",
       "                var nbb_formatted_code = \"# ddg_data_dict[\\\"protein_g\\\"][\\\"ddg_pred_wt_phaistos_no_ds\\\"] = ddg_data_dict[\\n#     \\\"protein_g\\\"\\n# ].apply(\\n#     lambda row: row[\\\"mt_nll\\\"]\\n#     - row[\\\"fragment_nll_mt_given_wt\\\"].mean()\\n#     - row[\\\"wt_nll\\\"]\\n#     + row[\\\"fragment_nll_wt_given_wt\\\"].mean(),\\n#     axis=1,\\n# )\\n\\n# ddg_data_dict[\\\"protein_g\\\"][\\\"ddg_pred_mt_phaistos_no_ds\\\"] = ddg_data_dict[\\n#     \\\"protein_g\\\"\\n# ].apply(\\n#     lambda row: row[\\\"mt_nll\\\"]\\n#     - row[\\\"fragment_nll_mt_given_mt\\\"].mean()\\n#     - row[\\\"wt_nll\\\"]\\n#     + row[\\\"fragment_nll_wt_given_mt\\\"].mean(),\\n#     axis=1,\\n# )\\n\\n# ddg_data_dict[\\\"protein_g\\\"][\\\"ddg_pred_wt_and_mt_phaistos_no_ds\\\"] = ddg_data_dict[\\n#     \\\"protein_g\\\"\\n# ].apply(\\n#     lambda row: row[\\\"mt_nll\\\"]\\n#     - (row[\\\"fragment_nll_mt_given_wt\\\"].mean() + row[\\\"fragment_nll_mt_given_mt\\\"].mean())\\n#     / 2\\n#     - row[\\\"wt_nll\\\"]\\n#     + (\\n#         row[\\\"fragment_nll_wt_given_wt\\\"].mean()\\n#         + row[\\\"fragment_nll_wt_given_mt\\\"].mean() / 2\\n#     ),\\n#     axis=1,\\n# )\";\n",
       "                var nbb_cells = Jupyter.notebook.get_cells();\n",
       "                for (var i = 0; i < nbb_cells.length; ++i) {\n",
       "                    if (nbb_cells[i].input_prompt_number == nbb_cell_id) {\n",
       "                        if (nbb_cells[i].get_text() == nbb_unformatted_code) {\n",
       "                             nbb_cells[i].set_text(nbb_formatted_code);\n",
       "                        }\n",
       "                        break;\n",
       "                    }\n",
       "                }\n",
       "            }, 500);\n",
       "            "
      ],
      "text/plain": [
       "<IPython.core.display.Javascript object>"
      ]
     },
     "metadata": {},
     "output_type": "display_data"
    }
   ],
   "source": [
    "# ddg_data_dict[\"protein_g\"][\"ddg_pred_wt_phaistos_no_ds\"] = ddg_data_dict[\n",
    "#     \"protein_g\"\n",
    "# ].apply(\n",
    "#     lambda row: row[\"mt_nll\"]\n",
    "#     - row[\"fragment_nll_mt_given_wt\"].mean()\n",
    "#     - row[\"wt_nll\"]\n",
    "#     + row[\"fragment_nll_wt_given_wt\"].mean(),\n",
    "#     axis=1,\n",
    "# )\n",
    "\n",
    "# ddg_data_dict[\"protein_g\"][\"ddg_pred_mt_phaistos_no_ds\"] = ddg_data_dict[\n",
    "#     \"protein_g\"\n",
    "# ].apply(\n",
    "#     lambda row: row[\"mt_nll\"]\n",
    "#     - row[\"fragment_nll_mt_given_mt\"].mean()\n",
    "#     - row[\"wt_nll\"]\n",
    "#     + row[\"fragment_nll_wt_given_mt\"].mean(),\n",
    "#     axis=1,\n",
    "# )\n",
    "\n",
    "# ddg_data_dict[\"protein_g\"][\"ddg_pred_wt_and_mt_phaistos_no_ds\"] = ddg_data_dict[\n",
    "#     \"protein_g\"\n",
    "# ].apply(\n",
    "#     lambda row: row[\"mt_nll\"]\n",
    "#     - (row[\"fragment_nll_mt_given_wt\"].mean() + row[\"fragment_nll_mt_given_mt\"].mean())\n",
    "#     / 2\n",
    "#     - row[\"wt_nll\"]\n",
    "#     + (\n",
    "#         row[\"fragment_nll_wt_given_wt\"].mean()\n",
    "#         + row[\"fragment_nll_wt_given_mt\"].mean() / 2\n",
    "#     ),\n",
    "#     axis=1,\n",
    "# )"
   ]
  },
  {
   "cell_type": "code",
   "execution_count": 25,
   "metadata": {},
   "outputs": [
    {
     "data": {
      "text/html": [
       "<div>\n",
       "<style scoped>\n",
       "    .dataframe tbody tr th:only-of-type {\n",
       "        vertical-align: middle;\n",
       "    }\n",
       "\n",
       "    .dataframe tbody tr th {\n",
       "        vertical-align: top;\n",
       "    }\n",
       "\n",
       "    .dataframe thead th {\n",
       "        text-align: right;\n",
       "    }\n",
       "</style>\n",
       "<table border=\"1\" class=\"dataframe\">\n",
       "  <thead>\n",
       "    <tr style=\"text-align: right;\">\n",
       "      <th></th>\n",
       "      <th>pdbid</th>\n",
       "      <th>chainid</th>\n",
       "      <th>variant</th>\n",
       "      <th>ddg</th>\n",
       "      <th>resenv</th>\n",
       "      <th>wt_idx</th>\n",
       "      <th>mt_idx</th>\n",
       "      <th>nlls</th>\n",
       "      <th>wt_nll</th>\n",
       "      <th>mt_nll</th>\n",
       "      <th>wt_nlf</th>\n",
       "      <th>mt_nlf</th>\n",
       "      <th>ddg_pred_no_ds</th>\n",
       "      <th>wt_idp_nlf</th>\n",
       "      <th>mt_idp_nlf</th>\n",
       "      <th>ddg_pred_idp_no_ds</th>\n",
       "      <th>left_flank</th>\n",
       "      <th>wt_restype</th>\n",
       "      <th>right_flank</th>\n",
       "    </tr>\n",
       "  </thead>\n",
       "  <tbody>\n",
       "    <tr>\n",
       "      <th>0</th>\n",
       "      <td>1PGA</td>\n",
       "      <td>A</td>\n",
       "      <td>M1A</td>\n",
       "      <td>-0.1407</td>\n",
       "      <td>&lt;ResidueEnvironment with 130 atoms. pdb_id: 1P...</td>\n",
       "      <td>10</td>\n",
       "      <td>0</td>\n",
       "      <td>[3.6155279, 4.1374454, 4.9312124, 1.8067828, 2...</td>\n",
       "      <td>2.610667</td>\n",
       "      <td>3.615528</td>\n",
       "      <td>3.785957</td>\n",
       "      <td>2.483982</td>\n",
       "      <td>2.306836</td>\n",
       "      <td>3.974215</td>\n",
       "      <td>2.679916</td>\n",
       "      <td>2.299160</td>\n",
       "      <td>-----</td>\n",
       "      <td>M</td>\n",
       "      <td>TYKLI</td>\n",
       "    </tr>\n",
       "    <tr>\n",
       "      <th>1</th>\n",
       "      <td>1PGA</td>\n",
       "      <td>A</td>\n",
       "      <td>M1D</td>\n",
       "      <td>-0.3795</td>\n",
       "      <td>&lt;ResidueEnvironment with 130 atoms. pdb_id: 1P...</td>\n",
       "      <td>10</td>\n",
       "      <td>2</td>\n",
       "      <td>[3.6155279, 4.1374454, 4.9312124, 1.8067828, 2...</td>\n",
       "      <td>2.610667</td>\n",
       "      <td>4.931212</td>\n",
       "      <td>3.785957</td>\n",
       "      <td>2.824680</td>\n",
       "      <td>3.281823</td>\n",
       "      <td>3.974215</td>\n",
       "      <td>2.836449</td>\n",
       "      <td>3.458312</td>\n",
       "      <td>-----</td>\n",
       "      <td>M</td>\n",
       "      <td>TYKLI</td>\n",
       "    </tr>\n",
       "    <tr>\n",
       "      <th>2</th>\n",
       "      <td>1PGA</td>\n",
       "      <td>A</td>\n",
       "      <td>M1E</td>\n",
       "      <td>-0.6414</td>\n",
       "      <td>&lt;ResidueEnvironment with 130 atoms. pdb_id: 1P...</td>\n",
       "      <td>10</td>\n",
       "      <td>3</td>\n",
       "      <td>[3.6155279, 4.1374454, 4.9312124, 1.8067828, 2...</td>\n",
       "      <td>2.610667</td>\n",
       "      <td>1.806783</td>\n",
       "      <td>3.785957</td>\n",
       "      <td>2.712832</td>\n",
       "      <td>0.269241</td>\n",
       "      <td>3.974215</td>\n",
       "      <td>2.405165</td>\n",
       "      <td>0.765166</td>\n",
       "      <td>-----</td>\n",
       "      <td>M</td>\n",
       "      <td>TYKLI</td>\n",
       "    </tr>\n",
       "    <tr>\n",
       "      <th>3</th>\n",
       "      <td>1PGA</td>\n",
       "      <td>A</td>\n",
       "      <td>M1L</td>\n",
       "      <td>-0.4573</td>\n",
       "      <td>&lt;ResidueEnvironment with 130 atoms. pdb_id: 1P...</td>\n",
       "      <td>10</td>\n",
       "      <td>9</td>\n",
       "      <td>[3.6155279, 4.1374454, 4.9312124, 1.8067828, 2...</td>\n",
       "      <td>2.610667</td>\n",
       "      <td>3.630049</td>\n",
       "      <td>3.785957</td>\n",
       "      <td>2.433114</td>\n",
       "      <td>2.372225</td>\n",
       "      <td>3.974215</td>\n",
       "      <td>2.544290</td>\n",
       "      <td>2.449307</td>\n",
       "      <td>-----</td>\n",
       "      <td>M</td>\n",
       "      <td>TYKLI</td>\n",
       "    </tr>\n",
       "    <tr>\n",
       "      <th>4</th>\n",
       "      <td>1PGA</td>\n",
       "      <td>A</td>\n",
       "      <td>T2E</td>\n",
       "      <td>-0.1299</td>\n",
       "      <td>&lt;ResidueEnvironment with 157 atoms. pdb_id: 1P...</td>\n",
       "      <td>16</td>\n",
       "      <td>3</td>\n",
       "      <td>[4.445299, 3.2781525, 3.0386524, 3.6744804, 3....</td>\n",
       "      <td>3.217564</td>\n",
       "      <td>3.674480</td>\n",
       "      <td>2.896883</td>\n",
       "      <td>2.712832</td>\n",
       "      <td>0.640967</td>\n",
       "      <td>2.861809</td>\n",
       "      <td>2.405165</td>\n",
       "      <td>0.913561</td>\n",
       "      <td>----M</td>\n",
       "      <td>T</td>\n",
       "      <td>YKLIL</td>\n",
       "    </tr>\n",
       "  </tbody>\n",
       "</table>\n",
       "</div>"
      ],
      "text/plain": [
       "  pdbid chainid variant     ddg  \\\n",
       "0  1PGA       A     M1A -0.1407   \n",
       "1  1PGA       A     M1D -0.3795   \n",
       "2  1PGA       A     M1E -0.6414   \n",
       "3  1PGA       A     M1L -0.4573   \n",
       "4  1PGA       A     T2E -0.1299   \n",
       "\n",
       "                                              resenv  wt_idx  mt_idx  \\\n",
       "0  <ResidueEnvironment with 130 atoms. pdb_id: 1P...      10       0   \n",
       "1  <ResidueEnvironment with 130 atoms. pdb_id: 1P...      10       2   \n",
       "2  <ResidueEnvironment with 130 atoms. pdb_id: 1P...      10       3   \n",
       "3  <ResidueEnvironment with 130 atoms. pdb_id: 1P...      10       9   \n",
       "4  <ResidueEnvironment with 157 atoms. pdb_id: 1P...      16       3   \n",
       "\n",
       "                                                nlls    wt_nll    mt_nll  \\\n",
       "0  [3.6155279, 4.1374454, 4.9312124, 1.8067828, 2...  2.610667  3.615528   \n",
       "1  [3.6155279, 4.1374454, 4.9312124, 1.8067828, 2...  2.610667  4.931212   \n",
       "2  [3.6155279, 4.1374454, 4.9312124, 1.8067828, 2...  2.610667  1.806783   \n",
       "3  [3.6155279, 4.1374454, 4.9312124, 1.8067828, 2...  2.610667  3.630049   \n",
       "4  [4.445299, 3.2781525, 3.0386524, 3.6744804, 3....  3.217564  3.674480   \n",
       "\n",
       "     wt_nlf    mt_nlf  ddg_pred_no_ds  wt_idp_nlf  mt_idp_nlf  \\\n",
       "0  3.785957  2.483982        2.306836    3.974215    2.679916   \n",
       "1  3.785957  2.824680        3.281823    3.974215    2.836449   \n",
       "2  3.785957  2.712832        0.269241    3.974215    2.405165   \n",
       "3  3.785957  2.433114        2.372225    3.974215    2.544290   \n",
       "4  2.896883  2.712832        0.640967    2.861809    2.405165   \n",
       "\n",
       "   ddg_pred_idp_no_ds left_flank wt_restype right_flank  \n",
       "0            2.299160      -----          M       TYKLI  \n",
       "1            3.458312      -----          M       TYKLI  \n",
       "2            0.765166      -----          M       TYKLI  \n",
       "3            2.449307      -----          M       TYKLI  \n",
       "4            0.913561      ----M          T       YKLIL  "
      ]
     },
     "execution_count": 25,
     "metadata": {},
     "output_type": "execute_result"
    },
    {
     "data": {
      "application/javascript": [
       "\n",
       "            setTimeout(function() {\n",
       "                var nbb_cell_id = 25;\n",
       "                var nbb_unformatted_code = \"ddg_data_dict[\\\"protein_g\\\"].head()\";\n",
       "                var nbb_formatted_code = \"ddg_data_dict[\\\"protein_g\\\"].head()\";\n",
       "                var nbb_cells = Jupyter.notebook.get_cells();\n",
       "                for (var i = 0; i < nbb_cells.length; ++i) {\n",
       "                    if (nbb_cells[i].input_prompt_number == nbb_cell_id) {\n",
       "                        if (nbb_cells[i].get_text() == nbb_unformatted_code) {\n",
       "                             nbb_cells[i].set_text(nbb_formatted_code);\n",
       "                        }\n",
       "                        break;\n",
       "                    }\n",
       "                }\n",
       "            }, 500);\n",
       "            "
      ],
      "text/plain": [
       "<IPython.core.display.Javascript object>"
      ]
     },
     "metadata": {},
     "output_type": "display_data"
    }
   ],
   "source": [
    "# ddg_data_dict[\"protein_g\"].head()"
   ]
  },
  {
   "cell_type": "code",
   "execution_count": 26,
   "metadata": {
    "scrolled": false
   },
   "outputs": [
    {
     "data": {
      "application/javascript": [
       "\n",
       "            setTimeout(function() {\n",
       "                var nbb_cell_id = 26;\n",
       "                var nbb_unformatted_code = \"# fig, ax = scatter_pred_vs_true(\\n#     ddg_data_dict[\\\"protein_g\\\"][\\\"ddg\\\"],\\n#     ddg_data_dict[\\\"protein_g\\\"][\\\"ddg_pred_wt_phaistos_no_ds\\\"],\\n#     color=\\\"black\\\",\\n#     title=\\\"protein G, wt unfolded\\\",\\n# )\\n# fig, ax = scatter_pred_vs_true(\\n#     ddg_data_dict[\\\"protein_g\\\"][\\\"ddg\\\"],\\n#     ddg_data_dict[\\\"protein_g\\\"][\\\"ddg_pred_mt_phaistos_no_ds\\\"],\\n#     color=\\\"black\\\",\\n#     title=\\\"protein G, mt unfolded\\\",\\n# )\\n\\n# fig, ax = scatter_pred_vs_true(\\n#     ddg_data_dict[\\\"protein_g\\\"][\\\"ddg\\\"],\\n#     ddg_data_dict[\\\"protein_g\\\"][\\\"ddg_pred_wt_and_mt_phaistos_no_ds\\\"],\\n#     color=\\\"black\\\",\\n#     title=\\\"protein G, mt and wt unfolded\\\",\\n# )\";\n",
       "                var nbb_formatted_code = \"# fig, ax = scatter_pred_vs_true(\\n#     ddg_data_dict[\\\"protein_g\\\"][\\\"ddg\\\"],\\n#     ddg_data_dict[\\\"protein_g\\\"][\\\"ddg_pred_wt_phaistos_no_ds\\\"],\\n#     color=\\\"black\\\",\\n#     title=\\\"protein G, wt unfolded\\\",\\n# )\\n# fig, ax = scatter_pred_vs_true(\\n#     ddg_data_dict[\\\"protein_g\\\"][\\\"ddg\\\"],\\n#     ddg_data_dict[\\\"protein_g\\\"][\\\"ddg_pred_mt_phaistos_no_ds\\\"],\\n#     color=\\\"black\\\",\\n#     title=\\\"protein G, mt unfolded\\\",\\n# )\\n\\n# fig, ax = scatter_pred_vs_true(\\n#     ddg_data_dict[\\\"protein_g\\\"][\\\"ddg\\\"],\\n#     ddg_data_dict[\\\"protein_g\\\"][\\\"ddg_pred_wt_and_mt_phaistos_no_ds\\\"],\\n#     color=\\\"black\\\",\\n#     title=\\\"protein G, mt and wt unfolded\\\",\\n# )\";\n",
       "                var nbb_cells = Jupyter.notebook.get_cells();\n",
       "                for (var i = 0; i < nbb_cells.length; ++i) {\n",
       "                    if (nbb_cells[i].input_prompt_number == nbb_cell_id) {\n",
       "                        if (nbb_cells[i].get_text() == nbb_unformatted_code) {\n",
       "                             nbb_cells[i].set_text(nbb_formatted_code);\n",
       "                        }\n",
       "                        break;\n",
       "                    }\n",
       "                }\n",
       "            }, 500);\n",
       "            "
      ],
      "text/plain": [
       "<IPython.core.display.Javascript object>"
      ]
     },
     "metadata": {},
     "output_type": "display_data"
    }
   ],
   "source": [
    "# fig, ax = scatter_pred_vs_true(\n",
    "#     ddg_data_dict[\"protein_g\"][\"ddg\"],\n",
    "#     ddg_data_dict[\"protein_g\"][\"ddg_pred_wt_phaistos_no_ds\"],\n",
    "#     color=\"black\",\n",
    "#     title=\"protein G, wt unfolded\",\n",
    "# )\n",
    "# fig, ax = scatter_pred_vs_true(\n",
    "#     ddg_data_dict[\"protein_g\"][\"ddg\"],\n",
    "#     ddg_data_dict[\"protein_g\"][\"ddg_pred_mt_phaistos_no_ds\"],\n",
    "#     color=\"black\",\n",
    "#     title=\"protein G, mt unfolded\",\n",
    "# )\n",
    "\n",
    "# fig, ax = scatter_pred_vs_true(\n",
    "#     ddg_data_dict[\"protein_g\"][\"ddg\"],\n",
    "#     ddg_data_dict[\"protein_g\"][\"ddg_pred_wt_and_mt_phaistos_no_ds\"],\n",
    "#     color=\"black\",\n",
    "#     title=\"protein G, mt and wt unfolded\",\n",
    "# )"
   ]
  },
  {
   "cell_type": "markdown",
   "metadata": {},
   "source": [
    "### Molecular dynamics"
   ]
  },
  {
   "cell_type": "code",
   "execution_count": 27,
   "metadata": {
    "scrolled": true
   },
   "outputs": [
    {
     "data": {
      "application/javascript": [
       "\n",
       "            setTimeout(function() {\n",
       "                var nbb_cell_id = 27;\n",
       "                var nbb_unformatted_code = \"# ddg_dataset = \\\"protein_g\\\"\\n# stride = 40\\n\\n# md_nlls_wt_given_wt = []\\n# md_nlls_mt_given_wt = []\\n\\n\\n# md_datasets = {}\\n# for i, row in ddg_data_dict[\\\"protein_g\\\"].iterrows():\\n#     print(i)\\n#     md_pdbs = glob.glob(\\n#         f\\\"data/data_protein_g/molecular_dynamics/pdbs_parsed/{row['pdbid']}_*npz\\\"\\n#     )[::stride]\\n\\n#     # Store whole parsed pdbs for quicker parsing\\n#     if row[\\\"pdbid\\\"] in md_datasets:\\n#         md_pdbs_dataset = md_datasets[row[\\\"pdbid\\\"]]\\n#     else:\\n#         md_pdbs_dataset = ResidueEnvironmentsDataset(sorted(md_pdbs), transformer=None)\\n#         md_datasets[row[\\\"pdbid\\\"]] = md_pdbs_dataset\\n\\n#     wt_restype = row[\\\"variant\\\"][0]\\n#     pdb_residue_number = int(row[\\\"variant\\\"][1:-1])\\n\\n#     # Extract resenvs that match restype and residue number\\n#     extracted_resenvs_md = []\\n#     for resenv in md_pdbs_dataset:\\n#         if (\\n#             wt_restype == index_to_one(resenv.restype_index)\\n#             and pdb_residue_number == resenv.pdb_residue_number\\n#         ):\\n#             extracted_resenvs_md.append(resenv)\\n\\n#     if len(extracted_resenvs_md) == 0:\\n#         print(f\\\"Did not find matchin resenvs for {row['variant']}\\\")\\n\\n#     dataset_variant_md = ResidueEnvironmentsDataset(\\n#         extracted_resenvs_md, transformer=ToTensor(DEVICE)\\n#     )\\n#     dataloader_variant_md = DataLoader(\\n#         dataset_variant_md,\\n#         batch_size=len(dataset_variant_md),\\n#         shuffle=False,\\n#         drop_last=False,\\n#         collate_fn=ToTensor(DEVICE).collate_cat,\\n#     )\\n#     # Get X tensor\\n#     x_batch, _ = next(iter(dataloader_variant_md))\\n\\n#     # Predict\\n#     y_pred = (\\n#         -torch.log(softmax(cavity_model_infer_net(x_batch), dim=-1) + EPS)\\n#         .detach()\\n#         .cpu()\\n#         .numpy()\\n#     )\\n\\n#     md_nlls_wt_given_wt.append(y_pred[:, row[\\\"wt_idx\\\"]])\\n#     md_nlls_mt_given_wt.append(y_pred[:, row[\\\"mt_idx\\\"]])\\n# ddg_data_dict[ddg_dataset][\\\"wt_nll_md\\\"] = md_nlls_wt_given_wt\\n# ddg_data_dict[ddg_dataset][\\\"mt_nll_md\\\"] = md_nlls_mt_given_wt\";\n",
       "                var nbb_formatted_code = \"# ddg_dataset = \\\"protein_g\\\"\\n# stride = 40\\n\\n# md_nlls_wt_given_wt = []\\n# md_nlls_mt_given_wt = []\\n\\n\\n# md_datasets = {}\\n# for i, row in ddg_data_dict[\\\"protein_g\\\"].iterrows():\\n#     print(i)\\n#     md_pdbs = glob.glob(\\n#         f\\\"data/data_protein_g/molecular_dynamics/pdbs_parsed/{row['pdbid']}_*npz\\\"\\n#     )[::stride]\\n\\n#     # Store whole parsed pdbs for quicker parsing\\n#     if row[\\\"pdbid\\\"] in md_datasets:\\n#         md_pdbs_dataset = md_datasets[row[\\\"pdbid\\\"]]\\n#     else:\\n#         md_pdbs_dataset = ResidueEnvironmentsDataset(sorted(md_pdbs), transformer=None)\\n#         md_datasets[row[\\\"pdbid\\\"]] = md_pdbs_dataset\\n\\n#     wt_restype = row[\\\"variant\\\"][0]\\n#     pdb_residue_number = int(row[\\\"variant\\\"][1:-1])\\n\\n#     # Extract resenvs that match restype and residue number\\n#     extracted_resenvs_md = []\\n#     for resenv in md_pdbs_dataset:\\n#         if (\\n#             wt_restype == index_to_one(resenv.restype_index)\\n#             and pdb_residue_number == resenv.pdb_residue_number\\n#         ):\\n#             extracted_resenvs_md.append(resenv)\\n\\n#     if len(extracted_resenvs_md) == 0:\\n#         print(f\\\"Did not find matchin resenvs for {row['variant']}\\\")\\n\\n#     dataset_variant_md = ResidueEnvironmentsDataset(\\n#         extracted_resenvs_md, transformer=ToTensor(DEVICE)\\n#     )\\n#     dataloader_variant_md = DataLoader(\\n#         dataset_variant_md,\\n#         batch_size=len(dataset_variant_md),\\n#         shuffle=False,\\n#         drop_last=False,\\n#         collate_fn=ToTensor(DEVICE).collate_cat,\\n#     )\\n#     # Get X tensor\\n#     x_batch, _ = next(iter(dataloader_variant_md))\\n\\n#     # Predict\\n#     y_pred = (\\n#         -torch.log(softmax(cavity_model_infer_net(x_batch), dim=-1) + EPS)\\n#         .detach()\\n#         .cpu()\\n#         .numpy()\\n#     )\\n\\n#     md_nlls_wt_given_wt.append(y_pred[:, row[\\\"wt_idx\\\"]])\\n#     md_nlls_mt_given_wt.append(y_pred[:, row[\\\"mt_idx\\\"]])\\n# ddg_data_dict[ddg_dataset][\\\"wt_nll_md\\\"] = md_nlls_wt_given_wt\\n# ddg_data_dict[ddg_dataset][\\\"mt_nll_md\\\"] = md_nlls_mt_given_wt\";\n",
       "                var nbb_cells = Jupyter.notebook.get_cells();\n",
       "                for (var i = 0; i < nbb_cells.length; ++i) {\n",
       "                    if (nbb_cells[i].input_prompt_number == nbb_cell_id) {\n",
       "                        if (nbb_cells[i].get_text() == nbb_unformatted_code) {\n",
       "                             nbb_cells[i].set_text(nbb_formatted_code);\n",
       "                        }\n",
       "                        break;\n",
       "                    }\n",
       "                }\n",
       "            }, 500);\n",
       "            "
      ],
      "text/plain": [
       "<IPython.core.display.Javascript object>"
      ]
     },
     "metadata": {},
     "output_type": "display_data"
    }
   ],
   "source": [
    "# ddg_dataset = \"protein_g\"\n",
    "# stride = 40\n",
    "\n",
    "# md_nlls_wt_given_wt = []\n",
    "# md_nlls_mt_given_wt = []\n",
    "\n",
    "\n",
    "# md_datasets = {}\n",
    "# for i, row in ddg_data_dict[\"protein_g\"].iterrows():\n",
    "#     print(i)\n",
    "#     md_pdbs = glob.glob(\n",
    "#         f\"data/data_protein_g/molecular_dynamics/pdbs_parsed/{row['pdbid']}_*npz\"\n",
    "#     )[::stride]\n",
    "\n",
    "#     # Store whole parsed pdbs for quicker parsing\n",
    "#     if row[\"pdbid\"] in md_datasets:\n",
    "#         md_pdbs_dataset = md_datasets[row[\"pdbid\"]]\n",
    "#     else:\n",
    "#         md_pdbs_dataset = ResidueEnvironmentsDataset(sorted(md_pdbs), transformer=None)\n",
    "#         md_datasets[row[\"pdbid\"]] = md_pdbs_dataset\n",
    "\n",
    "#     wt_restype = row[\"variant\"][0]\n",
    "#     pdb_residue_number = int(row[\"variant\"][1:-1])\n",
    "\n",
    "#     # Extract resenvs that match restype and residue number\n",
    "#     extracted_resenvs_md = []\n",
    "#     for resenv in md_pdbs_dataset:\n",
    "#         if (\n",
    "#             wt_restype == index_to_one(resenv.restype_index)\n",
    "#             and pdb_residue_number == resenv.pdb_residue_number\n",
    "#         ):\n",
    "#             extracted_resenvs_md.append(resenv)\n",
    "\n",
    "#     if len(extracted_resenvs_md) == 0:\n",
    "#         print(f\"Did not find matchin resenvs for {row['variant']}\")\n",
    "\n",
    "#     dataset_variant_md = ResidueEnvironmentsDataset(\n",
    "#         extracted_resenvs_md, transformer=ToTensor(DEVICE)\n",
    "#     )\n",
    "#     dataloader_variant_md = DataLoader(\n",
    "#         dataset_variant_md,\n",
    "#         batch_size=len(dataset_variant_md),\n",
    "#         shuffle=False,\n",
    "#         drop_last=False,\n",
    "#         collate_fn=ToTensor(DEVICE).collate_cat,\n",
    "#     )\n",
    "#     # Get X tensor\n",
    "#     x_batch, _ = next(iter(dataloader_variant_md))\n",
    "\n",
    "#     # Predict\n",
    "#     y_pred = (\n",
    "#         -torch.log(softmax(cavity_model_infer_net(x_batch), dim=-1) + EPS)\n",
    "#         .detach()\n",
    "#         .cpu()\n",
    "#         .numpy()\n",
    "#     )\n",
    "\n",
    "#     md_nlls_wt_given_wt.append(y_pred[:, row[\"wt_idx\"]])\n",
    "#     md_nlls_mt_given_wt.append(y_pred[:, row[\"mt_idx\"]])\n",
    "# ddg_data_dict[ddg_dataset][\"wt_nll_md\"] = md_nlls_wt_given_wt\n",
    "# ddg_data_dict[ddg_dataset][\"mt_nll_md\"] = md_nlls_mt_given_wt"
   ]
  },
  {
   "cell_type": "code",
   "execution_count": 28,
   "metadata": {},
   "outputs": [
    {
     "data": {
      "application/javascript": [
       "\n",
       "            setTimeout(function() {\n",
       "                var nbb_cell_id = 28;\n",
       "                var nbb_unformatted_code = \"# # MD + pdb statistics\\n# ddg_data_dict[ddg_dataset][\\\"ddg_pred_md_pdb_statistics_no_ds\\\"] = ddg_data_dict[\\n#     \\\"protein_g\\\"\\n# ].apply(\\n#     lambda row: row[\\\"mt_nll_md\\\"].mean()\\n#     - row[\\\"mt_nlf\\\"]\\n#     - row[\\\"wt_nll_md\\\"].mean()\\n#     + row[\\\"wt_nlf\\\"],\\n#     axis=1,\\n# )\\n\\n# # MD + idp statistics\\n# ddg_data_dict[ddg_dataset][\\\"ddg_pred_md_idp_statistics_no_ds\\\"] = ddg_data_dict[\\n#     \\\"protein_g\\\"\\n# ].apply(\\n#     lambda row: row[\\\"mt_nll_md\\\"].mean()\\n#     - row[\\\"mt_idp_nlf\\\"]\\n#     - row[\\\"wt_nll_md\\\"].mean()\\n#     + row[\\\"wt_idp_nlf\\\"],\\n#     axis=1,\\n# )\\n\\n# # MD + phaistos WT statistics\\n# ddg_data_dict[ddg_dataset][\\\"ddg_pred_md_phaistos_wt_statistics_no_ds\\\"] = ddg_data_dict[\\n#     \\\"protein_g\\\"\\n# ].apply(\\n#     lambda row: row[\\\"mt_nll_md\\\"].mean()\\n#     - row[\\\"fragment_nll_mt_given_wt\\\"].mean()\\n#     - row[\\\"wt_nll_md\\\"].mean()\\n#     + row[\\\"fragment_nll_wt_given_wt\\\"].mean(),\\n#     axis=1,\\n# )\\n\\n# # MD + phaistos MT statistics\\n# ddg_data_dict[ddg_dataset][\\\"ddg_pred_md_phaistos_mt_statistics_no_ds\\\"] = ddg_data_dict[\\n#     \\\"protein_g\\\"\\n# ].apply(\\n#     lambda row: row[\\\"mt_nll_md\\\"].mean()\\n#     - row[\\\"fragment_nll_mt_given_mt\\\"].mean()\\n#     - row[\\\"wt_nll_md\\\"].mean()\\n#     + row[\\\"fragment_nll_wt_given_mt\\\"].mean(),\\n#     axis=1,\\n# )\\n\\n# ddg_data_dict[ddg_dataset][\\\"ddg_pred_md_phaistos_mt_and_wt_statistics_no_ds\\\"] = ddg_data_dict[\\n#     \\\"protein_g\\\"\\n# ].apply(\\n#     lambda row: row[\\\"mt_nll_md\\\"].mean()\\n#     - (row[\\\"fragment_nll_mt_given_wt\\\"].mean() + row[\\\"fragment_nll_mt_given_mt\\\"].mean())\\n#     / 2\\n#     - row[\\\"wt_nll_md\\\"].mean()\\n#     + (\\n#         row[\\\"fragment_nll_wt_given_wt\\\"].mean()\\n#         + row[\\\"fragment_nll_wt_given_mt\\\"].mean() / 2\\n#     ),\\n#     axis=1,\\n# )\";\n",
       "                var nbb_formatted_code = \"# # MD + pdb statistics\\n# ddg_data_dict[ddg_dataset][\\\"ddg_pred_md_pdb_statistics_no_ds\\\"] = ddg_data_dict[\\n#     \\\"protein_g\\\"\\n# ].apply(\\n#     lambda row: row[\\\"mt_nll_md\\\"].mean()\\n#     - row[\\\"mt_nlf\\\"]\\n#     - row[\\\"wt_nll_md\\\"].mean()\\n#     + row[\\\"wt_nlf\\\"],\\n#     axis=1,\\n# )\\n\\n# # MD + idp statistics\\n# ddg_data_dict[ddg_dataset][\\\"ddg_pred_md_idp_statistics_no_ds\\\"] = ddg_data_dict[\\n#     \\\"protein_g\\\"\\n# ].apply(\\n#     lambda row: row[\\\"mt_nll_md\\\"].mean()\\n#     - row[\\\"mt_idp_nlf\\\"]\\n#     - row[\\\"wt_nll_md\\\"].mean()\\n#     + row[\\\"wt_idp_nlf\\\"],\\n#     axis=1,\\n# )\\n\\n# # MD + phaistos WT statistics\\n# ddg_data_dict[ddg_dataset][\\\"ddg_pred_md_phaistos_wt_statistics_no_ds\\\"] = ddg_data_dict[\\n#     \\\"protein_g\\\"\\n# ].apply(\\n#     lambda row: row[\\\"mt_nll_md\\\"].mean()\\n#     - row[\\\"fragment_nll_mt_given_wt\\\"].mean()\\n#     - row[\\\"wt_nll_md\\\"].mean()\\n#     + row[\\\"fragment_nll_wt_given_wt\\\"].mean(),\\n#     axis=1,\\n# )\\n\\n# # MD + phaistos MT statistics\\n# ddg_data_dict[ddg_dataset][\\\"ddg_pred_md_phaistos_mt_statistics_no_ds\\\"] = ddg_data_dict[\\n#     \\\"protein_g\\\"\\n# ].apply(\\n#     lambda row: row[\\\"mt_nll_md\\\"].mean()\\n#     - row[\\\"fragment_nll_mt_given_mt\\\"].mean()\\n#     - row[\\\"wt_nll_md\\\"].mean()\\n#     + row[\\\"fragment_nll_wt_given_mt\\\"].mean(),\\n#     axis=1,\\n# )\\n\\n# ddg_data_dict[ddg_dataset][\\\"ddg_pred_md_phaistos_mt_and_wt_statistics_no_ds\\\"] = ddg_data_dict[\\n#     \\\"protein_g\\\"\\n# ].apply(\\n#     lambda row: row[\\\"mt_nll_md\\\"].mean()\\n#     - (row[\\\"fragment_nll_mt_given_wt\\\"].mean() + row[\\\"fragment_nll_mt_given_mt\\\"].mean())\\n#     / 2\\n#     - row[\\\"wt_nll_md\\\"].mean()\\n#     + (\\n#         row[\\\"fragment_nll_wt_given_wt\\\"].mean()\\n#         + row[\\\"fragment_nll_wt_given_mt\\\"].mean() / 2\\n#     ),\\n#     axis=1,\\n# )\";\n",
       "                var nbb_cells = Jupyter.notebook.get_cells();\n",
       "                for (var i = 0; i < nbb_cells.length; ++i) {\n",
       "                    if (nbb_cells[i].input_prompt_number == nbb_cell_id) {\n",
       "                        if (nbb_cells[i].get_text() == nbb_unformatted_code) {\n",
       "                             nbb_cells[i].set_text(nbb_formatted_code);\n",
       "                        }\n",
       "                        break;\n",
       "                    }\n",
       "                }\n",
       "            }, 500);\n",
       "            "
      ],
      "text/plain": [
       "<IPython.core.display.Javascript object>"
      ]
     },
     "metadata": {},
     "output_type": "display_data"
    }
   ],
   "source": [
    "# # MD + pdb statistics\n",
    "# ddg_data_dict[ddg_dataset][\"ddg_pred_md_pdb_statistics_no_ds\"] = ddg_data_dict[\n",
    "#     \"protein_g\"\n",
    "# ].apply(\n",
    "#     lambda row: row[\"mt_nll_md\"].mean()\n",
    "#     - row[\"mt_nlf\"]\n",
    "#     - row[\"wt_nll_md\"].mean()\n",
    "#     + row[\"wt_nlf\"],\n",
    "#     axis=1,\n",
    "# )\n",
    "\n",
    "# # MD + idp statistics\n",
    "# ddg_data_dict[ddg_dataset][\"ddg_pred_md_idp_statistics_no_ds\"] = ddg_data_dict[\n",
    "#     \"protein_g\"\n",
    "# ].apply(\n",
    "#     lambda row: row[\"mt_nll_md\"].mean()\n",
    "#     - row[\"mt_idp_nlf\"]\n",
    "#     - row[\"wt_nll_md\"].mean()\n",
    "#     + row[\"wt_idp_nlf\"],\n",
    "#     axis=1,\n",
    "# )\n",
    "\n",
    "# # MD + phaistos WT statistics\n",
    "# ddg_data_dict[ddg_dataset][\"ddg_pred_md_phaistos_wt_statistics_no_ds\"] = ddg_data_dict[\n",
    "#     \"protein_g\"\n",
    "# ].apply(\n",
    "#     lambda row: row[\"mt_nll_md\"].mean()\n",
    "#     - row[\"fragment_nll_mt_given_wt\"].mean()\n",
    "#     - row[\"wt_nll_md\"].mean()\n",
    "#     + row[\"fragment_nll_wt_given_wt\"].mean(),\n",
    "#     axis=1,\n",
    "# )\n",
    "\n",
    "# # MD + phaistos MT statistics\n",
    "# ddg_data_dict[ddg_dataset][\"ddg_pred_md_phaistos_mt_statistics_no_ds\"] = ddg_data_dict[\n",
    "#     \"protein_g\"\n",
    "# ].apply(\n",
    "#     lambda row: row[\"mt_nll_md\"].mean()\n",
    "#     - row[\"fragment_nll_mt_given_mt\"].mean()\n",
    "#     - row[\"wt_nll_md\"].mean()\n",
    "#     + row[\"fragment_nll_wt_given_mt\"].mean(),\n",
    "#     axis=1,\n",
    "# )\n",
    "\n",
    "# ddg_data_dict[ddg_dataset][\"ddg_pred_md_phaistos_mt_and_wt_statistics_no_ds\"] = ddg_data_dict[\n",
    "#     \"protein_g\"\n",
    "# ].apply(\n",
    "#     lambda row: row[\"mt_nll_md\"].mean()\n",
    "#     - (row[\"fragment_nll_mt_given_wt\"].mean() + row[\"fragment_nll_mt_given_mt\"].mean())\n",
    "#     / 2\n",
    "#     - row[\"wt_nll_md\"].mean()\n",
    "#     + (\n",
    "#         row[\"fragment_nll_wt_given_wt\"].mean()\n",
    "#         + row[\"fragment_nll_wt_given_mt\"].mean() / 2\n",
    "#     ),\n",
    "#     axis=1,\n",
    "# )\n"
   ]
  },
  {
   "cell_type": "code",
   "execution_count": 29,
   "metadata": {},
   "outputs": [
    {
     "data": {
      "application/javascript": [
       "\n",
       "            setTimeout(function() {\n",
       "                var nbb_cell_id = 29;\n",
       "                var nbb_unformatted_code = \"# fig, ax = scatter_pred_vs_true(\\n#     ddg_data_dict[\\\"protein_g\\\"][\\\"ddg\\\"],\\n#     ddg_data_dict[\\\"protein_g\\\"][\\\"ddg_pred_md_pdb_statistics_no_ds\\\"],\\n#     color=\\\"black\\\",\\n#     title=\\\"protein G, MD1\\\",\\n# )\\n# fig, ax = scatter_pred_vs_true(\\n#     ddg_data_dict[\\\"protein_g\\\"][\\\"ddg\\\"],\\n#     ddg_data_dict[\\\"protein_g\\\"][\\\"ddg_pred_md_idp_statistics_no_ds\\\"],\\n#     color=\\\"black\\\",\\n#     title=\\\"protein G, MD2\\\",\\n# )\\n\\n# fig, ax = scatter_pred_vs_true(\\n#     ddg_data_dict[\\\"protein_g\\\"][\\\"ddg\\\"],\\n#     ddg_data_dict[\\\"protein_g\\\"][\\\"ddg_pred_md_phaistos_wt_statistics_no_ds\\\"],\\n#     color=\\\"black\\\",\\n#     title=\\\"protein G, MD3\\\",\\n# )\\n\\n# fig, ax = scatter_pred_vs_true(\\n#     ddg_data_dict[\\\"protein_g\\\"][\\\"ddg\\\"],\\n#     ddg_data_dict[\\\"protein_g\\\"][\\\"ddg_pred_md_phaistos_mt_statistics_no_ds\\\"],\\n#     color=\\\"black\\\",\\n#     title=\\\"protein G, MD4\\\",\\n# )\\n\\n# fig, ax = scatter_pred_vs_true(\\n#     ddg_data_dict[\\\"protein_g\\\"][\\\"ddg\\\"],\\n#     ddg_data_dict[\\\"protein_g\\\"][\\\"ddg_pred_md_phaistos_mt_and_wt_statistics_no_ds\\\"],\\n#     color=\\\"black\\\",\\n#     title=\\\"protein G, MD5\\\",\\n# )\";\n",
       "                var nbb_formatted_code = \"# fig, ax = scatter_pred_vs_true(\\n#     ddg_data_dict[\\\"protein_g\\\"][\\\"ddg\\\"],\\n#     ddg_data_dict[\\\"protein_g\\\"][\\\"ddg_pred_md_pdb_statistics_no_ds\\\"],\\n#     color=\\\"black\\\",\\n#     title=\\\"protein G, MD1\\\",\\n# )\\n# fig, ax = scatter_pred_vs_true(\\n#     ddg_data_dict[\\\"protein_g\\\"][\\\"ddg\\\"],\\n#     ddg_data_dict[\\\"protein_g\\\"][\\\"ddg_pred_md_idp_statistics_no_ds\\\"],\\n#     color=\\\"black\\\",\\n#     title=\\\"protein G, MD2\\\",\\n# )\\n\\n# fig, ax = scatter_pred_vs_true(\\n#     ddg_data_dict[\\\"protein_g\\\"][\\\"ddg\\\"],\\n#     ddg_data_dict[\\\"protein_g\\\"][\\\"ddg_pred_md_phaistos_wt_statistics_no_ds\\\"],\\n#     color=\\\"black\\\",\\n#     title=\\\"protein G, MD3\\\",\\n# )\\n\\n# fig, ax = scatter_pred_vs_true(\\n#     ddg_data_dict[\\\"protein_g\\\"][\\\"ddg\\\"],\\n#     ddg_data_dict[\\\"protein_g\\\"][\\\"ddg_pred_md_phaistos_mt_statistics_no_ds\\\"],\\n#     color=\\\"black\\\",\\n#     title=\\\"protein G, MD4\\\",\\n# )\\n\\n# fig, ax = scatter_pred_vs_true(\\n#     ddg_data_dict[\\\"protein_g\\\"][\\\"ddg\\\"],\\n#     ddg_data_dict[\\\"protein_g\\\"][\\\"ddg_pred_md_phaistos_mt_and_wt_statistics_no_ds\\\"],\\n#     color=\\\"black\\\",\\n#     title=\\\"protein G, MD5\\\",\\n# )\";\n",
       "                var nbb_cells = Jupyter.notebook.get_cells();\n",
       "                for (var i = 0; i < nbb_cells.length; ++i) {\n",
       "                    if (nbb_cells[i].input_prompt_number == nbb_cell_id) {\n",
       "                        if (nbb_cells[i].get_text() == nbb_unformatted_code) {\n",
       "                             nbb_cells[i].set_text(nbb_formatted_code);\n",
       "                        }\n",
       "                        break;\n",
       "                    }\n",
       "                }\n",
       "            }, 500);\n",
       "            "
      ],
      "text/plain": [
       "<IPython.core.display.Javascript object>"
      ]
     },
     "metadata": {},
     "output_type": "display_data"
    }
   ],
   "source": [
    "# fig, ax = scatter_pred_vs_true(\n",
    "#     ddg_data_dict[\"protein_g\"][\"ddg\"],\n",
    "#     ddg_data_dict[\"protein_g\"][\"ddg_pred_md_pdb_statistics_no_ds\"],\n",
    "#     color=\"black\",\n",
    "#     title=\"protein G, MD1\",\n",
    "# )\n",
    "# fig, ax = scatter_pred_vs_true(\n",
    "#     ddg_data_dict[\"protein_g\"][\"ddg\"],\n",
    "#     ddg_data_dict[\"protein_g\"][\"ddg_pred_md_idp_statistics_no_ds\"],\n",
    "#     color=\"black\",\n",
    "#     title=\"protein G, MD2\",\n",
    "# )\n",
    "\n",
    "# fig, ax = scatter_pred_vs_true(\n",
    "#     ddg_data_dict[\"protein_g\"][\"ddg\"],\n",
    "#     ddg_data_dict[\"protein_g\"][\"ddg_pred_md_phaistos_wt_statistics_no_ds\"],\n",
    "#     color=\"black\",\n",
    "#     title=\"protein G, MD3\",\n",
    "# )\n",
    "\n",
    "# fig, ax = scatter_pred_vs_true(\n",
    "#     ddg_data_dict[\"protein_g\"][\"ddg\"],\n",
    "#     ddg_data_dict[\"protein_g\"][\"ddg_pred_md_phaistos_mt_statistics_no_ds\"],\n",
    "#     color=\"black\",\n",
    "#     title=\"protein G, MD4\",\n",
    "# )\n",
    "\n",
    "# fig, ax = scatter_pred_vs_true(\n",
    "#     ddg_data_dict[\"protein_g\"][\"ddg\"],\n",
    "#     ddg_data_dict[\"protein_g\"][\"ddg_pred_md_phaistos_mt_and_wt_statistics_no_ds\"],\n",
    "#     color=\"black\",\n",
    "#     title=\"protein G, MD5\",\n",
    "# )"
   ]
  },
  {
   "cell_type": "markdown",
   "metadata": {},
   "source": [
    "# Downstream model"
   ]
  },
  {
   "cell_type": "markdown",
   "metadata": {},
   "source": [
    "### Performance without augmentation"
   ]
  },
  {
   "cell_type": "markdown",
   "metadata": {},
   "source": [
    "Define training dataloader and eval dataloaders"
   ]
  },
  {
   "cell_type": "code",
   "execution_count": 30,
   "metadata": {},
   "outputs": [
    {
     "data": {
      "application/javascript": [
       "\n",
       "            setTimeout(function() {\n",
       "                var nbb_cell_id = 30;\n",
       "                var nbb_unformatted_code = \"# ddg_dataloaders_train_dict = _get_ddg_training_dataloaders(\\n#     ddg_data_dict, BATCH_SIZE_DDG, SHUFFLE_DDG\\n# )\\n# ddg_dataloaders_val_dict = _get_ddg_validation_dataloaders(ddg_data_dict)\";\n",
       "                var nbb_formatted_code = \"# ddg_dataloaders_train_dict = _get_ddg_training_dataloaders(\\n#     ddg_data_dict, BATCH_SIZE_DDG, SHUFFLE_DDG\\n# )\\n# ddg_dataloaders_val_dict = _get_ddg_validation_dataloaders(ddg_data_dict)\";\n",
       "                var nbb_cells = Jupyter.notebook.get_cells();\n",
       "                for (var i = 0; i < nbb_cells.length; ++i) {\n",
       "                    if (nbb_cells[i].input_prompt_number == nbb_cell_id) {\n",
       "                        if (nbb_cells[i].get_text() == nbb_unformatted_code) {\n",
       "                             nbb_cells[i].set_text(nbb_formatted_code);\n",
       "                        }\n",
       "                        break;\n",
       "                    }\n",
       "                }\n",
       "            }, 500);\n",
       "            "
      ],
      "text/plain": [
       "<IPython.core.display.Javascript object>"
      ]
     },
     "metadata": {},
     "output_type": "display_data"
    }
   ],
   "source": [
    "# ddg_dataloaders_train_dict = _get_ddg_training_dataloaders(\n",
    "#     ddg_data_dict, BATCH_SIZE_DDG, SHUFFLE_DDG\n",
    "# )\n",
    "# ddg_dataloaders_val_dict = _get_ddg_validation_dataloaders(ddg_data_dict)"
   ]
  },
  {
   "cell_type": "markdown",
   "metadata": {},
   "source": [
    "Train and report on the data that is not used during training"
   ]
  },
  {
   "cell_type": "code",
   "execution_count": 31,
   "metadata": {
    "scrolled": true
   },
   "outputs": [
    {
     "data": {
      "application/javascript": [
       "\n",
       "            setTimeout(function() {\n",
       "                var nbb_cell_id = 31;\n",
       "                var nbb_unformatted_code = \"# pearsons_r_results_dict = _train_downstream_and_evaluate(\\n#     ddg_dataloaders_train_dict,\\n#     ddg_dataloaders_val_dict,\\n#     DEVICE,\\n#     LEARNING_RATE_DDG,\\n#     EPOCHS_DDG,\\n# )\";\n",
       "                var nbb_formatted_code = \"# pearsons_r_results_dict = _train_downstream_and_evaluate(\\n#     ddg_dataloaders_train_dict,\\n#     ddg_dataloaders_val_dict,\\n#     DEVICE,\\n#     LEARNING_RATE_DDG,\\n#     EPOCHS_DDG,\\n# )\";\n",
       "                var nbb_cells = Jupyter.notebook.get_cells();\n",
       "                for (var i = 0; i < nbb_cells.length; ++i) {\n",
       "                    if (nbb_cells[i].input_prompt_number == nbb_cell_id) {\n",
       "                        if (nbb_cells[i].get_text() == nbb_unformatted_code) {\n",
       "                             nbb_cells[i].set_text(nbb_formatted_code);\n",
       "                        }\n",
       "                        break;\n",
       "                    }\n",
       "                }\n",
       "            }, 500);\n",
       "            "
      ],
      "text/plain": [
       "<IPython.core.display.Javascript object>"
      ]
     },
     "metadata": {},
     "output_type": "display_data"
    }
   ],
   "source": [
    "# pearsons_r_results_dict = _train_downstream_and_evaluate(\n",
    "#     ddg_dataloaders_train_dict,\n",
    "#     ddg_dataloaders_val_dict,\n",
    "#     DEVICE,\n",
    "#     LEARNING_RATE_DDG,\n",
    "#     EPOCHS_DDG,\n",
    "# )"
   ]
  },
  {
   "cell_type": "code",
   "execution_count": 32,
   "metadata": {},
   "outputs": [
    {
     "data": {
      "application/javascript": [
       "\n",
       "            setTimeout(function() {\n",
       "                var nbb_cell_id = 32;\n",
       "                var nbb_unformatted_code = \"# for key in pearsons_r_results_dict.keys():\\n#     _ = plot_validation_performance(key, pearsons_r_results_dict[key])\";\n",
       "                var nbb_formatted_code = \"# for key in pearsons_r_results_dict.keys():\\n#     _ = plot_validation_performance(key, pearsons_r_results_dict[key])\";\n",
       "                var nbb_cells = Jupyter.notebook.get_cells();\n",
       "                for (var i = 0; i < nbb_cells.length; ++i) {\n",
       "                    if (nbb_cells[i].input_prompt_number == nbb_cell_id) {\n",
       "                        if (nbb_cells[i].get_text() == nbb_unformatted_code) {\n",
       "                             nbb_cells[i].set_text(nbb_formatted_code);\n",
       "                        }\n",
       "                        break;\n",
       "                    }\n",
       "                }\n",
       "            }, 500);\n",
       "            "
      ],
      "text/plain": [
       "<IPython.core.display.Javascript object>"
      ]
     },
     "metadata": {},
     "output_type": "display_data"
    }
   ],
   "source": [
    "# for key in pearsons_r_results_dict.keys():\n",
    "#     _ = plot_validation_performance(key, pearsons_r_results_dict[key])"
   ]
  },
  {
   "cell_type": "markdown",
   "metadata": {},
   "source": [
    "### Performance with augmentation"
   ]
  },
  {
   "cell_type": "markdown",
   "metadata": {},
   "source": [
    "Before training we \"augment\" our dataset simply by adding the reverse mutation with -ddG value"
   ]
  },
  {
   "cell_type": "code",
   "execution_count": 33,
   "metadata": {
    "scrolled": false
   },
   "outputs": [
    {
     "data": {
      "application/javascript": [
       "\n",
       "            setTimeout(function() {\n",
       "                var nbb_cell_id = 33;\n",
       "                var nbb_unformatted_code = \"# ddg_data_dict_augmented = _augment_with_reverse_mutation(ddg_data_dict)\";\n",
       "                var nbb_formatted_code = \"# ddg_data_dict_augmented = _augment_with_reverse_mutation(ddg_data_dict)\";\n",
       "                var nbb_cells = Jupyter.notebook.get_cells();\n",
       "                for (var i = 0; i < nbb_cells.length; ++i) {\n",
       "                    if (nbb_cells[i].input_prompt_number == nbb_cell_id) {\n",
       "                        if (nbb_cells[i].get_text() == nbb_unformatted_code) {\n",
       "                             nbb_cells[i].set_text(nbb_formatted_code);\n",
       "                        }\n",
       "                        break;\n",
       "                    }\n",
       "                }\n",
       "            }, 500);\n",
       "            "
      ],
      "text/plain": [
       "<IPython.core.display.Javascript object>"
      ]
     },
     "metadata": {},
     "output_type": "display_data"
    }
   ],
   "source": [
    "# ddg_data_dict_augmented = _augment_with_reverse_mutation(ddg_data_dict)"
   ]
  },
  {
   "cell_type": "markdown",
   "metadata": {},
   "source": [
    "Define training dataloader (augmented data) and eval dataloaders (original data)"
   ]
  },
  {
   "cell_type": "code",
   "execution_count": 34,
   "metadata": {},
   "outputs": [
    {
     "data": {
      "application/javascript": [
       "\n",
       "            setTimeout(function() {\n",
       "                var nbb_cell_id = 34;\n",
       "                var nbb_unformatted_code = \"# ddg_dataloaders_train_dict = _get_ddg_training_dataloaders(\\n#     ddg_data_dict_augmented, BATCH_SIZE_DDG, SHUFFLE_DDG\\n# )\\n# ddg_dataloaders_val_dict = _get_ddg_validation_dataloaders(ddg_data_dict)\";\n",
       "                var nbb_formatted_code = \"# ddg_dataloaders_train_dict = _get_ddg_training_dataloaders(\\n#     ddg_data_dict_augmented, BATCH_SIZE_DDG, SHUFFLE_DDG\\n# )\\n# ddg_dataloaders_val_dict = _get_ddg_validation_dataloaders(ddg_data_dict)\";\n",
       "                var nbb_cells = Jupyter.notebook.get_cells();\n",
       "                for (var i = 0; i < nbb_cells.length; ++i) {\n",
       "                    if (nbb_cells[i].input_prompt_number == nbb_cell_id) {\n",
       "                        if (nbb_cells[i].get_text() == nbb_unformatted_code) {\n",
       "                             nbb_cells[i].set_text(nbb_formatted_code);\n",
       "                        }\n",
       "                        break;\n",
       "                    }\n",
       "                }\n",
       "            }, 500);\n",
       "            "
      ],
      "text/plain": [
       "<IPython.core.display.Javascript object>"
      ]
     },
     "metadata": {},
     "output_type": "display_data"
    }
   ],
   "source": [
    "# ddg_dataloaders_train_dict = _get_ddg_training_dataloaders(\n",
    "#     ddg_data_dict_augmented, BATCH_SIZE_DDG, SHUFFLE_DDG\n",
    "# )\n",
    "# ddg_dataloaders_val_dict = _get_ddg_validation_dataloaders(ddg_data_dict)"
   ]
  },
  {
   "cell_type": "markdown",
   "metadata": {},
   "source": [
    "Train and report on the data that is not used during training"
   ]
  },
  {
   "cell_type": "code",
   "execution_count": 35,
   "metadata": {
    "scrolled": true
   },
   "outputs": [
    {
     "data": {
      "application/javascript": [
       "\n",
       "            setTimeout(function() {\n",
       "                var nbb_cell_id = 35;\n",
       "                var nbb_unformatted_code = \"# pearsons_r_results_dict = _train_downstream_and_evaluate(\\n#     ddg_dataloaders_train_dict,\\n#     ddg_dataloaders_val_dict,\\n#     DEVICE,\\n#     LEARNING_RATE_DDG,\\n#     EPOCHS_DDG,\\n# )\";\n",
       "                var nbb_formatted_code = \"# pearsons_r_results_dict = _train_downstream_and_evaluate(\\n#     ddg_dataloaders_train_dict,\\n#     ddg_dataloaders_val_dict,\\n#     DEVICE,\\n#     LEARNING_RATE_DDG,\\n#     EPOCHS_DDG,\\n# )\";\n",
       "                var nbb_cells = Jupyter.notebook.get_cells();\n",
       "                for (var i = 0; i < nbb_cells.length; ++i) {\n",
       "                    if (nbb_cells[i].input_prompt_number == nbb_cell_id) {\n",
       "                        if (nbb_cells[i].get_text() == nbb_unformatted_code) {\n",
       "                             nbb_cells[i].set_text(nbb_formatted_code);\n",
       "                        }\n",
       "                        break;\n",
       "                    }\n",
       "                }\n",
       "            }, 500);\n",
       "            "
      ],
      "text/plain": [
       "<IPython.core.display.Javascript object>"
      ]
     },
     "metadata": {},
     "output_type": "display_data"
    }
   ],
   "source": [
    "# pearsons_r_results_dict = _train_downstream_and_evaluate(\n",
    "#     ddg_dataloaders_train_dict,\n",
    "#     ddg_dataloaders_val_dict,\n",
    "#     DEVICE,\n",
    "#     LEARNING_RATE_DDG,\n",
    "#     EPOCHS_DDG,\n",
    "# )"
   ]
  },
  {
   "cell_type": "code",
   "execution_count": 36,
   "metadata": {},
   "outputs": [
    {
     "data": {
      "application/javascript": [
       "\n",
       "            setTimeout(function() {\n",
       "                var nbb_cell_id = 36;\n",
       "                var nbb_unformatted_code = \"# for key in pearsons_r_results_dict.keys():\\n#     _ = plot_validation_performance(key, pearsons_r_results_dict[key])\";\n",
       "                var nbb_formatted_code = \"# for key in pearsons_r_results_dict.keys():\\n#     _ = plot_validation_performance(key, pearsons_r_results_dict[key])\";\n",
       "                var nbb_cells = Jupyter.notebook.get_cells();\n",
       "                for (var i = 0; i < nbb_cells.length; ++i) {\n",
       "                    if (nbb_cells[i].input_prompt_number == nbb_cell_id) {\n",
       "                        if (nbb_cells[i].get_text() == nbb_unformatted_code) {\n",
       "                             nbb_cells[i].set_text(nbb_formatted_code);\n",
       "                        }\n",
       "                        break;\n",
       "                    }\n",
       "                }\n",
       "            }, 500);\n",
       "            "
      ],
      "text/plain": [
       "<IPython.core.display.Javascript object>"
      ]
     },
     "metadata": {},
     "output_type": "display_data"
    }
   ],
   "source": [
    "# for key in pearsons_r_results_dict.keys():\n",
    "#     _ = plot_validation_performance(key, pearsons_r_results_dict[key])"
   ]
  },
  {
   "cell_type": "code",
   "execution_count": null,
   "metadata": {},
   "outputs": [],
   "source": []
  }
 ],
 "metadata": {
  "kernelspec": {
   "display_name": "Python 3",
   "language": "python",
   "name": "python3"
  },
  "language_info": {
   "codemirror_mode": {
    "name": "ipython",
    "version": 3
   },
   "file_extension": ".py",
   "mimetype": "text/x-python",
   "name": "python",
   "nbconvert_exporter": "python",
   "pygments_lexer": "ipython3",
   "version": "3.6.12"
  }
 },
 "nbformat": 4,
 "nbformat_minor": 2
}
