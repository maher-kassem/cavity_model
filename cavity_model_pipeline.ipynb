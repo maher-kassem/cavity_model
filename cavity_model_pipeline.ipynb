{
 "cells": [
  {
   "cell_type": "markdown",
   "metadata": {},
   "source": [
    "# Imports"
   ]
  },
  {
   "cell_type": "code",
   "execution_count": 1,
   "metadata": {},
   "outputs": [
    {
     "data": {
      "application/javascript": [
       "\n",
       "            setTimeout(function() {\n",
       "                var nbb_cell_id = 1;\n",
       "                var nbb_unformatted_code = \"import glob\\nimport os\\nimport random\\n\\nimport pandas as pd\\nimport torch\\nfrom Bio.PDB.Polypeptide import index_to_one\\nfrom collections import OrderedDict\\nfrom torch.utils.data import DataLoader, Dataset\\n\\nfrom cavity_model import (\\n    CavityModel,\\n    ResidueEnvironment,\\n    ResidueEnvironmentsDataset,\\n)\\nfrom helpers import (\\n    _augment_with_reverse_mutation,\\n    _populate_dfs_with_nlls_and_nlfs,\\n    _populate_dfs_with_resenvs,\\n    _train_loop,\\n    _train_val_split,\\n    _get_ddg_training_dataloaders,\\n    _get_ddg_validation_dataloaders,\\n    _train_downstream_and_evaluate,\\n)\\nfrom visualization import scatter_pred_vs_true, plot_validation_performance\\n\\n%load_ext nb_black\";\n",
       "                var nbb_formatted_code = \"import glob\\nimport os\\nimport random\\n\\nimport pandas as pd\\nimport torch\\nfrom Bio.PDB.Polypeptide import index_to_one\\nfrom collections import OrderedDict\\nfrom torch.utils.data import DataLoader, Dataset\\n\\nfrom cavity_model import (\\n    CavityModel,\\n    ResidueEnvironment,\\n    ResidueEnvironmentsDataset,\\n)\\nfrom helpers import (\\n    _augment_with_reverse_mutation,\\n    _populate_dfs_with_nlls_and_nlfs,\\n    _populate_dfs_with_resenvs,\\n    _train_loop,\\n    _train_val_split,\\n    _get_ddg_training_dataloaders,\\n    _get_ddg_validation_dataloaders,\\n    _train_downstream_and_evaluate,\\n)\\nfrom visualization import scatter_pred_vs_true, plot_validation_performance\\n\\n%load_ext nb_black\";\n",
       "                var nbb_cells = Jupyter.notebook.get_cells();\n",
       "                for (var i = 0; i < nbb_cells.length; ++i) {\n",
       "                    if (nbb_cells[i].input_prompt_number == nbb_cell_id) {\n",
       "                        if (nbb_cells[i].get_text() == nbb_unformatted_code) {\n",
       "                             nbb_cells[i].set_text(nbb_formatted_code);\n",
       "                        }\n",
       "                        break;\n",
       "                    }\n",
       "                }\n",
       "            }, 500);\n",
       "            "
      ],
      "text/plain": [
       "<IPython.core.display.Javascript object>"
      ]
     },
     "metadata": {},
     "output_type": "display_data"
    }
   ],
   "source": [
    "import glob\n",
    "import os\n",
    "import random\n",
    "\n",
    "import pandas as pd\n",
    "import torch\n",
    "from Bio.PDB.Polypeptide import index_to_one\n",
    "from collections import OrderedDict\n",
    "from torch.utils.data import DataLoader, Dataset\n",
    "\n",
    "from cavity_model import (\n",
    "    CavityModel,\n",
    "    ResidueEnvironment,\n",
    "    ResidueEnvironmentsDataset,\n",
    ")\n",
    "from helpers import (\n",
    "    _augment_with_reverse_mutation,\n",
    "    _populate_dfs_with_nlls_and_nlfs,\n",
    "    _populate_dfs_with_resenvs,\n",
    "    _train_loop,\n",
    "    _train_val_split,\n",
    "    _get_ddg_training_dataloaders,\n",
    "    _get_ddg_validation_dataloaders,\n",
    "    _train_downstream_and_evaluate,\n",
    ")\n",
    "from visualization import scatter_pred_vs_true, plot_validation_performance\n",
    "\n",
    "%load_ext nb_black"
   ]
  },
  {
   "cell_type": "markdown",
   "metadata": {},
   "source": [
    "# Cavity Model"
   ]
  },
  {
   "cell_type": "markdown",
   "metadata": {},
   "source": [
    "Download and process Cavity Model data"
   ]
  },
  {
   "cell_type": "code",
   "execution_count": 2,
   "metadata": {
    "scrolled": true
   },
   "outputs": [
    {
     "name": "stdout",
     "output_type": "stream",
     "text": [
      "Successfully downloaded 4X2U.pdb to data/pdbs/raw/4X2U.pdb. 1/250.\n",
      "Successfully downloaded 2X96.pdb to data/pdbs/raw/2X96.pdb. 2/250.\n",
      "Successfully downloaded 4MXD.pdb to data/pdbs/raw/4MXD.pdb. 3/250.\n",
      "Successfully downloaded 3E9L.pdb to data/pdbs/raw/3E9L.pdb. 4/250.\n",
      "Successfully downloaded 1UWC.pdb to data/pdbs/raw/1UWC.pdb. 5/250.\n",
      "Successfully downloaded 4BGU.pdb to data/pdbs/raw/4BGU.pdb. 6/250.\n",
      "Successfully downloaded 2YSW.pdb to data/pdbs/raw/2YSW.pdb. 7/250.\n",
      "Successfully downloaded 4OW4.pdb to data/pdbs/raw/4OW4.pdb. 8/250.\n",
      "Successfully downloaded 2V5E.pdb to data/pdbs/raw/2V5E.pdb. 9/250.\n",
      "Successfully downloaded 1IXH.pdb to data/pdbs/raw/1IXH.pdb. 10/250.\n",
      "Successfully downloaded 3ZR9.pdb to data/pdbs/raw/3ZR9.pdb. 11/250.\n",
      "Successfully downloaded 4O7Q.pdb to data/pdbs/raw/4O7Q.pdb. 12/250.\n",
      "Successfully downloaded 3OBL.pdb to data/pdbs/raw/3OBL.pdb. 13/250.\n",
      "Successfully downloaded 2YVP.pdb to data/pdbs/raw/2YVP.pdb. 14/250.\n",
      "Successfully downloaded 1UNK.pdb to data/pdbs/raw/1UNK.pdb. 15/250.\n",
      "Successfully downloaded 5B2H.pdb to data/pdbs/raw/5B2H.pdb. 16/250.\n",
      "Successfully downloaded 5FEN.pdb to data/pdbs/raw/5FEN.pdb. 17/250.\n",
      "Successfully downloaded 2CN4.pdb to data/pdbs/raw/2CN4.pdb. 18/250.\n",
      "Successfully downloaded 1LDD.pdb to data/pdbs/raw/1LDD.pdb. 19/250.\n",
      "Successfully downloaded 2PIA.pdb to data/pdbs/raw/2PIA.pdb. 20/250.\n",
      "Successfully downloaded 3MX7.pdb to data/pdbs/raw/3MX7.pdb. 21/250.\n",
      "Successfully downloaded 2XU3.pdb to data/pdbs/raw/2XU3.pdb. 22/250.\n",
      "Successfully downloaded 4DPB.pdb to data/pdbs/raw/4DPB.pdb. 23/250.\n",
      "Successfully downloaded 1F47.pdb to data/pdbs/raw/1F47.pdb. 24/250.\n",
      "Successfully downloaded 3U4Z.pdb to data/pdbs/raw/3U4Z.pdb. 25/250.\n",
      "Successfully downloaded 1IQQ.pdb to data/pdbs/raw/1IQQ.pdb. 26/250.\n",
      "Successfully downloaded 4FIV.pdb to data/pdbs/raw/4FIV.pdb. 27/250.\n",
      "Successfully downloaded 2QSK.pdb to data/pdbs/raw/2QSK.pdb. 28/250.\n",
      "Successfully downloaded 1QQS.pdb to data/pdbs/raw/1QQS.pdb. 29/250.\n",
      "Successfully downloaded 1DAB.pdb to data/pdbs/raw/1DAB.pdb. 30/250.\n",
      "Successfully downloaded 1LXY.pdb to data/pdbs/raw/1LXY.pdb. 31/250.\n",
      "Successfully downloaded 1Z2U.pdb to data/pdbs/raw/1Z2U.pdb. 32/250.\n",
      "Successfully downloaded 2HLC.pdb to data/pdbs/raw/2HLC.pdb. 33/250.\n",
      "Successfully downloaded 1TU7.pdb to data/pdbs/raw/1TU7.pdb. 34/250.\n",
      "Successfully downloaded 2GDM.pdb to data/pdbs/raw/2GDM.pdb. 35/250.\n",
      "Successfully downloaded 3RBA.pdb to data/pdbs/raw/3RBA.pdb. 36/250.\n",
      "Successfully downloaded 1GYX.pdb to data/pdbs/raw/1GYX.pdb. 37/250.\n",
      "Successfully downloaded 3EF4.pdb to data/pdbs/raw/3EF4.pdb. 38/250.\n",
      "Successfully downloaded 1HRD.pdb to data/pdbs/raw/1HRD.pdb. 39/250.\n",
      "Successfully downloaded 1HI9.pdb to data/pdbs/raw/1HI9.pdb. 40/250.\n",
      "Successfully downloaded 4UPG.pdb to data/pdbs/raw/4UPG.pdb. 41/250.\n",
      "Successfully downloaded 4ZUR.pdb to data/pdbs/raw/4ZUR.pdb. 42/250.\n",
      "Successfully downloaded 1CPQ.pdb to data/pdbs/raw/1CPQ.pdb. 43/250.\n",
      "Successfully downloaded 3AU0.pdb to data/pdbs/raw/3AU0.pdb. 44/250.\n",
      "Successfully downloaded 3IPJ.pdb to data/pdbs/raw/3IPJ.pdb. 45/250.\n",
      "Successfully downloaded 4BGV.pdb to data/pdbs/raw/4BGV.pdb. 46/250.\n",
      "Successfully downloaded 5GSM.pdb to data/pdbs/raw/5GSM.pdb. 47/250.\n",
      "Successfully downloaded 4RSX.pdb to data/pdbs/raw/4RSX.pdb. 48/250.\n",
      "Successfully downloaded 1UAS.pdb to data/pdbs/raw/1UAS.pdb. 49/250.\n",
      "Successfully downloaded 2CB5.pdb to data/pdbs/raw/2CB5.pdb. 50/250.\n",
      "Successfully downloaded 1NCX.pdb to data/pdbs/raw/1NCX.pdb. 51/250.\n",
      "Successfully downloaded 1A6M.pdb to data/pdbs/raw/1A6M.pdb. 52/250.\n",
      "Successfully downloaded 3C8Y.pdb to data/pdbs/raw/3C8Y.pdb. 53/250.\n",
      "Successfully downloaded 5KH6.pdb to data/pdbs/raw/5KH6.pdb. 54/250.\n",
      "Successfully downloaded 3AI3.pdb to data/pdbs/raw/3AI3.pdb. 55/250.\n",
      "Successfully downloaded 4YYP.pdb to data/pdbs/raw/4YYP.pdb. 56/250.\n",
      "Successfully downloaded 3PX8.pdb to data/pdbs/raw/3PX8.pdb. 57/250.\n",
      "Successfully downloaded 2Q35.pdb to data/pdbs/raw/2Q35.pdb. 58/250.\n",
      "Successfully downloaded 4YHE.pdb to data/pdbs/raw/4YHE.pdb. 59/250.\n",
      "Successfully downloaded 1QLM.pdb to data/pdbs/raw/1QLM.pdb. 60/250.\n",
      "Successfully downloaded 3IE2.pdb to data/pdbs/raw/3IE2.pdb. 61/250.\n",
      "Successfully downloaded 2QA0.pdb to data/pdbs/raw/2QA0.pdb. 62/250.\n",
      "Successfully downloaded 3GA3.pdb to data/pdbs/raw/3GA3.pdb. 63/250.\n",
      "Successfully downloaded 4XDO.pdb to data/pdbs/raw/4XDO.pdb. 64/250.\n",
      "Successfully downloaded 1CQJ.pdb to data/pdbs/raw/1CQJ.pdb. 65/250.\n",
      "Successfully downloaded 3AG6.pdb to data/pdbs/raw/3AG6.pdb. 66/250.\n",
      "Successfully downloaded 4ICQ.pdb to data/pdbs/raw/4ICQ.pdb. 67/250.\n",
      "Successfully downloaded 4QU2.pdb to data/pdbs/raw/4QU2.pdb. 68/250.\n",
      "Successfully downloaded 1OCY.pdb to data/pdbs/raw/1OCY.pdb. 69/250.\n",
      "Successfully downloaded 1M08.pdb to data/pdbs/raw/1M08.pdb. 70/250.\n",
      "Successfully downloaded 1ZH1.pdb to data/pdbs/raw/1ZH1.pdb. 71/250.\n",
      "Successfully downloaded 1DXG.pdb to data/pdbs/raw/1DXG.pdb. 72/250.\n",
      "Successfully downloaded 4P08.pdb to data/pdbs/raw/4P08.pdb. 73/250.\n",
      "Successfully downloaded 1EKM.pdb to data/pdbs/raw/1EKM.pdb. 74/250.\n",
      "Successfully downloaded 2D3Y.pdb to data/pdbs/raw/2D3Y.pdb. 75/250.\n",
      "Successfully downloaded 2CE8.pdb to data/pdbs/raw/2CE8.pdb. 76/250.\n",
      "Successfully downloaded 5ED7.pdb to data/pdbs/raw/5ED7.pdb. 77/250.\n",
      "Successfully downloaded 1RMD.pdb to data/pdbs/raw/1RMD.pdb. 78/250.\n",
      "Successfully downloaded 3W7B.pdb to data/pdbs/raw/3W7B.pdb. 79/250.\n",
      "Successfully downloaded 1DCI.pdb to data/pdbs/raw/1DCI.pdb. 80/250.\n",
      "Successfully downloaded 1L7A.pdb to data/pdbs/raw/1L7A.pdb. 81/250.\n",
      "Successfully downloaded 3S2E.pdb to data/pdbs/raw/3S2E.pdb. 82/250.\n",
      "Successfully downloaded 4LBS.pdb to data/pdbs/raw/4LBS.pdb. 83/250.\n",
      "Successfully downloaded 4WMH.pdb to data/pdbs/raw/4WMH.pdb. 84/250.\n",
      "Successfully downloaded 2PA1.pdb to data/pdbs/raw/2PA1.pdb. 85/250.\n",
      "Successfully downloaded 2ERL.pdb to data/pdbs/raw/2ERL.pdb. 86/250.\n",
      "Successfully downloaded 4ERC.pdb to data/pdbs/raw/4ERC.pdb. 87/250.\n",
      "Successfully downloaded 1IJB.pdb to data/pdbs/raw/1IJB.pdb. 88/250.\n",
      "Successfully downloaded 1LK5.pdb to data/pdbs/raw/1LK5.pdb. 89/250.\n",
      "Successfully downloaded 4DWQ.pdb to data/pdbs/raw/4DWQ.pdb. 90/250.\n",
      "Successfully downloaded 3ODV.pdb to data/pdbs/raw/3ODV.pdb. 91/250.\n",
      "Successfully downloaded 4E5R.pdb to data/pdbs/raw/4E5R.pdb. 92/250.\n",
      "Successfully downloaded 4XRF.pdb to data/pdbs/raw/4XRF.pdb. 93/250.\n",
      "Successfully downloaded 1QST.pdb to data/pdbs/raw/1QST.pdb. 94/250.\n",
      "Successfully downloaded 2OF3.pdb to data/pdbs/raw/2OF3.pdb. 95/250.\n",
      "Successfully downloaded 3K1R.pdb to data/pdbs/raw/3K1R.pdb. 96/250.\n",
      "Successfully downloaded 3B02.pdb to data/pdbs/raw/3B02.pdb. 97/250.\n",
      "Successfully downloaded 1ALY.pdb to data/pdbs/raw/1ALY.pdb. 98/250.\n",
      "Successfully downloaded 2IFV.pdb to data/pdbs/raw/2IFV.pdb. 99/250.\n",
      "Successfully downloaded 4KNU.pdb to data/pdbs/raw/4KNU.pdb. 100/250.\n",
      "Successfully downloaded 3FBL.pdb to data/pdbs/raw/3FBL.pdb. 101/250.\n",
      "Successfully downloaded 2WKK.pdb to data/pdbs/raw/2WKK.pdb. 102/250.\n",
      "Successfully downloaded 1GNT.pdb to data/pdbs/raw/1GNT.pdb. 103/250.\n",
      "Successfully downloaded 1I4J.pdb to data/pdbs/raw/1I4J.pdb. 104/250.\n",
      "Successfully downloaded 1D2C.pdb to data/pdbs/raw/1D2C.pdb. 105/250.\n",
      "Successfully downloaded 1H16.pdb to data/pdbs/raw/1H16.pdb. 106/250.\n",
      "Successfully downloaded 1DQZ.pdb to data/pdbs/raw/1DQZ.pdb. 107/250.\n",
      "Successfully downloaded 4FD2.pdb to data/pdbs/raw/4FD2.pdb. 108/250.\n",
      "Successfully downloaded 3G7E.pdb to data/pdbs/raw/3G7E.pdb. 109/250.\n",
      "Successfully downloaded 5MB4.pdb to data/pdbs/raw/5MB4.pdb. 110/250.\n",
      "Successfully downloaded 2IVG.pdb to data/pdbs/raw/2IVG.pdb. 111/250.\n",
      "Successfully downloaded 1BXY.pdb to data/pdbs/raw/1BXY.pdb. 112/250.\n",
      "Successfully downloaded 3RMU.pdb to data/pdbs/raw/3RMU.pdb. 113/250.\n",
      "Successfully downloaded 2D48.pdb to data/pdbs/raw/2D48.pdb. 114/250.\n",
      "Successfully downloaded 2BNU.pdb to data/pdbs/raw/2BNU.pdb. 115/250.\n",
      "Successfully downloaded 1QQM.pdb to data/pdbs/raw/1QQM.pdb. 116/250.\n",
      "Successfully downloaded 1CN3.pdb to data/pdbs/raw/1CN3.pdb. 117/250.\n",
      "Successfully downloaded 5IZW.pdb to data/pdbs/raw/5IZW.pdb. 118/250.\n",
      "Successfully downloaded 5EYS.pdb to data/pdbs/raw/5EYS.pdb. 119/250.\n",
      "Successfully downloaded 3E4G.pdb to data/pdbs/raw/3E4G.pdb. 120/250.\n",
      "Successfully downloaded 2OR2.pdb to data/pdbs/raw/2OR2.pdb. 121/250.\n"
     ]
    },
    {
     "name": "stdout",
     "output_type": "stream",
     "text": [
      "Successfully downloaded 1BU2.pdb to data/pdbs/raw/1BU2.pdb. 122/250.\n",
      "Successfully downloaded 5MND.pdb to data/pdbs/raw/5MND.pdb. 123/250.\n",
      "Successfully downloaded 1EI9.pdb to data/pdbs/raw/1EI9.pdb. 124/250.\n",
      "Successfully downloaded 1KUU.pdb to data/pdbs/raw/1KUU.pdb. 125/250.\n",
      "Successfully downloaded 5AYE.pdb to data/pdbs/raw/5AYE.pdb. 126/250.\n",
      "Successfully downloaded 1L2P.pdb to data/pdbs/raw/1L2P.pdb. 127/250.\n",
      "Successfully downloaded 4O7K.pdb to data/pdbs/raw/4O7K.pdb. 128/250.\n",
      "Successfully downloaded 1AGJ.pdb to data/pdbs/raw/1AGJ.pdb. 129/250.\n",
      "Successfully downloaded 1ZZG.pdb to data/pdbs/raw/1ZZG.pdb. 130/250.\n",
      "Successfully downloaded 4UEJ.pdb to data/pdbs/raw/4UEJ.pdb. 131/250.\n",
      "Successfully downloaded 5HI8.pdb to data/pdbs/raw/5HI8.pdb. 132/250.\n",
      "Successfully downloaded 1HG0.pdb to data/pdbs/raw/1HG0.pdb. 133/250.\n",
      "Successfully downloaded 1EX7.pdb to data/pdbs/raw/1EX7.pdb. 134/250.\n",
      "Successfully downloaded 1V7C.pdb to data/pdbs/raw/1V7C.pdb. 135/250.\n",
      "Successfully downloaded 1QJ8.pdb to data/pdbs/raw/1QJ8.pdb. 136/250.\n",
      "Successfully downloaded 2JHF.pdb to data/pdbs/raw/2JHF.pdb. 137/250.\n",
      "Successfully downloaded 2Z3V.pdb to data/pdbs/raw/2Z3V.pdb. 138/250.\n",
      "Successfully downloaded 3BL2.pdb to data/pdbs/raw/3BL2.pdb. 139/250.\n",
      "Successfully downloaded 2OKT.pdb to data/pdbs/raw/2OKT.pdb. 140/250.\n",
      "Successfully downloaded 1QB7.pdb to data/pdbs/raw/1QB7.pdb. 141/250.\n",
      "Successfully downloaded 3OUE.pdb to data/pdbs/raw/3OUE.pdb. 142/250.\n",
      "Successfully downloaded 2RBK.pdb to data/pdbs/raw/2RBK.pdb. 143/250.\n",
      "Successfully downloaded 4FD9.pdb to data/pdbs/raw/4FD9.pdb. 144/250.\n",
      "Successfully downloaded 1BMQ.pdb to data/pdbs/raw/1BMQ.pdb. 145/250.\n",
      "Successfully downloaded 1DW0.pdb to data/pdbs/raw/1DW0.pdb. 146/250.\n",
      "Successfully downloaded 1RDZ.pdb to data/pdbs/raw/1RDZ.pdb. 147/250.\n",
      "Successfully downloaded 2E2O.pdb to data/pdbs/raw/2E2O.pdb. 148/250.\n",
      "Successfully downloaded 5TAB.pdb to data/pdbs/raw/5TAB.pdb. 149/250.\n",
      "Successfully downloaded 2H1C.pdb to data/pdbs/raw/2H1C.pdb. 150/250.\n",
      "Successfully downloaded 1Y7T.pdb to data/pdbs/raw/1Y7T.pdb. 151/250.\n",
      "Successfully downloaded 4G94.pdb to data/pdbs/raw/4G94.pdb. 152/250.\n",
      "Successfully downloaded 4P6Q.pdb to data/pdbs/raw/4P6Q.pdb. 153/250.\n",
      "Successfully downloaded 3G46.pdb to data/pdbs/raw/3G46.pdb. 154/250.\n",
      "Successfully downloaded 4Y0A.pdb to data/pdbs/raw/4Y0A.pdb. 155/250.\n",
      "Successfully downloaded 1EBF.pdb to data/pdbs/raw/1EBF.pdb. 156/250.\n",
      "Successfully downloaded 3DXS.pdb to data/pdbs/raw/3DXS.pdb. 157/250.\n",
      "Successfully downloaded 5K9A.pdb to data/pdbs/raw/5K9A.pdb. 158/250.\n",
      "Successfully downloaded 2JL1.pdb to data/pdbs/raw/2JL1.pdb. 159/250.\n",
      "Successfully downloaded 5MF5.pdb to data/pdbs/raw/5MF5.pdb. 160/250.\n",
      "Successfully downloaded 4DM1.pdb to data/pdbs/raw/4DM1.pdb. 161/250.\n",
      "Successfully downloaded 4X3L.pdb to data/pdbs/raw/4X3L.pdb. 162/250.\n",
      "Successfully downloaded 3CXP.pdb to data/pdbs/raw/3CXP.pdb. 163/250.\n",
      "Successfully downloaded 1UCD.pdb to data/pdbs/raw/1UCD.pdb. 164/250.\n",
      "Successfully downloaded 1DLJ.pdb to data/pdbs/raw/1DLJ.pdb. 165/250.\n",
      "Successfully downloaded 1QXX.pdb to data/pdbs/raw/1QXX.pdb. 166/250.\n",
      "Successfully downloaded 1L3P.pdb to data/pdbs/raw/1L3P.pdb. 167/250.\n",
      "Successfully downloaded 3SEB.pdb to data/pdbs/raw/3SEB.pdb. 168/250.\n",
      "Successfully downloaded 1OLL.pdb to data/pdbs/raw/1OLL.pdb. 169/250.\n",
      "Successfully downloaded 1GVR.pdb to data/pdbs/raw/1GVR.pdb. 170/250.\n",
      "Successfully downloaded 1YU5.pdb to data/pdbs/raw/1YU5.pdb. 171/250.\n",
      "Successfully downloaded 3TRD.pdb to data/pdbs/raw/3TRD.pdb. 172/250.\n",
      "Successfully downloaded 1K7C.pdb to data/pdbs/raw/1K7C.pdb. 173/250.\n",
      "Successfully downloaded 3WMI.pdb to data/pdbs/raw/3WMI.pdb. 174/250.\n",
      "Successfully downloaded 5H59.pdb to data/pdbs/raw/5H59.pdb. 175/250.\n",
      "Successfully downloaded 2ED6.pdb to data/pdbs/raw/2ED6.pdb. 176/250.\n",
      "Successfully downloaded 4DH4.pdb to data/pdbs/raw/4DH4.pdb. 177/250.\n",
      "Successfully downloaded 1J0P.pdb to data/pdbs/raw/1J0P.pdb. 178/250.\n",
      "Successfully downloaded 2BK8.pdb to data/pdbs/raw/2BK8.pdb. 179/250.\n",
      "Successfully downloaded 5A96.pdb to data/pdbs/raw/5A96.pdb. 180/250.\n",
      "Successfully downloaded 5WUK.pdb to data/pdbs/raw/5WUK.pdb. 181/250.\n",
      "Successfully downloaded 3FRO.pdb to data/pdbs/raw/3FRO.pdb. 182/250.\n",
      "Successfully downloaded 4EB0.pdb to data/pdbs/raw/4EB0.pdb. 183/250.\n",
      "Successfully downloaded 2J9V.pdb to data/pdbs/raw/2J9V.pdb. 184/250.\n",
      "Successfully downloaded 3LP5.pdb to data/pdbs/raw/3LP5.pdb. 185/250.\n",
      "Successfully downloaded 5B6C.pdb to data/pdbs/raw/5B6C.pdb. 186/250.\n",
      "Successfully downloaded 1K66.pdb to data/pdbs/raw/1K66.pdb. 187/250.\n",
      "Successfully downloaded 1B3U.pdb to data/pdbs/raw/1B3U.pdb. 188/250.\n",
      "Successfully downloaded 2E1B.pdb to data/pdbs/raw/2E1B.pdb. 189/250.\n",
      "Successfully downloaded 2ACY.pdb to data/pdbs/raw/2ACY.pdb. 190/250.\n",
      "Successfully downloaded 1XNI.pdb to data/pdbs/raw/1XNI.pdb. 191/250.\n",
      "Successfully downloaded 2GAS.pdb to data/pdbs/raw/2GAS.pdb. 192/250.\n",
      "Successfully downloaded 1XAN.pdb to data/pdbs/raw/1XAN.pdb. 193/250.\n",
      "Successfully downloaded 1FEZ.pdb to data/pdbs/raw/1FEZ.pdb. 194/250.\n",
      "Successfully downloaded 1K8Q.pdb to data/pdbs/raw/1K8Q.pdb. 195/250.\n",
      "Successfully downloaded 4R5R.pdb to data/pdbs/raw/4R5R.pdb. 196/250.\n",
      "Successfully downloaded 5GZD.pdb to data/pdbs/raw/5GZD.pdb. 197/250.\n",
      "Successfully downloaded 4NNK.pdb to data/pdbs/raw/4NNK.pdb. 198/250.\n",
      "Successfully downloaded 4ZPC.pdb to data/pdbs/raw/4ZPC.pdb. 199/250.\n",
      "Successfully downloaded 5FBF.pdb to data/pdbs/raw/5FBF.pdb. 200/250.\n",
      "Successfully downloaded 2HP3.pdb to data/pdbs/raw/2HP3.pdb. 201/250.\n",
      "Successfully downloaded 3PEN.pdb to data/pdbs/raw/3PEN.pdb. 202/250.\n",
      "Successfully downloaded 1INP.pdb to data/pdbs/raw/1INP.pdb. 203/250.\n",
      "Successfully downloaded 3LCZ.pdb to data/pdbs/raw/3LCZ.pdb. 204/250.\n",
      "Successfully downloaded 3CHY.pdb to data/pdbs/raw/3CHY.pdb. 205/250.\n",
      "Successfully downloaded 4BHB.pdb to data/pdbs/raw/4BHB.pdb. 206/250.\n",
      "Successfully downloaded 3X2Z.pdb to data/pdbs/raw/3X2Z.pdb. 207/250.\n",
      "Successfully downloaded 1ASO.pdb to data/pdbs/raw/1ASO.pdb. 208/250.\n",
      "Successfully downloaded 1QSO.pdb to data/pdbs/raw/1QSO.pdb. 209/250.\n",
      "Successfully downloaded 1DD3.pdb to data/pdbs/raw/1DD3.pdb. 210/250.\n",
      "Successfully downloaded 1PNF.pdb to data/pdbs/raw/1PNF.pdb. 211/250.\n",
      "Successfully downloaded 3AYQ.pdb to data/pdbs/raw/3AYQ.pdb. 212/250.\n",
      "Successfully downloaded 5H04.pdb to data/pdbs/raw/5H04.pdb. 213/250.\n",
      "Successfully downloaded 5GVR.pdb to data/pdbs/raw/5GVR.pdb. 214/250.\n",
      "Successfully downloaded 3N4U.pdb to data/pdbs/raw/3N4U.pdb. 215/250.\n",
      "Successfully downloaded 3CAE.pdb to data/pdbs/raw/3CAE.pdb. 216/250.\n",
      "Successfully downloaded 2V8I.pdb to data/pdbs/raw/2V8I.pdb. 217/250.\n",
      "Successfully downloaded 1XLQ.pdb to data/pdbs/raw/1XLQ.pdb. 218/250.\n",
      "Successfully downloaded 2JA4.pdb to data/pdbs/raw/2JA4.pdb. 219/250.\n",
      "Successfully downloaded 2ABK.pdb to data/pdbs/raw/2ABK.pdb. 220/250.\n",
      "Successfully downloaded 2WMM.pdb to data/pdbs/raw/2WMM.pdb. 221/250.\n",
      "Successfully downloaded 5AVD.pdb to data/pdbs/raw/5AVD.pdb. 222/250.\n",
      "Successfully downloaded 4ZIU.pdb to data/pdbs/raw/4ZIU.pdb. 223/250.\n",
      "Successfully downloaded 3RAB.pdb to data/pdbs/raw/3RAB.pdb. 224/250.\n",
      "Successfully downloaded 3KZ3.pdb to data/pdbs/raw/3KZ3.pdb. 225/250.\n",
      "Successfully downloaded 3HAM.pdb to data/pdbs/raw/3HAM.pdb. 226/250.\n",
      "Successfully downloaded 1SVB.pdb to data/pdbs/raw/1SVB.pdb. 227/250.\n",
      "Successfully downloaded 3HAK.pdb to data/pdbs/raw/3HAK.pdb. 228/250.\n",
      "Successfully downloaded 1VC4.pdb to data/pdbs/raw/1VC4.pdb. 229/250.\n",
      "Successfully downloaded 3SU0.pdb to data/pdbs/raw/3SU0.pdb. 230/250.\n",
      "Successfully downloaded 1H91.pdb to data/pdbs/raw/1H91.pdb. 231/250.\n",
      "Successfully downloaded 1R89.pdb to data/pdbs/raw/1R89.pdb. 232/250.\n",
      "Successfully downloaded 4AS2.pdb to data/pdbs/raw/4AS2.pdb. 233/250.\n",
      "Successfully downloaded 2NXV.pdb to data/pdbs/raw/2NXV.pdb. 234/250.\n",
      "Successfully downloaded 2V9V.pdb to data/pdbs/raw/2V9V.pdb. 235/250.\n",
      "Successfully downloaded 1H3Q.pdb to data/pdbs/raw/1H3Q.pdb. 236/250.\n",
      "Successfully downloaded 1JG5.pdb to data/pdbs/raw/1JG5.pdb. 237/250.\n",
      "Successfully downloaded 2OYA.pdb to data/pdbs/raw/2OYA.pdb. 238/250.\n",
      "Successfully downloaded 5HQT.pdb to data/pdbs/raw/5HQT.pdb. 239/250.\n",
      "Successfully downloaded 1R4C.pdb to data/pdbs/raw/1R4C.pdb. 240/250.\n"
     ]
    },
    {
     "name": "stdout",
     "output_type": "stream",
     "text": [
      "Successfully downloaded 4WP4.pdb to data/pdbs/raw/4WP4.pdb. 241/250.\n",
      "Successfully downloaded 2W5Q.pdb to data/pdbs/raw/2W5Q.pdb. 242/250.\n",
      "Successfully downloaded 4IG2.pdb to data/pdbs/raw/4IG2.pdb. 243/250.\n",
      "Successfully downloaded 5ECX.pdb to data/pdbs/raw/5ECX.pdb. 244/250.\n",
      "Successfully downloaded 2V66.pdb to data/pdbs/raw/2V66.pdb. 245/250.\n",
      "Successfully downloaded 1A44.pdb to data/pdbs/raw/1A44.pdb. 246/250.\n",
      "Successfully downloaded 1DQ3.pdb to data/pdbs/raw/1DQ3.pdb. 247/250.\n",
      "Successfully downloaded 1YTS.pdb to data/pdbs/raw/1YTS.pdb. 248/250.\n",
      "Successfully downloaded 1NG6.pdb to data/pdbs/raw/1NG6.pdb. 249/250.\n",
      "Successfully downloaded 2CZQ.pdb to data/pdbs/raw/2CZQ.pdb. 250/250.\n",
      "Successfully cleaned data/pdbs/raw/1A44.pdb and added it to data/pdbs/cleaned/. 1/250.\n",
      "Successfully cleaned data/pdbs/raw/1A6M.pdb and added it to data/pdbs/cleaned/. 2/250.\n",
      "Successfully cleaned data/pdbs/raw/1AGJ.pdb and added it to data/pdbs/cleaned/. 3/250.\n",
      "Successfully cleaned data/pdbs/raw/1ALY.pdb and added it to data/pdbs/cleaned/. 4/250.\n",
      "Successfully cleaned data/pdbs/raw/1ASO.pdb and added it to data/pdbs/cleaned/. 5/250.\n",
      "Successfully cleaned data/pdbs/raw/1B3U.pdb and added it to data/pdbs/cleaned/. 6/250.\n",
      "Successfully cleaned data/pdbs/raw/1BMQ.pdb and added it to data/pdbs/cleaned/. 7/250.\n",
      "Successfully cleaned data/pdbs/raw/1BU2.pdb and added it to data/pdbs/cleaned/. 8/250.\n",
      "Successfully cleaned data/pdbs/raw/1BXY.pdb and added it to data/pdbs/cleaned/. 9/250.\n",
      "Successfully cleaned data/pdbs/raw/1CN3.pdb and added it to data/pdbs/cleaned/. 10/250.\n",
      "Successfully cleaned data/pdbs/raw/1CPQ.pdb and added it to data/pdbs/cleaned/. 11/250.\n",
      "Successfully cleaned data/pdbs/raw/1CQJ.pdb and added it to data/pdbs/cleaned/. 12/250.\n",
      "Successfully cleaned data/pdbs/raw/1D2C.pdb and added it to data/pdbs/cleaned/. 13/250.\n",
      "Successfully cleaned data/pdbs/raw/1DAB.pdb and added it to data/pdbs/cleaned/. 14/250.\n",
      "Successfully cleaned data/pdbs/raw/1DCI.pdb and added it to data/pdbs/cleaned/. 15/250.\n",
      "Successfully cleaned data/pdbs/raw/1DD3.pdb and added it to data/pdbs/cleaned/. 16/250.\n",
      "Successfully cleaned data/pdbs/raw/1DLJ.pdb and added it to data/pdbs/cleaned/. 17/250.\n",
      "Successfully cleaned data/pdbs/raw/1DQ3.pdb and added it to data/pdbs/cleaned/. 18/250.\n",
      "Successfully cleaned data/pdbs/raw/1DQZ.pdb and added it to data/pdbs/cleaned/. 19/250.\n",
      "Successfully cleaned data/pdbs/raw/1DW0.pdb and added it to data/pdbs/cleaned/. 20/250.\n",
      "Successfully cleaned data/pdbs/raw/1DXG.pdb and added it to data/pdbs/cleaned/. 21/250.\n",
      "Successfully cleaned data/pdbs/raw/1EBF.pdb and added it to data/pdbs/cleaned/. 22/250.\n",
      "Successfully cleaned data/pdbs/raw/1EI9.pdb and added it to data/pdbs/cleaned/. 23/250.\n",
      "Successfully cleaned data/pdbs/raw/1EKM.pdb and added it to data/pdbs/cleaned/. 24/250.\n",
      "Successfully cleaned data/pdbs/raw/1EX7.pdb and added it to data/pdbs/cleaned/. 25/250.\n",
      "Successfully cleaned data/pdbs/raw/1F47.pdb and added it to data/pdbs/cleaned/. 26/250.\n",
      "Successfully cleaned data/pdbs/raw/1FEZ.pdb and added it to data/pdbs/cleaned/. 27/250.\n",
      "Successfully cleaned data/pdbs/raw/1GNT.pdb and added it to data/pdbs/cleaned/. 28/250.\n",
      "Successfully cleaned data/pdbs/raw/1GVR.pdb and added it to data/pdbs/cleaned/. 29/250.\n",
      "Successfully cleaned data/pdbs/raw/1GYX.pdb and added it to data/pdbs/cleaned/. 30/250.\n",
      "Successfully cleaned data/pdbs/raw/1H16.pdb and added it to data/pdbs/cleaned/. 31/250.\n",
      "Successfully cleaned data/pdbs/raw/1H3Q.pdb and added it to data/pdbs/cleaned/. 32/250.\n",
      "Successfully cleaned data/pdbs/raw/1H91.pdb and added it to data/pdbs/cleaned/. 33/250.\n",
      "Successfully cleaned data/pdbs/raw/1HG0.pdb and added it to data/pdbs/cleaned/. 34/250.\n",
      "Successfully cleaned data/pdbs/raw/1HI9.pdb and added it to data/pdbs/cleaned/. 35/250.\n",
      "Successfully cleaned data/pdbs/raw/1HRD.pdb and added it to data/pdbs/cleaned/. 36/250.\n",
      "Successfully cleaned data/pdbs/raw/1I4J.pdb and added it to data/pdbs/cleaned/. 37/250.\n",
      "Successfully cleaned data/pdbs/raw/1IJB.pdb and added it to data/pdbs/cleaned/. 38/250.\n",
      "Successfully cleaned data/pdbs/raw/1INP.pdb and added it to data/pdbs/cleaned/. 39/250.\n",
      "Successfully cleaned data/pdbs/raw/1IQQ.pdb and added it to data/pdbs/cleaned/. 40/250.\n",
      "Successfully cleaned data/pdbs/raw/1IXH.pdb and added it to data/pdbs/cleaned/. 41/250.\n",
      "Successfully cleaned data/pdbs/raw/1J0P.pdb and added it to data/pdbs/cleaned/. 42/250.\n",
      "Successfully cleaned data/pdbs/raw/1JG5.pdb and added it to data/pdbs/cleaned/. 43/250.\n",
      "Successfully cleaned data/pdbs/raw/1K66.pdb and added it to data/pdbs/cleaned/. 44/250.\n",
      "Successfully cleaned data/pdbs/raw/1K7C.pdb and added it to data/pdbs/cleaned/. 45/250.\n",
      "Successfully cleaned data/pdbs/raw/1K8Q.pdb and added it to data/pdbs/cleaned/. 46/250.\n",
      "Successfully cleaned data/pdbs/raw/1KUU.pdb and added it to data/pdbs/cleaned/. 47/250.\n",
      "Successfully cleaned data/pdbs/raw/1L2P.pdb and added it to data/pdbs/cleaned/. 48/250.\n",
      "Successfully cleaned data/pdbs/raw/1L3P.pdb and added it to data/pdbs/cleaned/. 49/250.\n",
      "Successfully cleaned data/pdbs/raw/1L7A.pdb and added it to data/pdbs/cleaned/. 50/250.\n",
      "Successfully cleaned data/pdbs/raw/1LDD.pdb and added it to data/pdbs/cleaned/. 51/250.\n",
      "Successfully cleaned data/pdbs/raw/1LK5.pdb and added it to data/pdbs/cleaned/. 52/250.\n",
      "Successfully cleaned data/pdbs/raw/1LXY.pdb and added it to data/pdbs/cleaned/. 53/250.\n",
      "Successfully cleaned data/pdbs/raw/1M08.pdb and added it to data/pdbs/cleaned/. 54/250.\n",
      "Successfully cleaned data/pdbs/raw/1NCX.pdb and added it to data/pdbs/cleaned/. 55/250.\n",
      "Successfully cleaned data/pdbs/raw/1NG6.pdb and added it to data/pdbs/cleaned/. 56/250.\n",
      "Successfully cleaned data/pdbs/raw/1OCY.pdb and added it to data/pdbs/cleaned/. 57/250.\n",
      "Successfully cleaned data/pdbs/raw/1OLL.pdb and added it to data/pdbs/cleaned/. 58/250.\n",
      "Successfully cleaned data/pdbs/raw/1PNF.pdb and added it to data/pdbs/cleaned/. 59/250.\n",
      "Successfully cleaned data/pdbs/raw/1QB7.pdb and added it to data/pdbs/cleaned/. 60/250.\n",
      "Successfully cleaned data/pdbs/raw/1QJ8.pdb and added it to data/pdbs/cleaned/. 61/250.\n",
      "Successfully cleaned data/pdbs/raw/1QLM.pdb and added it to data/pdbs/cleaned/. 62/250.\n",
      "Successfully cleaned data/pdbs/raw/1QQM.pdb and added it to data/pdbs/cleaned/. 63/250.\n",
      "Successfully cleaned data/pdbs/raw/1QQS.pdb and added it to data/pdbs/cleaned/. 64/250.\n",
      "Successfully cleaned data/pdbs/raw/1QSO.pdb and added it to data/pdbs/cleaned/. 65/250.\n",
      "Successfully cleaned data/pdbs/raw/1QST.pdb and added it to data/pdbs/cleaned/. 66/250.\n",
      "Successfully cleaned data/pdbs/raw/1QXX.pdb and added it to data/pdbs/cleaned/. 67/250.\n",
      "Successfully cleaned data/pdbs/raw/1R4C.pdb and added it to data/pdbs/cleaned/. 68/250.\n",
      "Successfully cleaned data/pdbs/raw/1R89.pdb and added it to data/pdbs/cleaned/. 69/250.\n",
      "Successfully cleaned data/pdbs/raw/1RDZ.pdb and added it to data/pdbs/cleaned/. 70/250.\n",
      "Successfully cleaned data/pdbs/raw/1RMD.pdb and added it to data/pdbs/cleaned/. 71/250.\n",
      "Successfully cleaned data/pdbs/raw/1SVB.pdb and added it to data/pdbs/cleaned/. 72/250.\n",
      "Successfully cleaned data/pdbs/raw/1TU7.pdb and added it to data/pdbs/cleaned/. 73/250.\n",
      "Successfully cleaned data/pdbs/raw/1UAS.pdb and added it to data/pdbs/cleaned/. 74/250.\n",
      "Successfully cleaned data/pdbs/raw/1UCD.pdb and added it to data/pdbs/cleaned/. 75/250.\n",
      "Successfully cleaned data/pdbs/raw/1UNK.pdb and added it to data/pdbs/cleaned/. 76/250.\n",
      "Successfully cleaned data/pdbs/raw/1UWC.pdb and added it to data/pdbs/cleaned/. 77/250.\n",
      "Successfully cleaned data/pdbs/raw/1V7C.pdb and added it to data/pdbs/cleaned/. 78/250.\n",
      "Successfully cleaned data/pdbs/raw/1VC4.pdb and added it to data/pdbs/cleaned/. 79/250.\n",
      "Successfully cleaned data/pdbs/raw/1XAN.pdb and added it to data/pdbs/cleaned/. 80/250.\n",
      "Successfully cleaned data/pdbs/raw/1XLQ.pdb and added it to data/pdbs/cleaned/. 81/250.\n",
      "Successfully cleaned data/pdbs/raw/1XNI.pdb and added it to data/pdbs/cleaned/. 82/250.\n",
      "Successfully cleaned data/pdbs/raw/1Y7T.pdb and added it to data/pdbs/cleaned/. 83/250.\n",
      "Successfully cleaned data/pdbs/raw/1YTS.pdb and added it to data/pdbs/cleaned/. 84/250.\n",
      "Successfully cleaned data/pdbs/raw/1YU5.pdb and added it to data/pdbs/cleaned/. 85/250.\n",
      "Successfully cleaned data/pdbs/raw/1Z2U.pdb and added it to data/pdbs/cleaned/. 86/250.\n"
     ]
    },
    {
     "name": "stdout",
     "output_type": "stream",
     "text": [
      "Successfully cleaned data/pdbs/raw/1ZH1.pdb and added it to data/pdbs/cleaned/. 87/250.\n",
      "Successfully cleaned data/pdbs/raw/1ZZG.pdb and added it to data/pdbs/cleaned/. 88/250.\n",
      "Successfully cleaned data/pdbs/raw/2ABK.pdb and added it to data/pdbs/cleaned/. 89/250.\n",
      "Successfully cleaned data/pdbs/raw/2ACY.pdb and added it to data/pdbs/cleaned/. 90/250.\n",
      "Successfully cleaned data/pdbs/raw/2BK8.pdb and added it to data/pdbs/cleaned/. 91/250.\n",
      "Successfully cleaned data/pdbs/raw/2BNU.pdb and added it to data/pdbs/cleaned/. 92/250.\n",
      "Successfully cleaned data/pdbs/raw/2CB5.pdb and added it to data/pdbs/cleaned/. 93/250.\n",
      "Successfully cleaned data/pdbs/raw/2CE8.pdb and added it to data/pdbs/cleaned/. 94/250.\n",
      "Successfully cleaned data/pdbs/raw/2CN4.pdb and added it to data/pdbs/cleaned/. 95/250.\n",
      "Successfully cleaned data/pdbs/raw/2CZQ.pdb and added it to data/pdbs/cleaned/. 96/250.\n",
      "Successfully cleaned data/pdbs/raw/2D3Y.pdb and added it to data/pdbs/cleaned/. 97/250.\n",
      "Successfully cleaned data/pdbs/raw/2D48.pdb and added it to data/pdbs/cleaned/. 98/250.\n",
      "Successfully cleaned data/pdbs/raw/2E1B.pdb and added it to data/pdbs/cleaned/. 99/250.\n",
      "Successfully cleaned data/pdbs/raw/2E2O.pdb and added it to data/pdbs/cleaned/. 100/250.\n",
      "Successfully cleaned data/pdbs/raw/2ED6.pdb and added it to data/pdbs/cleaned/. 101/250.\n",
      "Successfully cleaned data/pdbs/raw/2ERL.pdb and added it to data/pdbs/cleaned/. 102/250.\n",
      "Successfully cleaned data/pdbs/raw/2GAS.pdb and added it to data/pdbs/cleaned/. 103/250.\n",
      "Successfully cleaned data/pdbs/raw/2GDM.pdb and added it to data/pdbs/cleaned/. 104/250.\n",
      "Successfully cleaned data/pdbs/raw/2H1C.pdb and added it to data/pdbs/cleaned/. 105/250.\n",
      "Successfully cleaned data/pdbs/raw/2HLC.pdb and added it to data/pdbs/cleaned/. 106/250.\n",
      "Successfully cleaned data/pdbs/raw/2HP3.pdb and added it to data/pdbs/cleaned/. 107/250.\n",
      "Successfully cleaned data/pdbs/raw/2IFV.pdb and added it to data/pdbs/cleaned/. 108/250.\n",
      "Successfully cleaned data/pdbs/raw/2IVG.pdb and added it to data/pdbs/cleaned/. 109/250.\n",
      "Successfully cleaned data/pdbs/raw/2J9V.pdb and added it to data/pdbs/cleaned/. 110/250.\n",
      "Successfully cleaned data/pdbs/raw/2JA4.pdb and added it to data/pdbs/cleaned/. 111/250.\n",
      "Successfully cleaned data/pdbs/raw/2JHF.pdb and added it to data/pdbs/cleaned/. 112/250.\n",
      "Successfully cleaned data/pdbs/raw/2JL1.pdb and added it to data/pdbs/cleaned/. 113/250.\n",
      "Successfully cleaned data/pdbs/raw/2NXV.pdb and added it to data/pdbs/cleaned/. 114/250.\n",
      "Successfully cleaned data/pdbs/raw/2OF3.pdb and added it to data/pdbs/cleaned/. 115/250.\n",
      "Successfully cleaned data/pdbs/raw/2OKT.pdb and added it to data/pdbs/cleaned/. 116/250.\n",
      "Successfully cleaned data/pdbs/raw/2OR2.pdb and added it to data/pdbs/cleaned/. 117/250.\n",
      "Successfully cleaned data/pdbs/raw/2OYA.pdb and added it to data/pdbs/cleaned/. 118/250.\n",
      "Successfully cleaned data/pdbs/raw/2PA1.pdb and added it to data/pdbs/cleaned/. 119/250.\n",
      "Successfully cleaned data/pdbs/raw/2PIA.pdb and added it to data/pdbs/cleaned/. 120/250.\n",
      "Successfully cleaned data/pdbs/raw/2Q35.pdb and added it to data/pdbs/cleaned/. 121/250.\n",
      "Successfully cleaned data/pdbs/raw/2QA0.pdb and added it to data/pdbs/cleaned/. 122/250.\n",
      "Successfully cleaned data/pdbs/raw/2QSK.pdb and added it to data/pdbs/cleaned/. 123/250.\n",
      "Successfully cleaned data/pdbs/raw/2RBK.pdb and added it to data/pdbs/cleaned/. 124/250.\n",
      "Successfully cleaned data/pdbs/raw/2V5E.pdb and added it to data/pdbs/cleaned/. 125/250.\n",
      "Successfully cleaned data/pdbs/raw/2V66.pdb and added it to data/pdbs/cleaned/. 126/250.\n",
      "Successfully cleaned data/pdbs/raw/2V8I.pdb and added it to data/pdbs/cleaned/. 127/250.\n",
      "Successfully cleaned data/pdbs/raw/2V9V.pdb and added it to data/pdbs/cleaned/. 128/250.\n",
      "Successfully cleaned data/pdbs/raw/2W5Q.pdb and added it to data/pdbs/cleaned/. 129/250.\n",
      "Successfully cleaned data/pdbs/raw/2WKK.pdb and added it to data/pdbs/cleaned/. 130/250.\n",
      "Successfully cleaned data/pdbs/raw/2WMM.pdb and added it to data/pdbs/cleaned/. 131/250.\n",
      "Successfully cleaned data/pdbs/raw/2X96.pdb and added it to data/pdbs/cleaned/. 132/250.\n",
      "Successfully cleaned data/pdbs/raw/2XU3.pdb and added it to data/pdbs/cleaned/. 133/250.\n",
      "Successfully cleaned data/pdbs/raw/2YSW.pdb and added it to data/pdbs/cleaned/. 134/250.\n",
      "Successfully cleaned data/pdbs/raw/2YVP.pdb and added it to data/pdbs/cleaned/. 135/250.\n",
      "Successfully cleaned data/pdbs/raw/2Z3V.pdb and added it to data/pdbs/cleaned/. 136/250.\n",
      "Successfully cleaned data/pdbs/raw/3AG6.pdb and added it to data/pdbs/cleaned/. 137/250.\n",
      "Successfully cleaned data/pdbs/raw/3AI3.pdb and added it to data/pdbs/cleaned/. 138/250.\n",
      "Successfully cleaned data/pdbs/raw/3AU0.pdb and added it to data/pdbs/cleaned/. 139/250.\n",
      "Successfully cleaned data/pdbs/raw/3AYQ.pdb and added it to data/pdbs/cleaned/. 140/250.\n",
      "Successfully cleaned data/pdbs/raw/3B02.pdb and added it to data/pdbs/cleaned/. 141/250.\n",
      "Successfully cleaned data/pdbs/raw/3BL2.pdb and added it to data/pdbs/cleaned/. 142/250.\n",
      "Successfully cleaned data/pdbs/raw/3C8Y.pdb and added it to data/pdbs/cleaned/. 143/250.\n",
      "Successfully cleaned data/pdbs/raw/3CAE.pdb and added it to data/pdbs/cleaned/. 144/250.\n",
      "Successfully cleaned data/pdbs/raw/3CHY.pdb and added it to data/pdbs/cleaned/. 145/250.\n",
      "Successfully cleaned data/pdbs/raw/3CXP.pdb and added it to data/pdbs/cleaned/. 146/250.\n",
      "Successfully cleaned data/pdbs/raw/3DXS.pdb and added it to data/pdbs/cleaned/. 147/250.\n",
      "Successfully cleaned data/pdbs/raw/3E4G.pdb and added it to data/pdbs/cleaned/. 148/250.\n",
      "Successfully cleaned data/pdbs/raw/3E9L.pdb and added it to data/pdbs/cleaned/. 149/250.\n",
      "Successfully cleaned data/pdbs/raw/3EF4.pdb and added it to data/pdbs/cleaned/. 150/250.\n",
      "Successfully cleaned data/pdbs/raw/3FBL.pdb and added it to data/pdbs/cleaned/. 151/250.\n",
      "Successfully cleaned data/pdbs/raw/3FRO.pdb and added it to data/pdbs/cleaned/. 152/250.\n",
      "Successfully cleaned data/pdbs/raw/3G46.pdb and added it to data/pdbs/cleaned/. 153/250.\n",
      "Successfully cleaned data/pdbs/raw/3G7E.pdb and added it to data/pdbs/cleaned/. 154/250.\n",
      "Successfully cleaned data/pdbs/raw/3GA3.pdb and added it to data/pdbs/cleaned/. 155/250.\n",
      "Successfully cleaned data/pdbs/raw/3HAK.pdb and added it to data/pdbs/cleaned/. 156/250.\n",
      "Successfully cleaned data/pdbs/raw/3HAM.pdb and added it to data/pdbs/cleaned/. 157/250.\n",
      "Successfully cleaned data/pdbs/raw/3IE2.pdb and added it to data/pdbs/cleaned/. 158/250.\n",
      "Successfully cleaned data/pdbs/raw/3IPJ.pdb and added it to data/pdbs/cleaned/. 159/250.\n",
      "Successfully cleaned data/pdbs/raw/3K1R.pdb and added it to data/pdbs/cleaned/. 160/250.\n",
      "Successfully cleaned data/pdbs/raw/3KZ3.pdb and added it to data/pdbs/cleaned/. 161/250.\n",
      "Successfully cleaned data/pdbs/raw/3LCZ.pdb and added it to data/pdbs/cleaned/. 162/250.\n",
      "Successfully cleaned data/pdbs/raw/3LP5.pdb and added it to data/pdbs/cleaned/. 163/250.\n",
      "Successfully cleaned data/pdbs/raw/3MX7.pdb and added it to data/pdbs/cleaned/. 164/250.\n",
      "Successfully cleaned data/pdbs/raw/3N4U.pdb and added it to data/pdbs/cleaned/. 165/250.\n",
      "Successfully cleaned data/pdbs/raw/3OBL.pdb and added it to data/pdbs/cleaned/. 166/250.\n",
      "Successfully cleaned data/pdbs/raw/3ODV.pdb and added it to data/pdbs/cleaned/. 167/250.\n",
      "Successfully cleaned data/pdbs/raw/3OUE.pdb and added it to data/pdbs/cleaned/. 168/250.\n",
      "Successfully cleaned data/pdbs/raw/3PEN.pdb and added it to data/pdbs/cleaned/. 169/250.\n",
      "Successfully cleaned data/pdbs/raw/3PX8.pdb and added it to data/pdbs/cleaned/. 170/250.\n",
      "Successfully cleaned data/pdbs/raw/3RAB.pdb and added it to data/pdbs/cleaned/. 171/250.\n",
      "Successfully cleaned data/pdbs/raw/3RBA.pdb and added it to data/pdbs/cleaned/. 172/250.\n",
      "Successfully cleaned data/pdbs/raw/3RMU.pdb and added it to data/pdbs/cleaned/. 173/250.\n",
      "Successfully cleaned data/pdbs/raw/3S2E.pdb and added it to data/pdbs/cleaned/. 174/250.\n",
      "Successfully cleaned data/pdbs/raw/3SEB.pdb and added it to data/pdbs/cleaned/. 175/250.\n",
      "Successfully cleaned data/pdbs/raw/3SU0.pdb and added it to data/pdbs/cleaned/. 176/250.\n",
      "Successfully cleaned data/pdbs/raw/3TRD.pdb and added it to data/pdbs/cleaned/. 177/250.\n",
      "Successfully cleaned data/pdbs/raw/3U4Z.pdb and added it to data/pdbs/cleaned/. 178/250.\n",
      "Successfully cleaned data/pdbs/raw/3W7B.pdb and added it to data/pdbs/cleaned/. 179/250.\n"
     ]
    },
    {
     "name": "stdout",
     "output_type": "stream",
     "text": [
      "Successfully cleaned data/pdbs/raw/3WMI.pdb and added it to data/pdbs/cleaned/. 180/250.\n",
      "Successfully cleaned data/pdbs/raw/3X2Z.pdb and added it to data/pdbs/cleaned/. 181/250.\n",
      "Successfully cleaned data/pdbs/raw/3ZR9.pdb and added it to data/pdbs/cleaned/. 182/250.\n",
      "Successfully cleaned data/pdbs/raw/4AS2.pdb and added it to data/pdbs/cleaned/. 183/250.\n",
      "Successfully cleaned data/pdbs/raw/4BGU.pdb and added it to data/pdbs/cleaned/. 184/250.\n",
      "Successfully cleaned data/pdbs/raw/4BGV.pdb and added it to data/pdbs/cleaned/. 185/250.\n",
      "Successfully cleaned data/pdbs/raw/4BHB.pdb and added it to data/pdbs/cleaned/. 186/250.\n",
      "Successfully cleaned data/pdbs/raw/4DH4.pdb and added it to data/pdbs/cleaned/. 187/250.\n",
      "Successfully cleaned data/pdbs/raw/4DM1.pdb and added it to data/pdbs/cleaned/. 188/250.\n",
      "Successfully cleaned data/pdbs/raw/4DPB.pdb and added it to data/pdbs/cleaned/. 189/250.\n",
      "Successfully cleaned data/pdbs/raw/4DWQ.pdb and added it to data/pdbs/cleaned/. 190/250.\n",
      "Successfully cleaned data/pdbs/raw/4E5R.pdb and added it to data/pdbs/cleaned/. 191/250.\n",
      "Successfully cleaned data/pdbs/raw/4EB0.pdb and added it to data/pdbs/cleaned/. 192/250.\n",
      "Successfully cleaned data/pdbs/raw/4ERC.pdb and added it to data/pdbs/cleaned/. 193/250.\n",
      "Successfully cleaned data/pdbs/raw/4FD2.pdb and added it to data/pdbs/cleaned/. 194/250.\n",
      "Successfully cleaned data/pdbs/raw/4FD9.pdb and added it to data/pdbs/cleaned/. 195/250.\n",
      "Successfully cleaned data/pdbs/raw/4FIV.pdb and added it to data/pdbs/cleaned/. 196/250.\n",
      "Successfully cleaned data/pdbs/raw/4G94.pdb and added it to data/pdbs/cleaned/. 197/250.\n",
      "Successfully cleaned data/pdbs/raw/4ICQ.pdb and added it to data/pdbs/cleaned/. 198/250.\n",
      "Successfully cleaned data/pdbs/raw/4IG2.pdb and added it to data/pdbs/cleaned/. 199/250.\n",
      "Successfully cleaned data/pdbs/raw/4KNU.pdb and added it to data/pdbs/cleaned/. 200/250.\n",
      "Successfully cleaned data/pdbs/raw/4LBS.pdb and added it to data/pdbs/cleaned/. 201/250.\n",
      "Successfully cleaned data/pdbs/raw/4MXD.pdb and added it to data/pdbs/cleaned/. 202/250.\n",
      "Successfully cleaned data/pdbs/raw/4NNK.pdb and added it to data/pdbs/cleaned/. 203/250.\n",
      "Successfully cleaned data/pdbs/raw/4O7K.pdb and added it to data/pdbs/cleaned/. 204/250.\n",
      "Successfully cleaned data/pdbs/raw/4O7Q.pdb and added it to data/pdbs/cleaned/. 205/250.\n",
      "Successfully cleaned data/pdbs/raw/4OW4.pdb and added it to data/pdbs/cleaned/. 206/250.\n",
      "Successfully cleaned data/pdbs/raw/4P08.pdb and added it to data/pdbs/cleaned/. 207/250.\n",
      "Successfully cleaned data/pdbs/raw/4P6Q.pdb and added it to data/pdbs/cleaned/. 208/250.\n",
      "Successfully cleaned data/pdbs/raw/4QU2.pdb and added it to data/pdbs/cleaned/. 209/250.\n",
      "Successfully cleaned data/pdbs/raw/4R5R.pdb and added it to data/pdbs/cleaned/. 210/250.\n",
      "Successfully cleaned data/pdbs/raw/4RSX.pdb and added it to data/pdbs/cleaned/. 211/250.\n",
      "Successfully cleaned data/pdbs/raw/4UEJ.pdb and added it to data/pdbs/cleaned/. 212/250.\n",
      "Successfully cleaned data/pdbs/raw/4UPG.pdb and added it to data/pdbs/cleaned/. 213/250.\n",
      "Successfully cleaned data/pdbs/raw/4WMH.pdb and added it to data/pdbs/cleaned/. 214/250.\n",
      "Successfully cleaned data/pdbs/raw/4WP4.pdb and added it to data/pdbs/cleaned/. 215/250.\n",
      "Successfully cleaned data/pdbs/raw/4X2U.pdb and added it to data/pdbs/cleaned/. 216/250.\n",
      "Successfully cleaned data/pdbs/raw/4X3L.pdb and added it to data/pdbs/cleaned/. 217/250.\n",
      "Successfully cleaned data/pdbs/raw/4XDO.pdb and added it to data/pdbs/cleaned/. 218/250.\n",
      "Successfully cleaned data/pdbs/raw/4XRF.pdb and added it to data/pdbs/cleaned/. 219/250.\n",
      "Successfully cleaned data/pdbs/raw/4Y0A.pdb and added it to data/pdbs/cleaned/. 220/250.\n",
      "Successfully cleaned data/pdbs/raw/4YHE.pdb and added it to data/pdbs/cleaned/. 221/250.\n",
      "Successfully cleaned data/pdbs/raw/4YYP.pdb and added it to data/pdbs/cleaned/. 222/250.\n",
      "Successfully cleaned data/pdbs/raw/4ZIU.pdb and added it to data/pdbs/cleaned/. 223/250.\n",
      "Successfully cleaned data/pdbs/raw/4ZPC.pdb and added it to data/pdbs/cleaned/. 224/250.\n",
      "Successfully cleaned data/pdbs/raw/4ZUR.pdb and added it to data/pdbs/cleaned/. 225/250.\n",
      "Successfully cleaned data/pdbs/raw/5A96.pdb and added it to data/pdbs/cleaned/. 226/250.\n",
      "Successfully cleaned data/pdbs/raw/5AVD.pdb and added it to data/pdbs/cleaned/. 227/250.\n",
      "Successfully cleaned data/pdbs/raw/5AYE.pdb and added it to data/pdbs/cleaned/. 228/250.\n",
      "Successfully cleaned data/pdbs/raw/5B2H.pdb and added it to data/pdbs/cleaned/. 229/250.\n",
      "Successfully cleaned data/pdbs/raw/5B6C.pdb and added it to data/pdbs/cleaned/. 230/250.\n",
      "Successfully cleaned data/pdbs/raw/5ECX.pdb and added it to data/pdbs/cleaned/. 231/250.\n",
      "Successfully cleaned data/pdbs/raw/5ED7.pdb and added it to data/pdbs/cleaned/. 232/250.\n",
      "Successfully cleaned data/pdbs/raw/5EYS.pdb and added it to data/pdbs/cleaned/. 233/250.\n",
      "Successfully cleaned data/pdbs/raw/5FBF.pdb and added it to data/pdbs/cleaned/. 234/250.\n",
      "Successfully cleaned data/pdbs/raw/5FEN.pdb and added it to data/pdbs/cleaned/. 235/250.\n",
      "Successfully cleaned data/pdbs/raw/5GSM.pdb and added it to data/pdbs/cleaned/. 236/250.\n",
      "Successfully cleaned data/pdbs/raw/5GVR.pdb and added it to data/pdbs/cleaned/. 237/250.\n",
      "Successfully cleaned data/pdbs/raw/5GZD.pdb and added it to data/pdbs/cleaned/. 238/250.\n",
      "Successfully cleaned data/pdbs/raw/5H04.pdb and added it to data/pdbs/cleaned/. 239/250.\n",
      "Successfully cleaned data/pdbs/raw/5H59.pdb and added it to data/pdbs/cleaned/. 240/250.\n",
      "Successfully cleaned data/pdbs/raw/5HI8.pdb and added it to data/pdbs/cleaned/. 241/250.\n",
      "Successfully cleaned data/pdbs/raw/5HQT.pdb and added it to data/pdbs/cleaned/. 242/250.\n",
      "Successfully cleaned data/pdbs/raw/5IZW.pdb and added it to data/pdbs/cleaned/. 243/250.\n",
      "Successfully cleaned data/pdbs/raw/5K9A.pdb and added it to data/pdbs/cleaned/. 244/250.\n",
      "Successfully cleaned data/pdbs/raw/5KH6.pdb and added it to data/pdbs/cleaned/. 245/250.\n",
      "Successfully cleaned data/pdbs/raw/5MB4.pdb and added it to data/pdbs/cleaned/. 246/250.\n",
      "Successfully cleaned data/pdbs/raw/5MF5.pdb and added it to data/pdbs/cleaned/. 247/250.\n",
      "Successfully cleaned data/pdbs/raw/5MND.pdb and added it to data/pdbs/cleaned/. 248/250.\n",
      "Successfully cleaned data/pdbs/raw/5TAB.pdb and added it to data/pdbs/cleaned/. 249/250.\n",
      "Successfully cleaned data/pdbs/raw/5WUK.pdb and added it to data/pdbs/cleaned/. 250/250.\n",
      "Successfully parsed 1A44_clean.pdb and moved parsed file to data/pdbs/parsed. Finished 1/250.\n",
      "Successfully parsed 1A6M_clean.pdb and moved parsed file to data/pdbs/parsed. Finished 2/250.\n",
      "Successfully parsed 1AGJ_clean.pdb and moved parsed file to data/pdbs/parsed. Finished 3/250.\n",
      "Successfully parsed 1ALY_clean.pdb and moved parsed file to data/pdbs/parsed. Finished 4/250.\n",
      "Successfully parsed 1ASO_clean.pdb and moved parsed file to data/pdbs/parsed. Finished 5/250.\n",
      "Successfully parsed 1B3U_clean.pdb and moved parsed file to data/pdbs/parsed. Finished 6/250.\n",
      "Successfully parsed 1BMQ_clean.pdb and moved parsed file to data/pdbs/parsed. Finished 7/250.\n",
      "Successfully parsed 1BU2_clean.pdb and moved parsed file to data/pdbs/parsed. Finished 8/250.\n",
      "Successfully parsed 1BXY_clean.pdb and moved parsed file to data/pdbs/parsed. Finished 9/250.\n",
      "Successfully parsed 1CN3_clean.pdb and moved parsed file to data/pdbs/parsed. Finished 10/250.\n",
      "Successfully parsed 1CPQ_clean.pdb and moved parsed file to data/pdbs/parsed. Finished 11/250.\n",
      "Successfully parsed 1CQJ_clean.pdb and moved parsed file to data/pdbs/parsed. Finished 12/250.\n",
      "Successfully parsed 1D2C_clean.pdb and moved parsed file to data/pdbs/parsed. Finished 13/250.\n",
      "Successfully parsed 1DAB_clean.pdb and moved parsed file to data/pdbs/parsed. Finished 14/250.\n",
      "Successfully parsed 1DCI_clean.pdb and moved parsed file to data/pdbs/parsed. Finished 15/250.\n",
      "Successfully parsed 1DD3_clean.pdb and moved parsed file to data/pdbs/parsed. Finished 16/250.\n",
      "Successfully parsed 1DLJ_clean.pdb and moved parsed file to data/pdbs/parsed. Finished 17/250.\n",
      "Successfully parsed 1DQ3_clean.pdb and moved parsed file to data/pdbs/parsed. Finished 18/250.\n",
      "Successfully parsed 1DQZ_clean.pdb and moved parsed file to data/pdbs/parsed. Finished 19/250.\n",
      "Successfully parsed 1DW0_clean.pdb and moved parsed file to data/pdbs/parsed. Finished 20/250.\n"
     ]
    },
    {
     "name": "stdout",
     "output_type": "stream",
     "text": [
      "Successfully parsed 1DXG_clean.pdb and moved parsed file to data/pdbs/parsed. Finished 21/250.\n",
      "Successfully parsed 1EBF_clean.pdb and moved parsed file to data/pdbs/parsed. Finished 22/250.\n",
      "Successfully parsed 1EI9_clean.pdb and moved parsed file to data/pdbs/parsed. Finished 23/250.\n",
      "Successfully parsed 1EKM_clean.pdb and moved parsed file to data/pdbs/parsed. Finished 24/250.\n",
      "Successfully parsed 1EX7_clean.pdb and moved parsed file to data/pdbs/parsed. Finished 25/250.\n",
      "Successfully parsed 1F47_clean.pdb and moved parsed file to data/pdbs/parsed. Finished 26/250.\n",
      "Successfully parsed 1FEZ_clean.pdb and moved parsed file to data/pdbs/parsed. Finished 27/250.\n",
      "Successfully parsed 1GNT_clean.pdb and moved parsed file to data/pdbs/parsed. Finished 28/250.\n",
      "Successfully parsed 1GVR_clean.pdb and moved parsed file to data/pdbs/parsed. Finished 29/250.\n",
      "Successfully parsed 1GYX_clean.pdb and moved parsed file to data/pdbs/parsed. Finished 30/250.\n",
      "Successfully parsed 1H16_clean.pdb and moved parsed file to data/pdbs/parsed. Finished 31/250.\n",
      "Successfully parsed 1H3Q_clean.pdb and moved parsed file to data/pdbs/parsed. Finished 32/250.\n",
      "Successfully parsed 1H91_clean.pdb and moved parsed file to data/pdbs/parsed. Finished 33/250.\n",
      "Successfully parsed 1HG0_clean.pdb and moved parsed file to data/pdbs/parsed. Finished 34/250.\n",
      "Successfully parsed 1HI9_clean.pdb and moved parsed file to data/pdbs/parsed. Finished 35/250.\n",
      "Successfully parsed 1HRD_clean.pdb and moved parsed file to data/pdbs/parsed. Finished 36/250.\n",
      "Successfully parsed 1I4J_clean.pdb and moved parsed file to data/pdbs/parsed. Finished 37/250.\n",
      "Successfully parsed 1IJB_clean.pdb and moved parsed file to data/pdbs/parsed. Finished 38/250.\n",
      "Successfully parsed 1INP_clean.pdb and moved parsed file to data/pdbs/parsed. Finished 39/250.\n",
      "Successfully parsed 1IQQ_clean.pdb and moved parsed file to data/pdbs/parsed. Finished 40/250.\n",
      "Successfully parsed 1IXH_clean.pdb and moved parsed file to data/pdbs/parsed. Finished 41/250.\n",
      "Successfully parsed 1J0P_clean.pdb and moved parsed file to data/pdbs/parsed. Finished 42/250.\n",
      "Successfully parsed 1JG5_clean.pdb and moved parsed file to data/pdbs/parsed. Finished 43/250.\n",
      "Successfully parsed 1K66_clean.pdb and moved parsed file to data/pdbs/parsed. Finished 44/250.\n",
      "Successfully parsed 1K7C_clean.pdb and moved parsed file to data/pdbs/parsed. Finished 45/250.\n",
      "Successfully parsed 1K8Q_clean.pdb and moved parsed file to data/pdbs/parsed. Finished 46/250.\n",
      "Successfully parsed 1KUU_clean.pdb and moved parsed file to data/pdbs/parsed. Finished 47/250.\n",
      "Successfully parsed 1L2P_clean.pdb and moved parsed file to data/pdbs/parsed. Finished 48/250.\n",
      "Successfully parsed 1L3P_clean.pdb and moved parsed file to data/pdbs/parsed. Finished 49/250.\n",
      "Successfully parsed 1L7A_clean.pdb and moved parsed file to data/pdbs/parsed. Finished 50/250.\n",
      "Successfully parsed 1LDD_clean.pdb and moved parsed file to data/pdbs/parsed. Finished 51/250.\n",
      "Successfully parsed 1LK5_clean.pdb and moved parsed file to data/pdbs/parsed. Finished 52/250.\n",
      "Successfully parsed 1LXY_clean.pdb and moved parsed file to data/pdbs/parsed. Finished 53/250.\n",
      "Successfully parsed 1M08_clean.pdb and moved parsed file to data/pdbs/parsed. Finished 54/250.\n",
      "Successfully parsed 1NCX_clean.pdb and moved parsed file to data/pdbs/parsed. Finished 55/250.\n",
      "Successfully parsed 1NG6_clean.pdb and moved parsed file to data/pdbs/parsed. Finished 56/250.\n",
      "Successfully parsed 1OCY_clean.pdb and moved parsed file to data/pdbs/parsed. Finished 57/250.\n",
      "Successfully parsed 1OLL_clean.pdb and moved parsed file to data/pdbs/parsed. Finished 58/250.\n",
      "Successfully parsed 1PNF_clean.pdb and moved parsed file to data/pdbs/parsed. Finished 59/250.\n",
      "Successfully parsed 1QB7_clean.pdb and moved parsed file to data/pdbs/parsed. Finished 60/250.\n",
      "Successfully parsed 1QJ8_clean.pdb and moved parsed file to data/pdbs/parsed. Finished 61/250.\n",
      "Successfully parsed 1QLM_clean.pdb and moved parsed file to data/pdbs/parsed. Finished 62/250.\n",
      "Successfully parsed 1QQM_clean.pdb and moved parsed file to data/pdbs/parsed. Finished 63/250.\n",
      "Successfully parsed 1QQS_clean.pdb and moved parsed file to data/pdbs/parsed. Finished 64/250.\n",
      "Successfully parsed 1QSO_clean.pdb and moved parsed file to data/pdbs/parsed. Finished 65/250.\n",
      "Successfully parsed 1QST_clean.pdb and moved parsed file to data/pdbs/parsed. Finished 66/250.\n",
      "Successfully parsed 1QXX_clean.pdb and moved parsed file to data/pdbs/parsed. Finished 67/250.\n",
      "Successfully parsed 1R4C_clean.pdb and moved parsed file to data/pdbs/parsed. Finished 68/250.\n",
      "Successfully parsed 1R89_clean.pdb and moved parsed file to data/pdbs/parsed. Finished 69/250.\n",
      "Successfully parsed 1RDZ_clean.pdb and moved parsed file to data/pdbs/parsed. Finished 70/250.\n",
      "Successfully parsed 1RMD_clean.pdb and moved parsed file to data/pdbs/parsed. Finished 71/250.\n",
      "Successfully parsed 1SVB_clean.pdb and moved parsed file to data/pdbs/parsed. Finished 72/250.\n",
      "Successfully parsed 1TU7_clean.pdb and moved parsed file to data/pdbs/parsed. Finished 73/250.\n",
      "Successfully parsed 1UAS_clean.pdb and moved parsed file to data/pdbs/parsed. Finished 74/250.\n",
      "Successfully parsed 1UCD_clean.pdb and moved parsed file to data/pdbs/parsed. Finished 75/250.\n",
      "Successfully parsed 1UNK_clean.pdb and moved parsed file to data/pdbs/parsed. Finished 76/250.\n",
      "Successfully parsed 1UWC_clean.pdb and moved parsed file to data/pdbs/parsed. Finished 77/250.\n",
      "Successfully parsed 1V7C_clean.pdb and moved parsed file to data/pdbs/parsed. Finished 78/250.\n",
      "Successfully parsed 1VC4_clean.pdb and moved parsed file to data/pdbs/parsed. Finished 79/250.\n",
      "Successfully parsed 1XAN_clean.pdb and moved parsed file to data/pdbs/parsed. Finished 80/250.\n",
      "Successfully parsed 1XLQ_clean.pdb and moved parsed file to data/pdbs/parsed. Finished 81/250.\n",
      "Successfully parsed 1XNI_clean.pdb and moved parsed file to data/pdbs/parsed. Finished 82/250.\n",
      "Successfully parsed 1Y7T_clean.pdb and moved parsed file to data/pdbs/parsed. Finished 83/250.\n",
      "Successfully parsed 1YTS_clean.pdb and moved parsed file to data/pdbs/parsed. Finished 84/250.\n",
      "Successfully parsed 1YU5_clean.pdb and moved parsed file to data/pdbs/parsed. Finished 85/250.\n",
      "Successfully parsed 1Z2U_clean.pdb and moved parsed file to data/pdbs/parsed. Finished 86/250.\n",
      "Successfully parsed 1ZH1_clean.pdb and moved parsed file to data/pdbs/parsed. Finished 87/250.\n",
      "Successfully parsed 1ZZG_clean.pdb and moved parsed file to data/pdbs/parsed. Finished 88/250.\n",
      "Successfully parsed 2ABK_clean.pdb and moved parsed file to data/pdbs/parsed. Finished 89/250.\n",
      "Successfully parsed 2ACY_clean.pdb and moved parsed file to data/pdbs/parsed. Finished 90/250.\n",
      "Successfully parsed 2BK8_clean.pdb and moved parsed file to data/pdbs/parsed. Finished 91/250.\n",
      "Successfully parsed 2BNU_clean.pdb and moved parsed file to data/pdbs/parsed. Finished 92/250.\n",
      "Successfully parsed 2CB5_clean.pdb and moved parsed file to data/pdbs/parsed. Finished 93/250.\n",
      "Successfully parsed 2CE8_clean.pdb and moved parsed file to data/pdbs/parsed. Finished 94/250.\n",
      "Successfully parsed 2CN4_clean.pdb and moved parsed file to data/pdbs/parsed. Finished 95/250.\n",
      "Successfully parsed 2CZQ_clean.pdb and moved parsed file to data/pdbs/parsed. Finished 96/250.\n",
      "Successfully parsed 2D3Y_clean.pdb and moved parsed file to data/pdbs/parsed. Finished 97/250.\n",
      "Successfully parsed 2D48_clean.pdb and moved parsed file to data/pdbs/parsed. Finished 98/250.\n",
      "Successfully parsed 2E1B_clean.pdb and moved parsed file to data/pdbs/parsed. Finished 99/250.\n",
      "Successfully parsed 2E2O_clean.pdb and moved parsed file to data/pdbs/parsed. Finished 100/250.\n",
      "Successfully parsed 2ED6_clean.pdb and moved parsed file to data/pdbs/parsed. Finished 101/250.\n",
      "Successfully parsed 2ERL_clean.pdb and moved parsed file to data/pdbs/parsed. Finished 102/250.\n",
      "Successfully parsed 2GAS_clean.pdb and moved parsed file to data/pdbs/parsed. Finished 103/250.\n",
      "Successfully parsed 2GDM_clean.pdb and moved parsed file to data/pdbs/parsed. Finished 104/250.\n",
      "Successfully parsed 2H1C_clean.pdb and moved parsed file to data/pdbs/parsed. Finished 105/250.\n",
      "Successfully parsed 2HLC_clean.pdb and moved parsed file to data/pdbs/parsed. Finished 106/250.\n",
      "Successfully parsed 2HP3_clean.pdb and moved parsed file to data/pdbs/parsed. Finished 107/250.\n"
     ]
    },
    {
     "name": "stdout",
     "output_type": "stream",
     "text": [
      "Successfully parsed 2IFV_clean.pdb and moved parsed file to data/pdbs/parsed. Finished 108/250.\n",
      "Successfully parsed 2IVG_clean.pdb and moved parsed file to data/pdbs/parsed. Finished 109/250.\n",
      "Successfully parsed 2J9V_clean.pdb and moved parsed file to data/pdbs/parsed. Finished 110/250.\n",
      "Successfully parsed 2JA4_clean.pdb and moved parsed file to data/pdbs/parsed. Finished 111/250.\n",
      "Successfully parsed 2JHF_clean.pdb and moved parsed file to data/pdbs/parsed. Finished 112/250.\n",
      "Successfully parsed 2JL1_clean.pdb and moved parsed file to data/pdbs/parsed. Finished 113/250.\n",
      "Successfully parsed 2NXV_clean.pdb and moved parsed file to data/pdbs/parsed. Finished 114/250.\n",
      "Successfully parsed 2OF3_clean.pdb and moved parsed file to data/pdbs/parsed. Finished 115/250.\n",
      "Successfully parsed 2OKT_clean.pdb and moved parsed file to data/pdbs/parsed. Finished 116/250.\n",
      "Successfully parsed 2OR2_clean.pdb and moved parsed file to data/pdbs/parsed. Finished 117/250.\n",
      "Successfully parsed 2OYA_clean.pdb and moved parsed file to data/pdbs/parsed. Finished 118/250.\n",
      "Successfully parsed 2PA1_clean.pdb and moved parsed file to data/pdbs/parsed. Finished 119/250.\n",
      "Successfully parsed 2PIA_clean.pdb and moved parsed file to data/pdbs/parsed. Finished 120/250.\n",
      "Successfully parsed 2Q35_clean.pdb and moved parsed file to data/pdbs/parsed. Finished 121/250.\n",
      "Successfully parsed 2QA0_clean.pdb and moved parsed file to data/pdbs/parsed. Finished 122/250.\n",
      "Successfully parsed 2QSK_clean.pdb and moved parsed file to data/pdbs/parsed. Finished 123/250.\n",
      "Successfully parsed 2RBK_clean.pdb and moved parsed file to data/pdbs/parsed. Finished 124/250.\n",
      "Successfully parsed 2V5E_clean.pdb and moved parsed file to data/pdbs/parsed. Finished 125/250.\n",
      "Successfully parsed 2V66_clean.pdb and moved parsed file to data/pdbs/parsed. Finished 126/250.\n",
      "Successfully parsed 2V8I_clean.pdb and moved parsed file to data/pdbs/parsed. Finished 127/250.\n",
      "Successfully parsed 2V9V_clean.pdb and moved parsed file to data/pdbs/parsed. Finished 128/250.\n",
      "Successfully parsed 2W5Q_clean.pdb and moved parsed file to data/pdbs/parsed. Finished 129/250.\n",
      "Successfully parsed 2WKK_clean.pdb and moved parsed file to data/pdbs/parsed. Finished 130/250.\n",
      "Successfully parsed 2WMM_clean.pdb and moved parsed file to data/pdbs/parsed. Finished 131/250.\n",
      "Successfully parsed 2X96_clean.pdb and moved parsed file to data/pdbs/parsed. Finished 132/250.\n",
      "Successfully parsed 2XU3_clean.pdb and moved parsed file to data/pdbs/parsed. Finished 133/250.\n",
      "Successfully parsed 2YSW_clean.pdb and moved parsed file to data/pdbs/parsed. Finished 134/250.\n",
      "Successfully parsed 2YVP_clean.pdb and moved parsed file to data/pdbs/parsed. Finished 135/250.\n",
      "Successfully parsed 2Z3V_clean.pdb and moved parsed file to data/pdbs/parsed. Finished 136/250.\n",
      "Successfully parsed 3AG6_clean.pdb and moved parsed file to data/pdbs/parsed. Finished 137/250.\n",
      "Successfully parsed 3AI3_clean.pdb and moved parsed file to data/pdbs/parsed. Finished 138/250.\n",
      "Successfully parsed 3AU0_clean.pdb and moved parsed file to data/pdbs/parsed. Finished 139/250.\n",
      "Successfully parsed 3AYQ_clean.pdb and moved parsed file to data/pdbs/parsed. Finished 140/250.\n",
      "Successfully parsed 3B02_clean.pdb and moved parsed file to data/pdbs/parsed. Finished 141/250.\n",
      "Successfully parsed 3BL2_clean.pdb and moved parsed file to data/pdbs/parsed. Finished 142/250.\n",
      "Successfully parsed 3C8Y_clean.pdb and moved parsed file to data/pdbs/parsed. Finished 143/250.\n",
      "Successfully parsed 3CAE_clean.pdb and moved parsed file to data/pdbs/parsed. Finished 144/250.\n",
      "Successfully parsed 3CHY_clean.pdb and moved parsed file to data/pdbs/parsed. Finished 145/250.\n",
      "Successfully parsed 3CXP_clean.pdb and moved parsed file to data/pdbs/parsed. Finished 146/250.\n",
      "Successfully parsed 3DXS_clean.pdb and moved parsed file to data/pdbs/parsed. Finished 147/250.\n",
      "Successfully parsed 3E4G_clean.pdb and moved parsed file to data/pdbs/parsed. Finished 148/250.\n",
      "Successfully parsed 3E9L_clean.pdb and moved parsed file to data/pdbs/parsed. Finished 149/250.\n",
      "Successfully parsed 3EF4_clean.pdb and moved parsed file to data/pdbs/parsed. Finished 150/250.\n",
      "Successfully parsed 3FBL_clean.pdb and moved parsed file to data/pdbs/parsed. Finished 151/250.\n",
      "Successfully parsed 3FRO_clean.pdb and moved parsed file to data/pdbs/parsed. Finished 152/250.\n",
      "Successfully parsed 3G46_clean.pdb and moved parsed file to data/pdbs/parsed. Finished 153/250.\n",
      "Successfully parsed 3G7E_clean.pdb and moved parsed file to data/pdbs/parsed. Finished 154/250.\n",
      "Successfully parsed 3GA3_clean.pdb and moved parsed file to data/pdbs/parsed. Finished 155/250.\n",
      "Successfully parsed 3HAK_clean.pdb and moved parsed file to data/pdbs/parsed. Finished 156/250.\n",
      "Successfully parsed 3HAM_clean.pdb and moved parsed file to data/pdbs/parsed. Finished 157/250.\n",
      "Successfully parsed 3IE2_clean.pdb and moved parsed file to data/pdbs/parsed. Finished 158/250.\n",
      "Successfully parsed 3IPJ_clean.pdb and moved parsed file to data/pdbs/parsed. Finished 159/250.\n",
      "Successfully parsed 3K1R_clean.pdb and moved parsed file to data/pdbs/parsed. Finished 160/250.\n",
      "Successfully parsed 3KZ3_clean.pdb and moved parsed file to data/pdbs/parsed. Finished 161/250.\n",
      "Successfully parsed 3LCZ_clean.pdb and moved parsed file to data/pdbs/parsed. Finished 162/250.\n",
      "Successfully parsed 3LP5_clean.pdb and moved parsed file to data/pdbs/parsed. Finished 163/250.\n",
      "Successfully parsed 3MX7_clean.pdb and moved parsed file to data/pdbs/parsed. Finished 164/250.\n",
      "Successfully parsed 3N4U_clean.pdb and moved parsed file to data/pdbs/parsed. Finished 165/250.\n",
      "Successfully parsed 3OBL_clean.pdb and moved parsed file to data/pdbs/parsed. Finished 166/250.\n",
      "Successfully parsed 3ODV_clean.pdb and moved parsed file to data/pdbs/parsed. Finished 167/250.\n",
      "Successfully parsed 3OUE_clean.pdb and moved parsed file to data/pdbs/parsed. Finished 168/250.\n",
      "Successfully parsed 3PEN_clean.pdb and moved parsed file to data/pdbs/parsed. Finished 169/250.\n",
      "Successfully parsed 3PX8_clean.pdb and moved parsed file to data/pdbs/parsed. Finished 170/250.\n",
      "Successfully parsed 3RAB_clean.pdb and moved parsed file to data/pdbs/parsed. Finished 171/250.\n",
      "Successfully parsed 3RBA_clean.pdb and moved parsed file to data/pdbs/parsed. Finished 172/250.\n",
      "Successfully parsed 3RMU_clean.pdb and moved parsed file to data/pdbs/parsed. Finished 173/250.\n",
      "Successfully parsed 3S2E_clean.pdb and moved parsed file to data/pdbs/parsed. Finished 174/250.\n",
      "Successfully parsed 3SEB_clean.pdb and moved parsed file to data/pdbs/parsed. Finished 175/250.\n",
      "Successfully parsed 3SU0_clean.pdb and moved parsed file to data/pdbs/parsed. Finished 176/250.\n",
      "Successfully parsed 3TRD_clean.pdb and moved parsed file to data/pdbs/parsed. Finished 177/250.\n",
      "Successfully parsed 3U4Z_clean.pdb and moved parsed file to data/pdbs/parsed. Finished 178/250.\n",
      "Successfully parsed 3W7B_clean.pdb and moved parsed file to data/pdbs/parsed. Finished 179/250.\n",
      "Successfully parsed 3WMI_clean.pdb and moved parsed file to data/pdbs/parsed. Finished 180/250.\n",
      "Successfully parsed 3X2Z_clean.pdb and moved parsed file to data/pdbs/parsed. Finished 181/250.\n",
      "Successfully parsed 3ZR9_clean.pdb and moved parsed file to data/pdbs/parsed. Finished 182/250.\n",
      "Successfully parsed 4AS2_clean.pdb and moved parsed file to data/pdbs/parsed. Finished 183/250.\n",
      "Successfully parsed 4BGU_clean.pdb and moved parsed file to data/pdbs/parsed. Finished 184/250.\n",
      "Successfully parsed 4BGV_clean.pdb and moved parsed file to data/pdbs/parsed. Finished 185/250.\n",
      "Successfully parsed 4BHB_clean.pdb and moved parsed file to data/pdbs/parsed. Finished 186/250.\n",
      "Successfully parsed 4DH4_clean.pdb and moved parsed file to data/pdbs/parsed. Finished 187/250.\n",
      "Successfully parsed 4DM1_clean.pdb and moved parsed file to data/pdbs/parsed. Finished 188/250.\n",
      "Successfully parsed 4DPB_clean.pdb and moved parsed file to data/pdbs/parsed. Finished 189/250.\n",
      "Successfully parsed 4DWQ_clean.pdb and moved parsed file to data/pdbs/parsed. Finished 190/250.\n",
      "Successfully parsed 4E5R_clean.pdb and moved parsed file to data/pdbs/parsed. Finished 191/250.\n",
      "Successfully parsed 4EB0_clean.pdb and moved parsed file to data/pdbs/parsed. Finished 192/250.\n",
      "Successfully parsed 4ERC_clean.pdb and moved parsed file to data/pdbs/parsed. Finished 193/250.\n"
     ]
    },
    {
     "name": "stdout",
     "output_type": "stream",
     "text": [
      "Successfully parsed 4FD2_clean.pdb and moved parsed file to data/pdbs/parsed. Finished 194/250.\n",
      "Successfully parsed 4FD9_clean.pdb and moved parsed file to data/pdbs/parsed. Finished 195/250.\n",
      "Successfully parsed 4FIV_clean.pdb and moved parsed file to data/pdbs/parsed. Finished 196/250.\n",
      "Successfully parsed 4G94_clean.pdb and moved parsed file to data/pdbs/parsed. Finished 197/250.\n",
      "Successfully parsed 4ICQ_clean.pdb and moved parsed file to data/pdbs/parsed. Finished 198/250.\n",
      "Successfully parsed 4IG2_clean.pdb and moved parsed file to data/pdbs/parsed. Finished 199/250.\n",
      "Successfully parsed 4KNU_clean.pdb and moved parsed file to data/pdbs/parsed. Finished 200/250.\n",
      "Successfully parsed 4LBS_clean.pdb and moved parsed file to data/pdbs/parsed. Finished 201/250.\n",
      "Successfully parsed 4MXD_clean.pdb and moved parsed file to data/pdbs/parsed. Finished 202/250.\n",
      "Successfully parsed 4NNK_clean.pdb and moved parsed file to data/pdbs/parsed. Finished 203/250.\n",
      "Successfully parsed 4O7K_clean.pdb and moved parsed file to data/pdbs/parsed. Finished 204/250.\n",
      "Successfully parsed 4O7Q_clean.pdb and moved parsed file to data/pdbs/parsed. Finished 205/250.\n",
      "Successfully parsed 4OW4_clean.pdb and moved parsed file to data/pdbs/parsed. Finished 206/250.\n",
      "Successfully parsed 4P08_clean.pdb and moved parsed file to data/pdbs/parsed. Finished 207/250.\n",
      "Successfully parsed 4P6Q_clean.pdb and moved parsed file to data/pdbs/parsed. Finished 208/250.\n",
      "Successfully parsed 4QU2_clean.pdb and moved parsed file to data/pdbs/parsed. Finished 209/250.\n",
      "Successfully parsed 4R5R_clean.pdb and moved parsed file to data/pdbs/parsed. Finished 210/250.\n",
      "Successfully parsed 4RSX_clean.pdb and moved parsed file to data/pdbs/parsed. Finished 211/250.\n",
      "Successfully parsed 4UEJ_clean.pdb and moved parsed file to data/pdbs/parsed. Finished 212/250.\n",
      "Successfully parsed 4UPG_clean.pdb and moved parsed file to data/pdbs/parsed. Finished 213/250.\n",
      "Successfully parsed 4WMH_clean.pdb and moved parsed file to data/pdbs/parsed. Finished 214/250.\n",
      "Successfully parsed 4WP4_clean.pdb and moved parsed file to data/pdbs/parsed. Finished 215/250.\n",
      "Successfully parsed 4X2U_clean.pdb and moved parsed file to data/pdbs/parsed. Finished 216/250.\n",
      "Successfully parsed 4X3L_clean.pdb and moved parsed file to data/pdbs/parsed. Finished 217/250.\n",
      "Successfully parsed 4XDO_clean.pdb and moved parsed file to data/pdbs/parsed. Finished 218/250.\n",
      "Successfully parsed 4XRF_clean.pdb and moved parsed file to data/pdbs/parsed. Finished 219/250.\n",
      "Successfully parsed 4Y0A_clean.pdb and moved parsed file to data/pdbs/parsed. Finished 220/250.\n",
      "Successfully parsed 4YHE_clean.pdb and moved parsed file to data/pdbs/parsed. Finished 221/250.\n",
      "Successfully parsed 4YYP_clean.pdb and moved parsed file to data/pdbs/parsed. Finished 222/250.\n",
      "Successfully parsed 4ZIU_clean.pdb and moved parsed file to data/pdbs/parsed. Finished 223/250.\n",
      "Successfully parsed 4ZPC_clean.pdb and moved parsed file to data/pdbs/parsed. Finished 224/250.\n",
      "Successfully parsed 4ZUR_clean.pdb and moved parsed file to data/pdbs/parsed. Finished 225/250.\n",
      "Successfully parsed 5A96_clean.pdb and moved parsed file to data/pdbs/parsed. Finished 226/250.\n",
      "Successfully parsed 5AVD_clean.pdb and moved parsed file to data/pdbs/parsed. Finished 227/250.\n",
      "Successfully parsed 5AYE_clean.pdb and moved parsed file to data/pdbs/parsed. Finished 228/250.\n",
      "Successfully parsed 5B2H_clean.pdb and moved parsed file to data/pdbs/parsed. Finished 229/250.\n",
      "Successfully parsed 5B6C_clean.pdb and moved parsed file to data/pdbs/parsed. Finished 230/250.\n",
      "Successfully parsed 5ECX_clean.pdb and moved parsed file to data/pdbs/parsed. Finished 231/250.\n",
      "Successfully parsed 5ED7_clean.pdb and moved parsed file to data/pdbs/parsed. Finished 232/250.\n",
      "Successfully parsed 5EYS_clean.pdb and moved parsed file to data/pdbs/parsed. Finished 233/250.\n",
      "Successfully parsed 5FBF_clean.pdb and moved parsed file to data/pdbs/parsed. Finished 234/250.\n",
      "Successfully parsed 5FEN_clean.pdb and moved parsed file to data/pdbs/parsed. Finished 235/250.\n",
      "Successfully parsed 5GSM_clean.pdb and moved parsed file to data/pdbs/parsed. Finished 236/250.\n",
      "Successfully parsed 5GVR_clean.pdb and moved parsed file to data/pdbs/parsed. Finished 237/250.\n",
      "Successfully parsed 5GZD_clean.pdb and moved parsed file to data/pdbs/parsed. Finished 238/250.\n",
      "Successfully parsed 5H04_clean.pdb and moved parsed file to data/pdbs/parsed. Finished 239/250.\n",
      "Successfully parsed 5H59_clean.pdb and moved parsed file to data/pdbs/parsed. Finished 240/250.\n",
      "Successfully parsed 5HI8_clean.pdb and moved parsed file to data/pdbs/parsed. Finished 241/250.\n",
      "Successfully parsed 5HQT_clean.pdb and moved parsed file to data/pdbs/parsed. Finished 242/250.\n",
      "Successfully parsed 5IZW_clean.pdb and moved parsed file to data/pdbs/parsed. Finished 243/250.\n",
      "Successfully parsed 5K9A_clean.pdb and moved parsed file to data/pdbs/parsed. Finished 244/250.\n",
      "Successfully parsed 5KH6_clean.pdb and moved parsed file to data/pdbs/parsed. Finished 245/250.\n",
      "Successfully parsed 5MB4_clean.pdb and moved parsed file to data/pdbs/parsed. Finished 246/250.\n",
      "Successfully parsed 5MF5_clean.pdb and moved parsed file to data/pdbs/parsed. Finished 247/250.\n",
      "Successfully parsed 5MND_clean.pdb and moved parsed file to data/pdbs/parsed. Finished 248/250.\n",
      "Successfully parsed 5TAB_clean.pdb and moved parsed file to data/pdbs/parsed. Finished 249/250.\n",
      "Successfully parsed 5WUK_clean.pdb and moved parsed file to data/pdbs/parsed. Finished 250/250.\n"
     ]
    },
    {
     "data": {
      "application/javascript": [
       "\n",
       "            setTimeout(function() {\n",
       "                var nbb_cell_id = 2;\n",
       "                var nbb_unformatted_code = \"# Run shell script that takes a .txt file with PDBIDs as input.\\n!./get_and_parse_pdbs_for_cavity_model.sh data/pdbids_250.txt\";\n",
       "                var nbb_formatted_code = \"# Run shell script that takes a .txt file with PDBIDs as input.\\n!./get_and_parse_pdbs_for_cavity_model.sh data/pdbids_250.txt\";\n",
       "                var nbb_cells = Jupyter.notebook.get_cells();\n",
       "                for (var i = 0; i < nbb_cells.length; ++i) {\n",
       "                    if (nbb_cells[i].input_prompt_number == nbb_cell_id) {\n",
       "                        if (nbb_cells[i].get_text() == nbb_unformatted_code) {\n",
       "                             nbb_cells[i].set_text(nbb_formatted_code);\n",
       "                        }\n",
       "                        break;\n",
       "                    }\n",
       "                }\n",
       "            }, 500);\n",
       "            "
      ],
      "text/plain": [
       "<IPython.core.display.Javascript object>"
      ]
     },
     "metadata": {},
     "output_type": "display_data"
    }
   ],
   "source": [
    "# Run shell script that takes a .txt file with PDBIDs as input.\n",
    "!./get_and_parse_pdbs_for_cavity_model.sh data/pdbids_250.txt"
   ]
  },
  {
   "cell_type": "markdown",
   "metadata": {},
   "source": [
    "Global variables"
   ]
  },
  {
   "cell_type": "code",
   "execution_count": 3,
   "metadata": {},
   "outputs": [
    {
     "data": {
      "application/javascript": [
       "\n",
       "            setTimeout(function() {\n",
       "                var nbb_cell_id = 3;\n",
       "                var nbb_unformatted_code = \"# Main parameters\\nDEVICE = \\\"cuda\\\"  # \\\"cpu\\\" or \\\"cuda\\\"\\nTRAIN_VAL_SPLIT = 0.8\\nBATCH_SIZE = 100\\nSHUFFLE_PDBS = True\\nLEARNING_RATE = 3e-4\\nEPOCHS = 10\\nPATIENCE_CUTOFF = 1\\nEPS = 1e-9\\n\\n# Parameters specific to downstream model\\nBATCH_SIZE_DDG = 40\\nSHUFFLE_DDG = True\\nLEARNING_RATE_DDG = 1e-3\\nEPOCHS_DDG = 100\";\n",
       "                var nbb_formatted_code = \"# Main parameters\\nDEVICE = \\\"cuda\\\"  # \\\"cpu\\\" or \\\"cuda\\\"\\nTRAIN_VAL_SPLIT = 0.8\\nBATCH_SIZE = 100\\nSHUFFLE_PDBS = True\\nLEARNING_RATE = 3e-4\\nEPOCHS = 10\\nPATIENCE_CUTOFF = 1\\nEPS = 1e-9\\n\\n# Parameters specific to downstream model\\nBATCH_SIZE_DDG = 40\\nSHUFFLE_DDG = True\\nLEARNING_RATE_DDG = 1e-3\\nEPOCHS_DDG = 100\";\n",
       "                var nbb_cells = Jupyter.notebook.get_cells();\n",
       "                for (var i = 0; i < nbb_cells.length; ++i) {\n",
       "                    if (nbb_cells[i].input_prompt_number == nbb_cell_id) {\n",
       "                        if (nbb_cells[i].get_text() == nbb_unformatted_code) {\n",
       "                             nbb_cells[i].set_text(nbb_formatted_code);\n",
       "                        }\n",
       "                        break;\n",
       "                    }\n",
       "                }\n",
       "            }, 500);\n",
       "            "
      ],
      "text/plain": [
       "<IPython.core.display.Javascript object>"
      ]
     },
     "metadata": {},
     "output_type": "display_data"
    }
   ],
   "source": [
    "# Main parameters\n",
    "DEVICE = \"cuda\"  # \"cpu\" or \"cuda\"\n",
    "TRAIN_VAL_SPLIT = 0.8\n",
    "BATCH_SIZE = 100\n",
    "SHUFFLE_PDBS = True\n",
    "LEARNING_RATE = 3e-4\n",
    "EPOCHS = 10\n",
    "PATIENCE_CUTOFF = 1\n",
    "EPS = 1e-9\n",
    "\n",
    "# Parameters specific to downstream model\n",
    "BATCH_SIZE_DDG = 40\n",
    "SHUFFLE_DDG = True\n",
    "LEARNING_RATE_DDG = 1e-3\n",
    "EPOCHS_DDG = 100"
   ]
  },
  {
   "cell_type": "markdown",
   "metadata": {},
   "source": [
    "Load Parsed PDBs and perform train/val split"
   ]
  },
  {
   "cell_type": "code",
   "execution_count": 4,
   "metadata": {
    "scrolled": true
   },
   "outputs": [
    {
     "name": "stdout",
     "output_type": "stream",
     "text": [
      "Training data set includes 200 pdbs with 91768 environments.\n",
      "Validation data set includes 50 pdbs with 19232 environments.\n"
     ]
    },
    {
     "data": {
      "application/javascript": [
       "\n",
       "            setTimeout(function() {\n",
       "                var nbb_cell_id = 4;\n",
       "                var nbb_unformatted_code = \"parsed_pdb_filenames = sorted(glob.glob(\\\"data/pdbs/parsed/*coord*\\\"))\\nif SHUFFLE_PDBS:\\n    random.shuffle(parsed_pdb_filenames)\\ndataloader_train, dataset_train, dataloader_val, dataset_val = _train_val_split(\\n    parsed_pdb_filenames, TRAIN_VAL_SPLIT, DEVICE, BATCH_SIZE\\n)\";\n",
       "                var nbb_formatted_code = \"parsed_pdb_filenames = sorted(glob.glob(\\\"data/pdbs/parsed/*coord*\\\"))\\nif SHUFFLE_PDBS:\\n    random.shuffle(parsed_pdb_filenames)\\ndataloader_train, dataset_train, dataloader_val, dataset_val = _train_val_split(\\n    parsed_pdb_filenames, TRAIN_VAL_SPLIT, DEVICE, BATCH_SIZE\\n)\";\n",
       "                var nbb_cells = Jupyter.notebook.get_cells();\n",
       "                for (var i = 0; i < nbb_cells.length; ++i) {\n",
       "                    if (nbb_cells[i].input_prompt_number == nbb_cell_id) {\n",
       "                        if (nbb_cells[i].get_text() == nbb_unformatted_code) {\n",
       "                             nbb_cells[i].set_text(nbb_formatted_code);\n",
       "                        }\n",
       "                        break;\n",
       "                    }\n",
       "                }\n",
       "            }, 500);\n",
       "            "
      ],
      "text/plain": [
       "<IPython.core.display.Javascript object>"
      ]
     },
     "metadata": {},
     "output_type": "display_data"
    }
   ],
   "source": [
    "parsed_pdb_filenames = sorted(glob.glob(\"data/pdbs/parsed/*coord*\"))\n",
    "if SHUFFLE_PDBS:\n",
    "    random.shuffle(parsed_pdb_filenames)\n",
    "dataloader_train, dataset_train, dataloader_val, dataset_val = _train_val_split(\n",
    "    parsed_pdb_filenames, TRAIN_VAL_SPLIT, DEVICE, BATCH_SIZE\n",
    ")"
   ]
  },
  {
   "cell_type": "markdown",
   "metadata": {},
   "source": [
    "Train the cavity model"
   ]
  },
  {
   "cell_type": "code",
   "execution_count": 5,
   "metadata": {},
   "outputs": [
    {
     "name": "stdout",
     "output_type": "stream",
     "text": [
      "Epoch  0. Train loss: 1.893. Train Acc: 0.43. Val loss: 1.842. Val Acc 0.43\n",
      "Epoch  1. Train loss: 1.303. Train Acc: 0.61. Val loss: 1.850. Val Acc 0.43\n",
      "Epoch  2. Train loss: 0.984. Train Acc: 0.71. Val loss: 1.949. Val Acc 0.43\n",
      "Early stopping activated.\n",
      "Best epoch idx: 0 with validation loss: 1.842 and model_path: cavity_models/model_epoch_00.pt\n"
     ]
    },
    {
     "data": {
      "application/javascript": [
       "\n",
       "            setTimeout(function() {\n",
       "                var nbb_cell_id = 5;\n",
       "                var nbb_unformatted_code = \"# Define model\\ncavity_model_net = CavityModel(DEVICE).to(DEVICE)\\nloss_function = torch.nn.CrossEntropyLoss()\\noptimizer = torch.optim.Adam(cavity_model_net.parameters(), lr=LEARNING_RATE)\\n\\n# Create directory for model files\\nmodels_dirpath = \\\"cavity_models/\\\"\\nif not os.path.exists(models_dirpath):\\n    os.mkdir(models_dirpath)\\n\\n# Train loop\\nbest_model_path = _train_loop(\\n    dataloader_train,\\n    dataloader_val,\\n    cavity_model_net,\\n    loss_function,\\n    optimizer,\\n    EPOCHS,\\n    PATIENCE_CUTOFF,\\n)\";\n",
       "                var nbb_formatted_code = \"# Define model\\ncavity_model_net = CavityModel(DEVICE).to(DEVICE)\\nloss_function = torch.nn.CrossEntropyLoss()\\noptimizer = torch.optim.Adam(cavity_model_net.parameters(), lr=LEARNING_RATE)\\n\\n# Create directory for model files\\nmodels_dirpath = \\\"cavity_models/\\\"\\nif not os.path.exists(models_dirpath):\\n    os.mkdir(models_dirpath)\\n\\n# Train loop\\nbest_model_path = _train_loop(\\n    dataloader_train,\\n    dataloader_val,\\n    cavity_model_net,\\n    loss_function,\\n    optimizer,\\n    EPOCHS,\\n    PATIENCE_CUTOFF,\\n)\";\n",
       "                var nbb_cells = Jupyter.notebook.get_cells();\n",
       "                for (var i = 0; i < nbb_cells.length; ++i) {\n",
       "                    if (nbb_cells[i].input_prompt_number == nbb_cell_id) {\n",
       "                        if (nbb_cells[i].get_text() == nbb_unformatted_code) {\n",
       "                             nbb_cells[i].set_text(nbb_formatted_code);\n",
       "                        }\n",
       "                        break;\n",
       "                    }\n",
       "                }\n",
       "            }, 500);\n",
       "            "
      ],
      "text/plain": [
       "<IPython.core.display.Javascript object>"
      ]
     },
     "metadata": {},
     "output_type": "display_data"
    }
   ],
   "source": [
    "# Define model\n",
    "cavity_model_net = CavityModel(DEVICE).to(DEVICE)\n",
    "loss_function = torch.nn.CrossEntropyLoss()\n",
    "optimizer = torch.optim.Adam(cavity_model_net.parameters(), lr=LEARNING_RATE)\n",
    "\n",
    "# Create directory for model files\n",
    "models_dirpath = \"cavity_models/\"\n",
    "if not os.path.exists(models_dirpath):\n",
    "    os.mkdir(models_dirpath)\n",
    "\n",
    "# Train loop\n",
    "best_model_path = _train_loop(\n",
    "    dataloader_train,\n",
    "    dataloader_val,\n",
    "    cavity_model_net,\n",
    "    loss_function,\n",
    "    optimizer,\n",
    "    EPOCHS,\n",
    "    PATIENCE_CUTOFF,\n",
    ")"
   ]
  },
  {
   "cell_type": "markdown",
   "metadata": {},
   "source": [
    "# ddG Prediction"
   ]
  },
  {
   "cell_type": "markdown",
   "metadata": {},
   "source": [
    "Parse PDBs for DMS, Guerois and Protein G data sets"
   ]
  },
  {
   "cell_type": "code",
   "execution_count": 6,
   "metadata": {},
   "outputs": [
    {
     "data": {
      "application/javascript": [
       "\n",
       "            setTimeout(function() {\n",
       "                var nbb_cell_id = 6;\n",
       "                var nbb_unformatted_code = \"# # Parse PDBs for which we have ddG data\\n# !./get_and_parse_pdbs_for_dowstream_task.sh\";\n",
       "                var nbb_formatted_code = \"# # Parse PDBs for which we have ddG data\\n# !./get_and_parse_pdbs_for_dowstream_task.sh\";\n",
       "                var nbb_cells = Jupyter.notebook.get_cells();\n",
       "                for (var i = 0; i < nbb_cells.length; ++i) {\n",
       "                    if (nbb_cells[i].input_prompt_number == nbb_cell_id) {\n",
       "                        if (nbb_cells[i].get_text() == nbb_unformatted_code) {\n",
       "                             nbb_cells[i].set_text(nbb_formatted_code);\n",
       "                        }\n",
       "                        break;\n",
       "                    }\n",
       "                }\n",
       "            }, 500);\n",
       "            "
      ],
      "text/plain": [
       "<IPython.core.display.Javascript object>"
      ]
     },
     "metadata": {},
     "output_type": "display_data"
    }
   ],
   "source": [
    "# Parse PDBs for which we have ddG data\n",
    "!./get_and_parse_pdbs_for_dowstream_task.sh"
   ]
  },
  {
   "cell_type": "markdown",
   "metadata": {},
   "source": [
    "Make dict for residue environments for easy look up"
   ]
  },
  {
   "cell_type": "code",
   "execution_count": 7,
   "metadata": {},
   "outputs": [
    {
     "data": {
      "application/javascript": [
       "\n",
       "            setTimeout(function() {\n",
       "                var nbb_cell_id = 7;\n",
       "                var nbb_unformatted_code = \"# Create temporary residue environment datasets as dicts to more easily match ddG data\\nparsed_pdbs_wildcards = {\\n    \\\"dms\\\": \\\"data/data_dms/pdbs_parsed/*coord*\\\",\\n    \\\"protein_g\\\": \\\"data/data_protein_g/pdbs_parsed/*coord*\\\",\\n    \\\"guerois\\\": \\\"data/data_guerois/pdbs_parsed/*coord*\\\",\\n    \\\"symmetric\\\": \\\"data/data_symmetric/pdbs_parsed/*coord*\\\",\\n}\\n\\nresenv_datasets_look_up = {}\\nfor dataset_key, pdbs_wildcard in parsed_pdbs_wildcards.items():\\n    parsed_pdb_filenames = sorted(glob.glob(pdbs_wildcard))\\n    dataset = ResidueEnvironmentsDataset(parsed_pdb_filenames, transformer=None)\\n    dataset_look_up = {}\\n    for resenv in dataset:\\n        key = (\\n            f\\\"{resenv.pdb_id}{resenv.chain_id}_{resenv.pdb_residue_number}\\\"\\n            f\\\"{index_to_one(resenv.restype_index)}\\\"\\n        )\\n        dataset_look_up[key] = resenv\\n    resenv_datasets_look_up[dataset_key] = dataset_look_up\";\n",
       "                var nbb_formatted_code = \"# Create temporary residue environment datasets as dicts to more easily match ddG data\\nparsed_pdbs_wildcards = {\\n    \\\"dms\\\": \\\"data/data_dms/pdbs_parsed/*coord*\\\",\\n    \\\"protein_g\\\": \\\"data/data_protein_g/pdbs_parsed/*coord*\\\",\\n    \\\"guerois\\\": \\\"data/data_guerois/pdbs_parsed/*coord*\\\",\\n    \\\"symmetric\\\": \\\"data/data_symmetric/pdbs_parsed/*coord*\\\",\\n}\\n\\nresenv_datasets_look_up = {}\\nfor dataset_key, pdbs_wildcard in parsed_pdbs_wildcards.items():\\n    parsed_pdb_filenames = sorted(glob.glob(pdbs_wildcard))\\n    dataset = ResidueEnvironmentsDataset(parsed_pdb_filenames, transformer=None)\\n    dataset_look_up = {}\\n    for resenv in dataset:\\n        key = (\\n            f\\\"{resenv.pdb_id}{resenv.chain_id}_{resenv.pdb_residue_number}\\\"\\n            f\\\"{index_to_one(resenv.restype_index)}\\\"\\n        )\\n        dataset_look_up[key] = resenv\\n    resenv_datasets_look_up[dataset_key] = dataset_look_up\";\n",
       "                var nbb_cells = Jupyter.notebook.get_cells();\n",
       "                for (var i = 0; i < nbb_cells.length; ++i) {\n",
       "                    if (nbb_cells[i].input_prompt_number == nbb_cell_id) {\n",
       "                        if (nbb_cells[i].get_text() == nbb_unformatted_code) {\n",
       "                             nbb_cells[i].set_text(nbb_formatted_code);\n",
       "                        }\n",
       "                        break;\n",
       "                    }\n",
       "                }\n",
       "            }, 500);\n",
       "            "
      ],
      "text/plain": [
       "<IPython.core.display.Javascript object>"
      ]
     },
     "metadata": {},
     "output_type": "display_data"
    }
   ],
   "source": [
    "# Create temporary residue environment datasets as dicts to more easily match ddG data\n",
    "parsed_pdbs_wildcards = {\n",
    "    \"dms\": \"data/data_dms/pdbs_parsed/*coord*\",\n",
    "    \"protein_g\": \"data/data_protein_g/pdbs_parsed/*coord*\",\n",
    "    \"guerois\": \"data/data_guerois/pdbs_parsed/*coord*\",\n",
    "    \"symmetric\": \"data/data_symmetric/pdbs_parsed/*coord*\",\n",
    "}\n",
    "\n",
    "resenv_datasets_look_up = {}\n",
    "for dataset_key, pdbs_wildcard in parsed_pdbs_wildcards.items():\n",
    "    parsed_pdb_filenames = sorted(glob.glob(pdbs_wildcard))\n",
    "    dataset = ResidueEnvironmentsDataset(parsed_pdb_filenames, transformer=None)\n",
    "    dataset_look_up = {}\n",
    "    for resenv in dataset:\n",
    "        key = (\n",
    "            f\"{resenv.pdb_id}{resenv.chain_id}_{resenv.pdb_residue_number}\"\n",
    "            f\"{index_to_one(resenv.restype_index)}\"\n",
    "        )\n",
    "        dataset_look_up[key] = resenv\n",
    "    resenv_datasets_look_up[dataset_key] = dataset_look_up"
   ]
  },
  {
   "cell_type": "markdown",
   "metadata": {},
   "source": [
    "Load ddG data to dataframe"
   ]
  },
  {
   "cell_type": "code",
   "execution_count": 8,
   "metadata": {},
   "outputs": [
    {
     "data": {
      "application/javascript": [
       "\n",
       "            setTimeout(function() {\n",
       "                var nbb_cell_id = 8;\n",
       "                var nbb_unformatted_code = \"ddg_data_dict = OrderedDict()\\nddg_data_dict = {\\n    \\\"dms\\\": pd.read_csv(\\\"data/data_dms/ddgs_parsed.csv\\\"),\\n    \\\"protein_g\\\": pd.read_csv(\\\"data/data_protein_g/ddgs_parsed.csv\\\"),\\n    \\\"guerois\\\": pd.read_csv(\\\"data/data_guerois/ddgs_parsed.csv\\\"),\\n    \\\"symmetric_direct\\\": pd.read_csv(\\\"data/data_symmetric/ddgs_parsed_direct.csv\\\"),\\n    \\\"symmetric_inverse\\\": pd.read_csv(\\\"data/data_symmetric/ddgs_parsed_inverse.csv\\\"),\\n}\";\n",
       "                var nbb_formatted_code = \"ddg_data_dict = OrderedDict()\\nddg_data_dict = {\\n    \\\"dms\\\": pd.read_csv(\\\"data/data_dms/ddgs_parsed.csv\\\"),\\n    \\\"protein_g\\\": pd.read_csv(\\\"data/data_protein_g/ddgs_parsed.csv\\\"),\\n    \\\"guerois\\\": pd.read_csv(\\\"data/data_guerois/ddgs_parsed.csv\\\"),\\n    \\\"symmetric_direct\\\": pd.read_csv(\\\"data/data_symmetric/ddgs_parsed_direct.csv\\\"),\\n    \\\"symmetric_inverse\\\": pd.read_csv(\\\"data/data_symmetric/ddgs_parsed_inverse.csv\\\"),\\n}\";\n",
       "                var nbb_cells = Jupyter.notebook.get_cells();\n",
       "                for (var i = 0; i < nbb_cells.length; ++i) {\n",
       "                    if (nbb_cells[i].input_prompt_number == nbb_cell_id) {\n",
       "                        if (nbb_cells[i].get_text() == nbb_unformatted_code) {\n",
       "                             nbb_cells[i].set_text(nbb_formatted_code);\n",
       "                        }\n",
       "                        break;\n",
       "                    }\n",
       "                }\n",
       "            }, 500);\n",
       "            "
      ],
      "text/plain": [
       "<IPython.core.display.Javascript object>"
      ]
     },
     "metadata": {},
     "output_type": "display_data"
    }
   ],
   "source": [
    "ddg_data_dict = OrderedDict()\n",
    "ddg_data_dict = {\n",
    "    \"dms\": pd.read_csv(\"data/data_dms/ddgs_parsed.csv\"),\n",
    "    \"protein_g\": pd.read_csv(\"data/data_protein_g/ddgs_parsed.csv\"),\n",
    "    \"guerois\": pd.read_csv(\"data/data_guerois/ddgs_parsed.csv\"),\n",
    "    \"symmetric_direct\": pd.read_csv(\"data/data_symmetric/ddgs_parsed_direct.csv\"),\n",
    "    \"symmetric_inverse\": pd.read_csv(\"data/data_symmetric/ddgs_parsed_inverse.csv\"),\n",
    "}"
   ]
  },
  {
   "cell_type": "markdown",
   "metadata": {},
   "source": [
    "Populate dataframes with wt ResidueEnvironment objects and wt and mt restype indices"
   ]
  },
  {
   "cell_type": "code",
   "execution_count": 9,
   "metadata": {},
   "outputs": [
    {
     "name": "stdout",
     "output_type": "stream",
     "text": [
      "Dropping data points where residue is not defined in structure or due to missing parsed pdb file\n",
      "dropped 1187 / 8096 data points from dataset dms\n",
      "dropped    0 /  907 data points from dataset protein_g\n",
      "dropped    0 /  911 data points from dataset guerois\n",
      "dropped    0 /  342 data points from dataset symmetric_direct\n",
      "dropped    1 /  342 data points from dataset symmetric_inverse\n"
     ]
    },
    {
     "data": {
      "application/javascript": [
       "\n",
       "            setTimeout(function() {\n",
       "                var nbb_cell_id = 9;\n",
       "                var nbb_unformatted_code = \"_populate_dfs_with_resenvs(ddg_data_dict, resenv_datasets_look_up)\";\n",
       "                var nbb_formatted_code = \"_populate_dfs_with_resenvs(ddg_data_dict, resenv_datasets_look_up)\";\n",
       "                var nbb_cells = Jupyter.notebook.get_cells();\n",
       "                for (var i = 0; i < nbb_cells.length; ++i) {\n",
       "                    if (nbb_cells[i].input_prompt_number == nbb_cell_id) {\n",
       "                        if (nbb_cells[i].get_text() == nbb_unformatted_code) {\n",
       "                             nbb_cells[i].set_text(nbb_formatted_code);\n",
       "                        }\n",
       "                        break;\n",
       "                    }\n",
       "                }\n",
       "            }, 500);\n",
       "            "
      ],
      "text/plain": [
       "<IPython.core.display.Javascript object>"
      ]
     },
     "metadata": {},
     "output_type": "display_data"
    }
   ],
   "source": [
    "_populate_dfs_with_resenvs(ddg_data_dict, resenv_datasets_look_up)"
   ]
  },
  {
   "cell_type": "markdown",
   "metadata": {},
   "source": [
    "Populate dataframes with predicted NLLs and isolated WT and MT predicted NLLs as well as NLFs"
   ]
  },
  {
   "cell_type": "code",
   "execution_count": 10,
   "metadata": {
    "scrolled": false
   },
   "outputs": [
    {
     "name": "stdout",
     "output_type": "stream",
     "text": [
      "dms\n"
     ]
    },
    {
     "data": {
      "text/html": [
       "<div>\n",
       "<style scoped>\n",
       "    .dataframe tbody tr th:only-of-type {\n",
       "        vertical-align: middle;\n",
       "    }\n",
       "\n",
       "    .dataframe tbody tr th {\n",
       "        vertical-align: top;\n",
       "    }\n",
       "\n",
       "    .dataframe thead th {\n",
       "        text-align: right;\n",
       "    }\n",
       "</style>\n",
       "<table border=\"1\" class=\"dataframe\">\n",
       "  <thead>\n",
       "    <tr style=\"text-align: right;\">\n",
       "      <th></th>\n",
       "      <th>pdbid</th>\n",
       "      <th>chainid</th>\n",
       "      <th>variant</th>\n",
       "      <th>ddg</th>\n",
       "      <th>resenv</th>\n",
       "      <th>wt_idx</th>\n",
       "      <th>mt_idx</th>\n",
       "      <th>nlls</th>\n",
       "      <th>wt_nll</th>\n",
       "      <th>mt_nll</th>\n",
       "      <th>wt_nlf</th>\n",
       "      <th>mt_nlf</th>\n",
       "      <th>ddg_pred_no_ds</th>\n",
       "    </tr>\n",
       "  </thead>\n",
       "  <tbody>\n",
       "    <tr>\n",
       "      <th>120</th>\n",
       "      <td>1D5R</td>\n",
       "      <td>A</td>\n",
       "      <td>R14A</td>\n",
       "      <td>-0.087552</td>\n",
       "      <td>&lt;ResidueEnvironment with 141 atoms. pdb_id: 1D...</td>\n",
       "      <td>14</td>\n",
       "      <td>0</td>\n",
       "      <td>[5.208927, 4.623146, 4.039332, 5.058001, 4.835...</td>\n",
       "      <td>1.607062</td>\n",
       "      <td>5.208927</td>\n",
       "      <td>3.035567</td>\n",
       "      <td>2.483982</td>\n",
       "      <td>4.153450</td>\n",
       "    </tr>\n",
       "    <tr>\n",
       "      <th>121</th>\n",
       "      <td>1D5R</td>\n",
       "      <td>A</td>\n",
       "      <td>R14D</td>\n",
       "      <td>-0.142873</td>\n",
       "      <td>&lt;ResidueEnvironment with 141 atoms. pdb_id: 1D...</td>\n",
       "      <td>14</td>\n",
       "      <td>2</td>\n",
       "      <td>[5.208927, 4.623146, 4.039332, 5.058001, 4.835...</td>\n",
       "      <td>1.607062</td>\n",
       "      <td>4.039332</td>\n",
       "      <td>3.035567</td>\n",
       "      <td>2.824680</td>\n",
       "      <td>2.643158</td>\n",
       "    </tr>\n",
       "  </tbody>\n",
       "</table>\n",
       "</div>"
      ],
      "text/plain": [
       "    pdbid chainid variant       ddg  \\\n",
       "120  1D5R       A    R14A -0.087552   \n",
       "121  1D5R       A    R14D -0.142873   \n",
       "\n",
       "                                                resenv  wt_idx  mt_idx  \\\n",
       "120  <ResidueEnvironment with 141 atoms. pdb_id: 1D...      14       0   \n",
       "121  <ResidueEnvironment with 141 atoms. pdb_id: 1D...      14       2   \n",
       "\n",
       "                                                  nlls    wt_nll    mt_nll  \\\n",
       "120  [5.208927, 4.623146, 4.039332, 5.058001, 4.835...  1.607062  5.208927   \n",
       "121  [5.208927, 4.623146, 4.039332, 5.058001, 4.835...  1.607062  4.039332   \n",
       "\n",
       "       wt_nlf    mt_nlf  ddg_pred_no_ds  \n",
       "120  3.035567  2.483982        4.153450  \n",
       "121  3.035567  2.824680        2.643158  "
      ]
     },
     "metadata": {},
     "output_type": "display_data"
    },
    {
     "name": "stdout",
     "output_type": "stream",
     "text": [
      "protein_g\n"
     ]
    },
    {
     "data": {
      "text/html": [
       "<div>\n",
       "<style scoped>\n",
       "    .dataframe tbody tr th:only-of-type {\n",
       "        vertical-align: middle;\n",
       "    }\n",
       "\n",
       "    .dataframe tbody tr th {\n",
       "        vertical-align: top;\n",
       "    }\n",
       "\n",
       "    .dataframe thead th {\n",
       "        text-align: right;\n",
       "    }\n",
       "</style>\n",
       "<table border=\"1\" class=\"dataframe\">\n",
       "  <thead>\n",
       "    <tr style=\"text-align: right;\">\n",
       "      <th></th>\n",
       "      <th>pdbid</th>\n",
       "      <th>chainid</th>\n",
       "      <th>variant</th>\n",
       "      <th>ddg</th>\n",
       "      <th>resenv</th>\n",
       "      <th>wt_idx</th>\n",
       "      <th>mt_idx</th>\n",
       "      <th>nlls</th>\n",
       "      <th>wt_nll</th>\n",
       "      <th>mt_nll</th>\n",
       "      <th>wt_nlf</th>\n",
       "      <th>mt_nlf</th>\n",
       "      <th>ddg_pred_no_ds</th>\n",
       "    </tr>\n",
       "  </thead>\n",
       "  <tbody>\n",
       "    <tr>\n",
       "      <th>0</th>\n",
       "      <td>1PGA</td>\n",
       "      <td>A</td>\n",
       "      <td>M1A</td>\n",
       "      <td>-0.1407</td>\n",
       "      <td>&lt;ResidueEnvironment with 130 atoms. pdb_id: 1P...</td>\n",
       "      <td>10</td>\n",
       "      <td>0</td>\n",
       "      <td>[2.3750665, 3.602623, 3.3328314, 3.0284564, 4....</td>\n",
       "      <td>2.917011</td>\n",
       "      <td>2.375067</td>\n",
       "      <td>3.785957</td>\n",
       "      <td>2.483982</td>\n",
       "      <td>0.760030</td>\n",
       "    </tr>\n",
       "    <tr>\n",
       "      <th>1</th>\n",
       "      <td>1PGA</td>\n",
       "      <td>A</td>\n",
       "      <td>M1D</td>\n",
       "      <td>-0.3795</td>\n",
       "      <td>&lt;ResidueEnvironment with 130 atoms. pdb_id: 1P...</td>\n",
       "      <td>10</td>\n",
       "      <td>2</td>\n",
       "      <td>[2.3750665, 3.602623, 3.3328314, 3.0284564, 4....</td>\n",
       "      <td>2.917011</td>\n",
       "      <td>3.332831</td>\n",
       "      <td>3.785957</td>\n",
       "      <td>2.824680</td>\n",
       "      <td>1.377098</td>\n",
       "    </tr>\n",
       "  </tbody>\n",
       "</table>\n",
       "</div>"
      ],
      "text/plain": [
       "  pdbid chainid variant     ddg  \\\n",
       "0  1PGA       A     M1A -0.1407   \n",
       "1  1PGA       A     M1D -0.3795   \n",
       "\n",
       "                                              resenv  wt_idx  mt_idx  \\\n",
       "0  <ResidueEnvironment with 130 atoms. pdb_id: 1P...      10       0   \n",
       "1  <ResidueEnvironment with 130 atoms. pdb_id: 1P...      10       2   \n",
       "\n",
       "                                                nlls    wt_nll    mt_nll  \\\n",
       "0  [2.3750665, 3.602623, 3.3328314, 3.0284564, 4....  2.917011  2.375067   \n",
       "1  [2.3750665, 3.602623, 3.3328314, 3.0284564, 4....  2.917011  3.332831   \n",
       "\n",
       "     wt_nlf    mt_nlf  ddg_pred_no_ds  \n",
       "0  3.785957  2.483982        0.760030  \n",
       "1  3.785957  2.824680        1.377098  "
      ]
     },
     "metadata": {},
     "output_type": "display_data"
    },
    {
     "name": "stdout",
     "output_type": "stream",
     "text": [
      "guerois\n"
     ]
    },
    {
     "data": {
      "text/html": [
       "<div>\n",
       "<style scoped>\n",
       "    .dataframe tbody tr th:only-of-type {\n",
       "        vertical-align: middle;\n",
       "    }\n",
       "\n",
       "    .dataframe tbody tr th {\n",
       "        vertical-align: top;\n",
       "    }\n",
       "\n",
       "    .dataframe thead th {\n",
       "        text-align: right;\n",
       "    }\n",
       "</style>\n",
       "<table border=\"1\" class=\"dataframe\">\n",
       "  <thead>\n",
       "    <tr style=\"text-align: right;\">\n",
       "      <th></th>\n",
       "      <th>pdbid</th>\n",
       "      <th>chainid</th>\n",
       "      <th>variant</th>\n",
       "      <th>ddg</th>\n",
       "      <th>resenv</th>\n",
       "      <th>wt_idx</th>\n",
       "      <th>mt_idx</th>\n",
       "      <th>nlls</th>\n",
       "      <th>wt_nll</th>\n",
       "      <th>mt_nll</th>\n",
       "      <th>wt_nlf</th>\n",
       "      <th>mt_nlf</th>\n",
       "      <th>ddg_pred_no_ds</th>\n",
       "    </tr>\n",
       "  </thead>\n",
       "  <tbody>\n",
       "    <tr>\n",
       "      <th>0</th>\n",
       "      <td>171L</td>\n",
       "      <td>A</td>\n",
       "      <td>A45E</td>\n",
       "      <td>0.01</td>\n",
       "      <td>&lt;ResidueEnvironment with 189 atoms. pdb_id: 17...</td>\n",
       "      <td>0</td>\n",
       "      <td>3</td>\n",
       "      <td>[0.83523524, 4.4478774, 2.830563, 2.008929, 2....</td>\n",
       "      <td>0.835235</td>\n",
       "      <td>2.008929</td>\n",
       "      <td>2.483982</td>\n",
       "      <td>2.712832</td>\n",
       "      <td>0.944844</td>\n",
       "    </tr>\n",
       "    <tr>\n",
       "      <th>1</th>\n",
       "      <td>1A2P</td>\n",
       "      <td>A</td>\n",
       "      <td>Y103F</td>\n",
       "      <td>0.00</td>\n",
       "      <td>&lt;ResidueEnvironment with 211 atoms. pdb_id: 1A...</td>\n",
       "      <td>19</td>\n",
       "      <td>4</td>\n",
       "      <td>[4.11355, 4.059737, 4.051206, 3.9646528, 1.218...</td>\n",
       "      <td>1.690269</td>\n",
       "      <td>1.218703</td>\n",
       "      <td>3.311580</td>\n",
       "      <td>3.207937</td>\n",
       "      <td>-0.367925</td>\n",
       "    </tr>\n",
       "  </tbody>\n",
       "</table>\n",
       "</div>"
      ],
      "text/plain": [
       "  pdbid chainid variant   ddg  \\\n",
       "0  171L       A    A45E  0.01   \n",
       "1  1A2P       A   Y103F  0.00   \n",
       "\n",
       "                                              resenv  wt_idx  mt_idx  \\\n",
       "0  <ResidueEnvironment with 189 atoms. pdb_id: 17...       0       3   \n",
       "1  <ResidueEnvironment with 211 atoms. pdb_id: 1A...      19       4   \n",
       "\n",
       "                                                nlls    wt_nll    mt_nll  \\\n",
       "0  [0.83523524, 4.4478774, 2.830563, 2.008929, 2....  0.835235  2.008929   \n",
       "1  [4.11355, 4.059737, 4.051206, 3.9646528, 1.218...  1.690269  1.218703   \n",
       "\n",
       "     wt_nlf    mt_nlf  ddg_pred_no_ds  \n",
       "0  2.483982  2.712832        0.944844  \n",
       "1  3.311580  3.207937       -0.367925  "
      ]
     },
     "metadata": {},
     "output_type": "display_data"
    },
    {
     "name": "stdout",
     "output_type": "stream",
     "text": [
      "symmetric_direct\n"
     ]
    },
    {
     "data": {
      "text/html": [
       "<div>\n",
       "<style scoped>\n",
       "    .dataframe tbody tr th:only-of-type {\n",
       "        vertical-align: middle;\n",
       "    }\n",
       "\n",
       "    .dataframe tbody tr th {\n",
       "        vertical-align: top;\n",
       "    }\n",
       "\n",
       "    .dataframe thead th {\n",
       "        text-align: right;\n",
       "    }\n",
       "</style>\n",
       "<table border=\"1\" class=\"dataframe\">\n",
       "  <thead>\n",
       "    <tr style=\"text-align: right;\">\n",
       "      <th></th>\n",
       "      <th>pdbid</th>\n",
       "      <th>chainid</th>\n",
       "      <th>variant</th>\n",
       "      <th>ddg</th>\n",
       "      <th>merge_column</th>\n",
       "      <th>resenv</th>\n",
       "      <th>wt_idx</th>\n",
       "      <th>mt_idx</th>\n",
       "      <th>nlls</th>\n",
       "      <th>wt_nll</th>\n",
       "      <th>mt_nll</th>\n",
       "      <th>wt_nlf</th>\n",
       "      <th>mt_nlf</th>\n",
       "      <th>ddg_pred_no_ds</th>\n",
       "    </tr>\n",
       "  </thead>\n",
       "  <tbody>\n",
       "    <tr>\n",
       "      <th>0</th>\n",
       "      <td>1AMQ</td>\n",
       "      <td>A</td>\n",
       "      <td>C191Y</td>\n",
       "      <td>2.3</td>\n",
       "      <td>index_1</td>\n",
       "      <td>&lt;ResidueEnvironment with 278 atoms. pdb_id: 1A...</td>\n",
       "      <td>1</td>\n",
       "      <td>19</td>\n",
       "      <td>[0.6998306, 3.7237372, 3.3151283, 5.2741637, 3...</td>\n",
       "      <td>3.723737</td>\n",
       "      <td>3.835413</td>\n",
       "      <td>4.33514</td>\n",
       "      <td>3.311580</td>\n",
       "      <td>1.135236</td>\n",
       "    </tr>\n",
       "    <tr>\n",
       "      <th>1</th>\n",
       "      <td>1AMQ</td>\n",
       "      <td>A</td>\n",
       "      <td>C191F</td>\n",
       "      <td>1.6</td>\n",
       "      <td>index_2</td>\n",
       "      <td>&lt;ResidueEnvironment with 278 atoms. pdb_id: 1A...</td>\n",
       "      <td>1</td>\n",
       "      <td>4</td>\n",
       "      <td>[0.6998306, 3.7237372, 3.3151283, 5.2741637, 3...</td>\n",
       "      <td>3.723737</td>\n",
       "      <td>3.773518</td>\n",
       "      <td>4.33514</td>\n",
       "      <td>3.207937</td>\n",
       "      <td>1.176983</td>\n",
       "    </tr>\n",
       "  </tbody>\n",
       "</table>\n",
       "</div>"
      ],
      "text/plain": [
       "  pdbid chainid variant  ddg merge_column  \\\n",
       "0  1AMQ       A   C191Y  2.3      index_1   \n",
       "1  1AMQ       A   C191F  1.6      index_2   \n",
       "\n",
       "                                              resenv  wt_idx  mt_idx  \\\n",
       "0  <ResidueEnvironment with 278 atoms. pdb_id: 1A...       1      19   \n",
       "1  <ResidueEnvironment with 278 atoms. pdb_id: 1A...       1       4   \n",
       "\n",
       "                                                nlls    wt_nll    mt_nll  \\\n",
       "0  [0.6998306, 3.7237372, 3.3151283, 5.2741637, 3...  3.723737  3.835413   \n",
       "1  [0.6998306, 3.7237372, 3.3151283, 5.2741637, 3...  3.723737  3.773518   \n",
       "\n",
       "    wt_nlf    mt_nlf  ddg_pred_no_ds  \n",
       "0  4.33514  3.311580        1.135236  \n",
       "1  4.33514  3.207937        1.176983  "
      ]
     },
     "metadata": {},
     "output_type": "display_data"
    },
    {
     "name": "stdout",
     "output_type": "stream",
     "text": [
      "symmetric_inverse\n"
     ]
    },
    {
     "data": {
      "text/html": [
       "<div>\n",
       "<style scoped>\n",
       "    .dataframe tbody tr th:only-of-type {\n",
       "        vertical-align: middle;\n",
       "    }\n",
       "\n",
       "    .dataframe tbody tr th {\n",
       "        vertical-align: top;\n",
       "    }\n",
       "\n",
       "    .dataframe thead th {\n",
       "        text-align: right;\n",
       "    }\n",
       "</style>\n",
       "<table border=\"1\" class=\"dataframe\">\n",
       "  <thead>\n",
       "    <tr style=\"text-align: right;\">\n",
       "      <th></th>\n",
       "      <th>pdbid</th>\n",
       "      <th>chainid</th>\n",
       "      <th>variant</th>\n",
       "      <th>ddg</th>\n",
       "      <th>merge_column</th>\n",
       "      <th>resenv</th>\n",
       "      <th>wt_idx</th>\n",
       "      <th>mt_idx</th>\n",
       "      <th>nlls</th>\n",
       "      <th>wt_nll</th>\n",
       "      <th>mt_nll</th>\n",
       "      <th>wt_nlf</th>\n",
       "      <th>mt_nlf</th>\n",
       "      <th>ddg_pred_no_ds</th>\n",
       "    </tr>\n",
       "  </thead>\n",
       "  <tbody>\n",
       "    <tr>\n",
       "      <th>1</th>\n",
       "      <td>1QIS</td>\n",
       "      <td>A</td>\n",
       "      <td>F191C</td>\n",
       "      <td>-1.6</td>\n",
       "      <td>index_2</td>\n",
       "      <td>&lt;ResidueEnvironment with 275 atoms. pdb_id: 1Q...</td>\n",
       "      <td>4</td>\n",
       "      <td>1</td>\n",
       "      <td>[2.4564798, 3.7821703, 4.3555284, 5.4382453, 0...</td>\n",
       "      <td>0.819643</td>\n",
       "      <td>3.782170</td>\n",
       "      <td>3.207937</td>\n",
       "      <td>4.33514</td>\n",
       "      <td>1.835325</td>\n",
       "    </tr>\n",
       "    <tr>\n",
       "      <th>2</th>\n",
       "      <td>1QIT</td>\n",
       "      <td>A</td>\n",
       "      <td>W191C</td>\n",
       "      <td>-3.9</td>\n",
       "      <td>index_3</td>\n",
       "      <td>&lt;ResidueEnvironment with 273 atoms. pdb_id: 1Q...</td>\n",
       "      <td>18</td>\n",
       "      <td>1</td>\n",
       "      <td>[1.8615029, 4.2089725, 4.0728025, 5.3598213, 1...</td>\n",
       "      <td>2.500774</td>\n",
       "      <td>4.208972</td>\n",
       "      <td>4.250501</td>\n",
       "      <td>4.33514</td>\n",
       "      <td>1.623560</td>\n",
       "    </tr>\n",
       "  </tbody>\n",
       "</table>\n",
       "</div>"
      ],
      "text/plain": [
       "  pdbid chainid variant  ddg merge_column  \\\n",
       "1  1QIS       A   F191C -1.6      index_2   \n",
       "2  1QIT       A   W191C -3.9      index_3   \n",
       "\n",
       "                                              resenv  wt_idx  mt_idx  \\\n",
       "1  <ResidueEnvironment with 275 atoms. pdb_id: 1Q...       4       1   \n",
       "2  <ResidueEnvironment with 273 atoms. pdb_id: 1Q...      18       1   \n",
       "\n",
       "                                                nlls    wt_nll    mt_nll  \\\n",
       "1  [2.4564798, 3.7821703, 4.3555284, 5.4382453, 0...  0.819643  3.782170   \n",
       "2  [1.8615029, 4.2089725, 4.0728025, 5.3598213, 1...  2.500774  4.208972   \n",
       "\n",
       "     wt_nlf   mt_nlf  ddg_pred_no_ds  \n",
       "1  3.207937  4.33514        1.835325  \n",
       "2  4.250501  4.33514        1.623560  "
      ]
     },
     "metadata": {},
     "output_type": "display_data"
    },
    {
     "data": {
      "application/javascript": [
       "\n",
       "            setTimeout(function() {\n",
       "                var nbb_cell_id = 10;\n",
       "                var nbb_unformatted_code = \"# Load best performing cavity model from previos training\\ncavity_model_infer_net = CavityModel(DEVICE).to(DEVICE)\\ncavity_model_infer_net.load_state_dict(torch.load(best_model_path))\\ncavity_model_infer_net.eval()\\n\\n_populate_dfs_with_nlls_and_nlfs(\\n    ddg_data_dict, cavity_model_infer_net, DEVICE, BATCH_SIZE, EPS, display_n_rows=2\\n)\";\n",
       "                var nbb_formatted_code = \"# Load best performing cavity model from previos training\\ncavity_model_infer_net = CavityModel(DEVICE).to(DEVICE)\\ncavity_model_infer_net.load_state_dict(torch.load(best_model_path))\\ncavity_model_infer_net.eval()\\n\\n_populate_dfs_with_nlls_and_nlfs(\\n    ddg_data_dict, cavity_model_infer_net, DEVICE, BATCH_SIZE, EPS, display_n_rows=2\\n)\";\n",
       "                var nbb_cells = Jupyter.notebook.get_cells();\n",
       "                for (var i = 0; i < nbb_cells.length; ++i) {\n",
       "                    if (nbb_cells[i].input_prompt_number == nbb_cell_id) {\n",
       "                        if (nbb_cells[i].get_text() == nbb_unformatted_code) {\n",
       "                             nbb_cells[i].set_text(nbb_formatted_code);\n",
       "                        }\n",
       "                        break;\n",
       "                    }\n",
       "                }\n",
       "            }, 500);\n",
       "            "
      ],
      "text/plain": [
       "<IPython.core.display.Javascript object>"
      ]
     },
     "metadata": {},
     "output_type": "display_data"
    }
   ],
   "source": [
    "# Load best performing cavity model from previos training\n",
    "cavity_model_infer_net = CavityModel(DEVICE).to(DEVICE)\n",
    "cavity_model_infer_net.load_state_dict(torch.load(best_model_path))\n",
    "cavity_model_infer_net.eval()\n",
    "\n",
    "_populate_dfs_with_nlls_and_nlfs(\n",
    "    ddg_data_dict, cavity_model_infer_net, DEVICE, BATCH_SIZE, EPS, display_n_rows=2\n",
    ")"
   ]
  },
  {
   "cell_type": "markdown",
   "metadata": {},
   "source": [
    "### Results without downstream model"
   ]
  },
  {
   "cell_type": "code",
   "execution_count": 11,
   "metadata": {
    "scrolled": false
   },
   "outputs": [
    {
     "data": {
      "image/png": "[encoded data removed]",
      "text/plain": [
       "<Figure size 432x288 with 1 Axes>"
      ]
     },
     "metadata": {
      "needs_background": "light"
     },
     "output_type": "display_data"
    },
    {
     "data": {
      "image/png": "[encoded data removed]",
      "text/plain": [
       "<Figure size 432x288 with 1 Axes>"
      ]
     },
     "metadata": {
      "needs_background": "light"
     },
     "output_type": "display_data"
    },
    {
     "data": {
      "image/png": "[encoded data removed]",
      "text/plain": [
       "<Figure size 432x288 with 1 Axes>"
      ]
     },
     "metadata": {
      "needs_background": "light"
     },
     "output_type": "display_data"
    },
    {
     "data": {
      "image/png": "[encoded data removed]",
      "text/plain": [
       "<Figure size 432x288 with 1 Axes>"
      ]
     },
     "metadata": {
      "needs_background": "light"
     },
     "output_type": "display_data"
    },
    {
     "data": {
      "image/png": "[encoded data removed]",
      "text/plain": [
       "<Figure size 432x288 with 1 Axes>"
      ]
     },
     "metadata": {
      "needs_background": "light"
     },
     "output_type": "display_data"
    },
    {
     "data": {
      "application/javascript": [
       "\n",
       "            setTimeout(function() {\n",
       "                var nbb_cell_id = 11;\n",
       "                var nbb_unformatted_code = \"colors = [\\\"steelblue\\\", \\\"firebrick\\\", \\\"forestgreen\\\", \\\"black\\\", \\\"black\\\"]\\nfor color, data_key in zip(colors, ddg_data_dict.keys()):\\n    fig, ax = scatter_pred_vs_true(\\n        ddg_data_dict[data_key][\\\"ddg\\\"],\\n        ddg_data_dict[data_key][\\\"ddg_pred_no_ds\\\"],\\n        color=color,\\n        title=data_key,\\n    )\";\n",
       "                var nbb_formatted_code = \"colors = [\\\"steelblue\\\", \\\"firebrick\\\", \\\"forestgreen\\\", \\\"black\\\", \\\"black\\\"]\\nfor color, data_key in zip(colors, ddg_data_dict.keys()):\\n    fig, ax = scatter_pred_vs_true(\\n        ddg_data_dict[data_key][\\\"ddg\\\"],\\n        ddg_data_dict[data_key][\\\"ddg_pred_no_ds\\\"],\\n        color=color,\\n        title=data_key,\\n    )\";\n",
       "                var nbb_cells = Jupyter.notebook.get_cells();\n",
       "                for (var i = 0; i < nbb_cells.length; ++i) {\n",
       "                    if (nbb_cells[i].input_prompt_number == nbb_cell_id) {\n",
       "                        if (nbb_cells[i].get_text() == nbb_unformatted_code) {\n",
       "                             nbb_cells[i].set_text(nbb_formatted_code);\n",
       "                        }\n",
       "                        break;\n",
       "                    }\n",
       "                }\n",
       "            }, 500);\n",
       "            "
      ],
      "text/plain": [
       "<IPython.core.display.Javascript object>"
      ]
     },
     "metadata": {},
     "output_type": "display_data"
    }
   ],
   "source": [
    "colors = [\"steelblue\", \"firebrick\", \"forestgreen\", \"black\", \"black\"]\n",
    "for color, data_key in zip(colors, ddg_data_dict.keys()):\n",
    "    fig, ax = scatter_pred_vs_true(\n",
    "        ddg_data_dict[data_key][\"ddg\"],\n",
    "        ddg_data_dict[data_key][\"ddg_pred_no_ds\"],\n",
    "        color=color,\n",
    "        title=data_key,\n",
    "    )"
   ]
  },
  {
   "cell_type": "markdown",
   "metadata": {},
   "source": [
    "Merge direct and inverse dfs"
   ]
  },
  {
   "cell_type": "code",
   "execution_count": 12,
   "metadata": {
    "scrolled": true
   },
   "outputs": [
    {
     "data": {
      "application/javascript": [
       "\n",
       "            setTimeout(function() {\n",
       "                var nbb_cell_id = 12;\n",
       "                var nbb_unformatted_code = \"# Rename columns so they specify if it is the direct or inverse direction\\nsymmetric_direct_df = ddg_data_dict[\\\"symmetric_direct\\\"]\\nsymmetric_direct_df.columns = [\\n    name + \\\"_dir\\\" if \\\"_dir\\\" not in name else name\\n    for name in symmetric_direct_df.columns\\n]\\nsymmetric_inverse_df = ddg_data_dict[\\\"symmetric_inverse\\\"]\\nsymmetric_inverse_df.columns = [\\n    name + \\\"_inv\\\" if \\\"_inv\\\" not in name else name\\n    for name in symmetric_inverse_df.columns\\n]\\n\\n# Inner merge both dataframes\\nddg_data_dict[\\\"symmetric_both\\\"] = pd.merge(\\n    symmetric_direct_df,\\n    symmetric_inverse_df,\\n    how=\\\"inner\\\",\\n    left_on=\\\"merge_column_dir\\\",\\n    right_on=\\\"merge_column_inv\\\",\\n)\";\n",
       "                var nbb_formatted_code = \"# Rename columns so they specify if it is the direct or inverse direction\\nsymmetric_direct_df = ddg_data_dict[\\\"symmetric_direct\\\"]\\nsymmetric_direct_df.columns = [\\n    name + \\\"_dir\\\" if \\\"_dir\\\" not in name else name\\n    for name in symmetric_direct_df.columns\\n]\\nsymmetric_inverse_df = ddg_data_dict[\\\"symmetric_inverse\\\"]\\nsymmetric_inverse_df.columns = [\\n    name + \\\"_inv\\\" if \\\"_inv\\\" not in name else name\\n    for name in symmetric_inverse_df.columns\\n]\\n\\n# Inner merge both dataframes\\nddg_data_dict[\\\"symmetric_both\\\"] = pd.merge(\\n    symmetric_direct_df,\\n    symmetric_inverse_df,\\n    how=\\\"inner\\\",\\n    left_on=\\\"merge_column_dir\\\",\\n    right_on=\\\"merge_column_inv\\\",\\n)\";\n",
       "                var nbb_cells = Jupyter.notebook.get_cells();\n",
       "                for (var i = 0; i < nbb_cells.length; ++i) {\n",
       "                    if (nbb_cells[i].input_prompt_number == nbb_cell_id) {\n",
       "                        if (nbb_cells[i].get_text() == nbb_unformatted_code) {\n",
       "                             nbb_cells[i].set_text(nbb_formatted_code);\n",
       "                        }\n",
       "                        break;\n",
       "                    }\n",
       "                }\n",
       "            }, 500);\n",
       "            "
      ],
      "text/plain": [
       "<IPython.core.display.Javascript object>"
      ]
     },
     "metadata": {},
     "output_type": "display_data"
    }
   ],
   "source": [
    "# Rename columns so they specify if it is the direct or inverse direction\n",
    "symmetric_direct_df = ddg_data_dict[\"symmetric_direct\"]\n",
    "symmetric_direct_df.columns = [\n",
    "    name + \"_dir\" if \"_dir\" not in name else name\n",
    "    for name in symmetric_direct_df.columns\n",
    "]\n",
    "symmetric_inverse_df = ddg_data_dict[\"symmetric_inverse\"]\n",
    "symmetric_inverse_df.columns = [\n",
    "    name + \"_inv\" if \"_inv\" not in name else name\n",
    "    for name in symmetric_inverse_df.columns\n",
    "]\n",
    "\n",
    "# Inner merge both dataframes\n",
    "ddg_data_dict[\"symmetric_both\"] = pd.merge(\n",
    "    symmetric_direct_df,\n",
    "    symmetric_inverse_df,\n",
    "    how=\"inner\",\n",
    "    left_on=\"merge_column_dir\",\n",
    "    right_on=\"merge_column_inv\",\n",
    ")"
   ]
  },
  {
   "cell_type": "markdown",
   "metadata": {},
   "source": [
    "Make prediction based on both structures"
   ]
  },
  {
   "cell_type": "code",
   "execution_count": 13,
   "metadata": {},
   "outputs": [
    {
     "data": {
      "application/javascript": [
       "\n",
       "            setTimeout(function() {\n",
       "                var nbb_cell_id = 13;\n",
       "                var nbb_unformatted_code = \"symmetric_both_df = ddg_data_dict[\\\"symmetric_both\\\"]\\nsymmetric_both_df[\\\"ddg_pred_no_ds_both_dir\\\"] = symmetric_both_df.apply(\\n    lambda row: 0.5 * (row[\\\"ddg_pred_no_ds_dir\\\"] - row[\\\"ddg_pred_no_ds_inv\\\"]), axis=1\\n)\\nsymmetric_both_df[\\\"ddg_pred_no_ds_both_inv\\\"] = symmetric_both_df.apply(\\n    lambda row: 0.5 * (row[\\\"ddg_pred_no_ds_inv\\\"] - row[\\\"ddg_pred_no_ds_dir\\\"]), axis=1\\n)\";\n",
       "                var nbb_formatted_code = \"symmetric_both_df = ddg_data_dict[\\\"symmetric_both\\\"]\\nsymmetric_both_df[\\\"ddg_pred_no_ds_both_dir\\\"] = symmetric_both_df.apply(\\n    lambda row: 0.5 * (row[\\\"ddg_pred_no_ds_dir\\\"] - row[\\\"ddg_pred_no_ds_inv\\\"]), axis=1\\n)\\nsymmetric_both_df[\\\"ddg_pred_no_ds_both_inv\\\"] = symmetric_both_df.apply(\\n    lambda row: 0.5 * (row[\\\"ddg_pred_no_ds_inv\\\"] - row[\\\"ddg_pred_no_ds_dir\\\"]), axis=1\\n)\";\n",
       "                var nbb_cells = Jupyter.notebook.get_cells();\n",
       "                for (var i = 0; i < nbb_cells.length; ++i) {\n",
       "                    if (nbb_cells[i].input_prompt_number == nbb_cell_id) {\n",
       "                        if (nbb_cells[i].get_text() == nbb_unformatted_code) {\n",
       "                             nbb_cells[i].set_text(nbb_formatted_code);\n",
       "                        }\n",
       "                        break;\n",
       "                    }\n",
       "                }\n",
       "            }, 500);\n",
       "            "
      ],
      "text/plain": [
       "<IPython.core.display.Javascript object>"
      ]
     },
     "metadata": {},
     "output_type": "display_data"
    }
   ],
   "source": [
    "symmetric_both_df = ddg_data_dict[\"symmetric_both\"]\n",
    "symmetric_both_df[\"ddg_pred_no_ds_both_dir\"] = symmetric_both_df.apply(\n",
    "    lambda row: 0.5 * (row[\"ddg_pred_no_ds_dir\"] - row[\"ddg_pred_no_ds_inv\"]), axis=1\n",
    ")\n",
    "symmetric_both_df[\"ddg_pred_no_ds_both_inv\"] = symmetric_both_df.apply(\n",
    "    lambda row: 0.5 * (row[\"ddg_pred_no_ds_inv\"] - row[\"ddg_pred_no_ds_dir\"]), axis=1\n",
    ")"
   ]
  },
  {
   "cell_type": "markdown",
   "metadata": {},
   "source": [
    "Plot prediction using both structures"
   ]
  },
  {
   "cell_type": "code",
   "execution_count": 14,
   "metadata": {},
   "outputs": [
    {
     "data": {
      "image/png": "[encoded data removed]",
      "text/plain": [
       "<Figure size 432x288 with 1 Axes>"
      ]
     },
     "metadata": {
      "needs_background": "light"
     },
     "output_type": "display_data"
    },
    {
     "data": {
      "image/png": "[encoded data removed]",
      "text/plain": [
       "<Figure size 432x288 with 1 Axes>"
      ]
     },
     "metadata": {
      "needs_background": "light"
     },
     "output_type": "display_data"
    },
    {
     "data": {
      "application/javascript": [
       "\n",
       "            setTimeout(function() {\n",
       "                var nbb_cell_id = 14;\n",
       "                var nbb_unformatted_code = \"# Plot prediction for ddg direct using both structures\\nfig, ax = scatter_pred_vs_true(\\n    ddg_data_dict[\\\"symmetric_both\\\"][\\\"ddg_dir\\\"],\\n    ddg_data_dict[\\\"symmetric_both\\\"][\\\"ddg_pred_no_ds_both_dir\\\"],\\n    color=\\\"black\\\",\\n    title=\\\"Both structure (Direct)\\\",\\n)\\n\\n# Plot prediction for ddg inverse using both structures\\nfig, ax = scatter_pred_vs_true(\\n    ddg_data_dict[\\\"symmetric_both\\\"][\\\"ddg_inv\\\"],\\n    ddg_data_dict[\\\"symmetric_both\\\"][\\\"ddg_pred_no_ds_both_inv\\\"],\\n    color=\\\"black\\\",\\n    title=\\\"Both structure (Inverse)\\\",\\n)\";\n",
       "                var nbb_formatted_code = \"# Plot prediction for ddg direct using both structures\\nfig, ax = scatter_pred_vs_true(\\n    ddg_data_dict[\\\"symmetric_both\\\"][\\\"ddg_dir\\\"],\\n    ddg_data_dict[\\\"symmetric_both\\\"][\\\"ddg_pred_no_ds_both_dir\\\"],\\n    color=\\\"black\\\",\\n    title=\\\"Both structure (Direct)\\\",\\n)\\n\\n# Plot prediction for ddg inverse using both structures\\nfig, ax = scatter_pred_vs_true(\\n    ddg_data_dict[\\\"symmetric_both\\\"][\\\"ddg_inv\\\"],\\n    ddg_data_dict[\\\"symmetric_both\\\"][\\\"ddg_pred_no_ds_both_inv\\\"],\\n    color=\\\"black\\\",\\n    title=\\\"Both structure (Inverse)\\\",\\n)\";\n",
       "                var nbb_cells = Jupyter.notebook.get_cells();\n",
       "                for (var i = 0; i < nbb_cells.length; ++i) {\n",
       "                    if (nbb_cells[i].input_prompt_number == nbb_cell_id) {\n",
       "                        if (nbb_cells[i].get_text() == nbb_unformatted_code) {\n",
       "                             nbb_cells[i].set_text(nbb_formatted_code);\n",
       "                        }\n",
       "                        break;\n",
       "                    }\n",
       "                }\n",
       "            }, 500);\n",
       "            "
      ],
      "text/plain": [
       "<IPython.core.display.Javascript object>"
      ]
     },
     "metadata": {},
     "output_type": "display_data"
    }
   ],
   "source": [
    "# Plot prediction for ddg direct using both structures\n",
    "fig, ax = scatter_pred_vs_true(\n",
    "    ddg_data_dict[\"symmetric_both\"][\"ddg_dir\"],\n",
    "    ddg_data_dict[\"symmetric_both\"][\"ddg_pred_no_ds_both_dir\"],\n",
    "    color=\"black\",\n",
    "    title=\"Both structure (Direct)\",\n",
    ")\n",
    "\n",
    "# Plot prediction for ddg inverse using both structures\n",
    "fig, ax = scatter_pred_vs_true(\n",
    "    ddg_data_dict[\"symmetric_both\"][\"ddg_inv\"],\n",
    "    ddg_data_dict[\"symmetric_both\"][\"ddg_pred_no_ds_both_inv\"],\n",
    "    color=\"black\",\n",
    "    title=\"Both structure (Inverse)\",\n",
    ")"
   ]
  },
  {
   "cell_type": "markdown",
   "metadata": {},
   "source": [
    "# Downstream model"
   ]
  },
  {
   "cell_type": "markdown",
   "metadata": {},
   "source": [
    "Before training we \"augment\" our dataset simply by adding the reverse mutation with -ddG value"
   ]
  },
  {
   "cell_type": "code",
   "execution_count": 15,
   "metadata": {
    "scrolled": false
   },
   "outputs": [
    {
     "data": {
      "application/javascript": [
       "\n",
       "            setTimeout(function() {\n",
       "                var nbb_cell_id = 15;\n",
       "                var nbb_unformatted_code = \"ddg_data_dict_augmented = _augment_with_reverse_mutation(ddg_data_dict)\";\n",
       "                var nbb_formatted_code = \"ddg_data_dict_augmented = _augment_with_reverse_mutation(ddg_data_dict)\";\n",
       "                var nbb_cells = Jupyter.notebook.get_cells();\n",
       "                for (var i = 0; i < nbb_cells.length; ++i) {\n",
       "                    if (nbb_cells[i].input_prompt_number == nbb_cell_id) {\n",
       "                        if (nbb_cells[i].get_text() == nbb_unformatted_code) {\n",
       "                             nbb_cells[i].set_text(nbb_formatted_code);\n",
       "                        }\n",
       "                        break;\n",
       "                    }\n",
       "                }\n",
       "            }, 500);\n",
       "            "
      ],
      "text/plain": [
       "<IPython.core.display.Javascript object>"
      ]
     },
     "metadata": {},
     "output_type": "display_data"
    }
   ],
   "source": [
    "ddg_data_dict_augmented = _augment_with_reverse_mutation(ddg_data_dict)"
   ]
  },
  {
   "cell_type": "markdown",
   "metadata": {},
   "source": [
    "Define training dataloader (augmented data) and eval dataloaders (original data)"
   ]
  },
  {
   "cell_type": "code",
   "execution_count": 16,
   "metadata": {},
   "outputs": [
    {
     "data": {
      "application/javascript": [
       "\n",
       "            setTimeout(function() {\n",
       "                var nbb_cell_id = 16;\n",
       "                var nbb_unformatted_code = \"ddg_dataloaders_train_dict = _get_ddg_training_dataloaders(\\n    ddg_data_dict_augmented, BATCH_SIZE_DDG, SHUFFLE_DDG\\n)\\nddg_dataloaders_val_dict = _get_ddg_validation_dataloaders(ddg_data_dict)\";\n",
       "                var nbb_formatted_code = \"ddg_dataloaders_train_dict = _get_ddg_training_dataloaders(\\n    ddg_data_dict_augmented, BATCH_SIZE_DDG, SHUFFLE_DDG\\n)\\nddg_dataloaders_val_dict = _get_ddg_validation_dataloaders(ddg_data_dict)\";\n",
       "                var nbb_cells = Jupyter.notebook.get_cells();\n",
       "                for (var i = 0; i < nbb_cells.length; ++i) {\n",
       "                    if (nbb_cells[i].input_prompt_number == nbb_cell_id) {\n",
       "                        if (nbb_cells[i].get_text() == nbb_unformatted_code) {\n",
       "                             nbb_cells[i].set_text(nbb_formatted_code);\n",
       "                        }\n",
       "                        break;\n",
       "                    }\n",
       "                }\n",
       "            }, 500);\n",
       "            "
      ],
      "text/plain": [
       "<IPython.core.display.Javascript object>"
      ]
     },
     "metadata": {},
     "output_type": "display_data"
    }
   ],
   "source": [
    "ddg_dataloaders_train_dict = _get_ddg_training_dataloaders(\n",
    "    ddg_data_dict_augmented, BATCH_SIZE_DDG, SHUFFLE_DDG\n",
    ")\n",
    "ddg_dataloaders_val_dict = _get_ddg_validation_dataloaders(ddg_data_dict)"
   ]
  },
  {
   "cell_type": "markdown",
   "metadata": {},
   "source": [
    "Train and report on the data that is not used during training"
   ]
  },
  {
   "cell_type": "code",
   "execution_count": 17,
   "metadata": {
    "scrolled": true
   },
   "outputs": [
    {
     "name": "stderr",
     "output_type": "stream",
     "text": [
      "/home/chz526/software/miniconda3/envs/cavity-model/lib/python3.6/site-packages/torch/nn/modules/loss.py:431: UserWarning: Using a target size (torch.Size([40])) that is different to the input size (torch.Size([40, 1])). This will likely lead to incorrect results due to broadcasting. Please ensure they have the same size.\n",
      "  return F.mse_loss(input, target, reduction=self.reduction)\n"
     ]
    },
    {
     "data": {
      "application/javascript": [
       "\n",
       "            setTimeout(function() {\n",
       "                var nbb_cell_id = 17;\n",
       "                var nbb_unformatted_code = \"pearsons_r_results_dict = _train_downstream_and_evaluate(\\n    ddg_dataloaders_train_dict,\\n    ddg_dataloaders_val_dict,\\n    DEVICE,\\n    LEARNING_RATE_DDG,\\n    EPOCHS_DDG,\\n)\";\n",
       "                var nbb_formatted_code = \"pearsons_r_results_dict = _train_downstream_and_evaluate(\\n    ddg_dataloaders_train_dict,\\n    ddg_dataloaders_val_dict,\\n    DEVICE,\\n    LEARNING_RATE_DDG,\\n    EPOCHS_DDG,\\n)\";\n",
       "                var nbb_cells = Jupyter.notebook.get_cells();\n",
       "                for (var i = 0; i < nbb_cells.length; ++i) {\n",
       "                    if (nbb_cells[i].input_prompt_number == nbb_cell_id) {\n",
       "                        if (nbb_cells[i].get_text() == nbb_unformatted_code) {\n",
       "                             nbb_cells[i].set_text(nbb_formatted_code);\n",
       "                        }\n",
       "                        break;\n",
       "                    }\n",
       "                }\n",
       "            }, 500);\n",
       "            "
      ],
      "text/plain": [
       "<IPython.core.display.Javascript object>"
      ]
     },
     "metadata": {},
     "output_type": "display_data"
    }
   ],
   "source": [
    "pearsons_r_results_dict = _train_downstream_and_evaluate(\n",
    "    ddg_dataloaders_train_dict,\n",
    "    ddg_dataloaders_val_dict,\n",
    "    DEVICE,\n",
    "    LEARNING_RATE_DDG,\n",
    "    EPOCHS_DDG,\n",
    ")"
   ]
  },
  {
   "cell_type": "markdown",
   "metadata": {},
   "source": [
    "Plot results"
   ]
  },
  {
   "cell_type": "code",
   "execution_count": 18,
   "metadata": {},
   "outputs": [
    {
     "data": {
      "image/png": "[encoded data removed]",
      "text/plain": [
       "<Figure size 432x288 with 1 Axes>"
      ]
     },
     "metadata": {
      "needs_background": "light"
     },
     "output_type": "display_data"
    },
    {
     "data": {
      "image/png": "[encoded data removed]",
      "text/plain": [
       "<Figure size 432x288 with 1 Axes>"
      ]
     },
     "metadata": {
      "needs_background": "light"
     },
     "output_type": "display_data"
    },
    {
     "data": {
      "image/png": "[encoded data removed]",
      "text/plain": [
       "<Figure size 432x288 with 1 Axes>"
      ]
     },
     "metadata": {
      "needs_background": "light"
     },
     "output_type": "display_data"
    },
    {
     "data": {
      "application/javascript": [
       "\n",
       "            setTimeout(function() {\n",
       "                var nbb_cell_id = 18;\n",
       "                var nbb_unformatted_code = \"for key in pearsons_r_results_dict.keys():\\n    _ = plot_validation_performance(key, pearsons_r_results_dict[key])\";\n",
       "                var nbb_formatted_code = \"for key in pearsons_r_results_dict.keys():\\n    _ = plot_validation_performance(key, pearsons_r_results_dict[key])\";\n",
       "                var nbb_cells = Jupyter.notebook.get_cells();\n",
       "                for (var i = 0; i < nbb_cells.length; ++i) {\n",
       "                    if (nbb_cells[i].input_prompt_number == nbb_cell_id) {\n",
       "                        if (nbb_cells[i].get_text() == nbb_unformatted_code) {\n",
       "                             nbb_cells[i].set_text(nbb_formatted_code);\n",
       "                        }\n",
       "                        break;\n",
       "                    }\n",
       "                }\n",
       "            }, 500);\n",
       "            "
      ],
      "text/plain": [
       "<IPython.core.display.Javascript object>"
      ]
     },
     "metadata": {},
     "output_type": "display_data"
    }
   ],
   "source": [
    "for key in pearsons_r_results_dict.keys():\n",
    "    _ = plot_validation_performance(key, pearsons_r_results_dict[key])"
   ]
  }
 ],
 "metadata": {
  "kernelspec": {
   "display_name": "Python 3",
   "language": "python",
   "name": "python3"
  },
  "language_info": {
   "codemirror_mode": {
    "name": "ipython",
    "version": 3
   },
   "file_extension": ".py",
   "mimetype": "text/x-python",
   "name": "python",
   "nbconvert_exporter": "python",
   "pygments_lexer": "ipython3",
   "version": "3.6.12"
  }
 },
 "nbformat": 4,
 "nbformat_minor": 2
}
