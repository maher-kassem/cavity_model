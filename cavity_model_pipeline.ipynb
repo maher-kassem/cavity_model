{
 "cells": [
  {
   "cell_type": "markdown",
   "metadata": {},
   "source": [
    "# Imports"
   ]
  },
  {
   "cell_type": "code",
   "execution_count": 1,
   "metadata": {},
   "outputs": [
    {
     "data": {
      "application/javascript": [
       "\n",
       "            setTimeout(function() {\n",
       "                var nbb_cell_id = 1;\n",
       "                var nbb_unformatted_code = \"import glob\\nimport os\\nimport random\\nfrom typing import Callable, List, Union, Tuple\\n\\nimport numpy as np\\nimport pandas as pd\\nimport torch\\nfrom torch.utils.data import DataLoader, Dataset\\nfrom torch.nn.functional import softmax\\nfrom Bio.PDB.Polypeptide import index_to_one, one_to_index\\n\\nfrom cavity_model import (\\n    ResidueEnvironment,\\n    ResidueEnvironmentsDataset,\\n    ToTensor,\\n    CavityModel,\\n)\\nfrom visualization import scatter_pred_vs_true\\n\\n\\n%load_ext nb_black\";\n",
       "                var nbb_formatted_code = \"import glob\\nimport os\\nimport random\\nfrom typing import Callable, List, Union, Tuple\\n\\nimport numpy as np\\nimport pandas as pd\\nimport torch\\nfrom torch.utils.data import DataLoader, Dataset\\nfrom torch.nn.functional import softmax\\nfrom Bio.PDB.Polypeptide import index_to_one, one_to_index\\n\\nfrom cavity_model import (\\n    ResidueEnvironment,\\n    ResidueEnvironmentsDataset,\\n    ToTensor,\\n    CavityModel,\\n)\\nfrom visualization import scatter_pred_vs_true\\n\\n\\n%load_ext nb_black\";\n",
       "                var nbb_cells = Jupyter.notebook.get_cells();\n",
       "                for (var i = 0; i < nbb_cells.length; ++i) {\n",
       "                    if (nbb_cells[i].input_prompt_number == nbb_cell_id) {\n",
       "                        if (nbb_cells[i].get_text() == nbb_unformatted_code) {\n",
       "                             nbb_cells[i].set_text(nbb_formatted_code);\n",
       "                        }\n",
       "                        break;\n",
       "                    }\n",
       "                }\n",
       "            }, 500);\n",
       "            "
      ],
      "text/plain": [
       "<IPython.core.display.Javascript object>"
      ]
     },
     "metadata": {},
     "output_type": "display_data"
    }
   ],
   "source": [
    "import glob\n",
    "import os\n",
    "import random\n",
    "from typing import Callable, List, Union, Tuple\n",
    "\n",
    "import numpy as np\n",
    "import pandas as pd\n",
    "import torch\n",
    "from torch.utils.data import DataLoader, Dataset\n",
    "from torch.nn.functional import softmax\n",
    "from Bio.PDB.Polypeptide import index_to_one, one_to_index\n",
    "\n",
    "from cavity_model import (\n",
    "    ResidueEnvironment,\n",
    "    ResidueEnvironmentsDataset,\n",
    "    ToTensor,\n",
    "    CavityModel,\n",
    ")\n",
    "from visualization import scatter_pred_vs_true\n",
    "\n",
    "\n",
    "%load_ext nb_black"
   ]
  },
  {
   "cell_type": "markdown",
   "metadata": {},
   "source": [
    "# Cavity Model"
   ]
  },
  {
   "cell_type": "markdown",
   "metadata": {},
   "source": [
    "Download and process Cavity Model data"
   ]
  },
  {
   "cell_type": "code",
   "execution_count": 2,
   "metadata": {
    "scrolled": true
   },
   "outputs": [
    {
     "data": {
      "application/javascript": [
       "\n",
       "            setTimeout(function() {\n",
       "                var nbb_cell_id = 2;\n",
       "                var nbb_unformatted_code = \"# # Run shell script that takes a .txt file with PDBIDs as input.\\n# !./get_parse_pdbs_cavity_model.sh data/pdbids_010.txt\";\n",
       "                var nbb_formatted_code = \"# # Run shell script that takes a .txt file with PDBIDs as input.\\n# !./get_parse_pdbs_cavity_model.sh data/pdbids_010.txt\";\n",
       "                var nbb_cells = Jupyter.notebook.get_cells();\n",
       "                for (var i = 0; i < nbb_cells.length; ++i) {\n",
       "                    if (nbb_cells[i].input_prompt_number == nbb_cell_id) {\n",
       "                        if (nbb_cells[i].get_text() == nbb_unformatted_code) {\n",
       "                             nbb_cells[i].set_text(nbb_formatted_code);\n",
       "                        }\n",
       "                        break;\n",
       "                    }\n",
       "                }\n",
       "            }, 500);\n",
       "            "
      ],
      "text/plain": [
       "<IPython.core.display.Javascript object>"
      ]
     },
     "metadata": {},
     "output_type": "display_data"
    }
   ],
   "source": [
    "# # Run shell script that takes a .txt file with PDBIDs as input.\n",
    "# !./get_parse_pdbs_cavity_model.sh data/pdbids_010.txt"
   ]
  },
  {
   "cell_type": "markdown",
   "metadata": {},
   "source": [
    "Global variables for Cavity Model Training"
   ]
  },
  {
   "cell_type": "code",
   "execution_count": 3,
   "metadata": {},
   "outputs": [
    {
     "data": {
      "application/javascript": [
       "\n",
       "            setTimeout(function() {\n",
       "                var nbb_cell_id = 3;\n",
       "                var nbb_unformatted_code = \"DEVICE = \\\"cuda\\\"  # \\\"cpu\\\" or \\\"cuda\\\"\\nTRAIN_VAL_SPLIT = 0.8\\nBATCH_SIZE = 100\\nLEARNING_RATE = 3e-4\\nEPOCHS = 10\\nPATIENCE_CUTOFF = 1\";\n",
       "                var nbb_formatted_code = \"DEVICE = \\\"cuda\\\"  # \\\"cpu\\\" or \\\"cuda\\\"\\nTRAIN_VAL_SPLIT = 0.8\\nBATCH_SIZE = 100\\nLEARNING_RATE = 3e-4\\nEPOCHS = 10\\nPATIENCE_CUTOFF = 1\";\n",
       "                var nbb_cells = Jupyter.notebook.get_cells();\n",
       "                for (var i = 0; i < nbb_cells.length; ++i) {\n",
       "                    if (nbb_cells[i].input_prompt_number == nbb_cell_id) {\n",
       "                        if (nbb_cells[i].get_text() == nbb_unformatted_code) {\n",
       "                             nbb_cells[i].set_text(nbb_formatted_code);\n",
       "                        }\n",
       "                        break;\n",
       "                    }\n",
       "                }\n",
       "            }, 500);\n",
       "            "
      ],
      "text/plain": [
       "<IPython.core.display.Javascript object>"
      ]
     },
     "metadata": {},
     "output_type": "display_data"
    }
   ],
   "source": [
    "DEVICE = \"cuda\"  # \"cpu\" or \"cuda\"\n",
    "TRAIN_VAL_SPLIT = 0.8\n",
    "BATCH_SIZE = 100\n",
    "LEARNING_RATE = 3e-4\n",
    "EPOCHS = 10\n",
    "PATIENCE_CUTOFF = 1"
   ]
  },
  {
   "cell_type": "markdown",
   "metadata": {},
   "source": [
    "Load Parsed PDBs and perform train/val split"
   ]
  },
  {
   "cell_type": "code",
   "execution_count": 4,
   "metadata": {
    "scrolled": true
   },
   "outputs": [
    {
     "name": "stdout",
     "output_type": "stream",
     "text": [
      "Training data set includes 8 pdbs with 4068 environments.\n",
      "Validation data set includes 2 pdbs with 1190 environments.\n"
     ]
    },
    {
     "data": {
      "application/javascript": [
       "\n",
       "            setTimeout(function() {\n",
       "                var nbb_cell_id = 4;\n",
       "                var nbb_unformatted_code = \"parsed_pdb_filenames = sorted(glob.glob(\\\"data/pdbs/parsed/*coord*\\\"))\\nrandom.shuffle(parsed_pdb_filenames)\\n\\nn_train_pdbs = int(len(parsed_pdb_filenames) * TRAIN_VAL_SPLIT)\\nfilenames_train = parsed_pdb_filenames[:n_train_pdbs]\\nfilenames_val = parsed_pdb_filenames[n_train_pdbs:]\\n\\nto_tensor_transformer = ToTensor(DEVICE)\\n\\ndataset_train = ResidueEnvironmentsDataset(\\n    filenames_train, transformer=to_tensor_transformer\\n)\\ndataset_val = ResidueEnvironmentsDataset(\\n    filenames_val, transformer=to_tensor_transformer\\n)\\n\\ndataloader_train = DataLoader(\\n    dataset_train,\\n    batch_size=BATCH_SIZE,\\n    shuffle=True,\\n    collate_fn=to_tensor_transformer.collate_cat,\\n    drop_last=True,\\n)\\ndataloader_val = DataLoader(\\n    dataset_val,\\n    batch_size=BATCH_SIZE,\\n    shuffle=True,\\n    collate_fn=to_tensor_transformer.collate_cat,\\n    drop_last=True,\\n)\\n\\nprint(\\n    f\\\"Training data set includes {len(filenames_train)} pdbs with \\\"\\n    f\\\"{len(dataset_train)} environments.\\\"\\n)\\nprint(\\n    f\\\"Validation data set includes {len(filenames_val)} pdbs with \\\"\\n    f\\\"{len(dataset_val)} environments.\\\"\\n)\";\n",
       "                var nbb_formatted_code = \"parsed_pdb_filenames = sorted(glob.glob(\\\"data/pdbs/parsed/*coord*\\\"))\\nrandom.shuffle(parsed_pdb_filenames)\\n\\nn_train_pdbs = int(len(parsed_pdb_filenames) * TRAIN_VAL_SPLIT)\\nfilenames_train = parsed_pdb_filenames[:n_train_pdbs]\\nfilenames_val = parsed_pdb_filenames[n_train_pdbs:]\\n\\nto_tensor_transformer = ToTensor(DEVICE)\\n\\ndataset_train = ResidueEnvironmentsDataset(\\n    filenames_train, transformer=to_tensor_transformer\\n)\\ndataset_val = ResidueEnvironmentsDataset(\\n    filenames_val, transformer=to_tensor_transformer\\n)\\n\\ndataloader_train = DataLoader(\\n    dataset_train,\\n    batch_size=BATCH_SIZE,\\n    shuffle=True,\\n    collate_fn=to_tensor_transformer.collate_cat,\\n    drop_last=True,\\n)\\ndataloader_val = DataLoader(\\n    dataset_val,\\n    batch_size=BATCH_SIZE,\\n    shuffle=True,\\n    collate_fn=to_tensor_transformer.collate_cat,\\n    drop_last=True,\\n)\\n\\nprint(\\n    f\\\"Training data set includes {len(filenames_train)} pdbs with \\\"\\n    f\\\"{len(dataset_train)} environments.\\\"\\n)\\nprint(\\n    f\\\"Validation data set includes {len(filenames_val)} pdbs with \\\"\\n    f\\\"{len(dataset_val)} environments.\\\"\\n)\";\n",
       "                var nbb_cells = Jupyter.notebook.get_cells();\n",
       "                for (var i = 0; i < nbb_cells.length; ++i) {\n",
       "                    if (nbb_cells[i].input_prompt_number == nbb_cell_id) {\n",
       "                        if (nbb_cells[i].get_text() == nbb_unformatted_code) {\n",
       "                             nbb_cells[i].set_text(nbb_formatted_code);\n",
       "                        }\n",
       "                        break;\n",
       "                    }\n",
       "                }\n",
       "            }, 500);\n",
       "            "
      ],
      "text/plain": [
       "<IPython.core.display.Javascript object>"
      ]
     },
     "metadata": {},
     "output_type": "display_data"
    }
   ],
   "source": [
    "parsed_pdb_filenames = sorted(glob.glob(\"data/pdbs/parsed/*coord*\"))\n",
    "random.shuffle(parsed_pdb_filenames)\n",
    "\n",
    "n_train_pdbs = int(len(parsed_pdb_filenames) * TRAIN_VAL_SPLIT)\n",
    "filenames_train = parsed_pdb_filenames[:n_train_pdbs]\n",
    "filenames_val = parsed_pdb_filenames[n_train_pdbs:]\n",
    "\n",
    "to_tensor_transformer = ToTensor(DEVICE)\n",
    "\n",
    "dataset_train = ResidueEnvironmentsDataset(\n",
    "    filenames_train, transformer=to_tensor_transformer\n",
    ")\n",
    "dataset_val = ResidueEnvironmentsDataset(\n",
    "    filenames_val, transformer=to_tensor_transformer\n",
    ")\n",
    "\n",
    "dataloader_train = DataLoader(\n",
    "    dataset_train,\n",
    "    batch_size=BATCH_SIZE,\n",
    "    shuffle=True,\n",
    "    collate_fn=to_tensor_transformer.collate_cat,\n",
    "    drop_last=True,\n",
    ")\n",
    "dataloader_val = DataLoader(\n",
    "    dataset_val,\n",
    "    batch_size=BATCH_SIZE,\n",
    "    shuffle=True,\n",
    "    collate_fn=to_tensor_transformer.collate_cat,\n",
    "    drop_last=True,\n",
    ")\n",
    "\n",
    "print(\n",
    "    f\"Training data set includes {len(filenames_train)} pdbs with \"\n",
    "    f\"{len(dataset_train)} environments.\"\n",
    ")\n",
    "print(\n",
    "    f\"Validation data set includes {len(filenames_val)} pdbs with \"\n",
    "    f\"{len(dataset_val)} environments.\"\n",
    ")"
   ]
  },
  {
   "cell_type": "markdown",
   "metadata": {},
   "source": [
    "Training helper functions"
   ]
  },
  {
   "cell_type": "code",
   "execution_count": 5,
   "metadata": {},
   "outputs": [
    {
     "data": {
      "application/javascript": [
       "\n",
       "            setTimeout(function() {\n",
       "                var nbb_cell_id = 5;\n",
       "                var nbb_unformatted_code = \"def _train_step(\\n    cavity_model_net: CavityModel,\\n    optimizer: torch.optim.Adam,\\n    loss_function: torch.nn.CrossEntropyLoss,\\n) -> (torch.Tensor, float):\\n    \\\"\\\"\\\"\\n    Helper function to take a training step\\n    \\\"\\\"\\\"\\n    cavity_model_net.train()\\n    optimizer.zero_grad()\\n    batch_y_pred = cavity_model_net(batch_x)\\n    loss_batch = loss_function(batch_y_pred, torch.argmax(batch_y, dim=-1))\\n    loss_batch.backward()\\n    optimizer.step()\\n    return (batch_y_pred, loss_batch.detach().cpu().item())\\n\\n\\ndef _eval_loop(\\n    cavity_model_net: CavityModel,\\n    data_loader_val,\\n    loss_function: torch.nn.CrossEntropyLoss,\\n) -> (float, float):\\n    \\\"\\\"\\\"\\n    Helper function to perform an eval loop\\n    \\\"\\\"\\\"\\n    # Eval loop. Due to memory, we don't pass the whole eval set to the model\\n    labels_true_val = []\\n    labels_pred_val = []\\n    loss_batch_list_val = []\\n    for batch_x_val, batch_y_val in dataloader_val:\\n        cavity_model_net.eval()\\n        batch_y_pred_val = cavity_model_net(batch_x_val)\\n\\n        loss_batch_val = loss_function(\\n            batch_y_pred_val, torch.argmax(batch_y_val, dim=-1)\\n        )\\n        loss_batch_list_val.append(loss_batch_val.detach().cpu().item())\\n\\n        labels_true_val.append(torch.argmax(batch_y_val, dim=-1).detach().cpu().numpy())\\n        labels_pred_val.append(\\n            torch.argmax(batch_y_pred_val, dim=-1).detach().cpu().numpy()\\n        )\\n    acc_val = np.mean(\\n        (np.reshape(labels_true_val, -1) == np.reshape(labels_pred_val, -1))\\n    )\\n    loss_val = np.mean(loss_batch_list_val)\\n    return acc_val, loss_val\";\n",
       "                var nbb_formatted_code = \"def _train_step(\\n    cavity_model_net: CavityModel,\\n    optimizer: torch.optim.Adam,\\n    loss_function: torch.nn.CrossEntropyLoss,\\n) -> (torch.Tensor, float):\\n    \\\"\\\"\\\"\\n    Helper function to take a training step\\n    \\\"\\\"\\\"\\n    cavity_model_net.train()\\n    optimizer.zero_grad()\\n    batch_y_pred = cavity_model_net(batch_x)\\n    loss_batch = loss_function(batch_y_pred, torch.argmax(batch_y, dim=-1))\\n    loss_batch.backward()\\n    optimizer.step()\\n    return (batch_y_pred, loss_batch.detach().cpu().item())\\n\\n\\ndef _eval_loop(\\n    cavity_model_net: CavityModel,\\n    data_loader_val,\\n    loss_function: torch.nn.CrossEntropyLoss,\\n) -> (float, float):\\n    \\\"\\\"\\\"\\n    Helper function to perform an eval loop\\n    \\\"\\\"\\\"\\n    # Eval loop. Due to memory, we don't pass the whole eval set to the model\\n    labels_true_val = []\\n    labels_pred_val = []\\n    loss_batch_list_val = []\\n    for batch_x_val, batch_y_val in dataloader_val:\\n        cavity_model_net.eval()\\n        batch_y_pred_val = cavity_model_net(batch_x_val)\\n\\n        loss_batch_val = loss_function(\\n            batch_y_pred_val, torch.argmax(batch_y_val, dim=-1)\\n        )\\n        loss_batch_list_val.append(loss_batch_val.detach().cpu().item())\\n\\n        labels_true_val.append(torch.argmax(batch_y_val, dim=-1).detach().cpu().numpy())\\n        labels_pred_val.append(\\n            torch.argmax(batch_y_pred_val, dim=-1).detach().cpu().numpy()\\n        )\\n    acc_val = np.mean(\\n        (np.reshape(labels_true_val, -1) == np.reshape(labels_pred_val, -1))\\n    )\\n    loss_val = np.mean(loss_batch_list_val)\\n    return acc_val, loss_val\";\n",
       "                var nbb_cells = Jupyter.notebook.get_cells();\n",
       "                for (var i = 0; i < nbb_cells.length; ++i) {\n",
       "                    if (nbb_cells[i].input_prompt_number == nbb_cell_id) {\n",
       "                        if (nbb_cells[i].get_text() == nbb_unformatted_code) {\n",
       "                             nbb_cells[i].set_text(nbb_formatted_code);\n",
       "                        }\n",
       "                        break;\n",
       "                    }\n",
       "                }\n",
       "            }, 500);\n",
       "            "
      ],
      "text/plain": [
       "<IPython.core.display.Javascript object>"
      ]
     },
     "metadata": {},
     "output_type": "display_data"
    }
   ],
   "source": [
    "def _train_step(\n",
    "    cavity_model_net: CavityModel,\n",
    "    optimizer: torch.optim.Adam,\n",
    "    loss_function: torch.nn.CrossEntropyLoss,\n",
    ") -> (torch.Tensor, float):\n",
    "    \"\"\"\n",
    "    Helper function to take a training step\n",
    "    \"\"\"\n",
    "    cavity_model_net.train()\n",
    "    optimizer.zero_grad()\n",
    "    batch_y_pred = cavity_model_net(batch_x)\n",
    "    loss_batch = loss_function(batch_y_pred, torch.argmax(batch_y, dim=-1))\n",
    "    loss_batch.backward()\n",
    "    optimizer.step()\n",
    "    return (batch_y_pred, loss_batch.detach().cpu().item())\n",
    "\n",
    "\n",
    "def _eval_loop(\n",
    "    cavity_model_net: CavityModel,\n",
    "    data_loader_val,\n",
    "    loss_function: torch.nn.CrossEntropyLoss,\n",
    ") -> (float, float):\n",
    "    \"\"\"\n",
    "    Helper function to perform an eval loop\n",
    "    \"\"\"\n",
    "    # Eval loop. Due to memory, we don't pass the whole eval set to the model\n",
    "    labels_true_val = []\n",
    "    labels_pred_val = []\n",
    "    loss_batch_list_val = []\n",
    "    for batch_x_val, batch_y_val in dataloader_val:\n",
    "        cavity_model_net.eval()\n",
    "        batch_y_pred_val = cavity_model_net(batch_x_val)\n",
    "\n",
    "        loss_batch_val = loss_function(\n",
    "            batch_y_pred_val, torch.argmax(batch_y_val, dim=-1)\n",
    "        )\n",
    "        loss_batch_list_val.append(loss_batch_val.detach().cpu().item())\n",
    "\n",
    "        labels_true_val.append(torch.argmax(batch_y_val, dim=-1).detach().cpu().numpy())\n",
    "        labels_pred_val.append(\n",
    "            torch.argmax(batch_y_pred_val, dim=-1).detach().cpu().numpy()\n",
    "        )\n",
    "    acc_val = np.mean(\n",
    "        (np.reshape(labels_true_val, -1) == np.reshape(labels_pred_val, -1))\n",
    "    )\n",
    "    loss_val = np.mean(loss_batch_list_val)\n",
    "    return acc_val, loss_val"
   ]
  },
  {
   "cell_type": "markdown",
   "metadata": {},
   "source": [
    "Train the cavity model"
   ]
  },
  {
   "cell_type": "code",
   "execution_count": 6,
   "metadata": {},
   "outputs": [
    {
     "name": "stdout",
     "output_type": "stream",
     "text": [
      "Epoch  0. Train loss: 2.427. Train Acc: 0.34. Val loss: 3.157. Val Acc 0.03\n",
      "Epoch  1. Train loss: 1.194. Train Acc: 0.80. Val loss: 2.800. Val Acc 0.16\n",
      "Epoch  2. Train loss: 0.663. Train Acc: 0.94. Val loss: 2.770. Val Acc 0.19\n",
      "Epoch  3. Train loss: 0.343. Train Acc: 0.99. Val loss: 2.798. Val Acc 0.21\n",
      "Epoch  4. Train loss: 0.179. Train Acc: 1.00. Val loss: 2.849. Val Acc 0.19\n",
      "Early stopping activated.\n",
      "Best epoch idx: 2 with validation loss: 2.770 and model_path: cavity_models/model_epoch_02.pt\n"
     ]
    },
    {
     "data": {
      "application/javascript": [
       "\n",
       "            setTimeout(function() {\n",
       "                var nbb_cell_id = 6;\n",
       "                var nbb_unformatted_code = \"# Define model\\ncavity_model_net = CavityModel(DEVICE).to(DEVICE)\\nloss_function = torch.nn.CrossEntropyLoss()\\noptimizer = torch.optim.Adam(cavity_model_net.parameters(), lr=LEARNING_RATE)\\n\\n# Create directory for model files\\nmodels_dirpath = \\\"cavity_models/\\\"\\nif not os.path.exists(models_dirpath):\\n    os.mkdir(models_dirpath)\\n\\n# Train loop\\ncurrent_best_epoch_idx = -1\\ncurrent_best_loss_val = 1e4\\npatience = 0\\nepoch_idx_to_model_path = {}\\nfor epoch in range(EPOCHS):\\n    labels_true = []\\n    labels_pred = []\\n    loss_batch_list = []\\n    for batch_x, batch_y in dataloader_train:\\n        # Take train step\\n        batch_y_pred, loss_batch = _train_step(\\n            cavity_model_net, optimizer, loss_function\\n        )\\n        loss_batch_list.append(loss_batch)\\n\\n        labels_true.append(torch.argmax(batch_y, dim=-1).detach().cpu().numpy())\\n        labels_pred.append(torch.argmax(batch_y_pred, dim=-1).detach().cpu().numpy())\\n\\n    # Train epoch metrics\\n    acc_train = np.mean((np.reshape(labels_true, -1) == np.reshape(labels_pred, -1)))\\n    loss_train = np.mean(loss_batch_list)\\n\\n    # Validation epoch metrics\\n    acc_val, loss_val = _eval_loop(cavity_model_net, dataloader_val, loss_function)\\n\\n    print(\\n        f\\\"Epoch {epoch:2d}. Train loss: {loss_train:5.3f}. \\\"\\n        f\\\"Train Acc: {acc_train:4.2f}. Val loss: {loss_val:5.3f}. \\\"\\n        f\\\"Val Acc {acc_val:4.2f}\\\"\\n    )\\n\\n    # Save model\\n    model_path = f\\\"cavity_models/model_epoch_{epoch:02d}.pt\\\"\\n    epoch_idx_to_model_path[epoch] = model_path\\n    torch.save(cavity_model_net.state_dict(), model_path)\\n\\n    # Early stopping\\n    if loss_val < current_best_loss_val:\\n        current_best_loss_val = loss_val\\n        current_best_epoch_idx = epoch\\n        patience = 0\\n    else:\\n        patience += 1\\n    if patience > PATIENCE_CUTOFF:\\n        print(f\\\"Early stopping activated.\\\")\\n        break\\n\\nprint(\\n    f\\\"Best epoch idx: {current_best_epoch_idx} with validation loss: \\\"\\n    f\\\"{current_best_loss_val:5.3f} and model_path: \\\"\\n    f\\\"{epoch_idx_to_model_path[current_best_epoch_idx]}\\\"\\n)\";\n",
       "                var nbb_formatted_code = \"# Define model\\ncavity_model_net = CavityModel(DEVICE).to(DEVICE)\\nloss_function = torch.nn.CrossEntropyLoss()\\noptimizer = torch.optim.Adam(cavity_model_net.parameters(), lr=LEARNING_RATE)\\n\\n# Create directory for model files\\nmodels_dirpath = \\\"cavity_models/\\\"\\nif not os.path.exists(models_dirpath):\\n    os.mkdir(models_dirpath)\\n\\n# Train loop\\ncurrent_best_epoch_idx = -1\\ncurrent_best_loss_val = 1e4\\npatience = 0\\nepoch_idx_to_model_path = {}\\nfor epoch in range(EPOCHS):\\n    labels_true = []\\n    labels_pred = []\\n    loss_batch_list = []\\n    for batch_x, batch_y in dataloader_train:\\n        # Take train step\\n        batch_y_pred, loss_batch = _train_step(\\n            cavity_model_net, optimizer, loss_function\\n        )\\n        loss_batch_list.append(loss_batch)\\n\\n        labels_true.append(torch.argmax(batch_y, dim=-1).detach().cpu().numpy())\\n        labels_pred.append(torch.argmax(batch_y_pred, dim=-1).detach().cpu().numpy())\\n\\n    # Train epoch metrics\\n    acc_train = np.mean((np.reshape(labels_true, -1) == np.reshape(labels_pred, -1)))\\n    loss_train = np.mean(loss_batch_list)\\n\\n    # Validation epoch metrics\\n    acc_val, loss_val = _eval_loop(cavity_model_net, dataloader_val, loss_function)\\n\\n    print(\\n        f\\\"Epoch {epoch:2d}. Train loss: {loss_train:5.3f}. \\\"\\n        f\\\"Train Acc: {acc_train:4.2f}. Val loss: {loss_val:5.3f}. \\\"\\n        f\\\"Val Acc {acc_val:4.2f}\\\"\\n    )\\n\\n    # Save model\\n    model_path = f\\\"cavity_models/model_epoch_{epoch:02d}.pt\\\"\\n    epoch_idx_to_model_path[epoch] = model_path\\n    torch.save(cavity_model_net.state_dict(), model_path)\\n\\n    # Early stopping\\n    if loss_val < current_best_loss_val:\\n        current_best_loss_val = loss_val\\n        current_best_epoch_idx = epoch\\n        patience = 0\\n    else:\\n        patience += 1\\n    if patience > PATIENCE_CUTOFF:\\n        print(f\\\"Early stopping activated.\\\")\\n        break\\n\\nprint(\\n    f\\\"Best epoch idx: {current_best_epoch_idx} with validation loss: \\\"\\n    f\\\"{current_best_loss_val:5.3f} and model_path: \\\"\\n    f\\\"{epoch_idx_to_model_path[current_best_epoch_idx]}\\\"\\n)\";\n",
       "                var nbb_cells = Jupyter.notebook.get_cells();\n",
       "                for (var i = 0; i < nbb_cells.length; ++i) {\n",
       "                    if (nbb_cells[i].input_prompt_number == nbb_cell_id) {\n",
       "                        if (nbb_cells[i].get_text() == nbb_unformatted_code) {\n",
       "                             nbb_cells[i].set_text(nbb_formatted_code);\n",
       "                        }\n",
       "                        break;\n",
       "                    }\n",
       "                }\n",
       "            }, 500);\n",
       "            "
      ],
      "text/plain": [
       "<IPython.core.display.Javascript object>"
      ]
     },
     "metadata": {},
     "output_type": "display_data"
    }
   ],
   "source": [
    "# Define model\n",
    "cavity_model_net = CavityModel(DEVICE).to(DEVICE)\n",
    "loss_function = torch.nn.CrossEntropyLoss()\n",
    "optimizer = torch.optim.Adam(cavity_model_net.parameters(), lr=LEARNING_RATE)\n",
    "\n",
    "# Create directory for model files\n",
    "models_dirpath = \"cavity_models/\"\n",
    "if not os.path.exists(models_dirpath):\n",
    "    os.mkdir(models_dirpath)\n",
    "\n",
    "# Train loop\n",
    "current_best_epoch_idx = -1\n",
    "current_best_loss_val = 1e4\n",
    "patience = 0\n",
    "epoch_idx_to_model_path = {}\n",
    "for epoch in range(EPOCHS):\n",
    "    labels_true = []\n",
    "    labels_pred = []\n",
    "    loss_batch_list = []\n",
    "    for batch_x, batch_y in dataloader_train:\n",
    "        # Take train step\n",
    "        batch_y_pred, loss_batch = _train_step(\n",
    "            cavity_model_net, optimizer, loss_function\n",
    "        )\n",
    "        loss_batch_list.append(loss_batch)\n",
    "\n",
    "        labels_true.append(torch.argmax(batch_y, dim=-1).detach().cpu().numpy())\n",
    "        labels_pred.append(torch.argmax(batch_y_pred, dim=-1).detach().cpu().numpy())\n",
    "\n",
    "    # Train epoch metrics\n",
    "    acc_train = np.mean((np.reshape(labels_true, -1) == np.reshape(labels_pred, -1)))\n",
    "    loss_train = np.mean(loss_batch_list)\n",
    "\n",
    "    # Validation epoch metrics\n",
    "    acc_val, loss_val = _eval_loop(cavity_model_net, dataloader_val, loss_function)\n",
    "\n",
    "    print(\n",
    "        f\"Epoch {epoch:2d}. Train loss: {loss_train:5.3f}. \"\n",
    "        f\"Train Acc: {acc_train:4.2f}. Val loss: {loss_val:5.3f}. \"\n",
    "        f\"Val Acc {acc_val:4.2f}\"\n",
    "    )\n",
    "\n",
    "    # Save model\n",
    "    model_path = f\"cavity_models/model_epoch_{epoch:02d}.pt\"\n",
    "    epoch_idx_to_model_path[epoch] = model_path\n",
    "    torch.save(cavity_model_net.state_dict(), model_path)\n",
    "\n",
    "    # Early stopping\n",
    "    if loss_val < current_best_loss_val:\n",
    "        current_best_loss_val = loss_val\n",
    "        current_best_epoch_idx = epoch\n",
    "        patience = 0\n",
    "    else:\n",
    "        patience += 1\n",
    "    if patience > PATIENCE_CUTOFF:\n",
    "        print(f\"Early stopping activated.\")\n",
    "        break\n",
    "\n",
    "print(\n",
    "    f\"Best epoch idx: {current_best_epoch_idx} with validation loss: \"\n",
    "    f\"{current_best_loss_val:5.3f} and model_path: \"\n",
    "    f\"{epoch_idx_to_model_path[current_best_epoch_idx]}\"\n",
    ")"
   ]
  },
  {
   "cell_type": "markdown",
   "metadata": {},
   "source": [
    "# ddG Prediction"
   ]
  },
  {
   "cell_type": "markdown",
   "metadata": {},
   "source": [
    "Global variables"
   ]
  },
  {
   "cell_type": "code",
   "execution_count": 7,
   "metadata": {},
   "outputs": [
    {
     "data": {
      "application/javascript": [
       "\n",
       "            setTimeout(function() {\n",
       "                var nbb_cell_id = 7;\n",
       "                var nbb_unformatted_code = \"EPS = 1e-9\";\n",
       "                var nbb_formatted_code = \"EPS = 1e-9\";\n",
       "                var nbb_cells = Jupyter.notebook.get_cells();\n",
       "                for (var i = 0; i < nbb_cells.length; ++i) {\n",
       "                    if (nbb_cells[i].input_prompt_number == nbb_cell_id) {\n",
       "                        if (nbb_cells[i].get_text() == nbb_unformatted_code) {\n",
       "                             nbb_cells[i].set_text(nbb_formatted_code);\n",
       "                        }\n",
       "                        break;\n",
       "                    }\n",
       "                }\n",
       "            }, 500);\n",
       "            "
      ],
      "text/plain": [
       "<IPython.core.display.Javascript object>"
      ]
     },
     "metadata": {},
     "output_type": "display_data"
    }
   ],
   "source": [
    "EPS = 1e-9"
   ]
  },
  {
   "cell_type": "markdown",
   "metadata": {},
   "source": [
    "Parse PDBs for DMS, Guerois and Protein G data sets"
   ]
  },
  {
   "cell_type": "code",
   "execution_count": 8,
   "metadata": {},
   "outputs": [
    {
     "data": {
      "application/javascript": [
       "\n",
       "            setTimeout(function() {\n",
       "                var nbb_cell_id = 8;\n",
       "                var nbb_unformatted_code = \"# # Parse PDBs for which we have ddG data\\n# !./get_parse_pdbs_dowstream_task.sh\";\n",
       "                var nbb_formatted_code = \"# # Parse PDBs for which we have ddG data\\n# !./get_parse_pdbs_dowstream_task.sh\";\n",
       "                var nbb_cells = Jupyter.notebook.get_cells();\n",
       "                for (var i = 0; i < nbb_cells.length; ++i) {\n",
       "                    if (nbb_cells[i].input_prompt_number == nbb_cell_id) {\n",
       "                        if (nbb_cells[i].get_text() == nbb_unformatted_code) {\n",
       "                             nbb_cells[i].set_text(nbb_formatted_code);\n",
       "                        }\n",
       "                        break;\n",
       "                    }\n",
       "                }\n",
       "            }, 500);\n",
       "            "
      ],
      "text/plain": [
       "<IPython.core.display.Javascript object>"
      ]
     },
     "metadata": {},
     "output_type": "display_data"
    }
   ],
   "source": [
    "# # Parse PDBs for which we have ddG data\n",
    "# !./get_parse_pdbs_dowstream_task.sh"
   ]
  },
  {
   "cell_type": "markdown",
   "metadata": {},
   "source": [
    "Make dict for residue environments for easy look up"
   ]
  },
  {
   "cell_type": "code",
   "execution_count": 9,
   "metadata": {},
   "outputs": [
    {
     "data": {
      "application/javascript": [
       "\n",
       "            setTimeout(function() {\n",
       "                var nbb_cell_id = 9;\n",
       "                var nbb_unformatted_code = \"# Create temporary residue environment datasets as dicts to more easily match ddG data\\nparsed_pdbs_wildcards = {\\n    \\\"dms\\\": \\\"data/data_dms/pdbs_parsed/*coord*\\\",\\n    \\\"protein_g\\\": \\\"data/data_protein_g/pdbs_parsed/*coord*\\\",\\n    \\\"guerois\\\": \\\"data/data_guerois/pdbs_parsed/*coord*\\\",\\n    \\\"symmetric\\\": \\\"data/data_symmetric/pdbs_parsed/*coord*\\\",\\n}\\n\\nresenv_datasets_look_up = {}\\nfor dataset_key, pdbs_wildcard in parsed_pdbs_wildcards.items():\\n    parsed_pdb_filenames = sorted(glob.glob(pdbs_wildcard))\\n    dataset = ResidueEnvironmentsDataset(parsed_pdb_filenames, transformer=None)\\n    dataset_look_up = {}\\n    for resenv in dataset:\\n        key = (\\n            f\\\"{resenv.pdb_id}{resenv.chain_id}_{resenv.pdb_residue_number}\\\"\\n            f\\\"{index_to_one(resenv.restype_index)}\\\"\\n        )\\n        dataset_look_up[key] = resenv\\n    resenv_datasets_look_up[dataset_key] = dataset_look_up\";\n",
       "                var nbb_formatted_code = \"# Create temporary residue environment datasets as dicts to more easily match ddG data\\nparsed_pdbs_wildcards = {\\n    \\\"dms\\\": \\\"data/data_dms/pdbs_parsed/*coord*\\\",\\n    \\\"protein_g\\\": \\\"data/data_protein_g/pdbs_parsed/*coord*\\\",\\n    \\\"guerois\\\": \\\"data/data_guerois/pdbs_parsed/*coord*\\\",\\n    \\\"symmetric\\\": \\\"data/data_symmetric/pdbs_parsed/*coord*\\\",\\n}\\n\\nresenv_datasets_look_up = {}\\nfor dataset_key, pdbs_wildcard in parsed_pdbs_wildcards.items():\\n    parsed_pdb_filenames = sorted(glob.glob(pdbs_wildcard))\\n    dataset = ResidueEnvironmentsDataset(parsed_pdb_filenames, transformer=None)\\n    dataset_look_up = {}\\n    for resenv in dataset:\\n        key = (\\n            f\\\"{resenv.pdb_id}{resenv.chain_id}_{resenv.pdb_residue_number}\\\"\\n            f\\\"{index_to_one(resenv.restype_index)}\\\"\\n        )\\n        dataset_look_up[key] = resenv\\n    resenv_datasets_look_up[dataset_key] = dataset_look_up\";\n",
       "                var nbb_cells = Jupyter.notebook.get_cells();\n",
       "                for (var i = 0; i < nbb_cells.length; ++i) {\n",
       "                    if (nbb_cells[i].input_prompt_number == nbb_cell_id) {\n",
       "                        if (nbb_cells[i].get_text() == nbb_unformatted_code) {\n",
       "                             nbb_cells[i].set_text(nbb_formatted_code);\n",
       "                        }\n",
       "                        break;\n",
       "                    }\n",
       "                }\n",
       "            }, 500);\n",
       "            "
      ],
      "text/plain": [
       "<IPython.core.display.Javascript object>"
      ]
     },
     "metadata": {},
     "output_type": "display_data"
    }
   ],
   "source": [
    "# Create temporary residue environment datasets as dicts to more easily match ddG data\n",
    "parsed_pdbs_wildcards = {\n",
    "    \"dms\": \"data/data_dms/pdbs_parsed/*coord*\",\n",
    "    \"protein_g\": \"data/data_protein_g/pdbs_parsed/*coord*\",\n",
    "    \"guerois\": \"data/data_guerois/pdbs_parsed/*coord*\",\n",
    "    \"symmetric\": \"data/data_symmetric/pdbs_parsed/*coord*\",\n",
    "}\n",
    "\n",
    "resenv_datasets_look_up = {}\n",
    "for dataset_key, pdbs_wildcard in parsed_pdbs_wildcards.items():\n",
    "    parsed_pdb_filenames = sorted(glob.glob(pdbs_wildcard))\n",
    "    dataset = ResidueEnvironmentsDataset(parsed_pdb_filenames, transformer=None)\n",
    "    dataset_look_up = {}\n",
    "    for resenv in dataset:\n",
    "        key = (\n",
    "            f\"{resenv.pdb_id}{resenv.chain_id}_{resenv.pdb_residue_number}\"\n",
    "            f\"{index_to_one(resenv.restype_index)}\"\n",
    "        )\n",
    "        dataset_look_up[key] = resenv\n",
    "    resenv_datasets_look_up[dataset_key] = dataset_look_up"
   ]
  },
  {
   "cell_type": "markdown",
   "metadata": {},
   "source": [
    "Load ddG data to dataframe"
   ]
  },
  {
   "cell_type": "code",
   "execution_count": 10,
   "metadata": {},
   "outputs": [
    {
     "data": {
      "application/javascript": [
       "\n",
       "            setTimeout(function() {\n",
       "                var nbb_cell_id = 10;\n",
       "                var nbb_unformatted_code = \"from collections import OrderedDict\\n\\nddg_data_dict = OrderedDict()\\nddg_data_dict = {\\n    \\\"dms\\\": pd.read_csv(\\\"data/data_dms/ddgs_parsed.csv\\\"),\\n    \\\"protein_g\\\": pd.read_csv(\\\"data/data_protein_g/ddgs_parsed.csv\\\"),\\n    \\\"guerois\\\": pd.read_csv(\\\"data/data_guerois/ddgs_parsed.csv\\\"),\\n    \\\"symmetric_direct\\\": pd.read_csv(\\\"data/data_symmetric/ddgs_parsed_direct.csv\\\"),\\n    \\\"symmetric_inverse\\\": pd.read_csv(\\\"data/data_symmetric/ddgs_parsed_inverse.csv\\\"),\\n}\";\n",
       "                var nbb_formatted_code = \"from collections import OrderedDict\\n\\nddg_data_dict = OrderedDict()\\nddg_data_dict = {\\n    \\\"dms\\\": pd.read_csv(\\\"data/data_dms/ddgs_parsed.csv\\\"),\\n    \\\"protein_g\\\": pd.read_csv(\\\"data/data_protein_g/ddgs_parsed.csv\\\"),\\n    \\\"guerois\\\": pd.read_csv(\\\"data/data_guerois/ddgs_parsed.csv\\\"),\\n    \\\"symmetric_direct\\\": pd.read_csv(\\\"data/data_symmetric/ddgs_parsed_direct.csv\\\"),\\n    \\\"symmetric_inverse\\\": pd.read_csv(\\\"data/data_symmetric/ddgs_parsed_inverse.csv\\\"),\\n}\";\n",
       "                var nbb_cells = Jupyter.notebook.get_cells();\n",
       "                for (var i = 0; i < nbb_cells.length; ++i) {\n",
       "                    if (nbb_cells[i].input_prompt_number == nbb_cell_id) {\n",
       "                        if (nbb_cells[i].get_text() == nbb_unformatted_code) {\n",
       "                             nbb_cells[i].set_text(nbb_formatted_code);\n",
       "                        }\n",
       "                        break;\n",
       "                    }\n",
       "                }\n",
       "            }, 500);\n",
       "            "
      ],
      "text/plain": [
       "<IPython.core.display.Javascript object>"
      ]
     },
     "metadata": {},
     "output_type": "display_data"
    }
   ],
   "source": [
    "from collections import OrderedDict\n",
    "\n",
    "ddg_data_dict = OrderedDict()\n",
    "ddg_data_dict = {\n",
    "    \"dms\": pd.read_csv(\"data/data_dms/ddgs_parsed.csv\"),\n",
    "    \"protein_g\": pd.read_csv(\"data/data_protein_g/ddgs_parsed.csv\"),\n",
    "    \"guerois\": pd.read_csv(\"data/data_guerois/ddgs_parsed.csv\"),\n",
    "    \"symmetric_direct\": pd.read_csv(\"data/data_symmetric/ddgs_parsed_direct.csv\"),\n",
    "    \"symmetric_inverse\": pd.read_csv(\"data/data_symmetric/ddgs_parsed_inverse.csv\"),\n",
    "}"
   ]
  },
  {
   "cell_type": "markdown",
   "metadata": {},
   "source": [
    "Populate dataframes with wt ResidueEnvironment objects and wt and mt restype indices"
   ]
  },
  {
   "cell_type": "code",
   "execution_count": 11,
   "metadata": {},
   "outputs": [
    {
     "name": "stdout",
     "output_type": "stream",
     "text": [
      "Dropping data points where residue is not defined in structure or due to missing parsed pdb file\n",
      "dropped 1187 / 8096 data points from dataset dms\n",
      "dropped    0 /  907 data points from dataset protein_g\n",
      "dropped    0 /  911 data points from dataset guerois\n",
      "dropped    0 /  342 data points from dataset symmetric_direct\n",
      "dropped    1 /  342 data points from dataset symmetric_inverse\n"
     ]
    },
    {
     "data": {
      "application/javascript": [
       "\n",
       "            setTimeout(function() {\n",
       "                var nbb_cell_id = 11;\n",
       "                var nbb_unformatted_code = \"print(\\n    \\\"Dropping data points where residue is not defined in structure \\\"\\n    f\\\"or due to missing parsed pdb file\\\"\\n)\\n# Add wt residue environments to standard ddg data dataframes\\nfor ddg_data_key in ddg_data_dict.keys():\\n    resenvs_ddg_data = []\\n    for idx, row in ddg_data_dict[ddg_data_key].iterrows():\\n        resenv_key = (\\n            f\\\"{row['pdbid']}{row['chainid']}_\\\"\\n            f\\\"{row['variant'][1:-1]}{row['variant'][0]}\\\"\\n        )\\n        try:\\n            if \\\"symmetric\\\" in ddg_data_key:\\n                ddg_data_key_adhoc_fix = \\\"symmetric\\\"\\n            else:\\n                ddg_data_key_adhoc_fix = ddg_data_key\\n            resenv = resenv_datasets_look_up[ddg_data_key_adhoc_fix][resenv_key]\\n            resenvs_ddg_data.append(resenv)\\n        except KeyError:\\n            resenvs_ddg_data.append(np.nan)\\n    ddg_data_dict[ddg_data_key][\\\"resenv\\\"] = resenvs_ddg_data\\n    n_datapoints_before = ddg_data_dict[ddg_data_key].shape[0]\\n    ddg_data_dict[ddg_data_key].dropna(inplace=True)\\n    n_datapoints_after = ddg_data_dict[ddg_data_key].shape[0]\\n    print(\\n        f\\\"dropped {n_datapoints_before - n_datapoints_after:4d} / \\\"\\n        f\\\"{n_datapoints_before:4d} data points from dataset {ddg_data_key}\\\"\\n    )\\n\\n    # Add wt and mt idxs to df\\n    ddg_data_dict[ddg_data_key][\\\"wt_idx\\\"] = ddg_data_dict[ddg_data_key].apply(\\n        lambda row: one_to_index(row[\\\"variant\\\"][0]), axis=1\\n    )\\n    ddg_data_dict[ddg_data_key][\\\"mt_idx\\\"] = ddg_data_dict[ddg_data_key].apply(\\n        lambda row: one_to_index(row[\\\"variant\\\"][-1]), axis=1\\n    )\";\n",
       "                var nbb_formatted_code = \"print(\\n    \\\"Dropping data points where residue is not defined in structure \\\"\\n    f\\\"or due to missing parsed pdb file\\\"\\n)\\n# Add wt residue environments to standard ddg data dataframes\\nfor ddg_data_key in ddg_data_dict.keys():\\n    resenvs_ddg_data = []\\n    for idx, row in ddg_data_dict[ddg_data_key].iterrows():\\n        resenv_key = (\\n            f\\\"{row['pdbid']}{row['chainid']}_\\\"\\n            f\\\"{row['variant'][1:-1]}{row['variant'][0]}\\\"\\n        )\\n        try:\\n            if \\\"symmetric\\\" in ddg_data_key:\\n                ddg_data_key_adhoc_fix = \\\"symmetric\\\"\\n            else:\\n                ddg_data_key_adhoc_fix = ddg_data_key\\n            resenv = resenv_datasets_look_up[ddg_data_key_adhoc_fix][resenv_key]\\n            resenvs_ddg_data.append(resenv)\\n        except KeyError:\\n            resenvs_ddg_data.append(np.nan)\\n    ddg_data_dict[ddg_data_key][\\\"resenv\\\"] = resenvs_ddg_data\\n    n_datapoints_before = ddg_data_dict[ddg_data_key].shape[0]\\n    ddg_data_dict[ddg_data_key].dropna(inplace=True)\\n    n_datapoints_after = ddg_data_dict[ddg_data_key].shape[0]\\n    print(\\n        f\\\"dropped {n_datapoints_before - n_datapoints_after:4d} / \\\"\\n        f\\\"{n_datapoints_before:4d} data points from dataset {ddg_data_key}\\\"\\n    )\\n\\n    # Add wt and mt idxs to df\\n    ddg_data_dict[ddg_data_key][\\\"wt_idx\\\"] = ddg_data_dict[ddg_data_key].apply(\\n        lambda row: one_to_index(row[\\\"variant\\\"][0]), axis=1\\n    )\\n    ddg_data_dict[ddg_data_key][\\\"mt_idx\\\"] = ddg_data_dict[ddg_data_key].apply(\\n        lambda row: one_to_index(row[\\\"variant\\\"][-1]), axis=1\\n    )\";\n",
       "                var nbb_cells = Jupyter.notebook.get_cells();\n",
       "                for (var i = 0; i < nbb_cells.length; ++i) {\n",
       "                    if (nbb_cells[i].input_prompt_number == nbb_cell_id) {\n",
       "                        if (nbb_cells[i].get_text() == nbb_unformatted_code) {\n",
       "                             nbb_cells[i].set_text(nbb_formatted_code);\n",
       "                        }\n",
       "                        break;\n",
       "                    }\n",
       "                }\n",
       "            }, 500);\n",
       "            "
      ],
      "text/plain": [
       "<IPython.core.display.Javascript object>"
      ]
     },
     "metadata": {},
     "output_type": "display_data"
    }
   ],
   "source": [
    "print(\n",
    "    \"Dropping data points where residue is not defined in structure \"\n",
    "    f\"or due to missing parsed pdb file\"\n",
    ")\n",
    "# Add wt residue environments to standard ddg data dataframes\n",
    "for ddg_data_key in ddg_data_dict.keys():\n",
    "    resenvs_ddg_data = []\n",
    "    for idx, row in ddg_data_dict[ddg_data_key].iterrows():\n",
    "        resenv_key = (\n",
    "            f\"{row['pdbid']}{row['chainid']}_\"\n",
    "            f\"{row['variant'][1:-1]}{row['variant'][0]}\"\n",
    "        )\n",
    "        try:\n",
    "            if \"symmetric\" in ddg_data_key:\n",
    "                ddg_data_key_adhoc_fix = \"symmetric\"\n",
    "            else:\n",
    "                ddg_data_key_adhoc_fix = ddg_data_key\n",
    "            resenv = resenv_datasets_look_up[ddg_data_key_adhoc_fix][resenv_key]\n",
    "            resenvs_ddg_data.append(resenv)\n",
    "        except KeyError:\n",
    "            resenvs_ddg_data.append(np.nan)\n",
    "    ddg_data_dict[ddg_data_key][\"resenv\"] = resenvs_ddg_data\n",
    "    n_datapoints_before = ddg_data_dict[ddg_data_key].shape[0]\n",
    "    ddg_data_dict[ddg_data_key].dropna(inplace=True)\n",
    "    n_datapoints_after = ddg_data_dict[ddg_data_key].shape[0]\n",
    "    print(\n",
    "        f\"dropped {n_datapoints_before - n_datapoints_after:4d} / \"\n",
    "        f\"{n_datapoints_before:4d} data points from dataset {ddg_data_key}\"\n",
    "    )\n",
    "\n",
    "    # Add wt and mt idxs to df\n",
    "    ddg_data_dict[ddg_data_key][\"wt_idx\"] = ddg_data_dict[ddg_data_key].apply(\n",
    "        lambda row: one_to_index(row[\"variant\"][0]), axis=1\n",
    "    )\n",
    "    ddg_data_dict[ddg_data_key][\"mt_idx\"] = ddg_data_dict[ddg_data_key].apply(\n",
    "        lambda row: one_to_index(row[\"variant\"][-1]), axis=1\n",
    "    )"
   ]
  },
  {
   "cell_type": "markdown",
   "metadata": {},
   "source": [
    "Populate dataframes with predicted NLLs and isolated WT and MT predicted NLLs as well as NLFs"
   ]
  },
  {
   "cell_type": "code",
   "execution_count": 12,
   "metadata": {
    "scrolled": false
   },
   "outputs": [
    {
     "name": "stdout",
     "output_type": "stream",
     "text": [
      "dms\n"
     ]
    },
    {
     "data": {
      "text/html": [
       "<div>\n",
       "<style scoped>\n",
       "    .dataframe tbody tr th:only-of-type {\n",
       "        vertical-align: middle;\n",
       "    }\n",
       "\n",
       "    .dataframe tbody tr th {\n",
       "        vertical-align: top;\n",
       "    }\n",
       "\n",
       "    .dataframe thead th {\n",
       "        text-align: right;\n",
       "    }\n",
       "</style>\n",
       "<table border=\"1\" class=\"dataframe\">\n",
       "  <thead>\n",
       "    <tr style=\"text-align: right;\">\n",
       "      <th></th>\n",
       "      <th>pdbid</th>\n",
       "      <th>chainid</th>\n",
       "      <th>variant</th>\n",
       "      <th>ddg</th>\n",
       "      <th>resenv</th>\n",
       "      <th>wt_idx</th>\n",
       "      <th>mt_idx</th>\n",
       "      <th>nlls</th>\n",
       "      <th>wt_nll</th>\n",
       "      <th>mt_nll</th>\n",
       "      <th>wt_nlf</th>\n",
       "      <th>mt_nlf</th>\n",
       "      <th>ddg_pred_no_ds</th>\n",
       "    </tr>\n",
       "  </thead>\n",
       "  <tbody>\n",
       "    <tr>\n",
       "      <th>120</th>\n",
       "      <td>1D5R</td>\n",
       "      <td>A</td>\n",
       "      <td>R14A</td>\n",
       "      <td>-0.087552</td>\n",
       "      <td>&lt;ResidueEnvironment with 141 atoms. pdb_id: 1D...</td>\n",
       "      <td>14</td>\n",
       "      <td>0</td>\n",
       "      <td>[4.4999933, 4.009714, 2.7235978, 4.9015493, 3....</td>\n",
       "      <td>3.300188</td>\n",
       "      <td>4.499993</td>\n",
       "      <td>3.035567</td>\n",
       "      <td>2.483982</td>\n",
       "      <td>1.751390</td>\n",
       "    </tr>\n",
       "    <tr>\n",
       "      <th>121</th>\n",
       "      <td>1D5R</td>\n",
       "      <td>A</td>\n",
       "      <td>R14D</td>\n",
       "      <td>-0.142873</td>\n",
       "      <td>&lt;ResidueEnvironment with 141 atoms. pdb_id: 1D...</td>\n",
       "      <td>14</td>\n",
       "      <td>2</td>\n",
       "      <td>[4.4999933, 4.009714, 2.7235978, 4.9015493, 3....</td>\n",
       "      <td>3.300188</td>\n",
       "      <td>2.723598</td>\n",
       "      <td>3.035567</td>\n",
       "      <td>2.824680</td>\n",
       "      <td>-0.365702</td>\n",
       "    </tr>\n",
       "  </tbody>\n",
       "</table>\n",
       "</div>"
      ],
      "text/plain": [
       "    pdbid chainid variant       ddg  \\\n",
       "120  1D5R       A    R14A -0.087552   \n",
       "121  1D5R       A    R14D -0.142873   \n",
       "\n",
       "                                                resenv  wt_idx  mt_idx  \\\n",
       "120  <ResidueEnvironment with 141 atoms. pdb_id: 1D...      14       0   \n",
       "121  <ResidueEnvironment with 141 atoms. pdb_id: 1D...      14       2   \n",
       "\n",
       "                                                  nlls    wt_nll    mt_nll  \\\n",
       "120  [4.4999933, 4.009714, 2.7235978, 4.9015493, 3....  3.300188  4.499993   \n",
       "121  [4.4999933, 4.009714, 2.7235978, 4.9015493, 3....  3.300188  2.723598   \n",
       "\n",
       "       wt_nlf    mt_nlf  ddg_pred_no_ds  \n",
       "120  3.035567  2.483982        1.751390  \n",
       "121  3.035567  2.824680       -0.365702  "
      ]
     },
     "metadata": {},
     "output_type": "display_data"
    },
    {
     "name": "stdout",
     "output_type": "stream",
     "text": [
      "protein_g\n"
     ]
    },
    {
     "data": {
      "text/html": [
       "<div>\n",
       "<style scoped>\n",
       "    .dataframe tbody tr th:only-of-type {\n",
       "        vertical-align: middle;\n",
       "    }\n",
       "\n",
       "    .dataframe tbody tr th {\n",
       "        vertical-align: top;\n",
       "    }\n",
       "\n",
       "    .dataframe thead th {\n",
       "        text-align: right;\n",
       "    }\n",
       "</style>\n",
       "<table border=\"1\" class=\"dataframe\">\n",
       "  <thead>\n",
       "    <tr style=\"text-align: right;\">\n",
       "      <th></th>\n",
       "      <th>pdbid</th>\n",
       "      <th>chainid</th>\n",
       "      <th>variant</th>\n",
       "      <th>ddg</th>\n",
       "      <th>resenv</th>\n",
       "      <th>wt_idx</th>\n",
       "      <th>mt_idx</th>\n",
       "      <th>nlls</th>\n",
       "      <th>wt_nll</th>\n",
       "      <th>mt_nll</th>\n",
       "      <th>wt_nlf</th>\n",
       "      <th>mt_nlf</th>\n",
       "      <th>ddg_pred_no_ds</th>\n",
       "    </tr>\n",
       "  </thead>\n",
       "  <tbody>\n",
       "    <tr>\n",
       "      <th>0</th>\n",
       "      <td>1PGA</td>\n",
       "      <td>A</td>\n",
       "      <td>M1A</td>\n",
       "      <td>-0.1407</td>\n",
       "      <td>&lt;ResidueEnvironment with 130 atoms. pdb_id: 1P...</td>\n",
       "      <td>10</td>\n",
       "      <td>0</td>\n",
       "      <td>[4.7756553, 3.3979955, 3.4243138, 3.2055907, 3...</td>\n",
       "      <td>2.878402</td>\n",
       "      <td>4.775655</td>\n",
       "      <td>3.785957</td>\n",
       "      <td>2.483982</td>\n",
       "      <td>3.199227</td>\n",
       "    </tr>\n",
       "    <tr>\n",
       "      <th>1</th>\n",
       "      <td>1PGA</td>\n",
       "      <td>A</td>\n",
       "      <td>M1D</td>\n",
       "      <td>-0.3795</td>\n",
       "      <td>&lt;ResidueEnvironment with 130 atoms. pdb_id: 1P...</td>\n",
       "      <td>10</td>\n",
       "      <td>2</td>\n",
       "      <td>[4.7756553, 3.3979955, 3.4243138, 3.2055907, 3...</td>\n",
       "      <td>2.878402</td>\n",
       "      <td>3.424314</td>\n",
       "      <td>3.785957</td>\n",
       "      <td>2.824680</td>\n",
       "      <td>1.507189</td>\n",
       "    </tr>\n",
       "  </tbody>\n",
       "</table>\n",
       "</div>"
      ],
      "text/plain": [
       "  pdbid chainid variant     ddg  \\\n",
       "0  1PGA       A     M1A -0.1407   \n",
       "1  1PGA       A     M1D -0.3795   \n",
       "\n",
       "                                              resenv  wt_idx  mt_idx  \\\n",
       "0  <ResidueEnvironment with 130 atoms. pdb_id: 1P...      10       0   \n",
       "1  <ResidueEnvironment with 130 atoms. pdb_id: 1P...      10       2   \n",
       "\n",
       "                                                nlls    wt_nll    mt_nll  \\\n",
       "0  [4.7756553, 3.3979955, 3.4243138, 3.2055907, 3...  2.878402  4.775655   \n",
       "1  [4.7756553, 3.3979955, 3.4243138, 3.2055907, 3...  2.878402  3.424314   \n",
       "\n",
       "     wt_nlf    mt_nlf  ddg_pred_no_ds  \n",
       "0  3.785957  2.483982        3.199227  \n",
       "1  3.785957  2.824680        1.507189  "
      ]
     },
     "metadata": {},
     "output_type": "display_data"
    },
    {
     "name": "stdout",
     "output_type": "stream",
     "text": [
      "guerois\n"
     ]
    },
    {
     "data": {
      "text/html": [
       "<div>\n",
       "<style scoped>\n",
       "    .dataframe tbody tr th:only-of-type {\n",
       "        vertical-align: middle;\n",
       "    }\n",
       "\n",
       "    .dataframe tbody tr th {\n",
       "        vertical-align: top;\n",
       "    }\n",
       "\n",
       "    .dataframe thead th {\n",
       "        text-align: right;\n",
       "    }\n",
       "</style>\n",
       "<table border=\"1\" class=\"dataframe\">\n",
       "  <thead>\n",
       "    <tr style=\"text-align: right;\">\n",
       "      <th></th>\n",
       "      <th>pdbid</th>\n",
       "      <th>chainid</th>\n",
       "      <th>variant</th>\n",
       "      <th>ddg</th>\n",
       "      <th>resenv</th>\n",
       "      <th>wt_idx</th>\n",
       "      <th>mt_idx</th>\n",
       "      <th>nlls</th>\n",
       "      <th>wt_nll</th>\n",
       "      <th>mt_nll</th>\n",
       "      <th>wt_nlf</th>\n",
       "      <th>mt_nlf</th>\n",
       "      <th>ddg_pred_no_ds</th>\n",
       "    </tr>\n",
       "  </thead>\n",
       "  <tbody>\n",
       "    <tr>\n",
       "      <th>0</th>\n",
       "      <td>171L</td>\n",
       "      <td>A</td>\n",
       "      <td>A45E</td>\n",
       "      <td>0.01</td>\n",
       "      <td>&lt;ResidueEnvironment with 189 atoms. pdb_id: 17...</td>\n",
       "      <td>0</td>\n",
       "      <td>3</td>\n",
       "      <td>[0.9576647, 3.9205575, 3.6174338, 3.4331043, 2...</td>\n",
       "      <td>0.957665</td>\n",
       "      <td>3.433104</td>\n",
       "      <td>2.483982</td>\n",
       "      <td>2.712832</td>\n",
       "      <td>2.246590</td>\n",
       "    </tr>\n",
       "    <tr>\n",
       "      <th>1</th>\n",
       "      <td>1A2P</td>\n",
       "      <td>A</td>\n",
       "      <td>Y103F</td>\n",
       "      <td>0.00</td>\n",
       "      <td>&lt;ResidueEnvironment with 211 atoms. pdb_id: 1A...</td>\n",
       "      <td>19</td>\n",
       "      <td>4</td>\n",
       "      <td>[3.4629757, 4.5422726, 4.3407702, 4.715695, 2....</td>\n",
       "      <td>1.715943</td>\n",
       "      <td>2.452142</td>\n",
       "      <td>3.311580</td>\n",
       "      <td>3.207937</td>\n",
       "      <td>0.839842</td>\n",
       "    </tr>\n",
       "  </tbody>\n",
       "</table>\n",
       "</div>"
      ],
      "text/plain": [
       "  pdbid chainid variant   ddg  \\\n",
       "0  171L       A    A45E  0.01   \n",
       "1  1A2P       A   Y103F  0.00   \n",
       "\n",
       "                                              resenv  wt_idx  mt_idx  \\\n",
       "0  <ResidueEnvironment with 189 atoms. pdb_id: 17...       0       3   \n",
       "1  <ResidueEnvironment with 211 atoms. pdb_id: 1A...      19       4   \n",
       "\n",
       "                                                nlls    wt_nll    mt_nll  \\\n",
       "0  [0.9576647, 3.9205575, 3.6174338, 3.4331043, 2...  0.957665  3.433104   \n",
       "1  [3.4629757, 4.5422726, 4.3407702, 4.715695, 2....  1.715943  2.452142   \n",
       "\n",
       "     wt_nlf    mt_nlf  ddg_pred_no_ds  \n",
       "0  2.483982  2.712832        2.246590  \n",
       "1  3.311580  3.207937        0.839842  "
      ]
     },
     "metadata": {},
     "output_type": "display_data"
    },
    {
     "name": "stdout",
     "output_type": "stream",
     "text": [
      "symmetric_direct\n"
     ]
    },
    {
     "data": {
      "text/html": [
       "<div>\n",
       "<style scoped>\n",
       "    .dataframe tbody tr th:only-of-type {\n",
       "        vertical-align: middle;\n",
       "    }\n",
       "\n",
       "    .dataframe tbody tr th {\n",
       "        vertical-align: top;\n",
       "    }\n",
       "\n",
       "    .dataframe thead th {\n",
       "        text-align: right;\n",
       "    }\n",
       "</style>\n",
       "<table border=\"1\" class=\"dataframe\">\n",
       "  <thead>\n",
       "    <tr style=\"text-align: right;\">\n",
       "      <th></th>\n",
       "      <th>pdbid</th>\n",
       "      <th>chainid</th>\n",
       "      <th>variant</th>\n",
       "      <th>ddg</th>\n",
       "      <th>merge_column</th>\n",
       "      <th>resenv</th>\n",
       "      <th>wt_idx</th>\n",
       "      <th>mt_idx</th>\n",
       "      <th>nlls</th>\n",
       "      <th>wt_nll</th>\n",
       "      <th>mt_nll</th>\n",
       "      <th>wt_nlf</th>\n",
       "      <th>mt_nlf</th>\n",
       "      <th>ddg_pred_no_ds</th>\n",
       "    </tr>\n",
       "  </thead>\n",
       "  <tbody>\n",
       "    <tr>\n",
       "      <th>0</th>\n",
       "      <td>1AMQ</td>\n",
       "      <td>A</td>\n",
       "      <td>C191Y</td>\n",
       "      <td>2.3</td>\n",
       "      <td>index_1</td>\n",
       "      <td>&lt;ResidueEnvironment with 278 atoms. pdb_id: 1A...</td>\n",
       "      <td>1</td>\n",
       "      <td>19</td>\n",
       "      <td>[3.6879106, 4.026881, 6.2272286, 6.283875, 2.6...</td>\n",
       "      <td>4.026881</td>\n",
       "      <td>3.454248</td>\n",
       "      <td>4.33514</td>\n",
       "      <td>3.311580</td>\n",
       "      <td>0.450927</td>\n",
       "    </tr>\n",
       "    <tr>\n",
       "      <th>1</th>\n",
       "      <td>1AMQ</td>\n",
       "      <td>A</td>\n",
       "      <td>C191F</td>\n",
       "      <td>1.6</td>\n",
       "      <td>index_2</td>\n",
       "      <td>&lt;ResidueEnvironment with 278 atoms. pdb_id: 1A...</td>\n",
       "      <td>1</td>\n",
       "      <td>4</td>\n",
       "      <td>[3.6879106, 4.026881, 6.2272286, 6.283875, 2.6...</td>\n",
       "      <td>4.026881</td>\n",
       "      <td>2.679490</td>\n",
       "      <td>4.33514</td>\n",
       "      <td>3.207937</td>\n",
       "      <td>-0.220188</td>\n",
       "    </tr>\n",
       "  </tbody>\n",
       "</table>\n",
       "</div>"
      ],
      "text/plain": [
       "  pdbid chainid variant  ddg merge_column  \\\n",
       "0  1AMQ       A   C191Y  2.3      index_1   \n",
       "1  1AMQ       A   C191F  1.6      index_2   \n",
       "\n",
       "                                              resenv  wt_idx  mt_idx  \\\n",
       "0  <ResidueEnvironment with 278 atoms. pdb_id: 1A...       1      19   \n",
       "1  <ResidueEnvironment with 278 atoms. pdb_id: 1A...       1       4   \n",
       "\n",
       "                                                nlls    wt_nll    mt_nll  \\\n",
       "0  [3.6879106, 4.026881, 6.2272286, 6.283875, 2.6...  4.026881  3.454248   \n",
       "1  [3.6879106, 4.026881, 6.2272286, 6.283875, 2.6...  4.026881  2.679490   \n",
       "\n",
       "    wt_nlf    mt_nlf  ddg_pred_no_ds  \n",
       "0  4.33514  3.311580        0.450927  \n",
       "1  4.33514  3.207937       -0.220188  "
      ]
     },
     "metadata": {},
     "output_type": "display_data"
    },
    {
     "name": "stdout",
     "output_type": "stream",
     "text": [
      "symmetric_inverse\n"
     ]
    },
    {
     "data": {
      "text/html": [
       "<div>\n",
       "<style scoped>\n",
       "    .dataframe tbody tr th:only-of-type {\n",
       "        vertical-align: middle;\n",
       "    }\n",
       "\n",
       "    .dataframe tbody tr th {\n",
       "        vertical-align: top;\n",
       "    }\n",
       "\n",
       "    .dataframe thead th {\n",
       "        text-align: right;\n",
       "    }\n",
       "</style>\n",
       "<table border=\"1\" class=\"dataframe\">\n",
       "  <thead>\n",
       "    <tr style=\"text-align: right;\">\n",
       "      <th></th>\n",
       "      <th>pdbid</th>\n",
       "      <th>chainid</th>\n",
       "      <th>variant</th>\n",
       "      <th>ddg</th>\n",
       "      <th>merge_column</th>\n",
       "      <th>resenv</th>\n",
       "      <th>wt_idx</th>\n",
       "      <th>mt_idx</th>\n",
       "      <th>nlls</th>\n",
       "      <th>wt_nll</th>\n",
       "      <th>mt_nll</th>\n",
       "      <th>wt_nlf</th>\n",
       "      <th>mt_nlf</th>\n",
       "      <th>ddg_pred_no_ds</th>\n",
       "    </tr>\n",
       "  </thead>\n",
       "  <tbody>\n",
       "    <tr>\n",
       "      <th>1</th>\n",
       "      <td>1QIS</td>\n",
       "      <td>A</td>\n",
       "      <td>F191C</td>\n",
       "      <td>-1.6</td>\n",
       "      <td>index_2</td>\n",
       "      <td>&lt;ResidueEnvironment with 275 atoms. pdb_id: 1Q...</td>\n",
       "      <td>4</td>\n",
       "      <td>1</td>\n",
       "      <td>[3.55813, 3.5324361, 3.9901478, 6.1277575, 4.4...</td>\n",
       "      <td>4.442743</td>\n",
       "      <td>3.532436</td>\n",
       "      <td>3.207937</td>\n",
       "      <td>4.33514</td>\n",
       "      <td>-2.037510</td>\n",
       "    </tr>\n",
       "    <tr>\n",
       "      <th>2</th>\n",
       "      <td>1QIT</td>\n",
       "      <td>A</td>\n",
       "      <td>W191C</td>\n",
       "      <td>-3.9</td>\n",
       "      <td>index_3</td>\n",
       "      <td>&lt;ResidueEnvironment with 273 atoms. pdb_id: 1Q...</td>\n",
       "      <td>18</td>\n",
       "      <td>1</td>\n",
       "      <td>[2.9333127, 3.0917177, 4.463896, 5.764394, 3.7...</td>\n",
       "      <td>2.717611</td>\n",
       "      <td>3.091718</td>\n",
       "      <td>4.250501</td>\n",
       "      <td>4.33514</td>\n",
       "      <td>0.289468</td>\n",
       "    </tr>\n",
       "  </tbody>\n",
       "</table>\n",
       "</div>"
      ],
      "text/plain": [
       "  pdbid chainid variant  ddg merge_column  \\\n",
       "1  1QIS       A   F191C -1.6      index_2   \n",
       "2  1QIT       A   W191C -3.9      index_3   \n",
       "\n",
       "                                              resenv  wt_idx  mt_idx  \\\n",
       "1  <ResidueEnvironment with 275 atoms. pdb_id: 1Q...       4       1   \n",
       "2  <ResidueEnvironment with 273 atoms. pdb_id: 1Q...      18       1   \n",
       "\n",
       "                                                nlls    wt_nll    mt_nll  \\\n",
       "1  [3.55813, 3.5324361, 3.9901478, 6.1277575, 4.4...  4.442743  3.532436   \n",
       "2  [2.9333127, 3.0917177, 4.463896, 5.764394, 3.7...  2.717611  3.091718   \n",
       "\n",
       "     wt_nlf   mt_nlf  ddg_pred_no_ds  \n",
       "1  3.207937  4.33514       -2.037510  \n",
       "2  4.250501  4.33514        0.289468  "
      ]
     },
     "metadata": {},
     "output_type": "display_data"
    },
    {
     "data": {
      "application/javascript": [
       "\n",
       "            setTimeout(function() {\n",
       "                var nbb_cell_id = 12;\n",
       "                var nbb_unformatted_code = \"# Load best performing cavity model from previos trainig\\ncavity_model_infer_net = CavityModel(DEVICE).to(DEVICE)\\ncavity_model_infer_net.load_state_dict(\\n    torch.load(epoch_idx_to_model_path[current_best_epoch_idx])\\n)\\ncavity_model_infer_net.eval()\\n\\n# Load PDB amino acid frequencies used to approximate unfolded states\\npdb_nlfs = -np.log(np.load(\\\"data/pdb_frequencies.npz\\\")[\\\"frequencies\\\"])\\n\\n# Add predicted to Nlls ddG dataframes\\nfor ddg_data_key in ddg_data_dict.keys():\\n    df = ddg_data_dict[ddg_data_key]\\n\\n    # Perform predictions on matched residue environments\\n    ddg_resenvs = list(df[\\\"resenv\\\"].values)\\n    ddg_resenv_dataset = ResidueEnvironmentsDataset(\\n        ddg_resenvs, transformer=ToTensor(DEVICE)\\n    )\\n\\n    # Define dataloader for resenvs matched to ddG data\\n    ddg_resenv_dataloader = DataLoader(\\n        ddg_resenv_dataset,\\n        batch_size=BATCH_SIZE,\\n        shuffle=False,\\n        collate_fn=to_tensor_transformer.collate_cat,\\n        drop_last=False,\\n    )\\n\\n    # Infer NLLs\\n    pred_nlls = []\\n    for batch_x, _ in ddg_resenv_dataloader:\\n        batch_pred_nlls = (\\n            -torch.log(softmax(cavity_model_infer_net(batch_x), dim=-1) + EPS)\\n            .detach()\\n            .cpu()\\n            .numpy()\\n        )\\n        pred_nlls.append(batch_pred_nlls)\\n    pred_nlls_list = [row for row in np.vstack(pred_nlls)]\\n\\n    # Add NLLs to dataframe\\n    df[\\\"nlls\\\"] = pred_nlls_list\\n\\n    # Isolate WT and MT NLLs and add to datafra\\n    df[\\\"wt_nll\\\"] = df.apply(lambda row: row[\\\"nlls\\\"][row[\\\"wt_idx\\\"]], axis=1)\\n    df[\\\"mt_nll\\\"] = df.apply(lambda row: row[\\\"nlls\\\"][row[\\\"mt_idx\\\"]], axis=1)\\n\\n    # Add PDB database statistics negative log frequencies to df\\n    df[\\\"wt_nlf\\\"] = df.apply(lambda row: pdb_nlfs[row[\\\"wt_idx\\\"]], axis=1)\\n    df[\\\"mt_nlf\\\"] = df.apply(lambda row: pdb_nlfs[row[\\\"mt_idx\\\"]], axis=1)\\n\\n    # Add ddG prediction (without downstream model)\\n    df[\\\"ddg_pred_no_ds\\\"] = df.apply(\\n        lambda row: row[\\\"mt_nll\\\"] - row[\\\"mt_nlf\\\"] - row[\\\"wt_nll\\\"] + row[\\\"wt_nlf\\\"],\\n        axis=1,\\n    )\\n\\n    print(ddg_data_key)\\n    display(ddg_data_dict[ddg_data_key].head(2))\";\n",
       "                var nbb_formatted_code = \"# Load best performing cavity model from previos trainig\\ncavity_model_infer_net = CavityModel(DEVICE).to(DEVICE)\\ncavity_model_infer_net.load_state_dict(\\n    torch.load(epoch_idx_to_model_path[current_best_epoch_idx])\\n)\\ncavity_model_infer_net.eval()\\n\\n# Load PDB amino acid frequencies used to approximate unfolded states\\npdb_nlfs = -np.log(np.load(\\\"data/pdb_frequencies.npz\\\")[\\\"frequencies\\\"])\\n\\n# Add predicted to Nlls ddG dataframes\\nfor ddg_data_key in ddg_data_dict.keys():\\n    df = ddg_data_dict[ddg_data_key]\\n\\n    # Perform predictions on matched residue environments\\n    ddg_resenvs = list(df[\\\"resenv\\\"].values)\\n    ddg_resenv_dataset = ResidueEnvironmentsDataset(\\n        ddg_resenvs, transformer=ToTensor(DEVICE)\\n    )\\n\\n    # Define dataloader for resenvs matched to ddG data\\n    ddg_resenv_dataloader = DataLoader(\\n        ddg_resenv_dataset,\\n        batch_size=BATCH_SIZE,\\n        shuffle=False,\\n        collate_fn=to_tensor_transformer.collate_cat,\\n        drop_last=False,\\n    )\\n\\n    # Infer NLLs\\n    pred_nlls = []\\n    for batch_x, _ in ddg_resenv_dataloader:\\n        batch_pred_nlls = (\\n            -torch.log(softmax(cavity_model_infer_net(batch_x), dim=-1) + EPS)\\n            .detach()\\n            .cpu()\\n            .numpy()\\n        )\\n        pred_nlls.append(batch_pred_nlls)\\n    pred_nlls_list = [row for row in np.vstack(pred_nlls)]\\n\\n    # Add NLLs to dataframe\\n    df[\\\"nlls\\\"] = pred_nlls_list\\n\\n    # Isolate WT and MT NLLs and add to datafra\\n    df[\\\"wt_nll\\\"] = df.apply(lambda row: row[\\\"nlls\\\"][row[\\\"wt_idx\\\"]], axis=1)\\n    df[\\\"mt_nll\\\"] = df.apply(lambda row: row[\\\"nlls\\\"][row[\\\"mt_idx\\\"]], axis=1)\\n\\n    # Add PDB database statistics negative log frequencies to df\\n    df[\\\"wt_nlf\\\"] = df.apply(lambda row: pdb_nlfs[row[\\\"wt_idx\\\"]], axis=1)\\n    df[\\\"mt_nlf\\\"] = df.apply(lambda row: pdb_nlfs[row[\\\"mt_idx\\\"]], axis=1)\\n\\n    # Add ddG prediction (without downstream model)\\n    df[\\\"ddg_pred_no_ds\\\"] = df.apply(\\n        lambda row: row[\\\"mt_nll\\\"] - row[\\\"mt_nlf\\\"] - row[\\\"wt_nll\\\"] + row[\\\"wt_nlf\\\"],\\n        axis=1,\\n    )\\n\\n    print(ddg_data_key)\\n    display(ddg_data_dict[ddg_data_key].head(2))\";\n",
       "                var nbb_cells = Jupyter.notebook.get_cells();\n",
       "                for (var i = 0; i < nbb_cells.length; ++i) {\n",
       "                    if (nbb_cells[i].input_prompt_number == nbb_cell_id) {\n",
       "                        if (nbb_cells[i].get_text() == nbb_unformatted_code) {\n",
       "                             nbb_cells[i].set_text(nbb_formatted_code);\n",
       "                        }\n",
       "                        break;\n",
       "                    }\n",
       "                }\n",
       "            }, 500);\n",
       "            "
      ],
      "text/plain": [
       "<IPython.core.display.Javascript object>"
      ]
     },
     "metadata": {},
     "output_type": "display_data"
    }
   ],
   "source": [
    "# Load best performing cavity model from previos trainig\n",
    "cavity_model_infer_net = CavityModel(DEVICE).to(DEVICE)\n",
    "cavity_model_infer_net.load_state_dict(\n",
    "    torch.load(epoch_idx_to_model_path[current_best_epoch_idx])\n",
    ")\n",
    "cavity_model_infer_net.eval()\n",
    "\n",
    "# Load PDB amino acid frequencies used to approximate unfolded states\n",
    "pdb_nlfs = -np.log(np.load(\"data/pdb_frequencies.npz\")[\"frequencies\"])\n",
    "\n",
    "# Add predicted to Nlls ddG dataframes\n",
    "for ddg_data_key in ddg_data_dict.keys():\n",
    "    df = ddg_data_dict[ddg_data_key]\n",
    "\n",
    "    # Perform predictions on matched residue environments\n",
    "    ddg_resenvs = list(df[\"resenv\"].values)\n",
    "    ddg_resenv_dataset = ResidueEnvironmentsDataset(\n",
    "        ddg_resenvs, transformer=ToTensor(DEVICE)\n",
    "    )\n",
    "\n",
    "    # Define dataloader for resenvs matched to ddG data\n",
    "    ddg_resenv_dataloader = DataLoader(\n",
    "        ddg_resenv_dataset,\n",
    "        batch_size=BATCH_SIZE,\n",
    "        shuffle=False,\n",
    "        collate_fn=to_tensor_transformer.collate_cat,\n",
    "        drop_last=False,\n",
    "    )\n",
    "\n",
    "    # Infer NLLs\n",
    "    pred_nlls = []\n",
    "    for batch_x, _ in ddg_resenv_dataloader:\n",
    "        batch_pred_nlls = (\n",
    "            -torch.log(softmax(cavity_model_infer_net(batch_x), dim=-1) + EPS)\n",
    "            .detach()\n",
    "            .cpu()\n",
    "            .numpy()\n",
    "        )\n",
    "        pred_nlls.append(batch_pred_nlls)\n",
    "    pred_nlls_list = [row for row in np.vstack(pred_nlls)]\n",
    "\n",
    "    # Add NLLs to dataframe\n",
    "    df[\"nlls\"] = pred_nlls_list\n",
    "\n",
    "    # Isolate WT and MT NLLs and add to datafra\n",
    "    df[\"wt_nll\"] = df.apply(lambda row: row[\"nlls\"][row[\"wt_idx\"]], axis=1)\n",
    "    df[\"mt_nll\"] = df.apply(lambda row: row[\"nlls\"][row[\"mt_idx\"]], axis=1)\n",
    "\n",
    "    # Add PDB database statistics negative log frequencies to df\n",
    "    df[\"wt_nlf\"] = df.apply(lambda row: pdb_nlfs[row[\"wt_idx\"]], axis=1)\n",
    "    df[\"mt_nlf\"] = df.apply(lambda row: pdb_nlfs[row[\"mt_idx\"]], axis=1)\n",
    "\n",
    "    # Add ddG prediction (without downstream model)\n",
    "    df[\"ddg_pred_no_ds\"] = df.apply(\n",
    "        lambda row: row[\"mt_nll\"] - row[\"mt_nlf\"] - row[\"wt_nll\"] + row[\"wt_nlf\"],\n",
    "        axis=1,\n",
    "    )\n",
    "\n",
    "    print(ddg_data_key)\n",
    "    display(ddg_data_dict[ddg_data_key].head(2))"
   ]
  },
  {
   "cell_type": "markdown",
   "metadata": {},
   "source": [
    "### Results without downstream model on standard ddg data"
   ]
  },
  {
   "cell_type": "code",
   "execution_count": 13,
   "metadata": {},
   "outputs": [
    {
     "data": {
      "image/png": "[encoded data removed]",
      "text/plain": [
       "<Figure size 432x288 with 1 Axes>"
      ]
     },
     "metadata": {
      "needs_background": "light"
     },
     "output_type": "display_data"
    },
    {
     "data": {
      "image/png": "[encoded data removed]",
      "text/plain": [
       "<Figure size 432x288 with 1 Axes>"
      ]
     },
     "metadata": {
      "needs_background": "light"
     },
     "output_type": "display_data"
    },
    {
     "data": {
      "image/png": "[encoded data removed]",
      "text/plain": [
       "<Figure size 432x288 with 1 Axes>"
      ]
     },
     "metadata": {
      "needs_background": "light"
     },
     "output_type": "display_data"
    },
    {
     "data": {
      "image/png": "[encoded data removed]",
      "text/plain": [
       "<Figure size 432x288 with 1 Axes>"
      ]
     },
     "metadata": {
      "needs_background": "light"
     },
     "output_type": "display_data"
    },
    {
     "data": {
      "image/png": "[encoded data removed]",
      "text/plain": [
       "<Figure size 432x288 with 1 Axes>"
      ]
     },
     "metadata": {
      "needs_background": "light"
     },
     "output_type": "display_data"
    },
    {
     "data": {
      "application/javascript": [
       "\n",
       "            setTimeout(function() {\n",
       "                var nbb_cell_id = 13;\n",
       "                var nbb_unformatted_code = \"colors = [\\\"steelblue\\\", \\\"firebrick\\\", \\\"forestgreen\\\", \\\"black\\\", \\\"black\\\"]\\nfor color, data_key in zip(colors, ddg_data_dict.keys()):\\n    fig, ax = scatter_pred_vs_true(\\n        ddg_data_dict[data_key][\\\"ddg\\\"],\\n        ddg_data_dict[data_key][\\\"ddg_pred_no_ds\\\"],\\n        color=color,\\n        title=data_key,\\n    )\";\n",
       "                var nbb_formatted_code = \"colors = [\\\"steelblue\\\", \\\"firebrick\\\", \\\"forestgreen\\\", \\\"black\\\", \\\"black\\\"]\\nfor color, data_key in zip(colors, ddg_data_dict.keys()):\\n    fig, ax = scatter_pred_vs_true(\\n        ddg_data_dict[data_key][\\\"ddg\\\"],\\n        ddg_data_dict[data_key][\\\"ddg_pred_no_ds\\\"],\\n        color=color,\\n        title=data_key,\\n    )\";\n",
       "                var nbb_cells = Jupyter.notebook.get_cells();\n",
       "                for (var i = 0; i < nbb_cells.length; ++i) {\n",
       "                    if (nbb_cells[i].input_prompt_number == nbb_cell_id) {\n",
       "                        if (nbb_cells[i].get_text() == nbb_unformatted_code) {\n",
       "                             nbb_cells[i].set_text(nbb_formatted_code);\n",
       "                        }\n",
       "                        break;\n",
       "                    }\n",
       "                }\n",
       "            }, 500);\n",
       "            "
      ],
      "text/plain": [
       "<IPython.core.display.Javascript object>"
      ]
     },
     "metadata": {},
     "output_type": "display_data"
    }
   ],
   "source": [
    "colors = [\"steelblue\", \"firebrick\", \"forestgreen\", \"black\", \"black\"]\n",
    "for color, data_key in zip(colors, ddg_data_dict.keys()):\n",
    "    fig, ax = scatter_pred_vs_true(\n",
    "        ddg_data_dict[data_key][\"ddg\"],\n",
    "        ddg_data_dict[data_key][\"ddg_pred_no_ds\"],\n",
    "        color=color,\n",
    "        title=data_key,\n",
    "    )"
   ]
  },
  {
   "cell_type": "markdown",
   "metadata": {},
   "source": [
    "Merge direct and inverse dfs"
   ]
  },
  {
   "cell_type": "code",
   "execution_count": 14,
   "metadata": {
    "scrolled": true
   },
   "outputs": [
    {
     "data": {
      "application/javascript": [
       "\n",
       "            setTimeout(function() {\n",
       "                var nbb_cell_id = 14;\n",
       "                var nbb_unformatted_code = \"# Rename columns so they specify if it is the direct or inverse direction\\nsymmetric_direct_df = ddg_data_dict[\\\"symmetric_direct\\\"]\\nsymmetric_direct_df.columns = [\\n    name + \\\"_dir\\\" if \\\"_dir\\\" not in name else name\\n    for name in symmetric_direct_df.columns\\n]\\nsymmetric_inverse_df = ddg_data_dict[\\\"symmetric_inverse\\\"]\\nsymmetric_inverse_df.columns = [\\n    name + \\\"_inv\\\" if \\\"_inv\\\" not in name else name\\n    for name in symmetric_inverse_df.columns\\n]\\n\\n# Inner merge both dataframes\\nddg_data_dict[\\\"symmetric_both\\\"] = pd.merge(\\n    symmetric_direct_df,\\n    symmetric_inverse_df,\\n    how=\\\"inner\\\",\\n    left_on=\\\"merge_column_dir\\\",\\n    right_on=\\\"merge_column_inv\\\",\\n)\";\n",
       "                var nbb_formatted_code = \"# Rename columns so they specify if it is the direct or inverse direction\\nsymmetric_direct_df = ddg_data_dict[\\\"symmetric_direct\\\"]\\nsymmetric_direct_df.columns = [\\n    name + \\\"_dir\\\" if \\\"_dir\\\" not in name else name\\n    for name in symmetric_direct_df.columns\\n]\\nsymmetric_inverse_df = ddg_data_dict[\\\"symmetric_inverse\\\"]\\nsymmetric_inverse_df.columns = [\\n    name + \\\"_inv\\\" if \\\"_inv\\\" not in name else name\\n    for name in symmetric_inverse_df.columns\\n]\\n\\n# Inner merge both dataframes\\nddg_data_dict[\\\"symmetric_both\\\"] = pd.merge(\\n    symmetric_direct_df,\\n    symmetric_inverse_df,\\n    how=\\\"inner\\\",\\n    left_on=\\\"merge_column_dir\\\",\\n    right_on=\\\"merge_column_inv\\\",\\n)\";\n",
       "                var nbb_cells = Jupyter.notebook.get_cells();\n",
       "                for (var i = 0; i < nbb_cells.length; ++i) {\n",
       "                    if (nbb_cells[i].input_prompt_number == nbb_cell_id) {\n",
       "                        if (nbb_cells[i].get_text() == nbb_unformatted_code) {\n",
       "                             nbb_cells[i].set_text(nbb_formatted_code);\n",
       "                        }\n",
       "                        break;\n",
       "                    }\n",
       "                }\n",
       "            }, 500);\n",
       "            "
      ],
      "text/plain": [
       "<IPython.core.display.Javascript object>"
      ]
     },
     "metadata": {},
     "output_type": "display_data"
    }
   ],
   "source": [
    "# Rename columns so they specify if it is the direct or inverse direction\n",
    "symmetric_direct_df = ddg_data_dict[\"symmetric_direct\"]\n",
    "symmetric_direct_df.columns = [\n",
    "    name + \"_dir\" if \"_dir\" not in name else name\n",
    "    for name in symmetric_direct_df.columns\n",
    "]\n",
    "symmetric_inverse_df = ddg_data_dict[\"symmetric_inverse\"]\n",
    "symmetric_inverse_df.columns = [\n",
    "    name + \"_inv\" if \"_inv\" not in name else name\n",
    "    for name in symmetric_inverse_df.columns\n",
    "]\n",
    "\n",
    "# Inner merge both dataframes\n",
    "ddg_data_dict[\"symmetric_both\"] = pd.merge(\n",
    "    symmetric_direct_df,\n",
    "    symmetric_inverse_df,\n",
    "    how=\"inner\",\n",
    "    left_on=\"merge_column_dir\",\n",
    "    right_on=\"merge_column_inv\",\n",
    ")"
   ]
  },
  {
   "cell_type": "markdown",
   "metadata": {},
   "source": [
    "Make prediction based on both directions"
   ]
  },
  {
   "cell_type": "code",
   "execution_count": 15,
   "metadata": {},
   "outputs": [
    {
     "data": {
      "application/javascript": [
       "\n",
       "            setTimeout(function() {\n",
       "                var nbb_cell_id = 15;\n",
       "                var nbb_unformatted_code = \"symmetric_both_df = ddg_data_dict[\\\"symmetric_both\\\"]\\nsymmetric_both_df[\\\"ddg_pred_no_ds_both_dir\\\"] = symmetric_both_df.apply(\\n    lambda row: 0.5 * (row[\\\"ddg_pred_no_ds_dir\\\"] - row[\\\"ddg_pred_no_ds_inv\\\"]), axis=1\\n)\\nsymmetric_both_df[\\\"ddg_pred_no_ds_both_inv\\\"] = symmetric_both_df.apply(\\n    lambda row: 0.5 * (row[\\\"ddg_pred_no_ds_inv\\\"] - row[\\\"ddg_pred_no_ds_dir\\\"]), axis=1\\n)\";\n",
       "                var nbb_formatted_code = \"symmetric_both_df = ddg_data_dict[\\\"symmetric_both\\\"]\\nsymmetric_both_df[\\\"ddg_pred_no_ds_both_dir\\\"] = symmetric_both_df.apply(\\n    lambda row: 0.5 * (row[\\\"ddg_pred_no_ds_dir\\\"] - row[\\\"ddg_pred_no_ds_inv\\\"]), axis=1\\n)\\nsymmetric_both_df[\\\"ddg_pred_no_ds_both_inv\\\"] = symmetric_both_df.apply(\\n    lambda row: 0.5 * (row[\\\"ddg_pred_no_ds_inv\\\"] - row[\\\"ddg_pred_no_ds_dir\\\"]), axis=1\\n)\";\n",
       "                var nbb_cells = Jupyter.notebook.get_cells();\n",
       "                for (var i = 0; i < nbb_cells.length; ++i) {\n",
       "                    if (nbb_cells[i].input_prompt_number == nbb_cell_id) {\n",
       "                        if (nbb_cells[i].get_text() == nbb_unformatted_code) {\n",
       "                             nbb_cells[i].set_text(nbb_formatted_code);\n",
       "                        }\n",
       "                        break;\n",
       "                    }\n",
       "                }\n",
       "            }, 500);\n",
       "            "
      ],
      "text/plain": [
       "<IPython.core.display.Javascript object>"
      ]
     },
     "metadata": {},
     "output_type": "display_data"
    }
   ],
   "source": [
    "symmetric_both_df = ddg_data_dict[\"symmetric_both\"]\n",
    "symmetric_both_df[\"ddg_pred_no_ds_both_dir\"] = symmetric_both_df.apply(\n",
    "    lambda row: 0.5 * (row[\"ddg_pred_no_ds_dir\"] - row[\"ddg_pred_no_ds_inv\"]), axis=1\n",
    ")\n",
    "symmetric_both_df[\"ddg_pred_no_ds_both_inv\"] = symmetric_both_df.apply(\n",
    "    lambda row: 0.5 * (row[\"ddg_pred_no_ds_inv\"] - row[\"ddg_pred_no_ds_dir\"]), axis=1\n",
    ")"
   ]
  },
  {
   "cell_type": "code",
   "execution_count": 16,
   "metadata": {},
   "outputs": [
    {
     "data": {
      "image/png": "[encoded data removed]",
      "text/plain": [
       "<Figure size 432x288 with 1 Axes>"
      ]
     },
     "metadata": {
      "needs_background": "light"
     },
     "output_type": "display_data"
    },
    {
     "data": {
      "image/png": "[encoded data removed]",
      "text/plain": [
       "<Figure size 432x288 with 1 Axes>"
      ]
     },
     "metadata": {
      "needs_background": "light"
     },
     "output_type": "display_data"
    },
    {
     "data": {
      "application/javascript": [
       "\n",
       "            setTimeout(function() {\n",
       "                var nbb_cell_id = 16;\n",
       "                var nbb_unformatted_code = \"# Plot prediction for ddg direct using both structures\\nfig, ax = scatter_pred_vs_true(\\n    ddg_data_dict[\\\"symmetric_both\\\"][\\\"ddg_dir\\\"],\\n    ddg_data_dict[\\\"symmetric_both\\\"][\\\"ddg_pred_no_ds_both_dir\\\"],\\n    color=\\\"black\\\",\\n    title=\\\"Both structure (direct)\\\",\\n)\\n\\n# Plot prediction for ddg inverse using both structures\\nfig, ax = scatter_pred_vs_true(\\n    ddg_data_dict[\\\"symmetric_both\\\"][\\\"ddg_inv\\\"],\\n    ddg_data_dict[\\\"symmetric_both\\\"][\\\"ddg_pred_no_ds_both_inv\\\"],\\n    color=\\\"black\\\",\\n    title=\\\"Both structure (direct)\\\",\\n)\";\n",
       "                var nbb_formatted_code = \"# Plot prediction for ddg direct using both structures\\nfig, ax = scatter_pred_vs_true(\\n    ddg_data_dict[\\\"symmetric_both\\\"][\\\"ddg_dir\\\"],\\n    ddg_data_dict[\\\"symmetric_both\\\"][\\\"ddg_pred_no_ds_both_dir\\\"],\\n    color=\\\"black\\\",\\n    title=\\\"Both structure (direct)\\\",\\n)\\n\\n# Plot prediction for ddg inverse using both structures\\nfig, ax = scatter_pred_vs_true(\\n    ddg_data_dict[\\\"symmetric_both\\\"][\\\"ddg_inv\\\"],\\n    ddg_data_dict[\\\"symmetric_both\\\"][\\\"ddg_pred_no_ds_both_inv\\\"],\\n    color=\\\"black\\\",\\n    title=\\\"Both structure (direct)\\\",\\n)\";\n",
       "                var nbb_cells = Jupyter.notebook.get_cells();\n",
       "                for (var i = 0; i < nbb_cells.length; ++i) {\n",
       "                    if (nbb_cells[i].input_prompt_number == nbb_cell_id) {\n",
       "                        if (nbb_cells[i].get_text() == nbb_unformatted_code) {\n",
       "                             nbb_cells[i].set_text(nbb_formatted_code);\n",
       "                        }\n",
       "                        break;\n",
       "                    }\n",
       "                }\n",
       "            }, 500);\n",
       "            "
      ],
      "text/plain": [
       "<IPython.core.display.Javascript object>"
      ]
     },
     "metadata": {},
     "output_type": "display_data"
    }
   ],
   "source": [
    "# Plot prediction for ddg direct using both structures\n",
    "fig, ax = scatter_pred_vs_true(\n",
    "    ddg_data_dict[\"symmetric_both\"][\"ddg_dir\"],\n",
    "    ddg_data_dict[\"symmetric_both\"][\"ddg_pred_no_ds_both_dir\"],\n",
    "    color=\"black\",\n",
    "    title=\"Both structure (direct)\",\n",
    ")\n",
    "\n",
    "# Plot prediction for ddg inverse using both structures\n",
    "fig, ax = scatter_pred_vs_true(\n",
    "    ddg_data_dict[\"symmetric_both\"][\"ddg_inv\"],\n",
    "    ddg_data_dict[\"symmetric_both\"][\"ddg_pred_no_ds_both_inv\"],\n",
    "    color=\"black\",\n",
    "    title=\"Both structure (direct)\",\n",
    ")"
   ]
  },
  {
   "cell_type": "code",
   "execution_count": null,
   "metadata": {},
   "outputs": [],
   "source": []
  }
 ],
 "metadata": {
  "kernelspec": {
   "display_name": "Python 3",
   "language": "python",
   "name": "python3"
  },
  "language_info": {
   "codemirror_mode": {
    "name": "ipython",
    "version": 3
   },
   "file_extension": ".py",
   "mimetype": "text/x-python",
   "name": "python",
   "nbconvert_exporter": "python",
   "pygments_lexer": "ipython3",
   "version": "3.6.12"
  }
 },
 "nbformat": 4,
 "nbformat_minor": 2
}
